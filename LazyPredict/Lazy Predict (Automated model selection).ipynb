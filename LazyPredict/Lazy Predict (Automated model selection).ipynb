{
 "cells": [
  {
   "cell_type": "markdown",
   "metadata": {},
   "source": [
    "## Data Source: https://www.kaggle.com/rashikrahmanpritom/heart-attack-analysis-prediction-dataset?select=heart.csv"
   ]
  },
  {
   "cell_type": "markdown",
   "metadata": {},
   "source": [
    "#### Here we are using a library called lazypredict, this library is used to easily compare different models (for classification and regression) and comparison between those model is available so we can select base model accordingly and improve the model further."
   ]
  },
  {
   "cell_type": "code",
   "execution_count": 4,
   "metadata": {},
   "outputs": [],
   "source": [
    "from lazypredict.Supervised import LazyClassifier\n",
    "from sklearn.datasets import load_diabetes\n",
    "from sklearn.model_selection import train_test_split\n",
    "from lazypredict.Supervised import LazyRegressor\n",
    "from sklearn import datasets\n",
    "from sklearn.utils import shuffle\n",
    "import numpy as np\n",
    "import pandas as pd"
   ]
  },
  {
   "cell_type": "code",
   "execution_count": 5,
   "metadata": {},
   "outputs": [],
   "source": [
    "data = pd.read_csv('heart.csv')"
   ]
  },
  {
   "cell_type": "code",
   "execution_count": 11,
   "metadata": {},
   "outputs": [
    {
     "data": {
      "text/plain": [
       "(303, 14)"
      ]
     },
     "execution_count": 11,
     "metadata": {},
     "output_type": "execute_result"
    }
   ],
   "source": [
    "data.shape"
   ]
  },
  {
   "cell_type": "code",
   "execution_count": 6,
   "metadata": {},
   "outputs": [
    {
     "data": {
      "text/html": [
       "<div>\n",
       "<style scoped>\n",
       "    .dataframe tbody tr th:only-of-type {\n",
       "        vertical-align: middle;\n",
       "    }\n",
       "\n",
       "    .dataframe tbody tr th {\n",
       "        vertical-align: top;\n",
       "    }\n",
       "\n",
       "    .dataframe thead th {\n",
       "        text-align: right;\n",
       "    }\n",
       "</style>\n",
       "<table border=\"1\" class=\"dataframe\">\n",
       "  <thead>\n",
       "    <tr style=\"text-align: right;\">\n",
       "      <th></th>\n",
       "      <th>age</th>\n",
       "      <th>sex</th>\n",
       "      <th>cp</th>\n",
       "      <th>trtbps</th>\n",
       "      <th>chol</th>\n",
       "      <th>fbs</th>\n",
       "      <th>restecg</th>\n",
       "      <th>thalachh</th>\n",
       "      <th>exng</th>\n",
       "      <th>oldpeak</th>\n",
       "      <th>slp</th>\n",
       "      <th>caa</th>\n",
       "      <th>thall</th>\n",
       "      <th>output</th>\n",
       "    </tr>\n",
       "  </thead>\n",
       "  <tbody>\n",
       "    <tr>\n",
       "      <th>0</th>\n",
       "      <td>63</td>\n",
       "      <td>1</td>\n",
       "      <td>3</td>\n",
       "      <td>145</td>\n",
       "      <td>233</td>\n",
       "      <td>1</td>\n",
       "      <td>0</td>\n",
       "      <td>150</td>\n",
       "      <td>0</td>\n",
       "      <td>2.30</td>\n",
       "      <td>0</td>\n",
       "      <td>0</td>\n",
       "      <td>1</td>\n",
       "      <td>1</td>\n",
       "    </tr>\n",
       "    <tr>\n",
       "      <th>1</th>\n",
       "      <td>37</td>\n",
       "      <td>1</td>\n",
       "      <td>2</td>\n",
       "      <td>130</td>\n",
       "      <td>250</td>\n",
       "      <td>0</td>\n",
       "      <td>1</td>\n",
       "      <td>187</td>\n",
       "      <td>0</td>\n",
       "      <td>3.50</td>\n",
       "      <td>0</td>\n",
       "      <td>0</td>\n",
       "      <td>2</td>\n",
       "      <td>1</td>\n",
       "    </tr>\n",
       "    <tr>\n",
       "      <th>2</th>\n",
       "      <td>41</td>\n",
       "      <td>0</td>\n",
       "      <td>1</td>\n",
       "      <td>130</td>\n",
       "      <td>204</td>\n",
       "      <td>0</td>\n",
       "      <td>0</td>\n",
       "      <td>172</td>\n",
       "      <td>0</td>\n",
       "      <td>1.40</td>\n",
       "      <td>2</td>\n",
       "      <td>0</td>\n",
       "      <td>2</td>\n",
       "      <td>1</td>\n",
       "    </tr>\n",
       "    <tr>\n",
       "      <th>3</th>\n",
       "      <td>56</td>\n",
       "      <td>1</td>\n",
       "      <td>1</td>\n",
       "      <td>120</td>\n",
       "      <td>236</td>\n",
       "      <td>0</td>\n",
       "      <td>1</td>\n",
       "      <td>178</td>\n",
       "      <td>0</td>\n",
       "      <td>0.80</td>\n",
       "      <td>2</td>\n",
       "      <td>0</td>\n",
       "      <td>2</td>\n",
       "      <td>1</td>\n",
       "    </tr>\n",
       "    <tr>\n",
       "      <th>4</th>\n",
       "      <td>57</td>\n",
       "      <td>0</td>\n",
       "      <td>0</td>\n",
       "      <td>120</td>\n",
       "      <td>354</td>\n",
       "      <td>0</td>\n",
       "      <td>1</td>\n",
       "      <td>163</td>\n",
       "      <td>1</td>\n",
       "      <td>0.60</td>\n",
       "      <td>2</td>\n",
       "      <td>0</td>\n",
       "      <td>2</td>\n",
       "      <td>1</td>\n",
       "    </tr>\n",
       "  </tbody>\n",
       "</table>\n",
       "</div>"
      ],
      "text/plain": [
       "   age  sex  cp  trtbps  chol  fbs  restecg  thalachh  exng  oldpeak  slp  \\\n",
       "0   63    1   3     145   233    1        0       150     0     2.30    0   \n",
       "1   37    1   2     130   250    0        1       187     0     3.50    0   \n",
       "2   41    0   1     130   204    0        0       172     0     1.40    2   \n",
       "3   56    1   1     120   236    0        1       178     0     0.80    2   \n",
       "4   57    0   0     120   354    0        1       163     1     0.60    2   \n",
       "\n",
       "   caa  thall  output  \n",
       "0    0      1       1  \n",
       "1    0      2       1  \n",
       "2    0      2       1  \n",
       "3    0      2       1  \n",
       "4    0      2       1  "
      ]
     },
     "execution_count": 6,
     "metadata": {},
     "output_type": "execute_result"
    }
   ],
   "source": [
    "data.head()"
   ]
  },
  {
   "cell_type": "code",
   "execution_count": 7,
   "metadata": {},
   "outputs": [],
   "source": [
    "X = data.iloc[:,0:-1]"
   ]
  },
  {
   "cell_type": "code",
   "execution_count": 13,
   "metadata": {},
   "outputs": [],
   "source": [
    "y=data.iloc[:,-1]"
   ]
  },
  {
   "cell_type": "code",
   "execution_count": 14,
   "metadata": {},
   "outputs": [
    {
     "name": "stderr",
     "output_type": "stream",
     "text": [
      "100%|██████████| 29/29 [00:00<00:00, 45.18it/s]"
     ]
    },
    {
     "name": "stdout",
     "output_type": "stream",
     "text": [
      "                               Accuracy  Balanced Accuracy  ROC AUC  F1 Score  \\\n",
      "Model                                                                           \n",
      "BernoulliNB                        0.83               0.83     0.83      0.83   \n",
      "RandomForestClassifier             0.82               0.82     0.82      0.82   \n",
      "KNeighborsClassifier               0.82               0.82     0.82      0.82   \n",
      "NearestCentroid                    0.82               0.81     0.81      0.82   \n",
      "ExtraTreesClassifier               0.82               0.81     0.81      0.82   \n",
      "RidgeClassifierCV                  0.81               0.81     0.81      0.81   \n",
      "LogisticRegression                 0.81               0.81     0.81      0.81   \n",
      "LinearDiscriminantAnalysis         0.81               0.80     0.80      0.81   \n",
      "RidgeClassifier                    0.81               0.80     0.80      0.81   \n",
      "LinearSVC                          0.80               0.80     0.80      0.80   \n",
      "CalibratedClassifierCV             0.80               0.79     0.79      0.79   \n",
      "LGBMClassifier                     0.78               0.78     0.78      0.78   \n",
      "NuSVC                              0.77               0.76     0.76      0.77   \n",
      "SVC                                0.77               0.76     0.76      0.77   \n",
      "LabelSpreading                     0.76               0.76     0.76      0.76   \n",
      "LabelPropagation                   0.76               0.76     0.76      0.76   \n",
      "GaussianNB                         0.76               0.76     0.76      0.76   \n",
      "QuadraticDiscriminantAnalysis      0.75               0.75     0.75      0.75   \n",
      "XGBClassifier                      0.74               0.74     0.74      0.74   \n",
      "SGDClassifier                      0.74               0.73     0.73      0.73   \n",
      "AdaBoostClassifier                 0.73               0.73     0.73      0.73   \n",
      "BaggingClassifier                  0.69               0.70     0.70      0.69   \n",
      "ExtraTreeClassifier                0.69               0.68     0.68      0.69   \n",
      "PassiveAggressiveClassifier        0.68               0.67     0.67      0.68   \n",
      "DecisionTreeClassifier             0.66               0.66     0.66      0.66   \n",
      "DummyClassifier                    0.51               0.51     0.51      0.51   \n",
      "Perceptron                         0.45               0.45     0.45      0.45   \n",
      "\n",
      "                               Time Taken  \n",
      "Model                                      \n",
      "BernoulliNB                          0.01  \n",
      "RandomForestClassifier               0.12  \n",
      "KNeighborsClassifier                 0.02  \n",
      "NearestCentroid                      0.01  \n",
      "ExtraTreesClassifier                 0.09  \n",
      "RidgeClassifierCV                    0.01  \n",
      "LogisticRegression                   0.01  \n",
      "LinearDiscriminantAnalysis           0.01  \n",
      "RidgeClassifier                      0.01  \n",
      "LinearSVC                            0.01  \n",
      "CalibratedClassifierCV               0.03  \n",
      "LGBMClassifier                       0.02  \n",
      "NuSVC                                0.01  \n",
      "SVC                                  0.01  \n",
      "LabelSpreading                       0.01  \n",
      "LabelPropagation                     0.01  \n",
      "GaussianNB                           0.01  \n",
      "QuadraticDiscriminantAnalysis        0.01  \n",
      "XGBClassifier                        0.03  \n",
      "SGDClassifier                        0.01  \n",
      "AdaBoostClassifier                   0.08  \n",
      "BaggingClassifier                    0.02  \n",
      "ExtraTreeClassifier                  0.01  \n",
      "PassiveAggressiveClassifier          0.01  \n",
      "DecisionTreeClassifier               0.01  \n",
      "DummyClassifier                      0.01  \n",
      "Perceptron                           0.01  \n"
     ]
    },
    {
     "name": "stderr",
     "output_type": "stream",
     "text": [
      "\n"
     ]
    }
   ],
   "source": [
    "X_train, X_test, y_train, y_test = train_test_split(X, y,test_size=.7,random_state =123)\n",
    "clf = LazyClassifier(verbose=0,ignore_warnings=True, custom_metric=None)\n",
    "models,predictions = clf.fit(X_train, X_test, y_train, y_test)\n",
    "print(models)"
   ]
  },
  {
   "cell_type": "code",
   "execution_count": null,
   "metadata": {},
   "outputs": [],
   "source": []
  }
 ],
 "metadata": {
  "kernelspec": {
   "display_name": "Python 3",
   "language": "python",
   "name": "python3"
  },
  "language_info": {
   "codemirror_mode": {
    "name": "ipython",
    "version": 3
   },
   "file_extension": ".py",
   "mimetype": "text/x-python",
   "name": "python",
   "nbconvert_exporter": "python",
   "pygments_lexer": "ipython3",
   "version": "3.8.3"
  }
 },
 "nbformat": 4,
 "nbformat_minor": 4
}
