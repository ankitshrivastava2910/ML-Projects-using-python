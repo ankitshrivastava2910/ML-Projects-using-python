{
 "cells": [
  {
   "cell_type": "markdown",
   "metadata": {},
   "source": [
    "## Context\n",
    "#### It is important that credit card companies are able to recognize fraudulent credit card transactions so that customers are not charged for items that they did not purchase."
   ]
  },
  {
   "cell_type": "markdown",
   "metadata": {},
   "source": [
    "## Content\n",
    "\n",
    "#### The datasets contains transactions made by credit cards in September 2013 by european cardholders.\n",
    "#### This dataset presents transactions that occurred in two days, where we have 492 frauds out of 284,807 transactions. \n",
    "#### The dataset is highly unbalanced, the positive class (frauds) account for 0.172% of all transactions."
   ]
  },
  {
   "cell_type": "markdown",
   "metadata": {},
   "source": [
    "##### Dataset contains only numerical input variables which are the result of a PCA transformation. \n",
    "##### Unfortunately, due to confidentiality issues,  the original features and more background information about the data is not availabe.\n",
    "##### Features V1, V2, … V28 are the principal components obtained with PCA.\n",
    "##### The only features which have not been transformed with PCA are ‘Time’ and ‘Amount’.\n",
    "##### Feature ‘Time’ contains the seconds elapsed between each transaction and the first transaction in the dataset.\n",
    "##### The feature ‘Amount’ is the transaction Amount.\n",
    "##### Feature ‘Class’ is the response variable and it takes value 1 in case of fraud and 0 otherwise."
   ]
  },
  {
   "cell_type": "code",
   "execution_count": 1,
   "metadata": {},
   "outputs": [],
   "source": [
    "import numpy as np\n",
    "import pandas as pd\n",
    "import matplotlib.pyplot as plt\n",
    "import warnings\n",
    "warnings.filterwarnings('ignore')\n",
    "import seaborn as sns"
   ]
  },
  {
   "cell_type": "markdown",
   "metadata": {},
   "source": [
    "https://datahub.io/machine-learning/creditcard"
   ]
  },
  {
   "cell_type": "code",
   "execution_count": 2,
   "metadata": {},
   "outputs": [],
   "source": [
    "# reading the dataset\n",
    "df=pd.read_csv('https://datahub.io/machine-learning/creditcard/r/creditcard.csv', encoding='utf-8-sig')"
   ]
  },
  {
   "cell_type": "code",
   "execution_count": 3,
   "metadata": {},
   "outputs": [],
   "source": [
    "#df1=pd.read_csv(\"creditcard.csv\")"
   ]
  },
  {
   "cell_type": "code",
   "execution_count": 4,
   "metadata": {},
   "outputs": [
    {
     "data": {
      "text/plain": [
       "(284807, 31)"
      ]
     },
     "execution_count": 4,
     "metadata": {},
     "output_type": "execute_result"
    }
   ],
   "source": [
    "df.shape"
   ]
  },
  {
   "cell_type": "code",
   "execution_count": 5,
   "metadata": {},
   "outputs": [],
   "source": [
    "df['Class'].replace(regex=True, inplace=True, to_replace=r'[^0-9.\\-]',value=r'')"
   ]
  },
  {
   "cell_type": "code",
   "execution_count": 6,
   "metadata": {},
   "outputs": [],
   "source": [
    "df['Class'] = df['Class'].astype(int)"
   ]
  },
  {
   "cell_type": "code",
   "execution_count": 7,
   "metadata": {
    "scrolled": true
   },
   "outputs": [
    {
     "data": {
      "text/html": [
       "<div>\n",
       "<style scoped>\n",
       "    .dataframe tbody tr th:only-of-type {\n",
       "        vertical-align: middle;\n",
       "    }\n",
       "\n",
       "    .dataframe tbody tr th {\n",
       "        vertical-align: top;\n",
       "    }\n",
       "\n",
       "    .dataframe thead th {\n",
       "        text-align: right;\n",
       "    }\n",
       "</style>\n",
       "<table border=\"1\" class=\"dataframe\">\n",
       "  <thead>\n",
       "    <tr style=\"text-align: right;\">\n",
       "      <th></th>\n",
       "      <th>Time</th>\n",
       "      <th>V1</th>\n",
       "      <th>V2</th>\n",
       "      <th>V3</th>\n",
       "      <th>V4</th>\n",
       "      <th>V5</th>\n",
       "      <th>V6</th>\n",
       "      <th>V7</th>\n",
       "      <th>V8</th>\n",
       "      <th>V9</th>\n",
       "      <th>...</th>\n",
       "      <th>V21</th>\n",
       "      <th>V22</th>\n",
       "      <th>V23</th>\n",
       "      <th>V24</th>\n",
       "      <th>V25</th>\n",
       "      <th>V26</th>\n",
       "      <th>V27</th>\n",
       "      <th>V28</th>\n",
       "      <th>Amount</th>\n",
       "      <th>Class</th>\n",
       "    </tr>\n",
       "  </thead>\n",
       "  <tbody>\n",
       "    <tr>\n",
       "      <th>0</th>\n",
       "      <td>0.0</td>\n",
       "      <td>-1.359807</td>\n",
       "      <td>-0.072781</td>\n",
       "      <td>2.536347</td>\n",
       "      <td>1.378155</td>\n",
       "      <td>-0.338321</td>\n",
       "      <td>0.462388</td>\n",
       "      <td>0.239599</td>\n",
       "      <td>0.098698</td>\n",
       "      <td>0.363787</td>\n",
       "      <td>...</td>\n",
       "      <td>-0.018307</td>\n",
       "      <td>0.277838</td>\n",
       "      <td>-0.110474</td>\n",
       "      <td>0.066928</td>\n",
       "      <td>0.128539</td>\n",
       "      <td>-0.189115</td>\n",
       "      <td>0.133558</td>\n",
       "      <td>-0.021053</td>\n",
       "      <td>149.62</td>\n",
       "      <td>0</td>\n",
       "    </tr>\n",
       "    <tr>\n",
       "      <th>1</th>\n",
       "      <td>0.0</td>\n",
       "      <td>1.191857</td>\n",
       "      <td>0.266151</td>\n",
       "      <td>0.166480</td>\n",
       "      <td>0.448154</td>\n",
       "      <td>0.060018</td>\n",
       "      <td>-0.082361</td>\n",
       "      <td>-0.078803</td>\n",
       "      <td>0.085102</td>\n",
       "      <td>-0.255425</td>\n",
       "      <td>...</td>\n",
       "      <td>-0.225775</td>\n",
       "      <td>-0.638672</td>\n",
       "      <td>0.101288</td>\n",
       "      <td>-0.339846</td>\n",
       "      <td>0.167170</td>\n",
       "      <td>0.125895</td>\n",
       "      <td>-0.008983</td>\n",
       "      <td>0.014724</td>\n",
       "      <td>2.69</td>\n",
       "      <td>0</td>\n",
       "    </tr>\n",
       "    <tr>\n",
       "      <th>2</th>\n",
       "      <td>1.0</td>\n",
       "      <td>-1.358354</td>\n",
       "      <td>-1.340163</td>\n",
       "      <td>1.773209</td>\n",
       "      <td>0.379780</td>\n",
       "      <td>-0.503198</td>\n",
       "      <td>1.800499</td>\n",
       "      <td>0.791461</td>\n",
       "      <td>0.247676</td>\n",
       "      <td>-1.514654</td>\n",
       "      <td>...</td>\n",
       "      <td>0.247998</td>\n",
       "      <td>0.771679</td>\n",
       "      <td>0.909412</td>\n",
       "      <td>-0.689281</td>\n",
       "      <td>-0.327642</td>\n",
       "      <td>-0.139097</td>\n",
       "      <td>-0.055353</td>\n",
       "      <td>-0.059752</td>\n",
       "      <td>378.66</td>\n",
       "      <td>0</td>\n",
       "    </tr>\n",
       "    <tr>\n",
       "      <th>3</th>\n",
       "      <td>1.0</td>\n",
       "      <td>-0.966272</td>\n",
       "      <td>-0.185226</td>\n",
       "      <td>1.792993</td>\n",
       "      <td>-0.863291</td>\n",
       "      <td>-0.010309</td>\n",
       "      <td>1.247203</td>\n",
       "      <td>0.237609</td>\n",
       "      <td>0.377436</td>\n",
       "      <td>-1.387024</td>\n",
       "      <td>...</td>\n",
       "      <td>-0.108300</td>\n",
       "      <td>0.005274</td>\n",
       "      <td>-0.190321</td>\n",
       "      <td>-1.175575</td>\n",
       "      <td>0.647376</td>\n",
       "      <td>-0.221929</td>\n",
       "      <td>0.062723</td>\n",
       "      <td>0.061458</td>\n",
       "      <td>123.50</td>\n",
       "      <td>0</td>\n",
       "    </tr>\n",
       "    <tr>\n",
       "      <th>4</th>\n",
       "      <td>2.0</td>\n",
       "      <td>-1.158233</td>\n",
       "      <td>0.877737</td>\n",
       "      <td>1.548718</td>\n",
       "      <td>0.403034</td>\n",
       "      <td>-0.407193</td>\n",
       "      <td>0.095921</td>\n",
       "      <td>0.592941</td>\n",
       "      <td>-0.270533</td>\n",
       "      <td>0.817739</td>\n",
       "      <td>...</td>\n",
       "      <td>-0.009431</td>\n",
       "      <td>0.798278</td>\n",
       "      <td>-0.137458</td>\n",
       "      <td>0.141267</td>\n",
       "      <td>-0.206010</td>\n",
       "      <td>0.502292</td>\n",
       "      <td>0.219422</td>\n",
       "      <td>0.215153</td>\n",
       "      <td>69.99</td>\n",
       "      <td>0</td>\n",
       "    </tr>\n",
       "  </tbody>\n",
       "</table>\n",
       "<p>5 rows × 31 columns</p>\n",
       "</div>"
      ],
      "text/plain": [
       "   Time        V1        V2        V3        V4        V5        V6        V7  \\\n",
       "0   0.0 -1.359807 -0.072781  2.536347  1.378155 -0.338321  0.462388  0.239599   \n",
       "1   0.0  1.191857  0.266151  0.166480  0.448154  0.060018 -0.082361 -0.078803   \n",
       "2   1.0 -1.358354 -1.340163  1.773209  0.379780 -0.503198  1.800499  0.791461   \n",
       "3   1.0 -0.966272 -0.185226  1.792993 -0.863291 -0.010309  1.247203  0.237609   \n",
       "4   2.0 -1.158233  0.877737  1.548718  0.403034 -0.407193  0.095921  0.592941   \n",
       "\n",
       "         V8        V9  ...       V21       V22       V23       V24       V25  \\\n",
       "0  0.098698  0.363787  ... -0.018307  0.277838 -0.110474  0.066928  0.128539   \n",
       "1  0.085102 -0.255425  ... -0.225775 -0.638672  0.101288 -0.339846  0.167170   \n",
       "2  0.247676 -1.514654  ...  0.247998  0.771679  0.909412 -0.689281 -0.327642   \n",
       "3  0.377436 -1.387024  ... -0.108300  0.005274 -0.190321 -1.175575  0.647376   \n",
       "4 -0.270533  0.817739  ... -0.009431  0.798278 -0.137458  0.141267 -0.206010   \n",
       "\n",
       "        V26       V27       V28  Amount  Class  \n",
       "0 -0.189115  0.133558 -0.021053  149.62      0  \n",
       "1  0.125895 -0.008983  0.014724    2.69      0  \n",
       "2 -0.139097 -0.055353 -0.059752  378.66      0  \n",
       "3 -0.221929  0.062723  0.061458  123.50      0  \n",
       "4  0.502292  0.219422  0.215153   69.99      0  \n",
       "\n",
       "[5 rows x 31 columns]"
      ]
     },
     "execution_count": 7,
     "metadata": {},
     "output_type": "execute_result"
    }
   ],
   "source": [
    "df.head()"
   ]
  },
  {
   "cell_type": "code",
   "execution_count": 8,
   "metadata": {
    "scrolled": true
   },
   "outputs": [
    {
     "name": "stdout",
     "output_type": "stream",
     "text": [
      "<class 'pandas.core.frame.DataFrame'>\n",
      "RangeIndex: 284807 entries, 0 to 284806\n",
      "Data columns (total 31 columns):\n",
      " #   Column  Non-Null Count   Dtype  \n",
      "---  ------  --------------   -----  \n",
      " 0   Time    284807 non-null  float64\n",
      " 1   V1      284807 non-null  float64\n",
      " 2   V2      284807 non-null  float64\n",
      " 3   V3      284807 non-null  float64\n",
      " 4   V4      284807 non-null  float64\n",
      " 5   V5      284807 non-null  float64\n",
      " 6   V6      284807 non-null  float64\n",
      " 7   V7      284807 non-null  float64\n",
      " 8   V8      284807 non-null  float64\n",
      " 9   V9      284807 non-null  float64\n",
      " 10  V10     284807 non-null  float64\n",
      " 11  V11     284807 non-null  float64\n",
      " 12  V12     284807 non-null  float64\n",
      " 13  V13     284807 non-null  float64\n",
      " 14  V14     284807 non-null  float64\n",
      " 15  V15     284807 non-null  float64\n",
      " 16  V16     284807 non-null  float64\n",
      " 17  V17     284807 non-null  float64\n",
      " 18  V18     284807 non-null  float64\n",
      " 19  V19     284807 non-null  float64\n",
      " 20  V20     284807 non-null  float64\n",
      " 21  V21     284807 non-null  float64\n",
      " 22  V22     284807 non-null  float64\n",
      " 23  V23     284807 non-null  float64\n",
      " 24  V24     284807 non-null  float64\n",
      " 25  V25     284807 non-null  float64\n",
      " 26  V26     284807 non-null  float64\n",
      " 27  V27     284807 non-null  float64\n",
      " 28  V28     284807 non-null  float64\n",
      " 29  Amount  284807 non-null  float64\n",
      " 30  Class   284807 non-null  int32  \n",
      "dtypes: float64(30), int32(1)\n",
      "memory usage: 66.3 MB\n"
     ]
    }
   ],
   "source": [
    "df.info()"
   ]
  },
  {
   "cell_type": "code",
   "execution_count": 9,
   "metadata": {},
   "outputs": [
    {
     "data": {
      "text/plain": [
       "Time      0\n",
       "V1        0\n",
       "V2        0\n",
       "V3        0\n",
       "V4        0\n",
       "V5        0\n",
       "V6        0\n",
       "V7        0\n",
       "V8        0\n",
       "V9        0\n",
       "V10       0\n",
       "V11       0\n",
       "V12       0\n",
       "V13       0\n",
       "V14       0\n",
       "V15       0\n",
       "V16       0\n",
       "V17       0\n",
       "V18       0\n",
       "V19       0\n",
       "V20       0\n",
       "V21       0\n",
       "V22       0\n",
       "V23       0\n",
       "V24       0\n",
       "V25       0\n",
       "V26       0\n",
       "V27       0\n",
       "V28       0\n",
       "Amount    0\n",
       "Class     0\n",
       "dtype: int64"
      ]
     },
     "execution_count": 9,
     "metadata": {},
     "output_type": "execute_result"
    }
   ],
   "source": [
    "df.isnull().sum()"
   ]
  },
  {
   "cell_type": "markdown",
   "metadata": {},
   "source": [
    "No null value is present"
   ]
  },
  {
   "cell_type": "markdown",
   "metadata": {},
   "source": [
    "##### Counting the fraudulent and non fraudulent cases"
   ]
  },
  {
   "cell_type": "code",
   "execution_count": 10,
   "metadata": {
    "scrolled": false
   },
   "outputs": [
    {
     "data": {
      "text/plain": [
       "0    284315\n",
       "1       492\n",
       "Name: Class, dtype: int64"
      ]
     },
     "execution_count": 10,
     "metadata": {},
     "output_type": "execute_result"
    }
   ],
   "source": [
    "df.Class.value_counts()"
   ]
  },
  {
   "cell_type": "code",
   "execution_count": 11,
   "metadata": {},
   "outputs": [
    {
     "data": {
      "text/plain": [
       "0    0.998273\n",
       "1    0.001727\n",
       "Name: Class, dtype: float64"
      ]
     },
     "execution_count": 11,
     "metadata": {},
     "output_type": "execute_result"
    }
   ],
   "source": [
    "df['Class'].value_counts(normalize=True)"
   ]
  },
  {
   "cell_type": "markdown",
   "metadata": {},
   "source": [
    "##### The dataset is unbalanced. "
   ]
  },
  {
   "cell_type": "markdown",
   "metadata": {},
   "source": [
    "## Univariate Analysis"
   ]
  },
  {
   "cell_type": "code",
   "execution_count": 12,
   "metadata": {},
   "outputs": [
    {
     "data": {
      "image/png": "[encoded data removed]",
      "text/plain": [
       "<Figure size 576x432 with 1 Axes>"
      ]
     },
     "metadata": {
      "needs_background": "light"
     },
     "output_type": "display_data"
    }
   ],
   "source": [
    "#df.Amount.hist(grid=False)\n",
    "plt.figure(figsize=(8,6))\n",
    "plt.title('Distribution of Transaction Amount', fontsize=14)\n",
    "sns.distplot(df['Amount'], bins=100)\n",
    "plt.show()"
   ]
  },
  {
   "cell_type": "markdown",
   "metadata": {},
   "source": [
    "As the histogram is not clear here, and it seems that lot many amount value is small, lets check the count of such transactions"
   ]
  },
  {
   "cell_type": "code",
   "execution_count": 13,
   "metadata": {},
   "outputs": [
    {
     "data": {
      "text/plain": [
       "284807"
      ]
     },
     "execution_count": 13,
     "metadata": {},
     "output_type": "execute_result"
    }
   ],
   "source": [
    "len(df.Amount)"
   ]
  },
  {
   "cell_type": "code",
   "execution_count": 14,
   "metadata": {},
   "outputs": [
    {
     "name": "stdout",
     "output_type": "stream",
     "text": [
      "Number of transactions, where amount is less than 200 is:  255492\n",
      "Percentage of total transaction where transaction amount is less than 200 is :89.71\n"
     ]
    }
   ],
   "source": [
    "## Checking count of transaction, where amount is less than 200\n",
    "print(\"Number of transactions, where amount is less than 200 is: \", len(df[(df['Amount']<200)]))\n",
    "print(\"Percentage of total transaction where transaction amount is less than 200 is :\"+\"{:.2f}\".format(len(df[(df['Amount']<200)])/len(df.Amount) *100))"
   ]
  },
  {
   "cell_type": "code",
   "execution_count": 15,
   "metadata": {},
   "outputs": [
    {
     "data": {
      "text/plain": [
       "<matplotlib.axes._subplots.AxesSubplot at 0x29e41612790>"
      ]
     },
     "execution_count": 15,
     "metadata": {},
     "output_type": "execute_result"
    },
    {
     "data": {
      "image/png": "[encoded data removed]",
      "text/plain": [
       "<Figure size 432x288 with 1 Axes>"
      ]
     },
     "metadata": {
      "needs_background": "light"
     },
     "output_type": "display_data"
    }
   ],
   "source": [
    "df[(df['Amount']<200)].Amount.hist(bins=20,grid=False)"
   ]
  },
  {
   "cell_type": "markdown",
   "metadata": {},
   "source": [
    "We can see that 89.71% of the transaction have amount less than 200, only few transactions have value on the higher side"
   ]
  },
  {
   "cell_type": "code",
   "execution_count": 16,
   "metadata": {},
   "outputs": [
    {
     "data": {
      "text/plain": [
       "25691.16"
      ]
     },
     "execution_count": 16,
     "metadata": {},
     "output_type": "execute_result"
    }
   ],
   "source": [
    "df['Amount'].max()"
   ]
  },
  {
   "cell_type": "markdown",
   "metadata": {},
   "source": [
    "The maximum transaction amount is of amount 25691.16"
   ]
  },
  {
   "cell_type": "markdown",
   "metadata": {},
   "source": [
    "#### Distribution of Amount for Fradulent & Genuine transactions"
   ]
  },
  {
   "cell_type": "code",
   "execution_count": 17,
   "metadata": {
    "scrolled": true
   },
   "outputs": [
    {
     "data": {
      "image/png": "[encoded data removed]",
      "text/plain": [
       "<Figure size 1152x288 with 2 Axes>"
      ]
     },
     "metadata": {
      "needs_background": "light"
     },
     "output_type": "display_data"
    }
   ],
   "source": [
    "fig, axs = plt.subplots(ncols=2,figsize=(16,4))\n",
    "sns.distplot(df[df['Class'] == 1]['Amount'], bins=100, ax=axs[0])\n",
    "axs[0].set_title(\"Distribution of Fraudulent Transactions\")\n",
    "\n",
    "sns.distplot(df[df['Class'] == 0]['Amount'], bins=100, ax=axs[1])\n",
    "axs[1].set_title(\"Distribution of Non Fraudulent Transactions\")\n",
    "\n",
    "plt.show()"
   ]
  },
  {
   "cell_type": "markdown",
   "metadata": {},
   "source": [
    "Here we can see that fraudulent transactions occured for some of the lower amount also in the range of 0 also.\n",
    "\n",
    "Also lot many transaction are less than 500\n",
    "\n",
    "Lets explore this more"
   ]
  },
  {
   "cell_type": "code",
   "execution_count": 18,
   "metadata": {
    "scrolled": true
   },
   "outputs": [
    {
     "name": "stdout",
     "output_type": "stream",
     "text": [
      "The Fradulent Transactions where: \n",
      "\n",
      "Amount No of Transaction  \n",
      " 0.0    27\n",
      "Name: Amount, dtype: int64\n"
     ]
    }
   ],
   "source": [
    "print(\"The Fradulent Transactions where: \\n\")\n",
    "print(\"Amount No of Transaction  \\n\",df[(df['Class']==1)& (df['Amount']==0)]['Amount'].value_counts())"
   ]
  },
  {
   "cell_type": "code",
   "execution_count": 19,
   "metadata": {},
   "outputs": [
    {
     "name": "stdout",
     "output_type": "stream",
     "text": [
      "Total number of transactions where fradulent amount is between 1 and 200  : 1    380\n",
      "Name: Class, dtype: int64\n"
     ]
    }
   ],
   "source": [
    "print(\"Total number of transactions where fradulent amount is between 1 and 200  :\",df[(df['Class']==1)& (df['Amount']>0)& (df['Amount']<=200)]['Class'].value_counts())"
   ]
  },
  {
   "cell_type": "code",
   "execution_count": 20,
   "metadata": {},
   "outputs": [
    {
     "name": "stdout",
     "output_type": "stream",
     "text": [
      "Maximum amount of any fradulent transaction is :  2125.87\n"
     ]
    }
   ],
   "source": [
    "print(\"Maximum amount of any fradulent transaction is : \",df[(df['Class'] == 1)]['Amount'].max())"
   ]
  },
  {
   "cell_type": "markdown",
   "metadata": {},
   "source": [
    "##### We can see that out of 492 transactions, 27 are of amount 0, and 380 are between 1 and 200\n",
    "\n",
    "##### Maximum amount of fradulent transaction is 2125.87"
   ]
  },
  {
   "cell_type": "markdown",
   "metadata": {},
   "source": [
    "##### We already checked above that out of total transactions 89.71% transactions (255492) is between amount 0 to 200"
   ]
  },
  {
   "cell_type": "markdown",
   "metadata": {},
   "source": [
    "##### We checked before that the maximum transaction amount was 25691.16 (which was for non fraudulent transaction / genuine transaction)\n",
    "\n",
    "##### It is interesting to see the distribution of Fraudulent and Genuine Transaction based on amount"
   ]
  },
  {
   "cell_type": "code",
   "execution_count": 21,
   "metadata": {},
   "outputs": [
    {
     "data": {
      "image/png": "[encoded data removed]",
      "text/plain": [
       "<Figure size 576x432 with 1 Axes>"
      ]
     },
     "metadata": {
      "needs_background": "light"
     },
     "output_type": "display_data"
    }
   ],
   "source": [
    "plt.figure(figsize=(8,6))\n",
    "sns.boxplot(x='Class', y='Amount',data = df)\n",
    "plt.title('Transactional Amount Distribution for Fraudulent and Genuine transactions')\n",
    "plt.show()"
   ]
  },
  {
   "cell_type": "markdown",
   "metadata": {},
   "source": [
    "#### As we can see that transaction for class 1 (Fraudulent) is max upto 2125.87, and for class 0 (Genuine) there are few high transactional amount\n",
    "\n",
    "#### Since we are studying to identify fraudulent transaction, and hence here we can consider those high transaction amount as outlier and remove them"
   ]
  },
  {
   "cell_type": "markdown",
   "metadata": {},
   "source": [
    "### Let's explore the time data"
   ]
  },
  {
   "cell_type": "code",
   "execution_count": 22,
   "metadata": {
    "scrolled": false
   },
   "outputs": [
    {
     "data": {
      "image/png": "[encoded data removed]",
      "text/plain": [
       "<Figure size 576x432 with 1 Axes>"
      ]
     },
     "metadata": {
      "needs_background": "light"
     },
     "output_type": "display_data"
    }
   ],
   "source": [
    "#df.Time.hist(grid=False)\n",
    "plt.figure(figsize=(8,6))\n",
    "plt.title('Distribution of Time', fontsize=14)\n",
    "sns.distplot(df['Time'], bins=100,color='c')\n",
    "plt.show()"
   ]
  },
  {
   "cell_type": "markdown",
   "metadata": {},
   "source": [
    "##### As the time is cummulative time in seconds from first transaction, it would give more insight if we can convert it into independent time of the day"
   ]
  },
  {
   "cell_type": "code",
   "execution_count": 23,
   "metadata": {},
   "outputs": [],
   "source": [
    "#df_temp=df\n",
    "#df=df_temp"
   ]
  },
  {
   "cell_type": "code",
   "execution_count": 24,
   "metadata": {},
   "outputs": [],
   "source": [
    "df['Time_hr']=df['Time']/(60*60)"
   ]
  },
  {
   "cell_type": "code",
   "execution_count": 25,
   "metadata": {},
   "outputs": [
    {
     "data": {
      "image/png": "[encoded data removed]",
      "text/plain": [
       "<Figure size 576x432 with 1 Axes>"
      ]
     },
     "metadata": {
      "needs_background": "light"
     },
     "output_type": "display_data"
    }
   ],
   "source": [
    "#df.Time.hist(grid=False)\n",
    "plt.figure(figsize=(8,6))\n",
    "plt.title('Distribution of Time in Hour', fontsize=14)\n",
    "sns.distplot(df['Time_hr'], bins=100, color='c')\n",
    "plt.show()"
   ]
  },
  {
   "cell_type": "code",
   "execution_count": 26,
   "metadata": {},
   "outputs": [
    {
     "data": {
      "image/png": "[encoded data removed]",
      "text/plain": [
       "<Figure size 1152x288 with 2 Axes>"
      ]
     },
     "metadata": {
      "needs_background": "light"
     },
     "output_type": "display_data"
    }
   ],
   "source": [
    "fig, axs = plt.subplots(ncols=2, figsize=(16,4))\n",
    "\n",
    "sns.distplot(df[(df['Class'] == 0)]['Time_hr'], bins=100, color='darkgreen', ax=axs[1])\n",
    "axs[1].set_title(\"Distribution of Non-Fraudulent Transactions\")\n",
    "\n",
    "sns.distplot(df[(df['Class'] == 1)]['Time_hr'], bins=100, color='darkred', ax=axs[0])\n",
    "axs[0].set_title(\"Time Distribution of Fraudulent Transactions\")\n",
    "\n",
    "plt.show()"
   ]
  },
  {
   "cell_type": "code",
   "execution_count": 27,
   "metadata": {
    "scrolled": true
   },
   "outputs": [
    {
     "data": {
      "image/png": "[encoded data removed]",
      "text/plain": [
       "<Figure size 1152x288 with 1 Axes>"
      ]
     },
     "metadata": {
      "needs_background": "light"
     },
     "output_type": "display_data"
    }
   ],
   "source": [
    "fig, axs = plt.subplots(figsize=(16,4))\n",
    "df_0=df[df['Class']==0]\n",
    "sns.scatterplot(df_0['Time_hr'],df_0['Amount'],color='darkgreen')\n",
    "plt.title(\"Time & Amount Distribution of Non-Fraudulent Transactions\")\n",
    "plt.show()"
   ]
  },
  {
   "cell_type": "code",
   "execution_count": 28,
   "metadata": {},
   "outputs": [
    {
     "data": {
      "image/png": "[encoded data removed]",
      "text/plain": [
       "<Figure size 1152x288 with 1 Axes>"
      ]
     },
     "metadata": {
      "needs_background": "light"
     },
     "output_type": "display_data"
    }
   ],
   "source": [
    "fig, axs = plt.subplots(figsize=(16,4))\n",
    "df_1=df[df['Class']==1]\n",
    "sns.scatterplot(df_1['Time_hr'],df_1['Amount'],color='darkred')\n",
    "plt.title(\"Time & Amount Distribution of Fraudulent Transactions\")\n",
    "plt.show()"
   ]
  },
  {
   "cell_type": "code",
   "execution_count": 29,
   "metadata": {},
   "outputs": [
    {
     "data": {
      "image/png": "[encoded data removed]",
      "text/plain": [
       "<Figure size 1152x432 with 1 Axes>"
      ]
     },
     "metadata": {
      "needs_background": "light"
     },
     "output_type": "display_data"
    }
   ],
   "source": [
    "plt.figure(figsize=(16,6))\n",
    "sns.distplot(df_0['Time_hr'], color='green')\n",
    "sns.distplot(df_1['Time_hr'], color='red')\n",
    "\n",
    "plt.title('Fraudulent vs Genuine Transactions by Hours', fontsize=15)\n",
    "plt.show()"
   ]
  },
  {
   "cell_type": "markdown",
   "metadata": {},
   "source": [
    "#### Although the fradulent transaction were distributed throughout the day, but 10th-12th hour of the day were most active in term of fradulent transaction\n",
    "#### Relatively fraudulent transaction was higher between 0 to 8 hours of both days"
   ]
  },
  {
   "cell_type": "markdown",
   "metadata": {},
   "source": [
    "#### As we can see Amount, Time are not normally distributed\n",
    "#### Let's check the skewness of dataframe"
   ]
  },
  {
   "cell_type": "code",
   "execution_count": 30,
   "metadata": {},
   "outputs": [],
   "source": [
    "df.drop(['Time_hr'], axis = 1,inplace=True)"
   ]
  },
  {
   "cell_type": "code",
   "execution_count": 31,
   "metadata": {
    "scrolled": false
   },
   "outputs": [
    {
     "data": {
      "text/plain": [
       "Time      -0.035568\n",
       "V1        -3.280667\n",
       "V2        -4.624866\n",
       "V3        -2.240155\n",
       "V4         0.676292\n",
       "V5        -2.425901\n",
       "V6         1.826581\n",
       "V7         2.553907\n",
       "V8        -8.521944\n",
       "V9         0.554680\n",
       "V10        1.187141\n",
       "V11        0.356506\n",
       "V12       -2.278401\n",
       "V13        0.065233\n",
       "V14       -1.995176\n",
       "V15       -0.308423\n",
       "V16       -1.100966\n",
       "V17       -3.844914\n",
       "V18       -0.259880\n",
       "V19        0.109192\n",
       "V20       -2.037155\n",
       "V21        3.592991\n",
       "V22       -0.213258\n",
       "V23       -5.875140\n",
       "V24       -0.552499\n",
       "V25       -0.415793\n",
       "V26        0.576693\n",
       "V27       -1.170209\n",
       "V28       11.192091\n",
       "Amount    16.977724\n",
       "Class     23.997579\n",
       "dtype: float64"
      ]
     },
     "execution_count": 31,
     "metadata": {},
     "output_type": "execute_result"
    }
   ],
   "source": [
    "df.skew()"
   ]
  },
  {
   "cell_type": "code",
   "execution_count": 32,
   "metadata": {},
   "outputs": [
    {
     "data": {
      "image/png": "[encoded data removed]",
      "text/plain": [
       "<Figure size 1800x1800 with 36 Axes>"
      ]
     },
     "metadata": {
      "needs_background": "light"
     },
     "output_type": "display_data"
    }
   ],
   "source": [
    "df.hist(figsize = (25,25))\n",
    "plt.show()"
   ]
  },
  {
   "cell_type": "markdown",
   "metadata": {},
   "source": [
    "##### As per information availabe, the features V1, V2, ....V28 are the outcome of PCA, which means normalization of original features already done before PCA"
   ]
  },
  {
   "cell_type": "markdown",
   "metadata": {},
   "source": [
    "##### But as data is skewed including PCA features, its better to normalize the data, using standard scaler, as we dont know about individual features"
   ]
  },
  {
   "cell_type": "code",
   "execution_count": 33,
   "metadata": {},
   "outputs": [],
   "source": [
    "df1=df\n",
    "#df=df1"
   ]
  },
  {
   "cell_type": "code",
   "execution_count": 34,
   "metadata": {},
   "outputs": [
    {
     "data": {
      "text/html": [
       "<div>\n",
       "<style scoped>\n",
       "    .dataframe tbody tr th:only-of-type {\n",
       "        vertical-align: middle;\n",
       "    }\n",
       "\n",
       "    .dataframe tbody tr th {\n",
       "        vertical-align: top;\n",
       "    }\n",
       "\n",
       "    .dataframe thead th {\n",
       "        text-align: right;\n",
       "    }\n",
       "</style>\n",
       "<table border=\"1\" class=\"dataframe\">\n",
       "  <thead>\n",
       "    <tr style=\"text-align: right;\">\n",
       "      <th></th>\n",
       "      <th>Time</th>\n",
       "      <th>V1</th>\n",
       "      <th>V2</th>\n",
       "      <th>V3</th>\n",
       "      <th>V4</th>\n",
       "      <th>V5</th>\n",
       "      <th>V6</th>\n",
       "      <th>V7</th>\n",
       "      <th>V8</th>\n",
       "      <th>V9</th>\n",
       "      <th>...</th>\n",
       "      <th>V21</th>\n",
       "      <th>V22</th>\n",
       "      <th>V23</th>\n",
       "      <th>V24</th>\n",
       "      <th>V25</th>\n",
       "      <th>V26</th>\n",
       "      <th>V27</th>\n",
       "      <th>V28</th>\n",
       "      <th>Amount</th>\n",
       "      <th>Class</th>\n",
       "    </tr>\n",
       "  </thead>\n",
       "  <tbody>\n",
       "    <tr>\n",
       "      <th>0</th>\n",
       "      <td>0.0</td>\n",
       "      <td>-1.359807</td>\n",
       "      <td>-0.072781</td>\n",
       "      <td>2.536347</td>\n",
       "      <td>1.378155</td>\n",
       "      <td>-0.338321</td>\n",
       "      <td>0.462388</td>\n",
       "      <td>0.239599</td>\n",
       "      <td>0.098698</td>\n",
       "      <td>0.363787</td>\n",
       "      <td>...</td>\n",
       "      <td>-0.018307</td>\n",
       "      <td>0.277838</td>\n",
       "      <td>-0.110474</td>\n",
       "      <td>0.066928</td>\n",
       "      <td>0.128539</td>\n",
       "      <td>-0.189115</td>\n",
       "      <td>0.133558</td>\n",
       "      <td>-0.021053</td>\n",
       "      <td>149.62</td>\n",
       "      <td>0</td>\n",
       "    </tr>\n",
       "    <tr>\n",
       "      <th>1</th>\n",
       "      <td>0.0</td>\n",
       "      <td>1.191857</td>\n",
       "      <td>0.266151</td>\n",
       "      <td>0.166480</td>\n",
       "      <td>0.448154</td>\n",
       "      <td>0.060018</td>\n",
       "      <td>-0.082361</td>\n",
       "      <td>-0.078803</td>\n",
       "      <td>0.085102</td>\n",
       "      <td>-0.255425</td>\n",
       "      <td>...</td>\n",
       "      <td>-0.225775</td>\n",
       "      <td>-0.638672</td>\n",
       "      <td>0.101288</td>\n",
       "      <td>-0.339846</td>\n",
       "      <td>0.167170</td>\n",
       "      <td>0.125895</td>\n",
       "      <td>-0.008983</td>\n",
       "      <td>0.014724</td>\n",
       "      <td>2.69</td>\n",
       "      <td>0</td>\n",
       "    </tr>\n",
       "    <tr>\n",
       "      <th>2</th>\n",
       "      <td>1.0</td>\n",
       "      <td>-1.358354</td>\n",
       "      <td>-1.340163</td>\n",
       "      <td>1.773209</td>\n",
       "      <td>0.379780</td>\n",
       "      <td>-0.503198</td>\n",
       "      <td>1.800499</td>\n",
       "      <td>0.791461</td>\n",
       "      <td>0.247676</td>\n",
       "      <td>-1.514654</td>\n",
       "      <td>...</td>\n",
       "      <td>0.247998</td>\n",
       "      <td>0.771679</td>\n",
       "      <td>0.909412</td>\n",
       "      <td>-0.689281</td>\n",
       "      <td>-0.327642</td>\n",
       "      <td>-0.139097</td>\n",
       "      <td>-0.055353</td>\n",
       "      <td>-0.059752</td>\n",
       "      <td>378.66</td>\n",
       "      <td>0</td>\n",
       "    </tr>\n",
       "    <tr>\n",
       "      <th>3</th>\n",
       "      <td>1.0</td>\n",
       "      <td>-0.966272</td>\n",
       "      <td>-0.185226</td>\n",
       "      <td>1.792993</td>\n",
       "      <td>-0.863291</td>\n",
       "      <td>-0.010309</td>\n",
       "      <td>1.247203</td>\n",
       "      <td>0.237609</td>\n",
       "      <td>0.377436</td>\n",
       "      <td>-1.387024</td>\n",
       "      <td>...</td>\n",
       "      <td>-0.108300</td>\n",
       "      <td>0.005274</td>\n",
       "      <td>-0.190321</td>\n",
       "      <td>-1.175575</td>\n",
       "      <td>0.647376</td>\n",
       "      <td>-0.221929</td>\n",
       "      <td>0.062723</td>\n",
       "      <td>0.061458</td>\n",
       "      <td>123.50</td>\n",
       "      <td>0</td>\n",
       "    </tr>\n",
       "    <tr>\n",
       "      <th>4</th>\n",
       "      <td>2.0</td>\n",
       "      <td>-1.158233</td>\n",
       "      <td>0.877737</td>\n",
       "      <td>1.548718</td>\n",
       "      <td>0.403034</td>\n",
       "      <td>-0.407193</td>\n",
       "      <td>0.095921</td>\n",
       "      <td>0.592941</td>\n",
       "      <td>-0.270533</td>\n",
       "      <td>0.817739</td>\n",
       "      <td>...</td>\n",
       "      <td>-0.009431</td>\n",
       "      <td>0.798278</td>\n",
       "      <td>-0.137458</td>\n",
       "      <td>0.141267</td>\n",
       "      <td>-0.206010</td>\n",
       "      <td>0.502292</td>\n",
       "      <td>0.219422</td>\n",
       "      <td>0.215153</td>\n",
       "      <td>69.99</td>\n",
       "      <td>0</td>\n",
       "    </tr>\n",
       "  </tbody>\n",
       "</table>\n",
       "<p>5 rows × 31 columns</p>\n",
       "</div>"
      ],
      "text/plain": [
       "   Time        V1        V2        V3        V4        V5        V6        V7  \\\n",
       "0   0.0 -1.359807 -0.072781  2.536347  1.378155 -0.338321  0.462388  0.239599   \n",
       "1   0.0  1.191857  0.266151  0.166480  0.448154  0.060018 -0.082361 -0.078803   \n",
       "2   1.0 -1.358354 -1.340163  1.773209  0.379780 -0.503198  1.800499  0.791461   \n",
       "3   1.0 -0.966272 -0.185226  1.792993 -0.863291 -0.010309  1.247203  0.237609   \n",
       "4   2.0 -1.158233  0.877737  1.548718  0.403034 -0.407193  0.095921  0.592941   \n",
       "\n",
       "         V8        V9  ...       V21       V22       V23       V24       V25  \\\n",
       "0  0.098698  0.363787  ... -0.018307  0.277838 -0.110474  0.066928  0.128539   \n",
       "1  0.085102 -0.255425  ... -0.225775 -0.638672  0.101288 -0.339846  0.167170   \n",
       "2  0.247676 -1.514654  ...  0.247998  0.771679  0.909412 -0.689281 -0.327642   \n",
       "3  0.377436 -1.387024  ... -0.108300  0.005274 -0.190321 -1.175575  0.647376   \n",
       "4 -0.270533  0.817739  ... -0.009431  0.798278 -0.137458  0.141267 -0.206010   \n",
       "\n",
       "        V26       V27       V28  Amount  Class  \n",
       "0 -0.189115  0.133558 -0.021053  149.62      0  \n",
       "1  0.125895 -0.008983  0.014724    2.69      0  \n",
       "2 -0.139097 -0.055353 -0.059752  378.66      0  \n",
       "3 -0.221929  0.062723  0.061458  123.50      0  \n",
       "4  0.502292  0.219422  0.215153   69.99      0  \n",
       "\n",
       "[5 rows x 31 columns]"
      ]
     },
     "execution_count": 34,
     "metadata": {},
     "output_type": "execute_result"
    }
   ],
   "source": [
    "df.head()"
   ]
  },
  {
   "cell_type": "code",
   "execution_count": 35,
   "metadata": {},
   "outputs": [],
   "source": [
    "# Separating the dataset into independent features and target class\n",
    "# X=df.iloc[:,:-1].values\n",
    "# y=df.iloc[:,-1].values\n",
    "X=df.drop(['Class'],axis=1)\n",
    "y=df['Class']"
   ]
  },
  {
   "cell_type": "code",
   "execution_count": 36,
   "metadata": {},
   "outputs": [],
   "source": [
    "# Before scaling the independent features, let's separte the data into training and test data, to avoid any information leak\n",
    "from sklearn.model_selection import train_test_split"
   ]
  },
  {
   "cell_type": "code",
   "execution_count": 37,
   "metadata": {},
   "outputs": [],
   "source": [
    "X_train, X_test, y_train, y_test = train_test_split(X, y, train_size=0.8, random_state=42)"
   ]
  },
  {
   "cell_type": "code",
   "execution_count": 38,
   "metadata": {
    "scrolled": false
   },
   "outputs": [],
   "source": [
    "#from sklearn.preprocessing import StandardScaler\n",
    "#scaler = StandardScaler()\n",
    "\n",
    "#X_train_scaled = scaler.fit_transform(X_train.values)\n",
    "#X_train_scaled"
   ]
  },
  {
   "cell_type": "code",
   "execution_count": 39,
   "metadata": {},
   "outputs": [],
   "source": [
    "#X_train.columns"
   ]
  },
  {
   "cell_type": "code",
   "execution_count": 40,
   "metadata": {},
   "outputs": [],
   "source": [
    "#X_train_scaled = pd.DataFrame(X_train_scaled, columns = [X_train.columns])\n"
   ]
  },
  {
   "cell_type": "code",
   "execution_count": 41,
   "metadata": {
    "scrolled": true
   },
   "outputs": [],
   "source": [
    "#X_train_scaled"
   ]
  },
  {
   "cell_type": "code",
   "execution_count": 42,
   "metadata": {},
   "outputs": [
    {
     "data": {
      "text/plain": [
       "Time      -0.036053\n",
       "V1        -3.320269\n",
       "V2        -4.826847\n",
       "V3        -2.219375\n",
       "V4         0.677776\n",
       "V5        -2.928646\n",
       "V6         1.977725\n",
       "V7         3.744620\n",
       "V8        -8.445014\n",
       "V9         0.543603\n",
       "V10        1.212102\n",
       "V11        0.359527\n",
       "V12       -2.281334\n",
       "V13        0.067612\n",
       "V14       -1.992812\n",
       "V15       -0.308053\n",
       "V16       -1.113875\n",
       "V17       -3.975821\n",
       "V18       -0.266115\n",
       "V19        0.107289\n",
       "V20       -1.977859\n",
       "V21        3.656863\n",
       "V22       -0.230008\n",
       "V23       -6.285467\n",
       "V24       -0.552668\n",
       "V25       -0.417168\n",
       "V26        0.579265\n",
       "V27       -0.038330\n",
       "V28       11.776522\n",
       "Amount    18.352356\n",
       "dtype: float64"
      ]
     },
     "execution_count": 42,
     "metadata": {},
     "output_type": "execute_result"
    }
   ],
   "source": [
    "X_train.skew()"
   ]
  },
  {
   "cell_type": "code",
   "execution_count": null,
   "metadata": {},
   "outputs": [],
   "source": []
  },
  {
   "cell_type": "code",
   "execution_count": 43,
   "metadata": {
    "scrolled": true
   },
   "outputs": [],
   "source": [
    "#X_train['V6'] = np.log(X_train['V6']+0.00001)"
   ]
  },
  {
   "cell_type": "code",
   "execution_count": 44,
   "metadata": {},
   "outputs": [],
   "source": [
    "#X_train['V7'] = np.log(X_train['V7']+0.00001)"
   ]
  },
  {
   "cell_type": "code",
   "execution_count": 45,
   "metadata": {},
   "outputs": [],
   "source": [
    "#X_train['V21'] = np.log(X_train['V21']+0.00001)"
   ]
  },
  {
   "cell_type": "code",
   "execution_count": 46,
   "metadata": {},
   "outputs": [],
   "source": [
    "#X_train['V28'] = np.log(X_train['V28']+0.00001)"
   ]
  },
  {
   "cell_type": "code",
   "execution_count": 47,
   "metadata": {},
   "outputs": [],
   "source": [
    "X_train['Amount'] = np.log(X_train['Amount']+0.00001)"
   ]
  },
  {
   "cell_type": "code",
   "execution_count": 48,
   "metadata": {},
   "outputs": [],
   "source": [
    "#X_train['V2'] = np.log(X_train['V2']+0.00001)"
   ]
  },
  {
   "cell_type": "code",
   "execution_count": 49,
   "metadata": {},
   "outputs": [],
   "source": [
    "#X_train['V1'] = np.log(X_train['V1']+0.00001)"
   ]
  },
  {
   "cell_type": "code",
   "execution_count": 50,
   "metadata": {},
   "outputs": [],
   "source": [
    "#X_train['V5'] = np.log(X_train['V5']+0.00001)"
   ]
  },
  {
   "cell_type": "code",
   "execution_count": 51,
   "metadata": {},
   "outputs": [],
   "source": [
    "#X_train['V8'] = np.log(X_train['V8']+0.00001)"
   ]
  },
  {
   "cell_type": "code",
   "execution_count": 52,
   "metadata": {},
   "outputs": [],
   "source": [
    "#X_train['V12'] = np.log(X_train['V12']+0.00001)"
   ]
  },
  {
   "cell_type": "code",
   "execution_count": 53,
   "metadata": {},
   "outputs": [],
   "source": [
    "#X_train['V14'] = np.log(X_train['V14']+0.00001)"
   ]
  },
  {
   "cell_type": "code",
   "execution_count": 54,
   "metadata": {},
   "outputs": [],
   "source": [
    "#X_train['V17'] = np.log(X_train['V17']+0.00001)"
   ]
  },
  {
   "cell_type": "code",
   "execution_count": 55,
   "metadata": {},
   "outputs": [],
   "source": [
    "#X_train['V20'] = np.log(X_train['V20']+0.00001)"
   ]
  },
  {
   "cell_type": "code",
   "execution_count": 56,
   "metadata": {},
   "outputs": [],
   "source": [
    "#X_train['V23'] = np.log(X_train['V23']+0.00001)"
   ]
  },
  {
   "cell_type": "code",
   "execution_count": 57,
   "metadata": {
    "scrolled": false
   },
   "outputs": [
    {
     "data": {
      "text/plain": [
       "Time      -0.036053\n",
       "V1        -3.320269\n",
       "V2        -4.826847\n",
       "V3        -2.219375\n",
       "V4         0.677776\n",
       "V5        -2.928646\n",
       "V6         1.977725\n",
       "V7         3.744620\n",
       "V8        -8.445014\n",
       "V9         0.543603\n",
       "V10        1.212102\n",
       "V11        0.359527\n",
       "V12       -2.281334\n",
       "V13        0.067612\n",
       "V14       -1.992812\n",
       "V15       -0.308053\n",
       "V16       -1.113875\n",
       "V17       -3.975821\n",
       "V18       -0.266115\n",
       "V19        0.107289\n",
       "V20       -1.977859\n",
       "V21        3.656863\n",
       "V22       -0.230008\n",
       "V23       -6.285467\n",
       "V24       -0.552668\n",
       "V25       -0.417168\n",
       "V26        0.579265\n",
       "V27       -0.038330\n",
       "V28       11.776522\n",
       "Amount    -1.847951\n",
       "dtype: float64"
      ]
     },
     "execution_count": 57,
     "metadata": {},
     "output_type": "execute_result"
    }
   ],
   "source": [
    "X_train.skew()"
   ]
  },
  {
   "cell_type": "code",
   "execution_count": 58,
   "metadata": {},
   "outputs": [],
   "source": [
    "# X_test['V6'] = np.log(X_test['V6']+0.00001)\n",
    "# X_test['V7'] = np.log(X_test['V7']+0.00001)\n",
    "# X_test['V21'] = np.log(X_test['V21']+0.00001)\n",
    "# X_test['V28'] = np.log(X_test['V28']+0.00001)\n",
    "X_test['Amount'] = np.log(X_test['Amount']+0.00001)\n",
    "# X_test['V2'] = np.log(X_test['V2']+0.00001)\n",
    "# X_test['V1'] = np.log(X_test['V1']+0.00001)\n",
    "# X_test['V5'] = np.log(X_test['V5']+0.00001)\n",
    "# X_test['V8'] = np.log(X_test['V8']+0.00001)\n",
    "# X_test['V12'] = np.log(X_test['V12']+0.00001)\n",
    "# X_test['V14'] = np.log(X_test['V14']+0.00001)\n",
    "# X_test['V17'] = np.log(X_test['V17']+0.00001)\n",
    "# X_test['V20'] = np.log(X_test['V20']+0.00001)\n",
    "# X_test['V23'] = np.log(X_test['V23']+0.00001)"
   ]
  },
  {
   "cell_type": "code",
   "execution_count": 59,
   "metadata": {},
   "outputs": [
    {
     "data": {
      "text/plain": [
       "Index(['Time', 'V1', 'V2', 'V3', 'V4', 'V5', 'V6', 'V7', 'V8', 'V9', 'V10',\n",
       "       'V11', 'V12', 'V13', 'V14', 'V15', 'V16', 'V17', 'V18', 'V19', 'V20',\n",
       "       'V21', 'V22', 'V23', 'V24', 'V25', 'V26', 'V27', 'V28', 'Amount'],\n",
       "      dtype='object')"
      ]
     },
     "execution_count": 59,
     "metadata": {},
     "output_type": "execute_result"
    }
   ],
   "source": [
    "X_test.columns"
   ]
  },
  {
   "cell_type": "code",
   "execution_count": 60,
   "metadata": {},
   "outputs": [],
   "source": [
    "#X_train.drop(['Time_hr'], axis=1,inplace=True)"
   ]
  },
  {
   "cell_type": "code",
   "execution_count": 61,
   "metadata": {},
   "outputs": [],
   "source": [
    "#X_test.drop(['Time_hr'], axis=1,inplace=True)"
   ]
  },
  {
   "cell_type": "code",
   "execution_count": 62,
   "metadata": {},
   "outputs": [
    {
     "data": {
      "text/html": [
       "<div>\n",
       "<style scoped>\n",
       "    .dataframe tbody tr th:only-of-type {\n",
       "        vertical-align: middle;\n",
       "    }\n",
       "\n",
       "    .dataframe tbody tr th {\n",
       "        vertical-align: top;\n",
       "    }\n",
       "\n",
       "    .dataframe thead th {\n",
       "        text-align: right;\n",
       "    }\n",
       "</style>\n",
       "<table border=\"1\" class=\"dataframe\">\n",
       "  <thead>\n",
       "    <tr style=\"text-align: right;\">\n",
       "      <th></th>\n",
       "      <th>Time</th>\n",
       "      <th>V1</th>\n",
       "      <th>V2</th>\n",
       "      <th>V3</th>\n",
       "      <th>V4</th>\n",
       "      <th>V5</th>\n",
       "      <th>V6</th>\n",
       "      <th>V7</th>\n",
       "      <th>V8</th>\n",
       "      <th>V9</th>\n",
       "      <th>...</th>\n",
       "      <th>V20</th>\n",
       "      <th>V21</th>\n",
       "      <th>V22</th>\n",
       "      <th>V23</th>\n",
       "      <th>V24</th>\n",
       "      <th>V25</th>\n",
       "      <th>V26</th>\n",
       "      <th>V27</th>\n",
       "      <th>V28</th>\n",
       "      <th>Amount</th>\n",
       "    </tr>\n",
       "  </thead>\n",
       "  <tbody>\n",
       "    <tr>\n",
       "      <th>43428</th>\n",
       "      <td>41505.0</td>\n",
       "      <td>-16.526507</td>\n",
       "      <td>8.584972</td>\n",
       "      <td>-18.649853</td>\n",
       "      <td>9.505594</td>\n",
       "      <td>-13.793819</td>\n",
       "      <td>-2.832404</td>\n",
       "      <td>-16.701694</td>\n",
       "      <td>7.517344</td>\n",
       "      <td>-8.507059</td>\n",
       "      <td>...</td>\n",
       "      <td>-1.514923</td>\n",
       "      <td>1.190739</td>\n",
       "      <td>-1.127670</td>\n",
       "      <td>-2.358579</td>\n",
       "      <td>0.673461</td>\n",
       "      <td>-1.413700</td>\n",
       "      <td>-0.462762</td>\n",
       "      <td>-2.018575</td>\n",
       "      <td>-1.042804</td>\n",
       "      <td>5.897676</td>\n",
       "    </tr>\n",
       "    <tr>\n",
       "      <th>49906</th>\n",
       "      <td>44261.0</td>\n",
       "      <td>0.339812</td>\n",
       "      <td>-2.743745</td>\n",
       "      <td>-0.134070</td>\n",
       "      <td>-1.385729</td>\n",
       "      <td>-1.451413</td>\n",
       "      <td>1.015887</td>\n",
       "      <td>-0.524379</td>\n",
       "      <td>0.224060</td>\n",
       "      <td>0.899746</td>\n",
       "      <td>...</td>\n",
       "      <td>0.506044</td>\n",
       "      <td>-0.213436</td>\n",
       "      <td>-0.942525</td>\n",
       "      <td>-0.526819</td>\n",
       "      <td>-1.156992</td>\n",
       "      <td>0.311211</td>\n",
       "      <td>-0.746647</td>\n",
       "      <td>0.040996</td>\n",
       "      <td>0.102038</td>\n",
       "      <td>6.254060</td>\n",
       "    </tr>\n",
       "    <tr>\n",
       "      <th>29474</th>\n",
       "      <td>35484.0</td>\n",
       "      <td>1.399590</td>\n",
       "      <td>-0.590701</td>\n",
       "      <td>0.168619</td>\n",
       "      <td>-1.029950</td>\n",
       "      <td>-0.539806</td>\n",
       "      <td>0.040444</td>\n",
       "      <td>-0.712567</td>\n",
       "      <td>0.002299</td>\n",
       "      <td>-0.971747</td>\n",
       "      <td>...</td>\n",
       "      <td>0.212877</td>\n",
       "      <td>0.102398</td>\n",
       "      <td>0.168269</td>\n",
       "      <td>-0.166639</td>\n",
       "      <td>-0.810250</td>\n",
       "      <td>0.505083</td>\n",
       "      <td>-0.232340</td>\n",
       "      <td>0.011409</td>\n",
       "      <td>0.004634</td>\n",
       "      <td>3.433988</td>\n",
       "    </tr>\n",
       "    <tr>\n",
       "      <th>276481</th>\n",
       "      <td>167123.0</td>\n",
       "      <td>-0.432071</td>\n",
       "      <td>1.647895</td>\n",
       "      <td>-1.669361</td>\n",
       "      <td>-0.349504</td>\n",
       "      <td>0.785785</td>\n",
       "      <td>-0.630647</td>\n",
       "      <td>0.276990</td>\n",
       "      <td>0.586025</td>\n",
       "      <td>-0.484715</td>\n",
       "      <td>...</td>\n",
       "      <td>-0.244633</td>\n",
       "      <td>0.358932</td>\n",
       "      <td>0.873663</td>\n",
       "      <td>-0.178642</td>\n",
       "      <td>-0.017171</td>\n",
       "      <td>-0.207392</td>\n",
       "      <td>-0.157756</td>\n",
       "      <td>-0.237386</td>\n",
       "      <td>0.001934</td>\n",
       "      <td>0.405472</td>\n",
       "    </tr>\n",
       "    <tr>\n",
       "      <th>278846</th>\n",
       "      <td>168473.0</td>\n",
       "      <td>2.014160</td>\n",
       "      <td>-0.137394</td>\n",
       "      <td>-1.015839</td>\n",
       "      <td>0.327269</td>\n",
       "      <td>-0.182179</td>\n",
       "      <td>-0.956571</td>\n",
       "      <td>0.043241</td>\n",
       "      <td>-0.160746</td>\n",
       "      <td>0.363241</td>\n",
       "      <td>...</td>\n",
       "      <td>-0.255293</td>\n",
       "      <td>-0.238644</td>\n",
       "      <td>-0.616400</td>\n",
       "      <td>0.347045</td>\n",
       "      <td>0.061561</td>\n",
       "      <td>-0.360196</td>\n",
       "      <td>0.174730</td>\n",
       "      <td>-0.078043</td>\n",
       "      <td>-0.070571</td>\n",
       "      <td>-0.116523</td>\n",
       "    </tr>\n",
       "    <tr>\n",
       "      <th>...</th>\n",
       "      <td>...</td>\n",
       "      <td>...</td>\n",
       "      <td>...</td>\n",
       "      <td>...</td>\n",
       "      <td>...</td>\n",
       "      <td>...</td>\n",
       "      <td>...</td>\n",
       "      <td>...</td>\n",
       "      <td>...</td>\n",
       "      <td>...</td>\n",
       "      <td>...</td>\n",
       "      <td>...</td>\n",
       "      <td>...</td>\n",
       "      <td>...</td>\n",
       "      <td>...</td>\n",
       "      <td>...</td>\n",
       "      <td>...</td>\n",
       "      <td>...</td>\n",
       "      <td>...</td>\n",
       "      <td>...</td>\n",
       "      <td>...</td>\n",
       "    </tr>\n",
       "    <tr>\n",
       "      <th>75723</th>\n",
       "      <td>56223.0</td>\n",
       "      <td>-1.994348</td>\n",
       "      <td>1.503076</td>\n",
       "      <td>-0.365560</td>\n",
       "      <td>0.780223</td>\n",
       "      <td>-0.957956</td>\n",
       "      <td>0.038648</td>\n",
       "      <td>-0.453702</td>\n",
       "      <td>1.553565</td>\n",
       "      <td>-0.561964</td>\n",
       "      <td>...</td>\n",
       "      <td>-0.316016</td>\n",
       "      <td>0.224820</td>\n",
       "      <td>0.319275</td>\n",
       "      <td>-0.081356</td>\n",
       "      <td>-0.366704</td>\n",
       "      <td>-0.269380</td>\n",
       "      <td>-0.278170</td>\n",
       "      <td>0.082042</td>\n",
       "      <td>-0.015071</td>\n",
       "      <td>4.326646</td>\n",
       "    </tr>\n",
       "    <tr>\n",
       "      <th>252263</th>\n",
       "      <td>155726.0</td>\n",
       "      <td>-0.234567</td>\n",
       "      <td>0.733694</td>\n",
       "      <td>0.486250</td>\n",
       "      <td>-0.718186</td>\n",
       "      <td>0.782227</td>\n",
       "      <td>-0.788837</td>\n",
       "      <td>1.056307</td>\n",
       "      <td>-0.175016</td>\n",
       "      <td>-0.244864</td>\n",
       "      <td>...</td>\n",
       "      <td>-0.127503</td>\n",
       "      <td>-0.202040</td>\n",
       "      <td>-0.574857</td>\n",
       "      <td>-0.024845</td>\n",
       "      <td>-0.428558</td>\n",
       "      <td>-0.563551</td>\n",
       "      <td>0.159926</td>\n",
       "      <td>0.094924</td>\n",
       "      <td>0.163736</td>\n",
       "      <td>2.301586</td>\n",
       "    </tr>\n",
       "    <tr>\n",
       "      <th>221246</th>\n",
       "      <td>142491.0</td>\n",
       "      <td>0.040441</td>\n",
       "      <td>-0.109737</td>\n",
       "      <td>-1.266430</td>\n",
       "      <td>1.004783</td>\n",
       "      <td>2.223390</td>\n",
       "      <td>-0.670372</td>\n",
       "      <td>0.490662</td>\n",
       "      <td>-0.033739</td>\n",
       "      <td>-0.307052</td>\n",
       "      <td>...</td>\n",
       "      <td>-0.008625</td>\n",
       "      <td>0.341151</td>\n",
       "      <td>0.930041</td>\n",
       "      <td>0.162391</td>\n",
       "      <td>-1.180279</td>\n",
       "      <td>-1.484172</td>\n",
       "      <td>-0.619133</td>\n",
       "      <td>0.357845</td>\n",
       "      <td>0.354379</td>\n",
       "      <td>2.032089</td>\n",
       "    </tr>\n",
       "    <tr>\n",
       "      <th>81910</th>\n",
       "      <td>59157.0</td>\n",
       "      <td>-0.495048</td>\n",
       "      <td>0.991481</td>\n",
       "      <td>1.671584</td>\n",
       "      <td>-0.342474</td>\n",
       "      <td>0.470012</td>\n",
       "      <td>-0.348503</td>\n",
       "      <td>0.996077</td>\n",
       "      <td>-0.351891</td>\n",
       "      <td>-0.219231</td>\n",
       "      <td>...</td>\n",
       "      <td>0.424562</td>\n",
       "      <td>-0.324995</td>\n",
       "      <td>-0.474178</td>\n",
       "      <td>-0.145562</td>\n",
       "      <td>-0.011279</td>\n",
       "      <td>-0.162997</td>\n",
       "      <td>0.020511</td>\n",
       "      <td>0.040529</td>\n",
       "      <td>-0.269775</td>\n",
       "      <td>1.278155</td>\n",
       "    </tr>\n",
       "    <tr>\n",
       "      <th>59490</th>\n",
       "      <td>48864.0</td>\n",
       "      <td>-1.590486</td>\n",
       "      <td>0.992415</td>\n",
       "      <td>-0.512841</td>\n",
       "      <td>1.120752</td>\n",
       "      <td>-1.916756</td>\n",
       "      <td>3.142176</td>\n",
       "      <td>2.120463</td>\n",
       "      <td>-3.819649</td>\n",
       "      <td>0.209349</td>\n",
       "      <td>...</td>\n",
       "      <td>-0.587066</td>\n",
       "      <td>-1.822474</td>\n",
       "      <td>0.108047</td>\n",
       "      <td>-3.362671</td>\n",
       "      <td>-1.076905</td>\n",
       "      <td>-0.869555</td>\n",
       "      <td>-0.307649</td>\n",
       "      <td>0.125750</td>\n",
       "      <td>-0.607226</td>\n",
       "      <td>6.809381</td>\n",
       "    </tr>\n",
       "  </tbody>\n",
       "</table>\n",
       "<p>56962 rows × 30 columns</p>\n",
       "</div>"
      ],
      "text/plain": [
       "            Time         V1        V2         V3        V4         V5  \\\n",
       "43428    41505.0 -16.526507  8.584972 -18.649853  9.505594 -13.793819   \n",
       "49906    44261.0   0.339812 -2.743745  -0.134070 -1.385729  -1.451413   \n",
       "29474    35484.0   1.399590 -0.590701   0.168619 -1.029950  -0.539806   \n",
       "276481  167123.0  -0.432071  1.647895  -1.669361 -0.349504   0.785785   \n",
       "278846  168473.0   2.014160 -0.137394  -1.015839  0.327269  -0.182179   \n",
       "...          ...        ...       ...        ...       ...        ...   \n",
       "75723    56223.0  -1.994348  1.503076  -0.365560  0.780223  -0.957956   \n",
       "252263  155726.0  -0.234567  0.733694   0.486250 -0.718186   0.782227   \n",
       "221246  142491.0   0.040441 -0.109737  -1.266430  1.004783   2.223390   \n",
       "81910    59157.0  -0.495048  0.991481   1.671584 -0.342474   0.470012   \n",
       "59490    48864.0  -1.590486  0.992415  -0.512841  1.120752  -1.916756   \n",
       "\n",
       "              V6         V7        V8        V9  ...       V20       V21  \\\n",
       "43428  -2.832404 -16.701694  7.517344 -8.507059  ... -1.514923  1.190739   \n",
       "49906   1.015887  -0.524379  0.224060  0.899746  ...  0.506044 -0.213436   \n",
       "29474   0.040444  -0.712567  0.002299 -0.971747  ...  0.212877  0.102398   \n",
       "276481 -0.630647   0.276990  0.586025 -0.484715  ... -0.244633  0.358932   \n",
       "278846 -0.956571   0.043241 -0.160746  0.363241  ... -0.255293 -0.238644   \n",
       "...          ...        ...       ...       ...  ...       ...       ...   \n",
       "75723   0.038648  -0.453702  1.553565 -0.561964  ... -0.316016  0.224820   \n",
       "252263 -0.788837   1.056307 -0.175016 -0.244864  ... -0.127503 -0.202040   \n",
       "221246 -0.670372   0.490662 -0.033739 -0.307052  ... -0.008625  0.341151   \n",
       "81910  -0.348503   0.996077 -0.351891 -0.219231  ...  0.424562 -0.324995   \n",
       "59490   3.142176   2.120463 -3.819649  0.209349  ... -0.587066 -1.822474   \n",
       "\n",
       "             V22       V23       V24       V25       V26       V27       V28  \\\n",
       "43428  -1.127670 -2.358579  0.673461 -1.413700 -0.462762 -2.018575 -1.042804   \n",
       "49906  -0.942525 -0.526819 -1.156992  0.311211 -0.746647  0.040996  0.102038   \n",
       "29474   0.168269 -0.166639 -0.810250  0.505083 -0.232340  0.011409  0.004634   \n",
       "276481  0.873663 -0.178642 -0.017171 -0.207392 -0.157756 -0.237386  0.001934   \n",
       "278846 -0.616400  0.347045  0.061561 -0.360196  0.174730 -0.078043 -0.070571   \n",
       "...          ...       ...       ...       ...       ...       ...       ...   \n",
       "75723   0.319275 -0.081356 -0.366704 -0.269380 -0.278170  0.082042 -0.015071   \n",
       "252263 -0.574857 -0.024845 -0.428558 -0.563551  0.159926  0.094924  0.163736   \n",
       "221246  0.930041  0.162391 -1.180279 -1.484172 -0.619133  0.357845  0.354379   \n",
       "81910  -0.474178 -0.145562 -0.011279 -0.162997  0.020511  0.040529 -0.269775   \n",
       "59490   0.108047 -3.362671 -1.076905 -0.869555 -0.307649  0.125750 -0.607226   \n",
       "\n",
       "          Amount  \n",
       "43428   5.897676  \n",
       "49906   6.254060  \n",
       "29474   3.433988  \n",
       "276481  0.405472  \n",
       "278846 -0.116523  \n",
       "...          ...  \n",
       "75723   4.326646  \n",
       "252263  2.301586  \n",
       "221246  2.032089  \n",
       "81910   1.278155  \n",
       "59490   6.809381  \n",
       "\n",
       "[56962 rows x 30 columns]"
      ]
     },
     "execution_count": 62,
     "metadata": {},
     "output_type": "execute_result"
    }
   ],
   "source": [
    "X_test"
   ]
  },
  {
   "cell_type": "markdown",
   "metadata": {},
   "source": [
    "##### As the independent features may have some outliers, but they may be significant for classifying the output, hence we are using robust scaler here"
   ]
  },
  {
   "cell_type": "code",
   "execution_count": 63,
   "metadata": {},
   "outputs": [],
   "source": [
    "# Use RobustScaler for scaling\n",
    "\n",
    "# from sklearn.preprocessing import RobustScaler\n",
    "# rb = RobustScaler()\n",
    "# X_train_RS = rb.fit_transform(X_train)\n",
    "# X_train_RS = pd.DataFrame(X_train_RS, columns=['Time', 'V1', 'V2', 'V3', 'V4', 'V5', 'V6', 'V7', 'V8', 'V9', 'V10',\n",
    "#        'V11', 'V12', 'V13', 'V14', 'V15', 'V16', 'V17', 'V18', 'V19', 'V20',\n",
    "#        'V21', 'V22', 'V23', 'V24', 'V25', 'V26', 'V27', 'V28', 'Amount'])\n",
    "\n",
    "# X_test_RS = rb.fit_transform(X_test)\n",
    "# X_test_RS = pd.DataFrame(X_test_RS, columns=['Time', 'V1', 'V2', 'V3', 'V4', 'V5', 'V6', 'V7', 'V8', 'V9', 'V10',\n",
    "#        'V11', 'V12', 'V13', 'V14', 'V15', 'V16', 'V17', 'V18', 'V19', 'V20',\n",
    "#        'V21', 'V22', 'V23', 'V24', 'V25', 'V26', 'V27', 'V28', 'Amount'])"
   ]
  },
  {
   "cell_type": "code",
   "execution_count": 64,
   "metadata": {},
   "outputs": [],
   "source": [
    "#df.drop(['Time_hr'], axis=1,inplace=True)"
   ]
  },
  {
   "cell_type": "code",
   "execution_count": 65,
   "metadata": {},
   "outputs": [
    {
     "data": {
      "image/png": "[encoded data removed]",
      "text/plain": [
       "<Figure size 792x648 with 2 Axes>"
      ]
     },
     "metadata": {},
     "output_type": "display_data"
    }
   ],
   "source": [
    "def CorrMtx(df, dropDuplicates = True):\n",
    "    df = df.corr()\n",
    "    if dropDuplicates:    \n",
    "        mask = np.zeros_like(df, dtype=np.bool)\n",
    "        mask[np.triu_indices_from(mask)] = True\n",
    "\n",
    "    \n",
    "    sns.set_style(style = 'white')\n",
    "\n",
    "    \n",
    "    f, ax = plt.subplots(figsize=(11, 9))\n",
    "\n",
    "    # Add diverging colormap from red to blue\n",
    "    cmap = sns.diverging_palette(250, 10, as_cmap=True)\n",
    "\n",
    "    # Draw correlation plot with or without duplicates\n",
    "    if dropDuplicates:\n",
    "        sns.heatmap(df, mask=mask, cmap=cmap, \n",
    "                square=True,\n",
    "                linewidth=.5, cbar_kws={\"shrink\": .5}, ax=ax)\n",
    "    else:\n",
    "        sns.heatmap(df, cmap=cmap, \n",
    "                square=True,\n",
    "                linewidth=.5, cbar_kws={\"shrink\": .5}, ax=ax)\n",
    "\n",
    "\n",
    "CorrMtx(df, dropDuplicates = True)"
   ]
  },
  {
   "cell_type": "markdown",
   "metadata": {},
   "source": [
    "Let's explore the correlation between principal component analysis and target variable 'Class'"
   ]
  },
  {
   "cell_type": "code",
   "execution_count": 66,
   "metadata": {},
   "outputs": [
    {
     "data": {
      "text/plain": [
       "Index(['Time', 'V1', 'V2', 'V3', 'V4', 'V5', 'V6', 'V7', 'V8', 'V9', 'V10',\n",
       "       'V11', 'V12', 'V13', 'V14', 'V15', 'V16', 'V17', 'V18', 'V19', 'V20',\n",
       "       'V21', 'V22', 'V23', 'V24', 'V25', 'V26', 'V27', 'V28', 'Amount',\n",
       "       'Class'],\n",
       "      dtype='object')"
      ]
     },
     "execution_count": 66,
     "metadata": {},
     "output_type": "execute_result"
    }
   ],
   "source": [
    "df.columns"
   ]
  },
  {
   "cell_type": "markdown",
   "metadata": {},
   "source": [
    "##### Dataset is imbalanced, but lets evaluate the classification model with original data, without using under sampling or over sampling"
   ]
  },
  {
   "cell_type": "markdown",
   "metadata": {},
   "source": [
    "#### Let's evaluate using random forest classifier"
   ]
  },
  {
   "cell_type": "markdown",
   "metadata": {},
   "source": [
    "#### Performance Measures for Prediction and Evaluation\n",
    "We use a Confusion Matrix first on a Decision Tree then on a Random Forest to evaluate the accuracy of each method.\n",
    "\n",
    "                          True Positives (TP)\t    False Positives (FP)\n",
    "                          False Negatives (FN)\t   True Negatives (TN)\n",
    "\n",
    "In a perfect model both False Positives and False Negatives in the matrix would be zero!\n",
    "\n",
    "In our model for predicting the succesfulness of credit card fradulent the interpretation is as follows:\n",
    "\n",
    "\n",
    "#### TP = The model predicts correctly a non-fradulent transaction\n",
    "#### TN = The model predicts correctly a fradulent transaction\n",
    "#### FN = The model predicts a succesful non-fradulent transaction as a fradulent transaction\n",
    "#### FP = The model predicts a succesful fradulent transaction as a non-fradulent transaction\n",
    "\n",
    "\n",
    "The Precision(=accuracy of the positive predictions), Recall(=ratio of positive instances correctly detected by the classifier) and f1-score may be more concise metrics, however.\n",
    "\n",
    "Precision for 'non-fradulent transaction' = TP/(TP+FP)\n",
    "Precision for 'fradulent transaction' = TN/(TN+FN)\n",
    "\n",
    "Recall for 'non-fradulent transaction' = TP/(TP+FN)\n",
    "Recall for 'fradulent transaction' = TN/(TN+FP)\n",
    "\n",
    "The f1-score is the harmonic mean of Precision and Recall."
   ]
  },
  {
   "cell_type": "markdown",
   "metadata": {},
   "source": [
    "## Let's analyze the data using base models, with original imbalanced data"
   ]
  },
  {
   "cell_type": "markdown",
   "metadata": {},
   "source": [
    "### Logistic Regression"
   ]
  },
  {
   "cell_type": "code",
   "execution_count": 67,
   "metadata": {},
   "outputs": [],
   "source": [
    "from sklearn.linear_model import LogisticRegression"
   ]
  },
  {
   "cell_type": "code",
   "execution_count": 68,
   "metadata": {},
   "outputs": [
    {
     "data": {
      "text/plain": [
       "LogisticRegression()"
      ]
     },
     "execution_count": 68,
     "metadata": {},
     "output_type": "execute_result"
    }
   ],
   "source": [
    "lr = LogisticRegression()\n",
    "lr.fit(X_train, y_train) "
   ]
  },
  {
   "cell_type": "code",
   "execution_count": 69,
   "metadata": {},
   "outputs": [],
   "source": [
    "y_pred = lr.predict(X_test)"
   ]
  },
  {
   "cell_type": "code",
   "execution_count": 70,
   "metadata": {},
   "outputs": [
    {
     "name": "stdout",
     "output_type": "stream",
     "text": [
      "              precision    recall  f1-score   support\n",
      "\n",
      "           0       1.00      1.00      1.00     56864\n",
      "           1       0.55      0.58      0.56        98\n",
      "\n",
      "    accuracy                           1.00     56962\n",
      "   macro avg       0.77      0.79      0.78     56962\n",
      "weighted avg       1.00      1.00      1.00     56962\n",
      "\n"
     ]
    }
   ],
   "source": [
    "from sklearn import metrics\n",
    "print(metrics.classification_report(y_test, y_pred))"
   ]
  },
  {
   "cell_type": "code",
   "execution_count": 71,
   "metadata": {},
   "outputs": [
    {
     "name": "stdout",
     "output_type": "stream",
     "text": [
      "Accuracy :0.99846\n",
      "AUC : 0.77368\n",
      "Precision : 0.54808\n",
      "Recall : 0.58163\n",
      "F1 : 0.56436\n"
     ]
    }
   ],
   "source": [
    "print('Accuracy :{0:0.5f}'.format(metrics.accuracy_score(y_pred , y_test))) \n",
    "print('AUC : {0:0.5f}'.format(metrics.roc_auc_score(y_pred , y_test)))\n",
    "print('Precision : {0:0.5f}'.format(metrics.precision_score(y_test , y_pred)))\n",
    "print('Recall : {0:0.5f}'.format(metrics.recall_score(y_test , y_pred)))\n",
    "print('F1 : {0:0.5f}'.format(metrics.f1_score(y_test , y_pred)))"
   ]
  },
  {
   "cell_type": "code",
   "execution_count": 72,
   "metadata": {},
   "outputs": [
    {
     "data": {
      "text/plain": [
       "array([[56817,    41],\n",
       "       [   47,    57]], dtype=int64)"
      ]
     },
     "execution_count": 72,
     "metadata": {},
     "output_type": "execute_result"
    }
   ],
   "source": [
    "cnf_matrix = metrics.confusion_matrix(y_pred,y_test)\n",
    "cnf_matrix"
   ]
  },
  {
   "cell_type": "code",
   "execution_count": 73,
   "metadata": {},
   "outputs": [
    {
     "data": {
      "text/plain": [
       "0    56864\n",
       "1       98\n",
       "Name: Class, dtype: int64"
      ]
     },
     "execution_count": 73,
     "metadata": {},
     "output_type": "execute_result"
    }
   ],
   "source": [
    "# let's check the actual value on test data\n",
    "\n",
    "pd.Series(y_test).value_counts()"
   ]
  },
  {
   "cell_type": "code",
   "execution_count": 74,
   "metadata": {
    "scrolled": true
   },
   "outputs": [
    {
     "data": {
      "text/plain": [
       "0    56858\n",
       "1      104\n",
       "dtype: int64"
      ]
     },
     "execution_count": 74,
     "metadata": {},
     "output_type": "execute_result"
    }
   ],
   "source": [
    "# Predicted values\n",
    "pd.Series(y_pred).value_counts()"
   ]
  },
  {
   "cell_type": "markdown",
   "metadata": {},
   "source": [
    "##### Here our model predicts 104 fraudulent data, compared to actual 98 in test data\n",
    "\n",
    "##### But true negative (our case is actual fraudulent) is 57, identified by our model, compared to actual 98 cases\n",
    "\n",
    "##### Also 47 cases are falsely identified as fradulent which are genuine cases\n",
    "\n",
    "##### So overall performance is not satisfactory\n",
    "\n",
    "##### This is clearly reflected in our poor recall value 0.58163"
   ]
  },
  {
   "cell_type": "code",
   "execution_count": 75,
   "metadata": {},
   "outputs": [
    {
     "data": {
      "text/plain": [
       "0.7904030597889128"
      ]
     },
     "execution_count": 75,
     "metadata": {},
     "output_type": "execute_result"
    }
   ],
   "source": [
    "metrics.roc_auc_score(y_test , y_pred) "
   ]
  },
  {
   "cell_type": "markdown",
   "metadata": {},
   "source": [
    "##### Let's plot ROC curve"
   ]
  },
  {
   "cell_type": "code",
   "execution_count": 76,
   "metadata": {},
   "outputs": [
    {
     "name": "stdout",
     "output_type": "stream",
     "text": [
      "AUC -  0.7904030597889128 \n",
      "\n"
     ]
    },
    {
     "data": {
      "image/png": "[encoded data removed]",
      "text/plain": [
       "<Figure size 576x432 with 1 Axes>"
      ]
     },
     "metadata": {},
     "output_type": "display_data"
    }
   ],
   "source": [
    "# plot ROC Curve\n",
    "\n",
    "plt.figure(figsize=(8,6))\n",
    "\n",
    "fpr, tpr, thresholds = metrics.roc_curve(y_test, y_pred)\n",
    "\n",
    "auc = metrics.roc_auc_score(y_test, y_pred)\n",
    "print(\"AUC - \",auc,\"\\n\")\n",
    "\n",
    "plt.plot(fpr,tpr,linewidth=2, label=\"Logistic Regression, auc=\"+str(auc))\n",
    "plt.legend(loc=4)\n",
    "\n",
    "plt.plot([0,1], [0,1], 'k--' )\n",
    "\n",
    "plt.rcParams['font.size'] = 12\n",
    "plt.title('ROC curve for Predicting a credit card fraud detection using Logistic Regression (with original data)')\n",
    "plt.xlabel('False Positive Rate (1 - Specificity)')\n",
    "plt.ylabel('True Positive Rate (Sensitivity)')\n",
    "\n",
    "plt.show()"
   ]
  },
  {
   "cell_type": "markdown",
   "metadata": {},
   "source": [
    "#### Now, let's plot Precission- Recall Curve"
   ]
  },
  {
   "cell_type": "code",
   "execution_count": 77,
   "metadata": {},
   "outputs": [
    {
     "name": "stdout",
     "output_type": "stream",
     "text": [
      "f1=0.564\n"
     ]
    },
    {
     "data": {
      "image/png": "[encoded data removed]",
      "text/plain": [
       "<Figure size 432x288 with 1 Axes>"
      ]
     },
     "metadata": {},
     "output_type": "display_data"
    }
   ],
   "source": [
    "# calculate precision-recall curve\n",
    "precision, recall, thresholds = metrics.precision_recall_curve(y_test, y_pred)\n",
    "\n",
    "# calculate F1 score\n",
    "f1 = metrics.f1_score(y_test, y_pred)\n",
    "\n",
    "print('f1=%.3f' % (f1))\n",
    "\n",
    "# plot no skill\n",
    "plt.plot([0, 1], [0.5, 0.5], linestyle='--')\n",
    "\n",
    "# plot the roc curve for the model\n",
    "plt.plot(recall, precision, marker='.')\n",
    "\n",
    "# show the plot\n",
    "plt.show()"
   ]
  },
  {
   "cell_type": "markdown",
   "metadata": {},
   "source": [
    "### Decision Tree Classifier"
   ]
  },
  {
   "cell_type": "code",
   "execution_count": 78,
   "metadata": {},
   "outputs": [],
   "source": [
    "from sklearn.tree import DecisionTreeClassifier as dt\n",
    "clf = dt(max_depth=3)"
   ]
  },
  {
   "cell_type": "code",
   "execution_count": 79,
   "metadata": {},
   "outputs": [
    {
     "data": {
      "text/plain": [
       "DecisionTreeClassifier(max_depth=3)"
      ]
     },
     "execution_count": 79,
     "metadata": {},
     "output_type": "execute_result"
    }
   ],
   "source": [
    "clf"
   ]
  },
  {
   "cell_type": "code",
   "execution_count": 80,
   "metadata": {},
   "outputs": [],
   "source": [
    "clf.fit(X_train, y_train)\n",
    "y_test = clf.predict(X_test)"
   ]
  },
  {
   "cell_type": "code",
   "execution_count": 81,
   "metadata": {},
   "outputs": [
    {
     "name": "stdout",
     "output_type": "stream",
     "text": [
      "              precision    recall  f1-score   support\n",
      "\n",
      "           0       1.00      1.00      1.00     56885\n",
      "           1       0.62      0.84      0.72        77\n",
      "\n",
      "    accuracy                           1.00     56962\n",
      "   macro avg       0.81      0.92      0.86     56962\n",
      "weighted avg       1.00      1.00      1.00     56962\n",
      "\n"
     ]
    }
   ],
   "source": [
    "from sklearn import metrics\n",
    "print(metrics.classification_report(y_test, y_pred))"
   ]
  },
  {
   "cell_type": "code",
   "execution_count": 82,
   "metadata": {},
   "outputs": [
    {
     "name": "stdout",
     "output_type": "stream",
     "text": [
      "Accuracy :0.99910\n",
      "AUC : 0.81239\n",
      "Precision : 0.62500\n",
      "Recall : 0.84416\n",
      "F1 : 0.71823\n"
     ]
    }
   ],
   "source": [
    "print('Accuracy :{0:0.5f}'.format(metrics.accuracy_score(y_pred , y_test))) \n",
    "print('AUC : {0:0.5f}'.format(metrics.roc_auc_score(y_pred , y_test)))\n",
    "print('Precision : {0:0.5f}'.format(metrics.precision_score(y_test , y_pred)))\n",
    "print('Recall : {0:0.5f}'.format(metrics.recall_score(y_test , y_pred)))\n",
    "print('F1 : {0:0.5f}'.format(metrics.f1_score(y_test , y_pred)))"
   ]
  },
  {
   "cell_type": "code",
   "execution_count": 83,
   "metadata": {},
   "outputs": [
    {
     "data": {
      "text/plain": [
       "array([[56846,    12],\n",
       "       [   39,    65]], dtype=int64)"
      ]
     },
     "execution_count": 83,
     "metadata": {},
     "output_type": "execute_result"
    }
   ],
   "source": [
    "cnf_matrix = metrics.confusion_matrix(y_pred,y_test)\n",
    "cnf_matrix"
   ]
  },
  {
   "cell_type": "code",
   "execution_count": 84,
   "metadata": {},
   "outputs": [
    {
     "data": {
      "text/plain": [
       "0    56858\n",
       "1      104\n",
       "dtype: int64"
      ]
     },
     "execution_count": 84,
     "metadata": {},
     "output_type": "execute_result"
    }
   ],
   "source": [
    "# Predicted values\n",
    "pd.Series(y_pred).value_counts()"
   ]
  },
  {
   "cell_type": "markdown",
   "metadata": {},
   "source": [
    "##### Here our model predicts 104 fraudulent data, compared to actual 98 in test data\n",
    "\n",
    "##### But true negative (our case is actual fraudulent) is 65, identified by our model, compared to actual 98 cases (With LR it was 57)\n",
    "\n",
    "##### Also 47 cases are falsely identified as fradulent which are genuine cases (With LR it was 49)\n",
    "\n",
    "##### So overall performance is not satisfactory (worst than LR)\n",
    "\n",
    "##### This is clearly reflected in our poor recall value 0.50459"
   ]
  },
  {
   "cell_type": "markdown",
   "metadata": {},
   "source": [
    "### Support Vector Machine Classifier"
   ]
  },
  {
   "cell_type": "code",
   "execution_count": 85,
   "metadata": {},
   "outputs": [],
   "source": [
    "from sklearn.svm import SVC"
   ]
  },
  {
   "cell_type": "code",
   "execution_count": 86,
   "metadata": {},
   "outputs": [],
   "source": [
    "svc = SVC(kernel='linear')\n",
    "svc.fit(X_train, y_train)\n",
    "y_pred = svc.predict(X_test)"
   ]
  },
  {
   "cell_type": "code",
   "execution_count": 87,
   "metadata": {
    "scrolled": true
   },
   "outputs": [
    {
     "name": "stdout",
     "output_type": "stream",
     "text": [
      "              precision    recall  f1-score   support\n",
      "\n",
      "           0       1.00      1.00      1.00     56885\n",
      "           1       0.71      0.47      0.56        77\n",
      "\n",
      "    accuracy                           1.00     56962\n",
      "   macro avg       0.85      0.73      0.78     56962\n",
      "weighted avg       1.00      1.00      1.00     56962\n",
      "\n"
     ]
    }
   ],
   "source": [
    "from sklearn import metrics\n",
    "print(metrics.classification_report(y_test, y_pred))"
   ]
  },
  {
   "cell_type": "code",
   "execution_count": 88,
   "metadata": {},
   "outputs": [
    {
     "data": {
      "text/plain": [
       "array([[56870,    41],\n",
       "       [   15,    36]], dtype=int64)"
      ]
     },
     "execution_count": 88,
     "metadata": {},
     "output_type": "execute_result"
    }
   ],
   "source": [
    "cnf_matrix = metrics.confusion_matrix(y_pred,y_test)\n",
    "cnf_matrix"
   ]
  },
  {
   "cell_type": "code",
   "execution_count": 89,
   "metadata": {},
   "outputs": [
    {
     "name": "stdout",
     "output_type": "stream",
     "text": [
      "Accuracy :0.99902\n",
      "AUC : 0.85258\n",
      "Precision : 0.70588\n",
      "Recall : 0.46753\n",
      "F1 : 0.56250\n"
     ]
    }
   ],
   "source": [
    "print('Accuracy :{0:0.5f}'.format(metrics.accuracy_score(y_pred , y_test))) \n",
    "print('AUC : {0:0.5f}'.format(metrics.roc_auc_score(y_pred , y_test)))\n",
    "print('Precision : {0:0.5f}'.format(metrics.precision_score(y_test , y_pred)))\n",
    "print('Recall : {0:0.5f}'.format(metrics.recall_score(y_test , y_pred)))\n",
    "print('F1 : {0:0.5f}'.format(metrics.f1_score(y_test , y_pred)))"
   ]
  },
  {
   "cell_type": "markdown",
   "metadata": {},
   "source": [
    "##### Here using linear SVC gives poor result"
   ]
  },
  {
   "cell_type": "markdown",
   "metadata": {},
   "source": [
    "### KNN classification"
   ]
  },
  {
   "cell_type": "code",
   "execution_count": 90,
   "metadata": {},
   "outputs": [],
   "source": [
    "from sklearn.neighbors import KNeighborsClassifier"
   ]
  },
  {
   "cell_type": "code",
   "execution_count": 91,
   "metadata": {},
   "outputs": [],
   "source": [
    "knn = KNeighborsClassifier(n_neighbors = 5)\n",
    "knn.fit(X_train, y_train)\n",
    "y_pred = knn.predict(X_test)"
   ]
  },
  {
   "cell_type": "code",
   "execution_count": 92,
   "metadata": {},
   "outputs": [
    {
     "name": "stdout",
     "output_type": "stream",
     "text": [
      "              precision    recall  f1-score   support\n",
      "\n",
      "           0       1.00      1.00      1.00     56885\n",
      "           1       1.00      0.13      0.23        77\n",
      "\n",
      "    accuracy                           1.00     56962\n",
      "   macro avg       1.00      0.56      0.61     56962\n",
      "weighted avg       1.00      1.00      1.00     56962\n",
      "\n"
     ]
    }
   ],
   "source": [
    "print(metrics.classification_report(y_test, y_pred))"
   ]
  },
  {
   "cell_type": "code",
   "execution_count": 93,
   "metadata": {
    "scrolled": true
   },
   "outputs": [
    {
     "data": {
      "text/plain": [
       "array([[56885,    67],\n",
       "       [    0,    10]], dtype=int64)"
      ]
     },
     "execution_count": 93,
     "metadata": {},
     "output_type": "execute_result"
    }
   ],
   "source": [
    "cnf_matrix = metrics.confusion_matrix(y_pred,y_test)\n",
    "cnf_matrix"
   ]
  },
  {
   "cell_type": "code",
   "execution_count": 94,
   "metadata": {},
   "outputs": [
    {
     "name": "stdout",
     "output_type": "stream",
     "text": [
      "Accuracy :0.99882\n",
      "AUC : 0.99941\n",
      "Precision : 1.00000\n",
      "Recall : 0.12987\n",
      "F1 : 0.22989\n"
     ]
    }
   ],
   "source": [
    "print('Accuracy :{0:0.5f}'.format(metrics.accuracy_score(y_pred , y_test))) \n",
    "print('AUC : {0:0.5f}'.format(metrics.roc_auc_score(y_pred , y_test)))\n",
    "print('Precision : {0:0.5f}'.format(metrics.precision_score(y_test , y_pred)))\n",
    "print('Recall : {0:0.5f}'.format(metrics.recall_score(y_test , y_pred)))\n",
    "print('F1 : {0:0.5f}'.format(metrics.f1_score(y_test , y_pred)))"
   ]
  },
  {
   "cell_type": "markdown",
   "metadata": {},
   "source": [
    "##### KNN classification also gives poor result, recall is also just 0.09174"
   ]
  },
  {
   "cell_type": "markdown",
   "metadata": {},
   "source": [
    "## The above evaluation is done on original dataset, now let's balance the dataset and check again"
   ]
  },
  {
   "cell_type": "markdown",
   "metadata": {},
   "source": [
    "**Random undersampling :** deletes examples from the majority class and can result in losing information invaluable to a model.\n",
    "\n",
    "**Random Oversampling :** duplicates examples from the minority class in the training dataset and can result in overfitting for some models.\n",
    "\n",
    "**Synthetic Minority OverSampling Technique (SMOTE) :** In this technique, instead of simply duplicating data from the minority class, we synthesize new data from the minority class.\n",
    "\n",
    "**Adaptive Synthetic Sampling Method for Imbalanced Data (ADASYN) :** is an algorithm that generates synthetic data, and its greatest advantages are not copying the same minority data, and generating more data."
   ]
  },
  {
   "cell_type": "code",
   "execution_count": 95,
   "metadata": {
    "scrolled": true
   },
   "outputs": [],
   "source": [
    "from imblearn.under_sampling import RandomUnderSampler\n",
    "from imblearn.over_sampling import RandomOverSampler\n",
    "from imblearn.over_sampling import _random_over_sampler, SMOTE, ADASYN"
   ]
  },
  {
   "cell_type": "markdown",
   "metadata": {},
   "source": [
    "### Random Under Sampling"
   ]
  },
  {
   "cell_type": "code",
   "execution_count": 96,
   "metadata": {},
   "outputs": [],
   "source": [
    "rus = RandomUnderSampler(random_state=42)\n",
    "X_train_rus, y_train_rus = rus.fit_resample(X_train, y_train)"
   ]
  },
  {
   "cell_type": "code",
   "execution_count": 97,
   "metadata": {},
   "outputs": [
    {
     "name": "stdout",
     "output_type": "stream",
     "text": [
      "Distribution in original data (train data) set\n",
      "\n",
      "0    227451\n",
      "1       394\n",
      "Name: Class, dtype: int64\n"
     ]
    }
   ],
   "source": [
    "print(\"Distribution in original data (train data) set\\n\")\n",
    "print(y_train.value_counts())"
   ]
  },
  {
   "cell_type": "code",
   "execution_count": 98,
   "metadata": {},
   "outputs": [
    {
     "name": "stdout",
     "output_type": "stream",
     "text": [
      "Distribution after under sampling (train data) set\n",
      "\n",
      "1    394\n",
      "0    394\n",
      "Name: Class, dtype: int64\n"
     ]
    }
   ],
   "source": [
    "print(\"Distribution after under sampling (train data) set\\n\")\n",
    "print(y_train_rus.value_counts())"
   ]
  },
  {
   "cell_type": "markdown",
   "metadata": {},
   "source": [
    "### Applying Logistic Regression to train on this under sampled data set and predicting with original test data"
   ]
  },
  {
   "cell_type": "code",
   "execution_count": 99,
   "metadata": {},
   "outputs": [],
   "source": [
    "lr.fit(X_train_rus, y_train_rus)\n",
    "\n",
    "y_pred_rus_lr = lr.predict(X_test)"
   ]
  },
  {
   "cell_type": "code",
   "execution_count": 100,
   "metadata": {},
   "outputs": [
    {
     "name": "stdout",
     "output_type": "stream",
     "text": [
      "              precision    recall  f1-score   support\n",
      "\n",
      "           0       1.00      0.96      0.98     56885\n",
      "           1       0.03      0.99      0.06        77\n",
      "\n",
      "    accuracy                           0.96     56962\n",
      "   macro avg       0.52      0.97      0.52     56962\n",
      "weighted avg       1.00      0.96      0.98     56962\n",
      "\n"
     ]
    }
   ],
   "source": [
    "print(metrics.classification_report(y_test, y_pred_rus_lr))"
   ]
  },
  {
   "cell_type": "code",
   "execution_count": 101,
   "metadata": {},
   "outputs": [
    {
     "name": "stdout",
     "output_type": "stream",
     "text": [
      "Accuracy :0.96133\n",
      "AUC : 0.51667\n",
      "Precision : 0.03336\n",
      "Recall : 0.98701\n",
      "F1 : 0.06454\n"
     ]
    }
   ],
   "source": [
    "print('Accuracy :{0:0.5f}'.format(metrics.accuracy_score(y_pred_rus_lr , y_test))) \n",
    "print('AUC : {0:0.5f}'.format(metrics.roc_auc_score(y_pred_rus_lr , y_test)))\n",
    "print('Precision : {0:0.5f}'.format(metrics.precision_score(y_test , y_pred_rus_lr)))\n",
    "print('Recall : {0:0.5f}'.format(metrics.recall_score(y_test , y_pred_rus_lr)))\n",
    "print('F1 : {0:0.5f}'.format(metrics.f1_score(y_test , y_pred_rus_lr)))"
   ]
  },
  {
   "cell_type": "code",
   "execution_count": 102,
   "metadata": {},
   "outputs": [
    {
     "data": {
      "text/plain": [
       "array([[54683,     1],\n",
       "       [ 2202,    76]], dtype=int64)"
      ]
     },
     "execution_count": 102,
     "metadata": {},
     "output_type": "execute_result"
    }
   ],
   "source": [
    "cnf_matrix = metrics.confusion_matrix(y_pred_rus_lr,y_test)\n",
    "cnf_matrix"
   ]
  },
  {
   "cell_type": "code",
   "execution_count": 103,
   "metadata": {},
   "outputs": [
    {
     "data": {
      "text/plain": [
       "0    56885\n",
       "1       77\n",
       "dtype: int64"
      ]
     },
     "execution_count": 103,
     "metadata": {},
     "output_type": "execute_result"
    }
   ],
   "source": [
    "pd.Series(y_test).value_counts()"
   ]
  },
  {
   "cell_type": "code",
   "execution_count": 104,
   "metadata": {},
   "outputs": [
    {
     "data": {
      "text/plain": [
       "0    54684\n",
       "1     2278\n",
       "dtype: int64"
      ]
     },
     "execution_count": 104,
     "metadata": {},
     "output_type": "execute_result"
    }
   ],
   "source": [
    "pd.Series(y_pred_rus_lr).value_counts()"
   ]
  },
  {
   "cell_type": "markdown",
   "metadata": {},
   "source": [
    "<div class=\"alert alert-block alert-success\">\n",
    "<b>Using under sampling:</b> with logistic regression the true negative classification incresed significantly from 57 earlier to <b>89</b>\n",
    "\n",
    "    \n",
    "Recall also improved from 0.58164 to 0.81651.\n",
    "</div>\n",
    "\n",
    "\n",
    "\n",
    "However the False Negative classification incresed significantly from 47 earlier to **2189**, which impacts precision which dropped from\n",
    "\n",
    "<div class=\"alert alert-block alert-danger\">\n",
    " 57/(47+57) <b>0.54808</b> to 89/(89+2189) <b>0.03937</b>.\n",
    "</div>\n",
    "\n",
    "We can see there is a shift of true positive case (non fraudulent) to false negative case\n",
    "\n"
   ]
  },
  {
   "cell_type": "markdown",
   "metadata": {},
   "source": [
    "### Random Over Sampling"
   ]
  },
  {
   "cell_type": "code",
   "execution_count": 105,
   "metadata": {},
   "outputs": [],
   "source": [
    "ros = RandomOverSampler(random_state=42)\n",
    "X_train_ros, y_train_ros = ros.fit_resample(X_train, y_train)"
   ]
  },
  {
   "cell_type": "code",
   "execution_count": 106,
   "metadata": {},
   "outputs": [
    {
     "name": "stdout",
     "output_type": "stream",
     "text": [
      "Distribution in original data (train data) set\n",
      "\n",
      "0    227451\n",
      "1       394\n",
      "Name: Class, dtype: int64\n"
     ]
    }
   ],
   "source": [
    "print(\"Distribution in original data (train data) set\\n\")\n",
    "print(y_train.value_counts())"
   ]
  },
  {
   "cell_type": "code",
   "execution_count": 107,
   "metadata": {},
   "outputs": [
    {
     "name": "stdout",
     "output_type": "stream",
     "text": [
      "Distribution after random over sampling (train data) set\n",
      "\n",
      "1    227451\n",
      "0    227451\n",
      "Name: Class, dtype: int64\n"
     ]
    }
   ],
   "source": [
    "print(\"Distribution after random over sampling (train data) set\\n\")\n",
    "print(y_train_ros.value_counts())"
   ]
  },
  {
   "cell_type": "markdown",
   "metadata": {},
   "source": [
    "### Applying Logistic Regression to train on this random over sampled data set and predicting with original test data"
   ]
  },
  {
   "cell_type": "code",
   "execution_count": 108,
   "metadata": {},
   "outputs": [],
   "source": [
    "lr.fit(X_train_ros, y_train_ros)\n",
    "\n",
    "y_pred_ros_lr = lr.predict(X_test)"
   ]
  },
  {
   "cell_type": "code",
   "execution_count": 109,
   "metadata": {},
   "outputs": [
    {
     "name": "stdout",
     "output_type": "stream",
     "text": [
      "              precision    recall  f1-score   support\n",
      "\n",
      "           0       1.00      0.96      0.98     56885\n",
      "           1       0.04      1.00      0.07        77\n",
      "\n",
      "    accuracy                           0.96     56962\n",
      "   macro avg       0.52      0.98      0.53     56962\n",
      "weighted avg       1.00      0.96      0.98     56962\n",
      "\n"
     ]
    }
   ],
   "source": [
    "print(metrics.classification_report(y_test, y_pred_ros_lr))"
   ]
  },
  {
   "cell_type": "code",
   "execution_count": 110,
   "metadata": {},
   "outputs": [
    {
     "name": "stdout",
     "output_type": "stream",
     "text": [
      "Accuracy :0.96431\n",
      "AUC : 0.51825\n",
      "Precision : 0.03649\n",
      "Recall : 1.00000\n",
      "F1 : 0.07042\n"
     ]
    }
   ],
   "source": [
    "print('Accuracy :{0:0.5f}'.format(metrics.accuracy_score(y_pred_ros_lr , y_test))) \n",
    "print('AUC : {0:0.5f}'.format(metrics.roc_auc_score(y_pred_ros_lr , y_test)))\n",
    "print('Precision : {0:0.5f}'.format(metrics.precision_score(y_test , y_pred_ros_lr)))\n",
    "print('Recall : {0:0.5f}'.format(metrics.recall_score(y_test , y_pred_ros_lr)))\n",
    "print('F1 : {0:0.5f}'.format(metrics.f1_score(y_test , y_pred_ros_lr)))"
   ]
  },
  {
   "cell_type": "code",
   "execution_count": 111,
   "metadata": {},
   "outputs": [
    {
     "data": {
      "text/plain": [
       "array([[54852,     0],\n",
       "       [ 2033,    77]], dtype=int64)"
      ]
     },
     "execution_count": 111,
     "metadata": {},
     "output_type": "execute_result"
    }
   ],
   "source": [
    "cnf_matrix = metrics.confusion_matrix(y_pred_ros_lr,y_test)\n",
    "cnf_matrix"
   ]
  },
  {
   "cell_type": "code",
   "execution_count": 112,
   "metadata": {},
   "outputs": [
    {
     "data": {
      "text/plain": [
       "0    56885\n",
       "1       77\n",
       "dtype: int64"
      ]
     },
     "execution_count": 112,
     "metadata": {},
     "output_type": "execute_result"
    }
   ],
   "source": [
    "pd.Series(y_test).value_counts()"
   ]
  },
  {
   "cell_type": "code",
   "execution_count": 113,
   "metadata": {},
   "outputs": [
    {
     "data": {
      "text/plain": [
       "0    54852\n",
       "1     2110\n",
       "dtype: int64"
      ]
     },
     "execution_count": 113,
     "metadata": {},
     "output_type": "execute_result"
    }
   ],
   "source": [
    "pd.Series(y_pred_ros_lr).value_counts()"
   ]
  },
  {
   "cell_type": "markdown",
   "metadata": {},
   "source": [
    "<div class=\"alert alert-block alert-success\">\n",
    "<b>Using Over Sampling:</b> with logistic regression the true negative classification incresed significantly from 57 earlier to <b>89</b> which is the same value we got in under sampling also.\n",
    "</div>\n",
    "\n",
    "\n",
    "\n",
    "The False Negative classification incresed significantly from 47 earlier to **2021**, which impacts precision which dropped from\n",
    "\n",
    "<div class=\"alert alert-block alert-danger\">\n",
    " 57/(47+57) <b>0.54808</b> to 89/(89+2021) <b>0.04218</b>.\n",
    "</div>\n",
    "The false negative was high for under sampling also\n",
    "We can see there is a shift of true positive case (non fraudulent) to false negative case"
   ]
  },
  {
   "cell_type": "markdown",
   "metadata": {},
   "source": [
    "### SMOTE"
   ]
  },
  {
   "cell_type": "code",
   "execution_count": 114,
   "metadata": {},
   "outputs": [],
   "source": [
    "smote = SMOTE(random_state=42)\n",
    "\n",
    "X_train_smote, y_train_smote = smote.fit_resample(X_train, y_train)"
   ]
  },
  {
   "cell_type": "code",
   "execution_count": 115,
   "metadata": {},
   "outputs": [
    {
     "name": "stdout",
     "output_type": "stream",
     "text": [
      "Distribution in original data (train data) set\n",
      "\n",
      "0    227451\n",
      "1       394\n",
      "Name: Class, dtype: int64\n"
     ]
    }
   ],
   "source": [
    "print(\"Distribution in original data (train data) set\\n\")\n",
    "print(y_train.value_counts())"
   ]
  },
  {
   "cell_type": "code",
   "execution_count": 116,
   "metadata": {},
   "outputs": [
    {
     "name": "stdout",
     "output_type": "stream",
     "text": [
      "Distribution after SMOTE (train data) set\n",
      "\n",
      "1    227451\n",
      "0    227451\n",
      "Name: Class, dtype: int64\n"
     ]
    }
   ],
   "source": [
    "print(\"Distribution after SMOTE (train data) set\\n\")\n",
    "print(y_train_smote.value_counts())"
   ]
  },
  {
   "cell_type": "markdown",
   "metadata": {},
   "source": [
    "### Applying Logistic Regression to train on this SMOTE data set and predicting with original test data"
   ]
  },
  {
   "cell_type": "code",
   "execution_count": 117,
   "metadata": {},
   "outputs": [],
   "source": [
    "lr.fit(X_train_smote, y_train_smote)\n",
    "\n",
    "y_pred_SMOTE_lr = lr.predict(X_test)"
   ]
  },
  {
   "cell_type": "code",
   "execution_count": 118,
   "metadata": {},
   "outputs": [
    {
     "name": "stdout",
     "output_type": "stream",
     "text": [
      "Accuracy :0.97653\n",
      "AUC : 0.52690\n",
      "Precision : 0.05382\n",
      "Recall : 0.98701\n",
      "F1 : 0.10208\n"
     ]
    }
   ],
   "source": [
    "print('Accuracy :{0:0.5f}'.format(metrics.accuracy_score(y_pred_SMOTE_lr , y_test))) \n",
    "print('AUC : {0:0.5f}'.format(metrics.roc_auc_score(y_pred_SMOTE_lr , y_test)))\n",
    "print('Precision : {0:0.5f}'.format(metrics.precision_score(y_test , y_pred_SMOTE_lr)))\n",
    "print('Recall : {0:0.5f}'.format(metrics.recall_score(y_test , y_pred_SMOTE_lr)))\n",
    "print('F1 : {0:0.5f}'.format(metrics.f1_score(y_test , y_pred_SMOTE_lr)))"
   ]
  },
  {
   "cell_type": "code",
   "execution_count": 119,
   "metadata": {},
   "outputs": [
    {
     "data": {
      "text/plain": [
       "array([[55549,     1],\n",
       "       [ 1336,    76]], dtype=int64)"
      ]
     },
     "execution_count": 119,
     "metadata": {},
     "output_type": "execute_result"
    }
   ],
   "source": [
    "cnf_matrix = metrics.confusion_matrix(y_pred_SMOTE_lr,y_test)\n",
    "cnf_matrix"
   ]
  },
  {
   "cell_type": "code",
   "execution_count": 120,
   "metadata": {},
   "outputs": [
    {
     "data": {
      "text/plain": [
       "0    56885\n",
       "1       77\n",
       "dtype: int64"
      ]
     },
     "execution_count": 120,
     "metadata": {},
     "output_type": "execute_result"
    }
   ],
   "source": [
    "pd.Series(y_test).value_counts()"
   ]
  },
  {
   "cell_type": "code",
   "execution_count": 131,
   "metadata": {},
   "outputs": [
    {
     "data": {
      "text/plain": [
       "0    55550\n",
       "1     1412\n",
       "dtype: int64"
      ]
     },
     "execution_count": 131,
     "metadata": {},
     "output_type": "execute_result"
    }
   ],
   "source": [
    "pd.Series(y_pred_SMOTE_lr).value_counts()"
   ]
  },
  {
   "cell_type": "markdown",
   "metadata": {},
   "source": [
    "<div class=\"alert alert-block alert-success\">\n",
    "<b>Using SMOTE:</b> with logistic regression the true negative classification incresed significantly from 57 earlier to <b>88</b>, however with under sampling, the true nagative cases were 89.\n",
    "</div>\n",
    "\n",
    "\n",
    "\n",
    "The False Negative classification incresed significantly from 47 earlier to **1324**, but using under sampling the count was high 2189\n",
    "\n",
    "<div class=\"alert alert-block alert-danger\">\n",
    " 57/(47+57) <b>0.54808</b> to 88/(88+1324) <b>0.06232 </b>using under sampling it was 0.03937.\n",
    "</div>"
   ]
  },
  {
   "cell_type": "markdown",
   "metadata": {},
   "source": [
    "### ADASYN"
   ]
  },
  {
   "cell_type": "code",
   "execution_count": 122,
   "metadata": {},
   "outputs": [],
   "source": [
    "adasyn = ADASYN(random_state=42)\n",
    "X_train_ADASYN, y_train_ADASYN = adasyn.fit_resample(X_train, y_train)"
   ]
  },
  {
   "cell_type": "code",
   "execution_count": 123,
   "metadata": {},
   "outputs": [
    {
     "name": "stdout",
     "output_type": "stream",
     "text": [
      "Distribution in original data (train data) set\n",
      "\n",
      "0    227451\n",
      "1       394\n",
      "Name: Class, dtype: int64\n"
     ]
    }
   ],
   "source": [
    "print(\"Distribution in original data (train data) set\\n\")\n",
    "print(y_train.value_counts())"
   ]
  },
  {
   "cell_type": "code",
   "execution_count": 124,
   "metadata": {},
   "outputs": [
    {
     "name": "stdout",
     "output_type": "stream",
     "text": [
      "Distribution after ADASYN (train data) set\n",
      "\n",
      "1    227557\n",
      "0    227451\n",
      "Name: Class, dtype: int64\n"
     ]
    }
   ],
   "source": [
    "print(\"Distribution after ADASYN (train data) set\\n\")\n",
    "print(y_train_ADASYN.value_counts())"
   ]
  },
  {
   "cell_type": "code",
   "execution_count": 125,
   "metadata": {},
   "outputs": [],
   "source": [
    "lr.fit(X_train_ADASYN, y_train_ADASYN)\n",
    "\n",
    "y_pred_ADASYN_lr = lr.predict(X_test)"
   ]
  },
  {
   "cell_type": "code",
   "execution_count": 126,
   "metadata": {},
   "outputs": [
    {
     "name": "stdout",
     "output_type": "stream",
     "text": [
      "Accuracy :0.97888\n",
      "AUC : 0.53008\n",
      "Precision : 0.06016\n",
      "Recall : 1.00000\n",
      "F1 : 0.11349\n"
     ]
    }
   ],
   "source": [
    "print('Accuracy :{0:0.5f}'.format(metrics.accuracy_score(y_pred_ADASYN_lr , y_test))) \n",
    "print('AUC : {0:0.5f}'.format(metrics.roc_auc_score(y_pred_ADASYN_lr , y_test)))\n",
    "print('Precision : {0:0.5f}'.format(metrics.precision_score(y_test , y_pred_ADASYN_lr)))\n",
    "print('Recall : {0:0.5f}'.format(metrics.recall_score(y_test , y_pred_ADASYN_lr)))\n",
    "print('F1 : {0:0.5f}'.format(metrics.f1_score(y_test , y_pred_ADASYN_lr)))"
   ]
  },
  {
   "cell_type": "code",
   "execution_count": 127,
   "metadata": {},
   "outputs": [
    {
     "data": {
      "text/plain": [
       "array([[55682,     0],\n",
       "       [ 1203,    77]], dtype=int64)"
      ]
     },
     "execution_count": 127,
     "metadata": {},
     "output_type": "execute_result"
    }
   ],
   "source": [
    "cnf_matrix = metrics.confusion_matrix(y_pred_ADASYN_lr,y_test)\n",
    "cnf_matrix"
   ]
  },
  {
   "cell_type": "markdown",
   "metadata": {},
   "source": [
    "<div class=\"alert alert-block alert-success\">\n",
    "<b>Using ADASYN:</b> The true negative case is also same 88.\n",
    "</div>\n",
    "\n",
    "\n",
    "\n",
    "The False Negative classification is **1192**\n",
    "\n",
    "<div class=\"alert alert-block alert-danger\">\n",
    "The precision is 0.06875.\n",
    "</div>"
   ]
  },
  {
   "cell_type": "markdown",
   "metadata": {},
   "source": [
    "<code style=\"background:yellow;color:black\"><b>In Logistic Regression:</b> The best recall and f1 score obtained using <b>ADASYN</b>.</code>"
   ]
  },
  {
   "cell_type": "markdown",
   "metadata": {},
   "source": [
    "### Now let's compare all sampling techniques with different models and compare them"
   ]
  },
  {
   "cell_type": "code",
   "execution_count": 128,
   "metadata": {},
   "outputs": [],
   "source": [
    "names_lst = []\n",
    "\n",
    "# Empty list to capture performance matrix for train set\n",
    "auc_train_lst = []\n",
    "accuracy_train_lst = []\n",
    "precision_train_lst = []\n",
    "recall_train_lst = []\n",
    "f1_train_lst = []\n",
    "\n",
    "# Empty list to capture performance matrix for test set\n",
    "auc_test_lst = []\n",
    "accuracy_test_lst = []\n",
    "precision_test_lst = []\n",
    "recall_test_lst = []\n",
    "f1_test_lst = []\n",
    "\n",
    "# Function for model building and performance measure\n",
    "\n",
    "def model_comparison(models):\n",
    "    plt.figure(figsize=(12,6))\n",
    "\n",
    "    for name, model, X_train, y_train, X_test, y_test in models:\n",
    "        \n",
    "        names_lst.append(name)\n",
    "\n",
    "        # Build model\n",
    "        model.fit(X_train, y_train)\n",
    "        \n",
    "        # Predict\n",
    "        y_train_pred = model.predict(X_train)\n",
    "        y_test_pred = model.predict(X_test)\n",
    "\n",
    "        # calculate accuracy\n",
    "        Accuracy_train = metrics.accuracy_score(y_train, y_train_pred)\n",
    "        accuracy_train_lst.append(Accuracy_train)\n",
    "        \n",
    "        Accuracy_test = metrics.accuracy_score(y_test, y_test_pred)\n",
    "        accuracy_test_lst.append(Accuracy_test)\n",
    "\n",
    "        # calculate auc\n",
    "        Auc_train = metrics.roc_auc_score(y_train, y_train_pred)\n",
    "        auc_train_lst.append(Auc_train)\n",
    "        \n",
    "        Auc_test = metrics.roc_auc_score(y_test , y_test_pred)\n",
    "        auc_test_lst.append(Auc_test)\n",
    "\n",
    "        # calculate precision\n",
    "        PrecisionScore_train = metrics.precision_score(y_train , y_train_pred)\n",
    "        precision_train_lst.append(PrecisionScore_train)\n",
    "        \n",
    "        PrecisionScore_test = metrics.precision_score(y_test , y_test_pred)\n",
    "        precision_test_lst.append(PrecisionScore_test)\n",
    "\n",
    "        # calculate recall\n",
    "        RecallScore_train = metrics.recall_score(y_train , y_train_pred)\n",
    "        recall_train_lst.append(RecallScore_train)\n",
    "        \n",
    "        RecallScore_test = metrics.recall_score(y_test , y_test_pred)\n",
    "        recall_test_lst.append(RecallScore_test)\n",
    "\n",
    "        # calculate f1 score\n",
    "        F1Score_train = metrics.f1_score(y_train , y_train_pred)\n",
    "        f1_train_lst.append(F1Score_train)\n",
    "        \n",
    "        F1Score_test = metrics.f1_score(y_test , y_test_pred)\n",
    "        f1_test_lst.append(F1Score_test)\n",
    "\n",
    "        # draw confusion matrix\n",
    "        cnf_matrix = metrics.confusion_matrix(y_test , y_test_pred)\n",
    "\n",
    "        print(\"Model Name :\", name)\n",
    "        \n",
    "        print('Train Accuracy :{0:0.5f}'.format(Accuracy_train)) \n",
    "        print('Test Accuracy :{0:0.5f}'.format(Accuracy_test))\n",
    "        \n",
    "        print('Train AUC : {0:0.5f}'.format(Auc_train))\n",
    "        print('Test AUC : {0:0.5f}'.format(Auc_test))\n",
    "        \n",
    "        print('Train Precision : {0:0.5f}'.format(PrecisionScore_train))\n",
    "        print('Test Precision : {0:0.5f}'.format(PrecisionScore_test))\n",
    "        \n",
    "        print('Train Recall : {0:0.5f}'.format(RecallScore_train))\n",
    "        print('Test Recall : {0:0.5f}'.format(RecallScore_test))\n",
    "        \n",
    "        print('Train F1 : {0:0.5f}'.format(F1Score_train))\n",
    "        print('Test F1 : {0:0.5f}'.format(F1Score_test))\n",
    "        \n",
    "        print('Confusion Matrix : \\n', cnf_matrix)\n",
    "        print(\"\\n\")\n",
    "\n",
    "\n",
    "        # plot ROC Curve\n",
    "        fpr, tpr, thresholds = metrics.roc_curve(y_test, y_test_pred)\n",
    "        auc = metrics.roc_auc_score(y_test, y_test_pred)\n",
    "        plt.plot(fpr,tpr,linewidth=2, label=name + \", auc=\"+str(auc))\n",
    "        \n",
    "        \n",
    "    \n",
    "        #---------- For loops ends here--------#\n",
    "\n",
    "\n",
    "    plt.legend(loc=4)\n",
    "    plt.plot([0,1], [0,1], 'k--' )\n",
    "    plt.rcParams['font.size'] = 12\n",
    "    plt.title('ROC curve using test data for Predicting a credit card fraud detection')\n",
    "    plt.xlabel('False Positive Rate (1 - Specificity)')\n",
    "    plt.ylabel('True Positive Rate (Sensitivity)')\n",
    "    plt.show()"
   ]
  },
  {
   "cell_type": "markdown",
   "metadata": {},
   "source": [
    "### Logistic Regression"
   ]
  },
  {
   "cell_type": "code",
   "execution_count": 133,
   "metadata": {
    "scrolled": false
   },
   "outputs": [
    {
     "name": "stdout",
     "output_type": "stream",
     "text": [
      "Model Name : LR imbalance\n",
      "Train Accuracy :0.99869\n",
      "Test Accuracy :0.99910\n",
      "Train AUC : 0.84099\n",
      "Test AUC : 0.92174\n",
      "Train Precision : 0.60722\n",
      "Test Precision : 0.62500\n",
      "Train Recall : 0.68274\n",
      "Test Recall : 0.84416\n",
      "Train F1 : 0.64277\n",
      "Test F1 : 0.71823\n",
      "Confusion Matrix : \n",
      " [[56846    39]\n",
      " [   12    65]]\n",
      "\n",
      "\n",
      "Model Name : LR Undersampling\n",
      "Train Accuracy :0.91371\n",
      "Test Accuracy :0.96133\n",
      "Train AUC : 0.91371\n",
      "Test AUC : 0.97415\n",
      "Train Precision : 0.95028\n",
      "Test Precision : 0.03336\n",
      "Train Recall : 0.87310\n",
      "Test Recall : 0.98701\n",
      "Train F1 : 0.91005\n",
      "Test F1 : 0.06454\n",
      "Confusion Matrix : \n",
      " [[54683  2202]\n",
      " [    1    76]]\n",
      "\n",
      "\n",
      "Model Name : LR Oversampling\n",
      "Train Accuracy :0.94404\n",
      "Test Accuracy :0.96431\n",
      "Train AUC : 0.94404\n",
      "Test AUC : 0.98213\n",
      "Train Precision : 0.96297\n",
      "Test Precision : 0.03649\n",
      "Train Recall : 0.92359\n",
      "Test Recall : 1.00000\n",
      "Train F1 : 0.94287\n",
      "Test F1 : 0.07042\n",
      "Confusion Matrix : \n",
      " [[54852  2033]\n",
      " [    0    77]]\n",
      "\n",
      "\n",
      "Model Name : LR SMOTE\n",
      "Train Accuracy :0.96676\n",
      "Test Accuracy :0.97653\n",
      "Train AUC : 0.96676\n",
      "Test AUC : 0.98176\n",
      "Train Precision : 0.97697\n",
      "Test Precision : 0.05382\n",
      "Train Recall : 0.95606\n",
      "Test Recall : 0.98701\n",
      "Train F1 : 0.96640\n",
      "Test F1 : 0.10208\n",
      "Confusion Matrix : \n",
      " [[55549  1336]\n",
      " [    1    76]]\n",
      "\n",
      "\n",
      "Model Name : LR ADASYN\n",
      "Train Accuracy :0.96900\n",
      "Test Accuracy :0.97888\n",
      "Train AUC : 0.96901\n",
      "Test AUC : 0.98943\n",
      "Train Precision : 0.97885\n",
      "Test Precision : 0.06016\n",
      "Train Recall : 0.95874\n",
      "Test Recall : 1.00000\n",
      "Train F1 : 0.96869\n",
      "Test F1 : 0.11349\n",
      "Confusion Matrix : \n",
      " [[55682  1203]\n",
      " [    0    77]]\n",
      "\n",
      "\n"
     ]
    },
    {
     "data": {
      "image/png": "[encoded data removed]",
      "text/plain": [
       "<Figure size 864x432 with 1 Axes>"
      ]
     },
     "metadata": {},
     "output_type": "display_data"
    }
   ],
   "source": [
    "LRmodels = []\n",
    "\n",
    "LRmodels.append(('LR imbalance', LogisticRegression(), X_train,y_train,X_test,y_test))\n",
    "LRmodels.append(('LR Undersampling', LogisticRegression(),X_train_rus,y_train_rus,X_test,y_test))\n",
    "LRmodels.append(('LR Oversampling', LogisticRegression(),X_train_ros,y_train_ros,X_test,y_test))\n",
    "LRmodels.append(('LR SMOTE', LogisticRegression(),X_train_smote,y_train_smote,X_test,y_test))\n",
    "LRmodels.append(('LR ADASYN', LogisticRegression(),X_train_ADASYN,y_train_ADASYN,X_test,y_test))\n",
    "\n",
    "\n",
    "model_comparison(LRmodels)"
   ]
  },
  {
   "cell_type": "markdown",
   "metadata": {},
   "source": [
    "<span style=\"color:#8A2BE2\">Using Logistic Regression the best combination with maximum AUC is <b>ADASYN</b></span>"
   ]
  },
  {
   "cell_type": "markdown",
   "metadata": {},
   "source": [
    "### Decision Tree"
   ]
  },
  {
   "cell_type": "code",
   "execution_count": 134,
   "metadata": {},
   "outputs": [
    {
     "name": "stdout",
     "output_type": "stream",
     "text": [
      "Model Name : DT imbalance\n",
      "Train Accuracy :0.99935\n",
      "Test Accuracy :1.00000\n",
      "Train AUC : 0.86032\n",
      "Test AUC : 1.00000\n",
      "Train Precision : 0.88199\n",
      "Test Precision : 1.00000\n",
      "Train Recall : 0.72081\n",
      "Test Recall : 1.00000\n",
      "Train F1 : 0.79330\n",
      "Test F1 : 1.00000\n",
      "Confusion Matrix : \n",
      " [[56885     0]\n",
      " [    0    77]]\n",
      "\n",
      "\n",
      "Model Name : DT Undersampling\n",
      "Train Accuracy :0.94162\n",
      "Test Accuracy :0.96456\n",
      "Train AUC : 0.94162\n",
      "Test AUC : 0.97577\n",
      "Train Precision : 0.98066\n",
      "Test Precision : 0.03629\n",
      "Train Recall : 0.90102\n",
      "Test Recall : 0.98701\n",
      "Train F1 : 0.93915\n",
      "Test F1 : 0.07001\n",
      "Confusion Matrix : \n",
      " [[54867  2018]\n",
      " [    1    76]]\n",
      "\n",
      "\n",
      "Model Name : DT Oversampling\n",
      "Train Accuracy :0.94423\n",
      "Test Accuracy :0.95267\n",
      "Train AUC : 0.94423\n",
      "Test AUC : 0.96982\n",
      "Train Precision : 0.95108\n",
      "Test Precision : 0.02743\n",
      "Train Recall : 0.93662\n",
      "Test Recall : 0.98701\n",
      "Train F1 : 0.94380\n",
      "Test F1 : 0.05337\n",
      "Confusion Matrix : \n",
      " [[54190  2695]\n",
      " [    1    76]]\n",
      "\n",
      "\n",
      "Model Name : DT SMOTE\n",
      "Train Accuracy :0.95995\n",
      "Test Accuracy :0.98862\n",
      "Train AUC : 0.95995\n",
      "Test AUC : 0.98782\n",
      "Train Precision : 0.98820\n",
      "Test Precision : 0.10512\n",
      "Train Recall : 0.93100\n",
      "Test Recall : 0.98701\n",
      "Train F1 : 0.95875\n",
      "Test F1 : 0.19000\n",
      "Confusion Matrix : \n",
      " [[56238   647]\n",
      " [    1    76]]\n",
      "\n",
      "\n",
      "Model Name : DT ADASYN\n",
      "Train Accuracy :0.95432\n",
      "Test Accuracy :0.95620\n",
      "Train AUC : 0.95432\n",
      "Test AUC : 0.97807\n",
      "Train Precision : 0.95683\n",
      "Test Precision : 0.02994\n",
      "Train Recall : 0.95159\n",
      "Test Recall : 1.00000\n",
      "Train F1 : 0.95420\n",
      "Test F1 : 0.05814\n",
      "Confusion Matrix : \n",
      " [[54390  2495]\n",
      " [    0    77]]\n",
      "\n",
      "\n"
     ]
    },
    {
     "data": {
      "image/png": "[encoded data removed]",
      "text/plain": [
       "<Figure size 864x432 with 1 Axes>"
      ]
     },
     "metadata": {},
     "output_type": "display_data"
    }
   ],
   "source": [
    "DTmodels = []\n",
    "\n",
    "#dt = DecisionTreeClassifier()\n",
    "\n",
    "DTmodels.append(('DT imbalance', clf,X_train,y_train,X_test,y_test))\n",
    "DTmodels.append(('DT Undersampling', clf,X_train_rus,y_train_rus,X_test,y_test))\n",
    "DTmodels.append(('DT Oversampling', clf,X_train_ros,y_train_ros,X_test,y_test))\n",
    "DTmodels.append(('DT SMOTE', clf,X_train_smote,y_train_smote,X_test,y_test))\n",
    "DTmodels.append(('DT ADASYN', clf,X_train_ADASYN,y_train_ADASYN,X_test,y_test))\n",
    "\n",
    "model_comparison(DTmodels)"
   ]
  },
  {
   "cell_type": "markdown",
   "metadata": {},
   "source": [
    "<span style=\"color:#8A2BE2\">Using Decision Tree Classifier the best combination with maximum AUC is <b>ADASYN</b></span>\n",
    "\n",
    "\n",
    "<span style=\"color:#8A2BE2\">Using Logistic Classifier the maximum test data recall is 0.84404 <b>ADASYN</b></span>"
   ]
  },
  {
   "cell_type": "markdown",
   "metadata": {},
   "source": [
    "### SVC"
   ]
  },
  {
   "cell_type": "code",
   "execution_count": 135,
   "metadata": {},
   "outputs": [],
   "source": [
    "from sklearn.svm import SVC\n",
    "scv=SVC(kernel='linear')"
   ]
  },
  {
   "cell_type": "code",
   "execution_count": null,
   "metadata": {},
   "outputs": [
    {
     "name": "stdout",
     "output_type": "stream",
     "text": [
      "Model Name : SVC imbalance\n",
      "Train Accuracy :0.99856\n",
      "Test Accuracy :0.99902\n",
      "Train AUC : 0.66104\n",
      "Test AUC : 0.73363\n",
      "Train Precision : 0.67914\n",
      "Test Precision : 0.70588\n",
      "Train Recall : 0.32234\n",
      "Test Recall : 0.46753\n",
      "Train F1 : 0.43718\n",
      "Test F1 : 0.56250\n",
      "Confusion Matrix : \n",
      " [[56870    15]\n",
      " [   41    36]]\n",
      "\n",
      "\n",
      "Model Name : SVC Undersampling\n",
      "Train Accuracy :0.89975\n",
      "Test Accuracy :0.99623\n",
      "Train AUC : 0.89975\n",
      "Test AUC : 0.97217\n",
      "Train Precision : 0.99685\n",
      "Test Precision : 0.25704\n",
      "Train Recall : 0.80203\n",
      "Test Recall : 0.94805\n",
      "Train F1 : 0.88889\n",
      "Test F1 : 0.40443\n",
      "Confusion Matrix : \n",
      " [[56674   211]\n",
      " [    4    73]]\n",
      "\n",
      "\n"
     ]
    }
   ],
   "source": [
    "SVCmodels = []\n",
    "\n",
    "\n",
    "SVCmodels.append(('SVC imbalance', scv,X_train,y_train,X_test,y_test))\n",
    "SVCmodels.append(('SVC Undersampling', scv,X_train_rus,y_train_rus,X_test,y_test))\n",
    "SVCmodels.append(('SVC Oversampling', scv,X_train_ros,y_train_ros,X_test,y_test))\n",
    "SVCmodels.append(('SVC SMOTE', scv,X_train_smote,y_train_smote,X_test,y_test))\n",
    "SVCmodels.append(('SVC ADASYN', scv,X_train_ADASYN,y_train_ADASYN,X_test,y_test))\n",
    "\n",
    "model_comparison(SVCmodels)"
   ]
  },
  {
   "cell_type": "markdown",
   "metadata": {},
   "source": [
    "### KNN classification"
   ]
  },
  {
   "cell_type": "code",
   "execution_count": null,
   "metadata": {},
   "outputs": [],
   "source": [
    "KNNmodels = []\n",
    "\n",
    "KNNmodels.append(('KNN imbalance', knn,X_train,y_train,X_test,y_test))\n",
    "KNNmodels.append(('KNN Undersampling', knn,X_train_rus,y_train_rus,X_test,y_test))\n",
    "KNNmodels.append(('KNN Oversampling', knn,X_train_ros,y_train_ros,X_test,y_test))\n",
    "KNNmodels.append(('KNN SMOTE', knn,X_train_smote,y_train_smote,X_test,y_test))\n",
    "KNNmodels.append(('KNN ADASYN', knn,X_train_ADASYN,y_train_ADASYN,X_test,y_test))\n",
    "\n",
    "build_measure_model(KNNmodels)"
   ]
  },
  {
   "cell_type": "markdown",
   "metadata": {},
   "source": [
    "### Now, let's compare the different models performance"
   ]
  },
  {
   "cell_type": "code",
   "execution_count": null,
   "metadata": {},
   "outputs": [],
   "source": []
  }
 ],
 "metadata": {
  "kernelspec": {
   "display_name": "Python 3",
   "language": "python",
   "name": "python3"
  },
  "language_info": {
   "codemirror_mode": {
    "name": "ipython",
    "version": 3
   },
   "file_extension": ".py",
   "mimetype": "text/x-python",
   "name": "python",
   "nbconvert_exporter": "python",
   "pygments_lexer": "ipython3",
   "version": "3.8.3"
  }
 },
 "nbformat": 4,
 "nbformat_minor": 4
}
