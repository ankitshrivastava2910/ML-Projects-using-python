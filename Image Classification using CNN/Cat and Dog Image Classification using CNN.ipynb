{
 "cells": [
  {
   "cell_type": "markdown",
   "metadata": {
    "colab_type": "text",
    "id": "3DR-eO17geWu"
   },
   "source": [
    "# Convolutional Neural Network"
   ]
  },
  {
   "cell_type": "markdown",
   "metadata": {
    "colab_type": "text",
    "id": "EMefrVPCg-60"
   },
   "source": [
    "### Importing the libraries"
   ]
  },
  {
   "cell_type": "code",
   "execution_count": 2,
   "metadata": {
    "colab": {},
    "colab_type": "code",
    "id": "sCV30xyVhFbE"
   },
   "outputs": [],
   "source": [
    "import tensorflow as tf\n",
    "from tensorflow.keras.preprocessing.image import ImageDataGenerator"
   ]
  },
  {
   "cell_type": "code",
   "execution_count": 2,
   "metadata": {
    "colab": {},
    "colab_type": "code",
    "id": "FIleuCAjoFD8"
   },
   "outputs": [
    {
     "data": {
      "text/plain": [
       "'2.4.1'"
      ]
     },
     "execution_count": 2,
     "metadata": {},
     "output_type": "execute_result"
    }
   ],
   "source": [
    "tf.__version__"
   ]
  },
  {
   "cell_type": "markdown",
   "metadata": {
    "colab_type": "text",
    "id": "oxQxCBWyoGPE"
   },
   "source": [
    "## Part 1 - Data Preprocessing"
   ]
  },
  {
   "cell_type": "markdown",
   "metadata": {
    "colab_type": "text",
    "id": "MvE-heJNo3GG"
   },
   "source": [
    "### Preprocessing the Training set"
   ]
  },
  {
   "cell_type": "markdown",
   "metadata": {},
   "source": [
    "#### aka Image Augmentation transforming dataset so that CNN model doesn't overfit"
   ]
  },
  {
   "cell_type": "markdown",
   "metadata": {},
   "source": [
    "https://keras.io/api/preprocessing/image/"
   ]
  },
  {
   "cell_type": "code",
   "execution_count": 3,
   "metadata": {
    "colab": {},
    "colab_type": "code",
    "id": "0koUcJMJpEBD"
   },
   "outputs": [
    {
     "name": "stdout",
     "output_type": "stream",
     "text": [
      "Found 8000 images belonging to 2 classes.\n"
     ]
    }
   ],
   "source": [
    "train_datagen = ImageDataGenerator(rescale = 1./255, # rescale is used for feature scaling(to keep all pixel value between 0 & 1)\n",
    "                                   shear_range = 0.2, #train_datagen is an object of ImageDataGenerator\n",
    "                                   zoom_range = 0.2,\n",
    "                                   horizontal_flip = True)\n",
    "training_set = train_datagen.flow_from_directory('dataset/training_set',\n",
    "                                                 target_size = (64, 64), #target size is the final size of image that we feed into CNN, larger the size more time it will take\n",
    "                                                 batch_size = 32,\n",
    "                                                 class_mode = 'binary')"
   ]
  },
  {
   "cell_type": "markdown",
   "metadata": {
    "colab_type": "text",
    "id": "mrCMmGw9pHys"
   },
   "source": [
    "### Preprocessing the Test set"
   ]
  },
  {
   "cell_type": "code",
   "execution_count": 4,
   "metadata": {
    "colab": {},
    "colab_type": "code",
    "id": "SH4WzfOhpKc3"
   },
   "outputs": [
    {
     "name": "stdout",
     "output_type": "stream",
     "text": [
      "Found 2000 images belonging to 2 classes.\n"
     ]
    }
   ],
   "source": [
    "test_datagen = ImageDataGenerator(rescale = 1./255)\n",
    "test_set = test_datagen.flow_from_directory('dataset/test_set',\n",
    "                                            target_size = (64, 64), \n",
    "                                            batch_size = 32,\n",
    "                                            class_mode = 'binary')"
   ]
  },
  {
   "cell_type": "markdown",
   "metadata": {
    "colab_type": "text",
    "id": "af8O4l90gk7B"
   },
   "source": [
    "## Part 2 - Building the CNN"
   ]
  },
  {
   "cell_type": "markdown",
   "metadata": {
    "colab_type": "text",
    "id": "ces1gXY2lmoX"
   },
   "source": [
    "### Initialising the CNN"
   ]
  },
  {
   "cell_type": "code",
   "execution_count": 5,
   "metadata": {
    "colab": {},
    "colab_type": "code",
    "id": "SAUt4UMPlhLS"
   },
   "outputs": [],
   "source": [
    "cnn = tf.keras.models.Sequential()"
   ]
  },
  {
   "cell_type": "markdown",
   "metadata": {
    "colab_type": "text",
    "id": "u5YJj_XMl5LF"
   },
   "source": [
    "### Step 1 - Convolution"
   ]
  },
  {
   "cell_type": "code",
   "execution_count": 6,
   "metadata": {
    "colab": {},
    "colab_type": "code",
    "id": "XPzPrMckl-hV"
   },
   "outputs": [],
   "source": [
    "cnn.add(tf.keras.layers.Conv2D(filters=32, kernel_size=3, activation='relu', input_shape=[64, 64, 3]))\n",
    "# Filter is the number of feature detector\n",
    "# Kernal_size is the size of feature detector (no of rows/colums )\n",
    "#input_shape is 3 dimension since it is color"
   ]
  },
  {
   "cell_type": "markdown",
   "metadata": {
    "colab_type": "text",
    "id": "tf87FpvxmNOJ"
   },
   "source": [
    "### Step 2 - Pooling"
   ]
  },
  {
   "cell_type": "code",
   "execution_count": 7,
   "metadata": {
    "colab": {},
    "colab_type": "code",
    "id": "ncpqPl69mOac"
   },
   "outputs": [],
   "source": [
    "cnn.add(tf.keras.layers.MaxPool2D(pool_size=2, strides=2))"
   ]
  },
  {
   "cell_type": "markdown",
   "metadata": {
    "colab_type": "text",
    "id": "xaTOgD8rm4mU"
   },
   "source": [
    "### Adding a second convolutional layer"
   ]
  },
  {
   "cell_type": "code",
   "execution_count": 8,
   "metadata": {
    "colab": {},
    "colab_type": "code",
    "id": "i_-FZjn_m8gk"
   },
   "outputs": [],
   "source": [
    "cnn.add(tf.keras.layers.Conv2D(filters=32, kernel_size=3, activation='relu'))\n",
    "cnn.add(tf.keras.layers.MaxPool2D(pool_size=2, strides=2))"
   ]
  },
  {
   "cell_type": "markdown",
   "metadata": {
    "colab_type": "text",
    "id": "tmiEuvTunKfk"
   },
   "source": [
    "### Step 3 - Flattening"
   ]
  },
  {
   "cell_type": "markdown",
   "metadata": {},
   "source": [
    "Flatening will be used to conver the output of CNN to one dimension input to ANN"
   ]
  },
  {
   "cell_type": "code",
   "execution_count": 9,
   "metadata": {
    "colab": {},
    "colab_type": "code",
    "id": "6AZeOGCvnNZn"
   },
   "outputs": [],
   "source": [
    "cnn.add(tf.keras.layers.Flatten())"
   ]
  },
  {
   "cell_type": "markdown",
   "metadata": {
    "colab_type": "text",
    "id": "dAoSECOm203v"
   },
   "source": [
    "### Step 4 - Full Connection"
   ]
  },
  {
   "cell_type": "code",
   "execution_count": 10,
   "metadata": {
    "colab": {},
    "colab_type": "code",
    "id": "8GtmUlLd26Nq"
   },
   "outputs": [],
   "source": [
    "cnn.add(tf.keras.layers.Dense(units=128, activation='relu'))"
   ]
  },
  {
   "cell_type": "markdown",
   "metadata": {
    "colab_type": "text",
    "id": "yTldFvbX28Na"
   },
   "source": [
    "### Step 5 - Output Layer"
   ]
  },
  {
   "cell_type": "code",
   "execution_count": 11,
   "metadata": {
    "colab": {},
    "colab_type": "code",
    "id": "1p_Zj1Mc3Ko_"
   },
   "outputs": [],
   "source": [
    "cnn.add(tf.keras.layers.Dense(units=1, activation='sigmoid'))"
   ]
  },
  {
   "cell_type": "markdown",
   "metadata": {
    "colab_type": "text",
    "id": "D6XkI90snSDl"
   },
   "source": [
    "## Part 3 - Training the CNN"
   ]
  },
  {
   "cell_type": "markdown",
   "metadata": {
    "colab_type": "text",
    "id": "vfrFQACEnc6i"
   },
   "source": [
    "### Compiling the CNN"
   ]
  },
  {
   "cell_type": "code",
   "execution_count": 12,
   "metadata": {
    "colab": {},
    "colab_type": "code",
    "id": "NALksrNQpUlJ"
   },
   "outputs": [],
   "source": [
    "cnn.compile(optimizer = 'adam', loss = 'binary_crossentropy', metrics = ['accuracy'])"
   ]
  },
  {
   "cell_type": "markdown",
   "metadata": {
    "colab_type": "text",
    "id": "ehS-v3MIpX2h"
   },
   "source": [
    "### Training the CNN on the Training set and evaluating it on the Test set"
   ]
  },
  {
   "cell_type": "code",
   "execution_count": 13,
   "metadata": {
    "colab": {},
    "colab_type": "code",
    "id": "XUj1W4PJptta",
    "scrolled": false
   },
   "outputs": [
    {
     "name": "stdout",
     "output_type": "stream",
     "text": [
      "Epoch 1/25\n",
      "250/250 [==============================] - 109s 434ms/step - loss: 0.6810 - accuracy: 0.5669 - val_loss: 0.6496 - val_accuracy: 0.6200\n",
      "Epoch 2/25\n",
      "250/250 [==============================] - 95s 381ms/step - loss: 0.6092 - accuracy: 0.6732 - val_loss: 0.5456 - val_accuracy: 0.7220\n",
      "Epoch 3/25\n",
      "250/250 [==============================] - 96s 383ms/step - loss: 0.5627 - accuracy: 0.7129 - val_loss: 0.5191 - val_accuracy: 0.7380\n",
      "Epoch 4/25\n",
      "250/250 [==============================] - 95s 379ms/step - loss: 0.5356 - accuracy: 0.7246 - val_loss: 0.5218 - val_accuracy: 0.7405\n",
      "Epoch 5/25\n",
      "250/250 [==============================] - 95s 378ms/step - loss: 0.5054 - accuracy: 0.7554 - val_loss: 0.5042 - val_accuracy: 0.7565\n",
      "Epoch 6/25\n",
      "250/250 [==============================] - 95s 379ms/step - loss: 0.4754 - accuracy: 0.7695 - val_loss: 0.4667 - val_accuracy: 0.7830\n",
      "Epoch 7/25\n",
      "250/250 [==============================] - 94s 378ms/step - loss: 0.4492 - accuracy: 0.7933 - val_loss: 0.4644 - val_accuracy: 0.7840\n",
      "Epoch 8/25\n",
      "250/250 [==============================] - 95s 381ms/step - loss: 0.4298 - accuracy: 0.8011 - val_loss: 0.4653 - val_accuracy: 0.7800\n",
      "Epoch 9/25\n",
      "250/250 [==============================] - 95s 381ms/step - loss: 0.4324 - accuracy: 0.7992 - val_loss: 0.4617 - val_accuracy: 0.7905\n",
      "Epoch 10/25\n",
      "250/250 [==============================] - 95s 381ms/step - loss: 0.4198 - accuracy: 0.7994 - val_loss: 0.4677 - val_accuracy: 0.7865\n",
      "Epoch 11/25\n",
      "250/250 [==============================] - 95s 381ms/step - loss: 0.3978 - accuracy: 0.8166 - val_loss: 0.4994 - val_accuracy: 0.7800\n",
      "Epoch 12/25\n",
      "250/250 [==============================] - 95s 381ms/step - loss: 0.4033 - accuracy: 0.8153 - val_loss: 0.4587 - val_accuracy: 0.7895\n",
      "Epoch 13/25\n",
      "250/250 [==============================] - 95s 380ms/step - loss: 0.3930 - accuracy: 0.8180 - val_loss: 0.4425 - val_accuracy: 0.8045\n",
      "Epoch 14/25\n",
      "250/250 [==============================] - 95s 380ms/step - loss: 0.3721 - accuracy: 0.8286 - val_loss: 0.4812 - val_accuracy: 0.7860\n",
      "Epoch 15/25\n",
      "250/250 [==============================] - 95s 378ms/step - loss: 0.3723 - accuracy: 0.8379 - val_loss: 0.4354 - val_accuracy: 0.8105\n",
      "Epoch 16/25\n",
      "250/250 [==============================] - 96s 382ms/step - loss: 0.3446 - accuracy: 0.8439 - val_loss: 0.4608 - val_accuracy: 0.8165\n",
      "Epoch 17/25\n",
      "250/250 [==============================] - 96s 384ms/step - loss: 0.3374 - accuracy: 0.8510 - val_loss: 0.4479 - val_accuracy: 0.8075\n",
      "Epoch 18/25\n",
      "250/250 [==============================] - 95s 381ms/step - loss: 0.3183 - accuracy: 0.8595 - val_loss: 0.4404 - val_accuracy: 0.8165\n",
      "Epoch 19/25\n",
      "250/250 [==============================] - 95s 382ms/step - loss: 0.3095 - accuracy: 0.8642 - val_loss: 0.4470 - val_accuracy: 0.7970\n",
      "Epoch 20/25\n",
      "250/250 [==============================] - 95s 382ms/step - loss: 0.3038 - accuracy: 0.8741 - val_loss: 0.5047 - val_accuracy: 0.8010\n",
      "Epoch 21/25\n",
      "250/250 [==============================] - 96s 383ms/step - loss: 0.2912 - accuracy: 0.8762 - val_loss: 0.5061 - val_accuracy: 0.8025\n",
      "Epoch 22/25\n",
      "250/250 [==============================] - 95s 380ms/step - loss: 0.2755 - accuracy: 0.8793 - val_loss: 0.4632 - val_accuracy: 0.8155\n",
      "Epoch 23/25\n",
      "250/250 [==============================] - 95s 382ms/step - loss: 0.2646 - accuracy: 0.8861 - val_loss: 0.4855 - val_accuracy: 0.8040\n",
      "Epoch 24/25\n",
      "250/250 [==============================] - 96s 383ms/step - loss: 0.2743 - accuracy: 0.8871 - val_loss: 0.5261 - val_accuracy: 0.8080\n",
      "Epoch 25/25\n",
      "250/250 [==============================] - 96s 384ms/step - loss: 0.2483 - accuracy: 0.8987 - val_loss: 0.5041 - val_accuracy: 0.8160\n"
     ]
    },
    {
     "data": {
      "text/plain": [
       "<tensorflow.python.keras.callbacks.History at 0x252fda852b0>"
      ]
     },
     "execution_count": 13,
     "metadata": {},
     "output_type": "execute_result"
    }
   ],
   "source": [
    "cnn.fit(x = training_set, validation_data = test_set, epochs = 25)"
   ]
  },
  {
   "cell_type": "markdown",
   "metadata": {},
   "source": [
    "Saving model for futhur use"
   ]
  },
  {
   "cell_type": "code",
   "execution_count": null,
   "metadata": {},
   "outputs": [],
   "source": [
    "tf.keras.models.save_model(cnn,'my_model.hdf5')"
   ]
  },
  {
   "cell_type": "markdown",
   "metadata": {
    "colab_type": "text",
    "id": "U3PZasO0006Z"
   },
   "source": [
    "## Part 4 - Making a single prediction"
   ]
  },
  {
   "cell_type": "code",
   "execution_count": null,
   "metadata": {},
   "outputs": [],
   "source": []
  },
  {
   "cell_type": "code",
   "execution_count": 14,
   "metadata": {
    "colab": {},
    "colab_type": "code",
    "id": "gsSiWEJY1BPB"
   },
   "outputs": [
    {
     "name": "stdout",
     "output_type": "stream",
     "text": [
      "{'cats': 0, 'dogs': 1}\n"
     ]
    }
   ],
   "source": [
    "import numpy as np\n",
    "from tensorflow.keras.preprocessing import image\n",
    "#test_image = image.load_img('dataset/single_prediction/cat_or_dog_6.jpg', target_size = (64, 64))\n",
    "test_image = image.load_img('dataset/single_prediction/cat_or_dog_6.jpg', target_size = (64, 64))\n",
    "test_image = image.img_to_array(test_image)\n",
    "test_image = np.expand_dims(test_image, axis = 0)\n",
    "result = cnn.predict(test_image/255.0)\n",
    "print(training_set.class_indices)\n",
    "if result[0][0] > 0.5:\n",
    "  prediction = 'dog'\n",
    "else:\n",
    "  prediction = 'cat'"
   ]
  },
  {
   "cell_type": "markdown",
   "metadata": {},
   "source": [
    "## Now loading the saved model and running it independently"
   ]
  },
  {
   "cell_type": "code",
   "execution_count": 8,
   "metadata": {},
   "outputs": [],
   "source": [
    "model = tf.keras.models.load_model('my_model.hdf5')"
   ]
  },
  {
   "cell_type": "code",
   "execution_count": 20,
   "metadata": {},
   "outputs": [
    {
     "name": "stdout",
     "output_type": "stream",
     "text": [
      "[[0.99963844]]\n",
      "dog\n"
     ]
    }
   ],
   "source": [
    "import numpy as np\n",
    "from tensorflow.keras.preprocessing import image\n",
    "#test_image = image.load_img('dataset/single_prediction/cat_or_dog_6.jpg', target_size = (64, 64))\n",
    "test_image = image.load_img('dataset/single_prediction/cat_or_dog_1.jpg', target_size = (64, 64))\n",
    "test_image = image.img_to_array(test_image)\n",
    "test_image = np.expand_dims(test_image, axis = 0)\n",
    "result = model.predict(test_image/255.0)\n",
    "print(result)\n",
    "if result[0][0] > 0.5:\n",
    "    print('dog')\n",
    "#  prediction = 'dog'\n",
    "else:\n",
    "    print('cat')\n",
    "#  prediction = 'cat'"
   ]
  },
  {
   "cell_type": "code",
   "execution_count": null,
   "metadata": {},
   "outputs": [],
   "source": []
  }
 ],
 "metadata": {
  "colab": {
   "collapsed_sections": [],
   "name": "convolutional_neural_network.ipynb",
   "provenance": [],
   "toc_visible": true
  },
  "kernelspec": {
   "display_name": "Python 3",
   "language": "python",
   "name": "python3"
  },
  "language_info": {
   "codemirror_mode": {
    "name": "ipython",
    "version": 3
   },
   "file_extension": ".py",
   "mimetype": "text/x-python",
   "name": "python",
   "nbconvert_exporter": "python",
   "pygments_lexer": "ipython3",
   "version": "3.8.3"
  }
 },
 "nbformat": 4,
 "nbformat_minor": 1
}
