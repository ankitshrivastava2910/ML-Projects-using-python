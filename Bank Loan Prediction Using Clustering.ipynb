{
 "cells": [
  {
   "cell_type": "markdown",
   "metadata": {},
   "source": [
    "## Business problem statement\n",
    "\n",
    "Dream Housing Finance company deals in all home loans.They have presence across all urban,semi urban and rural areas.Customer first applyfor home loan, after that comapany validates the customer eligibility for loan.Company wants to automate the loaneligibility\n",
    "process(real time) based on customer details provided while filing online application form.These details are Gender,Marital \n",
    "Status,Education,Number of Dependents,Income,Loan Amount,credit history and others.To automate this process, they have given a \n",
    "problem to identify the customer segments, those are eligible for loan amount so that they can specifically target these customers."
   ]
  },
  {
   "cell_type": "markdown",
   "metadata": {},
   "source": [
    "## Machine Learning problem formulation:\n",
    "\n",
    "Loan Business is the main earning busienss of every bank.Loan prediction is the real-life problem faced by every banks.If done correctly,first it can mitigate risk to a particular extent and also save a lot of human hours for a particular bank.\n",
    "\n",
    "It is a classification problem where we have to predit whether a loan would be approved of not."
   ]
  },
  {
   "cell_type": "markdown",
   "metadata": {},
   "source": [
    "### Hypothesis Generation:\n",
    "\n",
    "Below are some of the factors which most probably affect the Loan Approval(Target varaible for this loan prediction problem)\n",
    "\n",
    "Salary:Applicant with high income should have more chances of the loan approval\n",
    "Previos History: Applicants who have have repayed their previos loans regulary have higher chances of the loan approval.\n",
    "Loan amount: Loan approval also depends on the loan amount requested.If the loan amount is less,probability of the approval is high.\n",
    "Loan Term:If the loan amount and tenure is less, then there is hign chances of approval\n",
    "EMI: Generally EMI depends on the loan amount and tenure of the loan.If loan amount and tenure(months) is less,ultimately EMI will be less and higher chances of loan approval.\n",
    "Data: Threre are two files(CSV files):\n",
    "\n",
    "Train file:Train file will be used for training the model. It contains all the features and the target variable\n",
    "\n",
    "Test File: It contains all the features, but target varaible is not there.This data is used for predicting the class with the help of trained model."
   ]
  },
  {
   "cell_type": "code",
   "execution_count": 1,
   "metadata": {},
   "outputs": [],
   "source": [
    "import pandas as pd\n",
    "import numpy as np\n",
    "import seaborn as sns\n",
    "import matplotlib.pyplot as plt\n",
    "%matplotlib inline\n",
    "import warnings\n",
    "warnings.filterwarnings(\"ignore\")\n",
    "from scipy.stats import zscore\n",
    "from sklearn.preprocessing import LabelEncoder,OneHotEncoder\n",
    "from sklearn.model_selection import train_test_split\n",
    "from sklearn.linear_model import LogisticRegression\n",
    "from sklearn.metrics import accuracy_score\n",
    "from sklearn.preprocessing import StandardScaler\n",
    "from sklearn.model_selection import StratifiedKFold as sfkcv\n",
    "from sklearn.neighbors import KNeighborsClassifier\n",
    "from sklearn import metrics\n",
    "from sklearn.naive_bayes import GaussianNB\n",
    "from sklearn.tree import DecisionTreeClassifier\n",
    "from sklearn.model_selection import GridSearchCV\n",
    "from sklearn.ensemble import RandomForestClassifier"
   ]
  },
  {
   "cell_type": "markdown",
   "metadata": {},
   "source": [
    "#### Reading Note"
   ]
  },
  {
   "cell_type": "code",
   "execution_count": 2,
   "metadata": {},
   "outputs": [],
   "source": [
    "loan_train = pd.read_csv(\"loan_train.csv\")\n",
    "loan_test = pd.read_csv(\"loan_test.csv\")"
   ]
  },
  {
   "cell_type": "code",
   "execution_count": 3,
   "metadata": {},
   "outputs": [],
   "source": [
    "# Making a copy of the original data set\n",
    "\n",
    "loan_train_orig = loan_train.copy()\n",
    "loan_test_orig = loan_test.copy()"
   ]
  },
  {
   "cell_type": "markdown",
   "metadata": {},
   "source": [
    "#### Exploratory Data Analysis"
   ]
  },
  {
   "cell_type": "code",
   "execution_count": 4,
   "metadata": {},
   "outputs": [
    {
     "data": {
      "text/plain": [
       "Index(['Loan_ID', 'Gender', 'Married', 'Dependents', 'Education',\n",
       "       'Self_Employed', 'ApplicantIncome', 'CoapplicantIncome', 'LoanAmount',\n",
       "       'Loan_Amount_Term', 'Credit_History', 'Property_Area', 'Loan_Status'],\n",
       "      dtype='object')"
      ]
     },
     "execution_count": 4,
     "metadata": {},
     "output_type": "execute_result"
    }
   ],
   "source": [
    "loan_train.columns"
   ]
  },
  {
   "cell_type": "markdown",
   "metadata": {},
   "source": [
    "#### There are 12 features(independent varaible) and 1 target variable i.e Loan_Status in the train dataset"
   ]
  },
  {
   "cell_type": "code",
   "execution_count": 5,
   "metadata": {},
   "outputs": [
    {
     "data": {
      "text/plain": [
       "Index(['Loan_ID', 'Gender', 'Married', 'Dependents', 'Education',\n",
       "       'Self_Employed', 'ApplicantIncome', 'CoapplicantIncome', 'LoanAmount',\n",
       "       'Loan_Amount_Term', 'Credit_History', 'Property_Area'],\n",
       "      dtype='object')"
      ]
     },
     "execution_count": 5,
     "metadata": {},
     "output_type": "execute_result"
    }
   ],
   "source": [
    "loan_test.columns"
   ]
  },
  {
   "cell_type": "code",
   "execution_count": 6,
   "metadata": {},
   "outputs": [
    {
     "data": {
      "text/plain": [
       "Loan_ID               object\n",
       "Gender                object\n",
       "Married               object\n",
       "Dependents            object\n",
       "Education             object\n",
       "Self_Employed         object\n",
       "ApplicantIncome        int64\n",
       "CoapplicantIncome    float64\n",
       "LoanAmount           float64\n",
       "Loan_Amount_Term     float64\n",
       "Credit_History       float64\n",
       "Property_Area         object\n",
       "Loan_Status           object\n",
       "dtype: object"
      ]
     },
     "execution_count": 6,
     "metadata": {},
     "output_type": "execute_result"
    }
   ],
   "source": [
    "# data types for each features\n",
    "\n",
    "loan_train.dtypes"
   ]
  },
  {
   "cell_type": "code",
   "execution_count": 7,
   "metadata": {},
   "outputs": [
    {
     "data": {
      "text/plain": [
       "((614, 13), (367, 12))"
      ]
     },
     "execution_count": 7,
     "metadata": {},
     "output_type": "execute_result"
    }
   ],
   "source": [
    "# shape of the data\n",
    "\n",
    "loan_train.shape, loan_test.shape"
   ]
  },
  {
   "cell_type": "markdown",
   "metadata": {},
   "source": [
    "#### There are 614 rows and 13 columns in the train dataset and 367 rows and 12 columns in the test dataset."
   ]
  },
  {
   "cell_type": "markdown",
   "metadata": {},
   "source": [
    "#### Univariate Analysis"
   ]
  },
  {
   "cell_type": "code",
   "execution_count": 8,
   "metadata": {},
   "outputs": [
    {
     "data": {
      "text/plain": [
       "Y    422\n",
       "N    192\n",
       "Name: Loan_Status, dtype: int64"
      ]
     },
     "execution_count": 8,
     "metadata": {},
     "output_type": "execute_result"
    }
   ],
   "source": [
    "#Target Varaible:\n",
    "    \n",
    "loan_train.Loan_Status.value_counts()"
   ]
  },
  {
   "cell_type": "code",
   "execution_count": 9,
   "metadata": {},
   "outputs": [
    {
     "data": {
      "text/plain": [
       "Y    0.687296\n",
       "N    0.312704\n",
       "Name: Loan_Status, dtype: float64"
      ]
     },
     "execution_count": 9,
     "metadata": {},
     "output_type": "execute_result"
    }
   ],
   "source": [
    "# With normalize view(to get the propotions)\n",
    "loan_train.Loan_Status.value_counts(normalize=True)"
   ]
  },
  {
   "cell_type": "code",
   "execution_count": 46,
   "metadata": {},
   "outputs": [],
   "source": [
    "colors = ['seagreen','firebrick']"
   ]
  },
  {
   "cell_type": "code",
   "execution_count": 47,
   "metadata": {},
   "outputs": [
    {
     "data": {
      "text/plain": [
       "<matplotlib.axes._subplots.AxesSubplot at 0x2278ab17940>"
      ]
     },
     "execution_count": 47,
     "metadata": {},
     "output_type": "execute_result"
    },
    {
     "data": {
      "image/png": "[encoded data removed]",
      "text/plain": [
       "<Figure size 432x288 with 1 Axes>"
      ]
     },
     "metadata": {
      "needs_background": "light"
     },
     "output_type": "display_data"
    }
   ],
   "source": [
    "loan_train[\"Loan_Status\"].value_counts().plot.bar(color=colors)"
   ]
  },
  {
   "cell_type": "code",
   "execution_count": 19,
   "metadata": {},
   "outputs": [
    {
     "data": {
      "text/html": [
       "<div>\n",
       "<style scoped>\n",
       "    .dataframe tbody tr th:only-of-type {\n",
       "        vertical-align: middle;\n",
       "    }\n",
       "\n",
       "    .dataframe tbody tr th {\n",
       "        vertical-align: top;\n",
       "    }\n",
       "\n",
       "    .dataframe thead th {\n",
       "        text-align: right;\n",
       "    }\n",
       "</style>\n",
       "<table border=\"1\" class=\"dataframe\">\n",
       "  <thead>\n",
       "    <tr style=\"text-align: right;\">\n",
       "      <th></th>\n",
       "      <th>Loan_ID</th>\n",
       "      <th>Gender</th>\n",
       "      <th>Married</th>\n",
       "      <th>Dependents</th>\n",
       "      <th>Education</th>\n",
       "      <th>Self_Employed</th>\n",
       "      <th>ApplicantIncome</th>\n",
       "      <th>CoapplicantIncome</th>\n",
       "      <th>LoanAmount</th>\n",
       "      <th>Loan_Amount_Term</th>\n",
       "      <th>Credit_History</th>\n",
       "      <th>Property_Area</th>\n",
       "      <th>Loan_Status</th>\n",
       "    </tr>\n",
       "  </thead>\n",
       "  <tbody>\n",
       "    <tr>\n",
       "      <th>0</th>\n",
       "      <td>LP001002</td>\n",
       "      <td>Male</td>\n",
       "      <td>No</td>\n",
       "      <td>0</td>\n",
       "      <td>Graduate</td>\n",
       "      <td>No</td>\n",
       "      <td>5849</td>\n",
       "      <td>0.0</td>\n",
       "      <td>NaN</td>\n",
       "      <td>360.0</td>\n",
       "      <td>1.0</td>\n",
       "      <td>Urban</td>\n",
       "      <td>Y</td>\n",
       "    </tr>\n",
       "    <tr>\n",
       "      <th>1</th>\n",
       "      <td>LP001003</td>\n",
       "      <td>Male</td>\n",
       "      <td>Yes</td>\n",
       "      <td>1</td>\n",
       "      <td>Graduate</td>\n",
       "      <td>No</td>\n",
       "      <td>4583</td>\n",
       "      <td>1508.0</td>\n",
       "      <td>128.0</td>\n",
       "      <td>360.0</td>\n",
       "      <td>1.0</td>\n",
       "      <td>Rural</td>\n",
       "      <td>N</td>\n",
       "    </tr>\n",
       "    <tr>\n",
       "      <th>2</th>\n",
       "      <td>LP001005</td>\n",
       "      <td>Male</td>\n",
       "      <td>Yes</td>\n",
       "      <td>0</td>\n",
       "      <td>Graduate</td>\n",
       "      <td>Yes</td>\n",
       "      <td>3000</td>\n",
       "      <td>0.0</td>\n",
       "      <td>66.0</td>\n",
       "      <td>360.0</td>\n",
       "      <td>1.0</td>\n",
       "      <td>Urban</td>\n",
       "      <td>Y</td>\n",
       "    </tr>\n",
       "    <tr>\n",
       "      <th>3</th>\n",
       "      <td>LP001006</td>\n",
       "      <td>Male</td>\n",
       "      <td>Yes</td>\n",
       "      <td>0</td>\n",
       "      <td>Not Graduate</td>\n",
       "      <td>No</td>\n",
       "      <td>2583</td>\n",
       "      <td>2358.0</td>\n",
       "      <td>120.0</td>\n",
       "      <td>360.0</td>\n",
       "      <td>1.0</td>\n",
       "      <td>Urban</td>\n",
       "      <td>Y</td>\n",
       "    </tr>\n",
       "    <tr>\n",
       "      <th>4</th>\n",
       "      <td>LP001008</td>\n",
       "      <td>Male</td>\n",
       "      <td>No</td>\n",
       "      <td>0</td>\n",
       "      <td>Graduate</td>\n",
       "      <td>No</td>\n",
       "      <td>6000</td>\n",
       "      <td>0.0</td>\n",
       "      <td>141.0</td>\n",
       "      <td>360.0</td>\n",
       "      <td>1.0</td>\n",
       "      <td>Urban</td>\n",
       "      <td>Y</td>\n",
       "    </tr>\n",
       "  </tbody>\n",
       "</table>\n",
       "</div>"
      ],
      "text/plain": [
       "    Loan_ID Gender Married Dependents     Education Self_Employed  \\\n",
       "0  LP001002   Male      No          0      Graduate            No   \n",
       "1  LP001003   Male     Yes          1      Graduate            No   \n",
       "2  LP001005   Male     Yes          0      Graduate           Yes   \n",
       "3  LP001006   Male     Yes          0  Not Graduate            No   \n",
       "4  LP001008   Male      No          0      Graduate            No   \n",
       "\n",
       "   ApplicantIncome  CoapplicantIncome  LoanAmount  Loan_Amount_Term  \\\n",
       "0             5849                0.0         NaN             360.0   \n",
       "1             4583             1508.0       128.0             360.0   \n",
       "2             3000                0.0        66.0             360.0   \n",
       "3             2583             2358.0       120.0             360.0   \n",
       "4             6000                0.0       141.0             360.0   \n",
       "\n",
       "   Credit_History Property_Area Loan_Status  \n",
       "0             1.0         Urban           Y  \n",
       "1             1.0         Rural           N  \n",
       "2             1.0         Urban           Y  \n",
       "3             1.0         Urban           Y  \n",
       "4             1.0         Urban           Y  "
      ]
     },
     "execution_count": 19,
     "metadata": {},
     "output_type": "execute_result"
    }
   ],
   "source": [
    "loan_train.head()"
   ]
  },
  {
   "cell_type": "code",
   "execution_count": 22,
   "metadata": {},
   "outputs": [
    {
     "data": {
      "text/plain": [
       "<matplotlib.axes._subplots.AxesSubplot at 0x227878b5a60>"
      ]
     },
     "execution_count": 22,
     "metadata": {},
     "output_type": "execute_result"
    },
    {
     "data": {
      "image/png": "[encoded data removed]",
      "text/plain": [
       "<Figure size 1440x720 with 4 Axes>"
      ]
     },
     "metadata": {
      "needs_background": "light"
     },
     "output_type": "display_data"
    }
   ],
   "source": [
    "#plotting independent varaibles(categorical):\n",
    "\n",
    "plt.figure(1) ;plt.subplot(221); loan_train[\"Gender\"].value_counts(normalize=True).plot.bar(figsize=(20,10),title=\"Gender\")\n",
    "plt.subplot(222);loan_train[\"Married\"].value_counts(normalize=True).plot.bar(title=\"Married\")\n",
    "plt.subplot(223);loan_train[\"Self_Employed\"].value_counts(normalize=True).plot.bar(title=\"Self Employed\")\n",
    "plt.subplot(224);loan_train[\"Credit_History\"].value_counts(normalize=True).plot.bar(title=\"Credit History\")"
   ]
  },
  {
   "cell_type": "markdown",
   "metadata": {},
   "source": [
    "Observations:\n",
    "\n",
    "Out of total number of applicants 80% are male.  <br>\n",
    "There are around 65% of applicants are married. <br>\n",
    "There are around 15% of applicants are self employed. <br>\n",
    "85% of the applicant have good credit history(They have paid previos loans regulary). <br>"
   ]
  },
  {
   "cell_type": "code",
   "execution_count": 21,
   "metadata": {},
   "outputs": [
    {
     "data": {
      "text/plain": [
       "<matplotlib.axes._subplots.AxesSubplot at 0x227877b2e80>"
      ]
     },
     "execution_count": 21,
     "metadata": {},
     "output_type": "execute_result"
    },
    {
     "data": {
      "image/png": "[encoded data removed]",
      "text/plain": [
       "<Figure size 1728x432 with 3 Axes>"
      ]
     },
     "metadata": {
      "needs_background": "light"
     },
     "output_type": "display_data"
    }
   ],
   "source": [
    "# Plotting ordinal independent variables:\n",
    "\n",
    "plt.figure(1)\n",
    "plt.subplot(141);loan_train.Dependents.value_counts(normalize=True).plot.bar(figsize=(24,6),title=\"Dependent\")\n",
    "plt.subplot(142);loan_train.Education.value_counts(normalize=True).plot.bar(title=\"Education\")\n",
    "plt.subplot(143);loan_train.Property_Area.value_counts(normalize=True).plot.bar(title=\"Property_Area\")"
   ]
  },
  {
   "cell_type": "markdown",
   "metadata": {},
   "source": [
    "Observations: <br>\n",
    "\n",
    "* Maximum of the applicants do not have any dependent. <br>\n",
    "* Out of total applicants, around 80% are graduates <br>\n",
    "* Most of the applicants belongs to semiurban area"
   ]
  },
  {
   "cell_type": "code",
   "execution_count": 130,
   "metadata": {
    "scrolled": false
   },
   "outputs": [
    {
     "data": {
      "image/png": "[encoded data removed]",
      "text/plain": [
       "<Figure size 720x396 with 1 Axes>"
      ]
     },
     "metadata": {
      "needs_background": "light"
     },
     "output_type": "display_data"
    },
    {
     "data": {
      "image/png": "[encoded data removed]",
      "text/plain": [
       "<Figure size 720x396 with 1 Axes>"
      ]
     },
     "metadata": {
      "needs_background": "light"
     },
     "output_type": "display_data"
    }
   ],
   "source": [
    "# plotting Numerical features\n",
    "\n",
    "plt.figure(2);plt.subplot(121); sns.distplot(loan_train.ApplicantIncome)\n",
    "fig= plt.gcf()\n",
    "fig.set_size_inches(10, 5.5)\n",
    "plt.figure(figsize=(3, 3))\n",
    "\n",
    "plt.subplot(122);sns.boxplot(loan_train.ApplicantIncome,orient='v')\n",
    "fig= plt.gcf()\n",
    "fig.set_size_inches(10, 5.5)"
   ]
  },
  {
   "cell_type": "markdown",
   "metadata": {},
   "source": [
    "Observations: <br>\n",
    "\n",
    "The distribution of the applicant income is not normal distribution and is postive skewed. <br>\n",
    "We will perform column standardization in order to make it a normal distribution. <br>\n",
    "Box plot is indication the presence of a lot of outliers/extreme values.It may be because of the different education level."
   ]
  },
  {
   "cell_type": "code",
   "execution_count": 131,
   "metadata": {},
   "outputs": [
    {
     "data": {
      "image/png": "[encoded data removed]",
      "text/plain": [
       "<Figure size 720x396 with 1 Axes>"
      ]
     },
     "metadata": {
      "needs_background": "light"
     },
     "output_type": "display_data"
    },
    {
     "data": {
      "image/png": "[encoded data removed]",
      "text/plain": [
       "<Figure size 720x396 with 1 Axes>"
      ]
     },
     "metadata": {
      "needs_background": "light"
     },
     "output_type": "display_data"
    }
   ],
   "source": [
    "# Co applicant income distribution\n",
    "\n",
    "plt.figure(1);plt.subplot(121);sns.distplot(loan_train.CoapplicantIncome)\n",
    "fig= plt.gcf()\n",
    "fig.set_size_inches(10, 5.5)\n",
    "plt.figure(figsize=(3, 3))\n",
    "plt.subplot(122);sns.boxplot(loan_train.CoapplicantIncome,orient='v')\n",
    "fig= plt.gcf()\n",
    "fig.set_size_inches(10, 5.5)"
   ]
  },
  {
   "cell_type": "markdown",
   "metadata": {},
   "source": [
    "Observation: <br>\n",
    "\n",
    "The distribution of the coapplicant income is also not normal and positive skewed. <br>\n",
    "There are outliers in the income."
   ]
  },
  {
   "cell_type": "code",
   "execution_count": 132,
   "metadata": {},
   "outputs": [
    {
     "data": {
      "image/png": "[encoded data removed]",
      "text/plain": [
       "<Figure size 720x396 with 1 Axes>"
      ]
     },
     "metadata": {
      "needs_background": "light"
     },
     "output_type": "display_data"
    },
    {
     "data": {
      "image/png": "[encoded data removed]",
      "text/plain": [
       "<Figure size 720x396 with 1 Axes>"
      ]
     },
     "metadata": {
      "needs_background": "light"
     },
     "output_type": "display_data"
    }
   ],
   "source": [
    "# visualizing the loan amount distribution\n",
    "\n",
    "plt.figure(1);plt.subplot(121);sns.distplot(loan_train.LoanAmount)\n",
    "fig= plt.gcf()\n",
    "fig.set_size_inches(10, 5.5)\n",
    "plt.figure(figsize=(3, 3))\n",
    "plt.subplot(122);sns.boxplot(loan_train.LoanAmount,orient='v')\n",
    "fig= plt.gcf()\n",
    "fig.set_size_inches(10, 5.5)"
   ]
  },
  {
   "cell_type": "code",
   "execution_count": 139,
   "metadata": {},
   "outputs": [
    {
     "data": {
      "text/plain": [
       "<matplotlib.axes._subplots.AxesSubplot at 0x2278b1cd790>"
      ]
     },
     "execution_count": 139,
     "metadata": {},
     "output_type": "execute_result"
    },
    {
     "data": {
      "image/png": "[encoded data removed]",
      "text/plain": [
       "<Figure size 432x288 with 1 Axes>"
      ]
     },
     "metadata": {
      "needs_background": "light"
     },
     "output_type": "display_data"
    }
   ],
   "source": [
    "colors = ['firebrick','seagreen']\n",
    "gen = pd.crosstab(loan_train.Gender,loan_train.Loan_Status).apply(lambda x:x/x.sum() *100,axis=1 )\n",
    "gen.plot.bar(stacked=True, color=colors)"
   ]
  },
  {
   "cell_type": "code",
   "execution_count": 51,
   "metadata": {},
   "outputs": [
    {
     "data": {
      "text/plain": [
       "<matplotlib.axes._subplots.AxesSubplot at 0x2278abf4790>"
      ]
     },
     "execution_count": 51,
     "metadata": {},
     "output_type": "execute_result"
    },
    {
     "data": {
      "image/png": "[encoded data removed]",
      "text/plain": [
       "<Figure size 432x288 with 1 Axes>"
      ]
     },
     "metadata": {
      "needs_background": "light"
     },
     "output_type": "display_data"
    }
   ],
   "source": [
    "marr = pd.crosstab(loan_train.Married,loan_train.Loan_Status).apply(lambda x:x/x.sum() *100,axis=1 )\n",
    "marr.plot.bar(stacked=True, color=colors)"
   ]
  },
  {
   "cell_type": "code",
   "execution_count": 52,
   "metadata": {},
   "outputs": [
    {
     "data": {
      "text/plain": [
       "<matplotlib.axes._subplots.AxesSubplot at 0x2278ac32880>"
      ]
     },
     "execution_count": 52,
     "metadata": {},
     "output_type": "execute_result"
    },
    {
     "data": {
      "image/png": "[encoded data removed]",
      "text/plain": [
       "<Figure size 432x288 with 1 Axes>"
      ]
     },
     "metadata": {
      "needs_background": "light"
     },
     "output_type": "display_data"
    }
   ],
   "source": [
    "dep = pd.crosstab(loan_train.Dependents,loan_train.Loan_Status).apply(lambda x:x/x.sum() *100,axis=1 )\n",
    "dep.plot.bar(stacked=True, color=colors)"
   ]
  },
  {
   "cell_type": "code",
   "execution_count": 53,
   "metadata": {},
   "outputs": [
    {
     "data": {
      "text/plain": [
       "<matplotlib.axes._subplots.AxesSubplot at 0x2278ac26880>"
      ]
     },
     "execution_count": 53,
     "metadata": {},
     "output_type": "execute_result"
    },
    {
     "data": {
      "image/png": "[encoded data removed]",
      "text/plain": [
       "<Figure size 432x288 with 1 Axes>"
      ]
     },
     "metadata": {
      "needs_background": "light"
     },
     "output_type": "display_data"
    }
   ],
   "source": [
    "edu = pd.crosstab(loan_train.Education,loan_train.Loan_Status).apply(lambda x:x/x.sum() *100,axis=1 )\n",
    "edu.plot.bar(stacked=True, color=colors)"
   ]
  },
  {
   "cell_type": "code",
   "execution_count": 56,
   "metadata": {},
   "outputs": [
    {
     "data": {
      "text/plain": [
       "<matplotlib.axes._subplots.AxesSubplot at 0x2278b20f250>"
      ]
     },
     "execution_count": 56,
     "metadata": {},
     "output_type": "execute_result"
    },
    {
     "data": {
      "image/png": "[encoded data removed]",
      "text/plain": [
       "<Figure size 432x288 with 1 Axes>"
      ]
     },
     "metadata": {
      "needs_background": "light"
     },
     "output_type": "display_data"
    }
   ],
   "source": [
    "se = pd.crosstab(loan_train.Self_Employed,loan_train.Loan_Status).apply(lambda x:x/x.sum() *100,axis=1 )\n",
    "se.plot.bar(stacked=True,color=colors)"
   ]
  },
  {
   "cell_type": "markdown",
   "metadata": {},
   "source": [
    "Observations:\n",
    "    \n",
    "* Loan was approved for the majority of applicant who were married. <br>\n",
    "* Applicants having dependent 1 and 3+ falls in the same categories with respect to Loan status. <br>"
   ]
  },
  {
   "cell_type": "code",
   "execution_count": 57,
   "metadata": {},
   "outputs": [
    {
     "data": {
      "text/plain": [
       "<matplotlib.axes._subplots.AxesSubplot at 0x2278b20f760>"
      ]
     },
     "execution_count": 57,
     "metadata": {},
     "output_type": "execute_result"
    },
    {
     "data": {
      "image/png": "[encoded data removed]",
      "text/plain": [
       "<Figure size 432x288 with 1 Axes>"
      ]
     },
     "metadata": {
      "needs_background": "light"
     },
     "output_type": "display_data"
    }
   ],
   "source": [
    "# For credit History and Property areas \n",
    "\n",
    "credit_his = pd.crosstab(loan_train.Credit_History,loan_train.Loan_Status).apply(lambda x:x/x.sum() *100,axis=1 )\n",
    "credit_his.plot.bar(stacked=True,color=colors)"
   ]
  },
  {
   "cell_type": "code",
   "execution_count": 59,
   "metadata": {},
   "outputs": [
    {
     "data": {
      "text/plain": [
       "<matplotlib.axes._subplots.AxesSubplot at 0x2278b326670>"
      ]
     },
     "execution_count": 59,
     "metadata": {},
     "output_type": "execute_result"
    },
    {
     "data": {
      "image/png": "[encoded data removed]",
      "text/plain": [
       "<Figure size 432x288 with 1 Axes>"
      ]
     },
     "metadata": {
      "needs_background": "light"
     },
     "output_type": "display_data"
    }
   ],
   "source": [
    "prop_area = pd.crosstab(loan_train.Property_Area,loan_train.Loan_Status).apply(lambda x:x/x.sum() *100,axis=1 )\n",
    "prop_area.plot.bar(stacked=True,color=colors)"
   ]
  },
  {
   "cell_type": "markdown",
   "metadata": {},
   "source": [
    "Observations:\n",
    "    \n",
    "* People with good credit history(1) are having more changes of loan approval #  Hypothesis holds true\n",
    "* Loans associated with semiurban areas having major proportion in the approved category."
   ]
  },
  {
   "cell_type": "markdown",
   "metadata": {},
   "source": [
    "Numerical Feature and target variables:"
   ]
  },
  {
   "cell_type": "code",
   "execution_count": 60,
   "metadata": {},
   "outputs": [
    {
     "data": {
      "text/plain": [
       "<matplotlib.axes._subplots.AxesSubplot at 0x2278b39b550>"
      ]
     },
     "execution_count": 60,
     "metadata": {},
     "output_type": "execute_result"
    },
    {
     "data": {
      "image/png": "[encoded data removed]",
      "text/plain": [
       "<Figure size 432x288 with 1 Axes>"
      ]
     },
     "metadata": {
      "needs_background": "light"
     },
     "output_type": "display_data"
    }
   ],
   "source": [
    "loan_train.groupby(\"Loan_Status\").agg({\"ApplicantIncome\":'mean'}).plot.bar()"
   ]
  },
  {
   "cell_type": "markdown",
   "metadata": {},
   "source": [
    "From the above we say that mean income is coming same for the both categories."
   ]
  },
  {
   "cell_type": "code",
   "execution_count": 62,
   "metadata": {},
   "outputs": [
    {
     "data": {
      "text/plain": [
       "<matplotlib.axes._subplots.AxesSubplot at 0x2278b46d190>"
      ]
     },
     "execution_count": 62,
     "metadata": {},
     "output_type": "execute_result"
    },
    {
     "data": {
      "image/png": "[encoded data removed]",
      "text/plain": [
       "<Figure size 432x288 with 1 Axes>"
      ]
     },
     "metadata": {
      "needs_background": "light"
     },
     "output_type": "display_data"
    }
   ],
   "source": [
    "# Categorising Applicants income into different labels based on the values.\n",
    "\n",
    "bins = [0,2500,4000,6000,np.inf]\n",
    "labels = [\"Low\",\"Average\",\"High\",\"Vey high\"]\n",
    "loan_train[\"Income_category\"]= pd.cut(loan_train.ApplicantIncome,bins=bins,labels=labels)\n",
    "income_category = pd.crosstab(loan_train.Income_category,loan_train.Loan_Status).apply(lambda x:x/x.sum() *100,axis=1 )\n",
    "income_category.plot.bar(stacked=True,color=colors)"
   ]
  },
  {
   "cell_type": "markdown",
   "metadata": {},
   "source": [
    "From the above, it can be inferred that applicant income does not affect the possibilty of the loan approval, which is \n",
    "contradicting our hypothesis that high income results in high chances of loan approval."
   ]
  },
  {
   "cell_type": "code",
   "execution_count": 63,
   "metadata": {},
   "outputs": [
    {
     "data": {
      "text/plain": [
       "<matplotlib.axes._subplots.AxesSubplot at 0x2278c492970>"
      ]
     },
     "execution_count": 63,
     "metadata": {},
     "output_type": "execute_result"
    },
    {
     "data": {
      "image/png": "[encoded data removed]",
      "text/plain": [
       "<Figure size 432x288 with 1 Axes>"
      ]
     },
     "metadata": {
      "needs_background": "light"
     },
     "output_type": "display_data"
    }
   ],
   "source": [
    "# Analysis of the coapplicant income.\n",
    "\n",
    "bins = [0,2500,4000,6000,np.inf]\n",
    "labels = [\"Low\",\"Average\",\"High\",\"Vey high\"]\n",
    "loan_train[\"Coapplicant_Income_category\"]= pd.cut(loan_train.CoapplicantIncome,bins=bins,labels=labels)\n",
    "coapplicant_income_category = pd.crosstab(loan_train.Coapplicant_Income_category,loan_train.Loan_Status).apply(lambda x:x/x.sum() *100,axis=1 )\n",
    "coapplicant_income_category.plot.bar(stacked=True,color=colors)"
   ]
  },
  {
   "cell_type": "markdown",
   "metadata": {},
   "source": [
    "From the above plot, it reflects that if the coapplicant income is less the chances of the laon approval is more. <br>\n",
    "But in reality it does not look good. <br>\n",
    "Here it may be possible because majority of the applicant does not have co-applicant and thus income is taken 0 and so the loan approval is not dependent on it."
   ]
  },
  {
   "cell_type": "markdown",
   "metadata": {},
   "source": [
    "So in order to get the clear picture let's combine applicant and coapplicant income and interpret the combine effect on \n",
    "loan approval."
   ]
  },
  {
   "cell_type": "code",
   "execution_count": 64,
   "metadata": {},
   "outputs": [
    {
     "data": {
      "text/plain": [
       "<matplotlib.axes._subplots.AxesSubplot at 0x2278b463ee0>"
      ]
     },
     "execution_count": 64,
     "metadata": {},
     "output_type": "execute_result"
    },
    {
     "data": {
      "image/png": "[encoded data removed]",
      "text/plain": [
       "<Figure size 432x288 with 1 Axes>"
      ]
     },
     "metadata": {
      "needs_background": "light"
     },
     "output_type": "display_data"
    }
   ],
   "source": [
    "loan_train[\"total_income\"]= loan_train.ApplicantIncome + loan_train.CoapplicantIncome\n",
    "\n",
    "bins = [0,2500,4000,6000,np.inf]\n",
    "labels = [\"Low\",\"Average\",\"High\",\"Vey high\"]\n",
    "loan_train[\"Total_Income_category\"]= pd.cut(loan_train.total_income,bins=bins,labels=labels)\n",
    "total_income_category = pd.crosstab(loan_train.Total_Income_category,loan_train.Loan_Status).apply(lambda x:x/x.sum() *100,axis=1 )\n",
    "total_income_category.plot.bar(stacked=True,color=colors)"
   ]
  },
  {
   "cell_type": "markdown",
   "metadata": {},
   "source": [
    "It is observed that in the low(Total income) category, proportion of the loan approval is less as compared to other three categories."
   ]
  },
  {
   "cell_type": "markdown",
   "metadata": {},
   "source": [
    "Analysis of the Loan amount feature:"
   ]
  },
  {
   "cell_type": "code",
   "execution_count": 66,
   "metadata": {},
   "outputs": [
    {
     "data": {
      "text/plain": [
       "<matplotlib.axes._subplots.AxesSubplot at 0x2278c5e5eb0>"
      ]
     },
     "execution_count": 66,
     "metadata": {},
     "output_type": "execute_result"
    },
    {
     "data": {
      "image/png": "[encoded data removed]",
      "text/plain": [
       "<Figure size 432x288 with 1 Axes>"
      ]
     },
     "metadata": {
      "needs_background": "light"
     },
     "output_type": "display_data"
    }
   ],
   "source": [
    "bins = [0,150,250,650]\n",
    "labels = [\"Low\",\"Average\",\"High\"]\n",
    "loan_train[\"loan_amount_category\"]= pd.cut(loan_train.LoanAmount,bins=bins,labels=labels)\n",
    "loan_amount_category = pd.crosstab(loan_train.loan_amount_category,loan_train.Loan_Status).apply(lambda x:x/x.sum() *100,axis=1 )\n",
    "loan_amount_category.plot.bar(stacked=True,color=colors)"
   ]
  },
  {
   "cell_type": "markdown",
   "metadata": {},
   "source": [
    "It is observed that for the low and average category with resepect the loan amount,proportion of the approved loans is higher\n",
    "as compare to the high category.It is favouring our hypothesis that loan approval changes are high for the less loan amount."
   ]
  },
  {
   "cell_type": "code",
   "execution_count": 67,
   "metadata": {},
   "outputs": [],
   "source": [
    "# Droping the extra added columns:\n",
    "loan_train = loan_train.drop([\"Income_category\",\"Coapplicant_Income_category\",\"total_income\",\"Total_Income_category\",\n",
    "                               \"loan_amount_category\"],axis=1)"
   ]
  },
  {
   "cell_type": "code",
   "execution_count": 68,
   "metadata": {},
   "outputs": [],
   "source": [
    "loan_train.Dependents.replace('3+',3,inplace=True)# replacing \"3+\" with 3\n",
    "loan_test.Dependents.replace('3+',3,inplace=True)\n",
    "loan_train.Loan_Status.replace('N',0,inplace=True)\n",
    "loan_train.Loan_Status.replace('Y',1,inplace=True)"
   ]
  },
  {
   "cell_type": "code",
   "execution_count": 70,
   "metadata": {},
   "outputs": [
    {
     "data": {
      "text/plain": [
       "<matplotlib.axes._subplots.AxesSubplot at 0x2278c5b9be0>"
      ]
     },
     "execution_count": 70,
     "metadata": {},
     "output_type": "execute_result"
    },
    {
     "data": {
      "image/png": "[encoded data removed]",
      "text/plain": [
       "<Figure size 432x288 with 2 Axes>"
      ]
     },
     "metadata": {
      "needs_background": "light"
     },
     "output_type": "display_data"
    }
   ],
   "source": [
    "corr_matrix = loan_train.corr()\n",
    "sns.heatmap(corr_matrix,annot =True)"
   ]
  },
  {
   "cell_type": "markdown",
   "metadata": {},
   "source": [
    "Observation:\n",
    "* Most correlated features are (Applicantincome-LoanAmount) and (Credit_History-Loan_Status)\n",
    "* Loan_Amount is also correlated to the Coapplicant."
   ]
  },
  {
   "cell_type": "markdown",
   "metadata": {},
   "source": [
    "### Data Preprocessing"
   ]
  },
  {
   "cell_type": "code",
   "execution_count": 72,
   "metadata": {},
   "outputs": [
    {
     "data": {
      "text/plain": [
       "Loan_ID               0\n",
       "Gender               13\n",
       "Married               3\n",
       "Dependents           15\n",
       "Education             0\n",
       "Self_Employed        32\n",
       "ApplicantIncome       0\n",
       "CoapplicantIncome     0\n",
       "LoanAmount           22\n",
       "Loan_Amount_Term     14\n",
       "Credit_History       50\n",
       "Property_Area         0\n",
       "Loan_Status           0\n",
       "dtype: int64"
      ]
     },
     "execution_count": 72,
     "metadata": {},
     "output_type": "execute_result"
    }
   ],
   "source": [
    "loan_train.isnull().sum()"
   ]
  },
  {
   "cell_type": "markdown",
   "metadata": {},
   "source": [
    "Features like Gender,Married,Dependent,Self_Employed,Loan_Amount,Loan_Amount_Term and Credit_History are having missing values."
   ]
  },
  {
   "cell_type": "code",
   "execution_count": 73,
   "metadata": {},
   "outputs": [],
   "source": [
    "# Missing value imputation for categorical features\n",
    "loan_train.Gender.fillna(loan_train.Gender.mode()[0],inplace=True)\n",
    "loan_train.Married.fillna(loan_train.Married.mode()[0],inplace=True)\n",
    "loan_train.Dependents.fillna(loan_train.Dependents.mode()[0],inplace=True)\n",
    "loan_train.Self_Employed.fillna(loan_train.Self_Employed.mode()[0],inplace=True)\n",
    "loan_train.Credit_History.fillna(loan_train.Credit_History.mode()[0],inplace=True)"
   ]
  },
  {
   "cell_type": "code",
   "execution_count": 78,
   "metadata": {},
   "outputs": [],
   "source": [
    "# Since feature LoanAmount have most number of outliers,so mean will not be robust in this case.Therefore we will use median\n",
    "#for the missing value imputation\n",
    "\n",
    "loan_train.LoanAmount.fillna(loan_train.LoanAmount.median(),inplace = True)"
   ]
  },
  {
   "cell_type": "code",
   "execution_count": 79,
   "metadata": {},
   "outputs": [],
   "source": [
    "loan_train.Loan_Amount_Term.fillna(loan_train.Loan_Amount_Term.mode()[0],inplace=True)"
   ]
  },
  {
   "cell_type": "code",
   "execution_count": 87,
   "metadata": {},
   "outputs": [
    {
     "data": {
      "text/plain": [
       "Gender               0\n",
       "Married              0\n",
       "Dependents           0\n",
       "Education            0\n",
       "Self_Employed        0\n",
       "ApplicantIncome      0\n",
       "CoapplicantIncome    0\n",
       "LoanAmount           0\n",
       "Loan_Amount_Term     0\n",
       "Credit_History       0\n",
       "Property_Area        0\n",
       "dtype: int64"
      ]
     },
     "execution_count": 87,
     "metadata": {},
     "output_type": "execute_result"
    }
   ],
   "source": [
    "loan_test.isnull().sum()"
   ]
  },
  {
   "cell_type": "code",
   "execution_count": 81,
   "metadata": {},
   "outputs": [],
   "source": [
    "# Missing value imputation for test dataset.\n",
    "\n",
    "loan_test.Gender.fillna(loan_test.Gender.mode()[0],inplace=True)\n",
    "loan_test.Dependents.fillna(loan_test.Dependents.mode()[0],inplace=True)\n",
    "loan_test.Self_Employed.fillna(loan_test.Self_Employed.mode()[0],inplace=True)\n",
    "loan_test.Credit_History.fillna(loan_test.Credit_History.mode()[0],inplace=True)"
   ]
  },
  {
   "cell_type": "code",
   "execution_count": 82,
   "metadata": {},
   "outputs": [],
   "source": [
    "# for numerical features\n",
    "loan_test.LoanAmount.fillna(loan_test.LoanAmount.median(),inplace = True)\n",
    "loan_test.Loan_Amount_Term.fillna(loan_test.Loan_Amount_Term.mode()[0],inplace=True)"
   ]
  },
  {
   "cell_type": "code",
   "execution_count": 83,
   "metadata": {},
   "outputs": [],
   "source": [
    "# making dummmy variables for the categorical features\n",
    "loan_train=loan_train.drop(\"Loan_ID\",axis=1)\n",
    "loan_test = loan_test.drop(\"Loan_ID\",axis=1)\n",
    "\n",
    "#loan_train1= pd.get_dummies(loan_train)\n",
    "#loan_test1=pd.get_dummies(loan_test)"
   ]
  },
  {
   "cell_type": "code",
   "execution_count": 84,
   "metadata": {},
   "outputs": [],
   "source": [
    "# label encoding train data\n",
    "le = LabelEncoder()\n",
    "loan_train.Gender = le.fit_transform(loan_train.Gender)\n",
    "loan_train.Married = le.fit_transform(loan_train.Married)\n",
    "loan_train.Education = le.fit_transform(loan_train.Education)\n",
    "loan_train.Self_Employed = le.fit_transform(loan_train.Self_Employed)\n",
    "loan_train.Property_Area = le.fit_transform(loan_train.Property_Area)\n",
    "loan_train.Dependents = loan_train.Dependents.astype(int) # changing datatype of the Dependent feature."
   ]
  },
  {
   "cell_type": "code",
   "execution_count": 85,
   "metadata": {},
   "outputs": [],
   "source": [
    "# Label Encoding test data\n",
    "le = LabelEncoder()\n",
    "loan_test.Gender = le.fit_transform(loan_test.Gender)\n",
    "loan_test.Married = le.fit_transform(loan_test.Married)\n",
    "loan_test.Education = le.fit_transform(loan_test.Education)\n",
    "loan_test.Self_Employed = le.fit_transform(loan_test.Self_Employed)\n",
    "loan_test.Property_Area = le.fit_transform(loan_test.Property_Area)\n",
    "loan_test.Dependents = loan_test.Dependents.astype(int)"
   ]
  },
  {
   "cell_type": "code",
   "execution_count": 86,
   "metadata": {},
   "outputs": [
    {
     "name": "stdout",
     "output_type": "stream",
     "text": [
      "(614, 12)\n",
      "(577, 12)\n"
     ]
    }
   ],
   "source": [
    "# removing the outliers for train dataset\n",
    "\n",
    "z_score = abs(zscore(loan_train))\n",
    "print(loan_train.shape)\n",
    "loan_train_final = loan_train.loc[(z_score<3).all(axis=1)]\n",
    "print(loan_train_final.shape)"
   ]
  },
  {
   "cell_type": "code",
   "execution_count": 88,
   "metadata": {},
   "outputs": [],
   "source": [
    "# seperating features and target varaible\n",
    "\n",
    "x = loan_train_final.iloc[:,0:-1]\n",
    "y = loan_train_final.iloc[:,-1]"
   ]
  },
  {
   "cell_type": "code",
   "execution_count": 89,
   "metadata": {},
   "outputs": [],
   "source": [
    "# scaling down using standardscaler\n",
    "sc = StandardScaler()\n",
    "x = sc.fit_transform(x) # train data \n",
    "loan_test_scaled = sc.fit_transform(loan_test)\n",
    "x = pd.DataFrame(x)"
   ]
  },
  {
   "cell_type": "code",
   "execution_count": 90,
   "metadata": {},
   "outputs": [],
   "source": [
    "x_train,x_val,y_train,y_val = train_test_split(x,y,test_size=0.3)"
   ]
  },
  {
   "cell_type": "code",
   "execution_count": 91,
   "metadata": {},
   "outputs": [
    {
     "data": {
      "text/plain": [
       "LogisticRegression()"
      ]
     },
     "execution_count": 91,
     "metadata": {},
     "output_type": "execute_result"
    }
   ],
   "source": [
    "model = LogisticRegression()\n",
    "model.fit(x_train,y_train)"
   ]
  },
  {
   "cell_type": "code",
   "execution_count": 92,
   "metadata": {},
   "outputs": [],
   "source": [
    "pred = model.predict(x_val)"
   ]
  },
  {
   "cell_type": "code",
   "execution_count": 93,
   "metadata": {},
   "outputs": [
    {
     "data": {
      "text/plain": [
       "0.8793103448275862"
      ]
     },
     "execution_count": 93,
     "metadata": {},
     "output_type": "execute_result"
    }
   ],
   "source": [
    "accuracy_score(y_val,pred)"
   ]
  },
  {
   "cell_type": "markdown",
   "metadata": {},
   "source": [
    "Here accuracy is coming around 88%.It means 88% of the loan status is correctly identified."
   ]
  },
  {
   "cell_type": "code",
   "execution_count": 94,
   "metadata": {},
   "outputs": [],
   "source": [
    "pred_final = model.predict(loan_test_scaled)\n",
    "test_loan_status = pd.DataFrame(pred_final)"
   ]
  },
  {
   "cell_type": "code",
   "execution_count": 96,
   "metadata": {},
   "outputs": [],
   "source": [
    "# Taking varios models\n",
    "\n",
    "knn = KNeighborsClassifier(n_neighbors=5)\n",
    "gnb = GaussianNB()\n",
    "lg = LogisticRegression()\n",
    "dt = DecisionTreeClassifier()"
   ]
  },
  {
   "cell_type": "code",
   "execution_count": 97,
   "metadata": {},
   "outputs": [
    {
     "name": "stdout",
     "output_type": "stream",
     "text": [
      "\n",
      "\n",
      "for: KNeighborsClassifier\n",
      "for k =1,accuracy is 0.7758620689655172\n",
      "for k =2,accuracy is 0.7758620689655172\n",
      "for k =3,accuracy is 0.782608695652174\n",
      "for k =4,accuracy is 0.8434782608695652\n",
      "for k =5,accuracy is 0.782608695652174\n",
      "Mean accuarcy score = 0.7920839580209895\n",
      "\n",
      "\n",
      "for: GaussianNB\n",
      "for k =1,accuracy is 0.8103448275862069\n",
      "for k =2,accuracy is 0.7931034482758621\n",
      "for k =3,accuracy is 0.7913043478260869\n",
      "for k =4,accuracy is 0.8260869565217391\n",
      "for k =5,accuracy is 0.808695652173913\n",
      "Mean accuarcy score = 0.8059070464767617\n",
      "\n",
      "\n",
      "for: LogisticRegression\n",
      "for k =1,accuracy is 0.8103448275862069\n",
      "for k =2,accuracy is 0.7931034482758621\n",
      "for k =3,accuracy is 0.7913043478260869\n",
      "for k =4,accuracy is 0.8608695652173913\n",
      "for k =5,accuracy is 0.8260869565217391\n",
      "Mean accuarcy score = 0.8163418290854573\n",
      "\n",
      "\n",
      "for: DecisionTreeClassifier\n",
      "for k =1,accuracy is 0.7586206896551724\n",
      "for k =2,accuracy is 0.6637931034482759\n",
      "for k =3,accuracy is 0.6956521739130435\n",
      "for k =4,accuracy is 0.7304347826086957\n",
      "for k =5,accuracy is 0.7043478260869566\n",
      "Mean accuarcy score = 0.7105697151424287\n",
      "\n",
      "\n",
      "[0.7920839580209895, 0.8059070464767617, 0.8163418290854573, 0.7105697151424287]\n",
      "Model with highest accuracy:  LogisticRegression\n"
     ]
    }
   ],
   "source": [
    "# Stratified k-fold cross validation\n",
    "best_model=[]\n",
    "best_model_name=[\"KNeighborsClassifier\",\"GaussianNB\",\"LogisticRegression\",\"DecisionTreeClassifier\"]\n",
    "count =0\n",
    "for model in [knn,gnb,lg,dt]:\n",
    "   \n",
    "    accuracy = []\n",
    "    exp=0\n",
    "    skf = sfkcv(n_splits=5,random_state=None)\n",
    "    print(\"\\n\")\n",
    "    print(\"for:\",best_model_name[count])\n",
    "    for train_index,test_index in skf.split(x,y):\n",
    "        exp+=1\n",
    "         #print(\"Train Indexes\",train_index,\"Validation indexes\",test_index)\n",
    "        #print(\"Experiment no:\",exp)\n",
    "        #print(\"Lenght of Train Set:\",len(train_index))\n",
    "        #print(\"Lenth of Test set: \", len(test_index))\n",
    "        X_train,X_test=x.iloc[train_index],x.iloc[test_index]\n",
    "        Y_train,Y_test=y.iloc[train_index],y.iloc[test_index]\n",
    "        #print(Y_train.value_counts())\n",
    "        #print(Y_test.value_counts())\n",
    "        model.fit(X_train,Y_train)\n",
    "        Y_predict=model.predict(X_test)\n",
    "        score = metrics.accuracy_score(Y_test,Y_predict)\n",
    "        print(\"for k ={},accuracy is {}\".format(exp,score))\n",
    "        accuracy.append(score)\n",
    "    #print(accuracy)\n",
    "    print(\"Mean accuarcy score =\",np.array(accuracy).mean())\n",
    "    best_model.append(np.array(accuracy).mean())\n",
    "    count=count+1\n",
    "#print(best_model)\n",
    "best_index = best_model.index(max(best_model))\n",
    "print(\"\\n\")\n",
    "print(best_model)\n",
    "print(\"Model with highest accuracy: \",best_model_name[best_index])"
   ]
  },
  {
   "cell_type": "markdown",
   "metadata": {},
   "source": [
    "Now doing the pediction for the test data with LogisticRegression using stratified k-folds cross validation."
   ]
  },
  {
   "cell_type": "code",
   "execution_count": 98,
   "metadata": {},
   "outputs": [
    {
     "name": "stdout",
     "output_type": "stream",
     "text": [
      "Mean validation accuracy for the model: 0.8163418290854573\n"
     ]
    }
   ],
   "source": [
    "accuracy = []\n",
    "exp=0\n",
    "skf = sfkcv(n_splits=5,random_state=None)\n",
    "for train_index,test_index in skf.split(x,y):\n",
    "    exp+=1\n",
    "         \n",
    "    X_train,X_test=x.iloc[train_index],x.iloc[test_index]\n",
    "    Y_train,Y_test=y.iloc[train_index],y.iloc[test_index]\n",
    "    #print(Y_train.value_counts())\n",
    "    #print(Y_test.value_counts())\n",
    "    lr = LogisticRegression()\n",
    "    lr.fit(X_train,Y_train)\n",
    "    Y_predict=lg.predict(X_test)\n",
    "    score = metrics.accuracy_score(Y_test,Y_predict)\n",
    "    accuracy.append(score)\n",
    "    pred_test = lr.predict(loan_test_scaled)\n",
    "    #pred = lr.predict_proba(X_test)[:,1]\n",
    "    test_loan_status1 = pd.DataFrame(pred_final)\n",
    "print(\"Mean validation accuracy for the model:\",np.mean(accuracy))"
   ]
  },
  {
   "cell_type": "code",
   "execution_count": 99,
   "metadata": {},
   "outputs": [
    {
     "name": "stdout",
     "output_type": "stream",
     "text": [
      "Fitting 3 folds for each of 40 candidates, totalling 120 fits\n"
     ]
    },
    {
     "name": "stderr",
     "output_type": "stream",
     "text": [
      "[Parallel(n_jobs=-1)]: Using backend LokyBackend with 8 concurrent workers.\n",
      "[Parallel(n_jobs=-1)]: Done  34 tasks      | elapsed:   13.4s\n",
      "[Parallel(n_jobs=-1)]: Done 120 out of 120 | elapsed:   13.6s finished\n"
     ]
    }
   ],
   "source": [
    "# Now with the help of grid search we will do hyperparameter tunning for improving the accuracy.\n",
    "# KNN Classifier Hyperparametr\n",
    "weight_options = ['uniform', 'distance']\n",
    "k_range = list(range(1,20,2))\n",
    "grid_params = {'n_neighbors':k_range,\n",
    "               'weights':weight_options,\n",
    "                'metric':['euclidean','manhattan']\n",
    "              }\n",
    "\n",
    "GS =GridSearchCV(\n",
    "     KNeighborsClassifier(),\n",
    "     grid_params,\n",
    "     verbose=1,\n",
    "     cv =3,\n",
    "     n_jobs =-1\n",
    "     )\n",
    "GS_results = GS.fit(x,y)"
   ]
  },
  {
   "cell_type": "code",
   "execution_count": 100,
   "metadata": {},
   "outputs": [
    {
     "name": "stdout",
     "output_type": "stream",
     "text": [
      "Optimal accuracy: 0.811078727691422\n"
     ]
    }
   ],
   "source": [
    "print(\"Optimal accuracy:\",GS_results.best_score_)"
   ]
  },
  {
   "cell_type": "code",
   "execution_count": 101,
   "metadata": {},
   "outputs": [
    {
     "data": {
      "text/plain": [
       "KNeighborsClassifier(metric='euclidean', n_neighbors=9)"
      ]
     },
     "execution_count": 101,
     "metadata": {},
     "output_type": "execute_result"
    }
   ],
   "source": [
    "GS_results.best_estimator_"
   ]
  },
  {
   "cell_type": "code",
   "execution_count": 102,
   "metadata": {},
   "outputs": [
    {
     "name": "stdout",
     "output_type": "stream",
     "text": [
      "Fitting 3 folds for each of 20 candidates, totalling 60 fits\n"
     ]
    },
    {
     "name": "stderr",
     "output_type": "stream",
     "text": [
      "[Parallel(n_jobs=-1)]: Using backend LokyBackend with 8 concurrent workers.\n",
      "[Parallel(n_jobs=-1)]: Done  45 out of  60 | elapsed:    0.2s remaining:    0.0s\n",
      "[Parallel(n_jobs=-1)]: Done  60 out of  60 | elapsed:    0.2s finished\n"
     ]
    }
   ],
   "source": [
    "# Decision Tree Hyperparatmeter tunning\n",
    "grid_params = {'max_depth':list(range(1,20,2)),\n",
    "                'criterion':['gini','entropy']\n",
    "              }\n",
    "\n",
    "GS =GridSearchCV(\n",
    "     DecisionTreeClassifier(),\n",
    "     grid_params,\n",
    "     verbose=1,\n",
    "     cv =3,\n",
    "     n_jobs =-1\n",
    "     )\n",
    "GS_results = GS.fit(x,y)"
   ]
  },
  {
   "cell_type": "code",
   "execution_count": 103,
   "metadata": {},
   "outputs": [
    {
     "name": "stdout",
     "output_type": "stream",
     "text": [
      "Optimal accuracy: 0.8180411629245826\n"
     ]
    }
   ],
   "source": [
    "print(\"Optimal accuracy:\",GS_results.best_score_)"
   ]
  },
  {
   "cell_type": "code",
   "execution_count": 104,
   "metadata": {},
   "outputs": [
    {
     "data": {
      "text/plain": [
       "DecisionTreeClassifier(max_depth=1)"
      ]
     },
     "execution_count": 104,
     "metadata": {},
     "output_type": "execute_result"
    }
   ],
   "source": [
    "GS_results.best_estimator_"
   ]
  },
  {
   "cell_type": "code",
   "execution_count": 105,
   "metadata": {},
   "outputs": [
    {
     "name": "stdout",
     "output_type": "stream",
     "text": [
      "Optimal Parameter: {'criterion': 'gini', 'max_depth': 1}\n"
     ]
    }
   ],
   "source": [
    "print(\"Optimal Parameter:\",GS_results.best_params_)"
   ]
  },
  {
   "cell_type": "code",
   "execution_count": 106,
   "metadata": {},
   "outputs": [
    {
     "name": "stdout",
     "output_type": "stream",
     "text": [
      "Fitting 3 folds for each of 100 candidates, totalling 300 fits\n"
     ]
    },
    {
     "name": "stderr",
     "output_type": "stream",
     "text": [
      "[Parallel(n_jobs=-1)]: Using backend LokyBackend with 8 concurrent workers.\n",
      "[Parallel(n_jobs=-1)]: Done  34 tasks      | elapsed:    1.1s\n",
      "[Parallel(n_jobs=-1)]: Done 184 tasks      | elapsed:    6.4s\n",
      "[Parallel(n_jobs=-1)]: Done 300 out of 300 | elapsed:   11.0s finished\n"
     ]
    }
   ],
   "source": [
    "# Random Forest Classifier Hyperparatmeter tunning\n",
    "max_depth =list(range(1,20,2))\n",
    "n_estimators = [1,21,41,61,81,101,121,141,161,181]\n",
    "grid_params = {'max_depth':max_depth,\n",
    "               'n_estimators':n_estimators\n",
    "              }\n",
    "\n",
    "GS =GridSearchCV(\n",
    "    RandomForestClassifier(),\n",
    "     grid_params,\n",
    "     verbose=1,\n",
    "     cv =3,\n",
    "     n_jobs =-1\n",
    "     )\n",
    "GS_results = GS.fit(x,y)"
   ]
  },
  {
   "cell_type": "code",
   "execution_count": 107,
   "metadata": {},
   "outputs": [
    {
     "name": "stdout",
     "output_type": "stream",
     "text": [
      "Optimal accuracy: 0.8180411629245826\n",
      "Optimal Parameter: {'max_depth': 3, 'n_estimators': 21}\n"
     ]
    }
   ],
   "source": [
    "print(\"Optimal accuracy:\",GS_results.best_score_)\n",
    "print(\"Optimal Parameter:\",GS_results.best_params_)"
   ]
  },
  {
   "cell_type": "code",
   "execution_count": 108,
   "metadata": {},
   "outputs": [
    {
     "name": "stdout",
     "output_type": "stream",
     "text": [
      "Accuracy= 0.8390804597701149\n"
     ]
    }
   ],
   "source": [
    "# making the prediction with decision tree('criterion': 'gini', 'max_depth': 1)\n",
    "\n",
    "x_train,x_val,y_train,y_val = train_test_split(x,y,test_size=0.3)\n",
    "model = DecisionTreeClassifier(max_depth=1)\n",
    "model.fit(x_train,y_train)\n",
    "pred = model.predict(x_val)\n",
    "print(\"Accuracy=\",accuracy_score(y_val,pred))\n",
    "\n",
    "#Now doing the pediction for the test data.\n",
    "\n",
    "pred_final1 = model.predict(loan_test_scaled)\n",
    "test_loan_status1 = pd.DataFrame(pred_final1)"
   ]
  },
  {
   "cell_type": "code",
   "execution_count": 109,
   "metadata": {},
   "outputs": [
    {
     "name": "stdout",
     "output_type": "stream",
     "text": [
      "Accuracy= 0.8103448275862069\n"
     ]
    }
   ],
   "source": [
    "# making the prediction with KNeighborsClassifier('metric': 'euclidean', 'n_neighbors': 9, 'weights': 'uniform')\n",
    "\n",
    "x_train,x_val,y_train,y_val = train_test_split(x,y,test_size=0.3)\n",
    "model = knn = KNeighborsClassifier(n_neighbors=9,metric='euclidean')\n",
    "model.fit(x_train,y_train)\n",
    "pred = model.predict(x_val)\n",
    "print(\"Accuracy=\",accuracy_score(y_val,pred))\n",
    "\n",
    "#Now doing the pediction for the test data.\n",
    "\n",
    "pred_final2 = model.predict(loan_test_scaled)\n",
    "test_loan_status2 = pd.DataFrame(pred_final2)"
   ]
  },
  {
   "cell_type": "code",
   "execution_count": 110,
   "metadata": {},
   "outputs": [
    {
     "name": "stdout",
     "output_type": "stream",
     "text": [
      "Accuracy= 0.8620689655172413\n"
     ]
    }
   ],
   "source": [
    "# making the prediction with RandomForestClassifier('max_depth': 3, 'n_estimators': 61)\n",
    "\n",
    "x_train,x_val,y_train,y_val = train_test_split(x,y,test_size=0.3)\n",
    "model = knn = RandomForestClassifier(max_depth=3,n_estimators=21)\n",
    "model.fit(x_train,y_train)\n",
    "pred = model.predict(x_val)\n",
    "print(\"Accuracy=\",accuracy_score(y_val,pred))\n",
    "\n",
    "#Now doing the pediction for the test data.\n",
    "\n",
    "pred_final3 = model.predict(loan_test_scaled)\n",
    "test_loan_status3 = pd.DataFrame(pred_final2)"
   ]
  },
  {
   "cell_type": "markdown",
   "metadata": {},
   "source": [
    "The best accuracy is achieved in random forest classifier"
   ]
  }
 ],
 "metadata": {
  "kernelspec": {
   "display_name": "Python 3",
   "language": "python",
   "name": "python3"
  },
  "language_info": {
   "codemirror_mode": {
    "name": "ipython",
    "version": 3
   },
   "file_extension": ".py",
   "mimetype": "text/x-python",
   "name": "python",
   "nbconvert_exporter": "python",
   "pygments_lexer": "ipython3",
   "version": "3.8.3"
  }
 },
 "nbformat": 4,
 "nbformat_minor": 4
}
