{
 "cells": [
  {
   "cell_type": "markdown",
   "metadata": {},
   "source": [
    "Market Basket Analysis is a technique which identifies the strength of association between pairs of products purchased together and identify patterns of co-occurrence. \n",
    "\n",
    "Market Basket Analysis creates If-Then scenario rules, for example, if item A is purchased then item B is likely to be purchased. The rules are probabilistic in nature or, in other words, they are derived from the frequencies of co-occurrence in the observations. Frequency is the proportion of baskets that contain the items of interest.\n",
    "\n",
    "The rules can be used in pricing strategies, product placement, and various types of cross-selling strategies.\n",
    "\n",
    "Market Basket analysis is particularly useful for physical retail stores as it can help in planning floor space and product placement amongst many other benefits.\n",
    "\n",
    "In this project, the recommendation using Apriori and FP Growth will be demonstrated over a large dataset.\n",
    "\n",
    "Lastly the comparison of both algorithms will be made and also which algorithm to be used under which situation will be described"
   ]
  },
  {
   "cell_type": "code",
   "execution_count": 1,
   "metadata": {},
   "outputs": [],
   "source": [
    "import pandas as pd \n",
    "import numpy as np \n",
    "import matplotlib.pyplot as plt \n",
    "#import seaborn as sns \n",
    "import warnings\n",
    "import matplotlib as mpl\n",
    "%matplotlib inline\n",
    "\n",
    "from mlxtend.frequent_patterns import apriori\n",
    "from mlxtend.frequent_patterns import association_rules"
   ]
  },
  {
   "cell_type": "code",
   "execution_count": 2,
   "metadata": {},
   "outputs": [],
   "source": [
    "import warnings\n",
    "warnings.filterwarnings('ignore')\n",
    "warnings.filterwarnings(action='ignore', category=DeprecationWarning)"
   ]
  },
  {
   "cell_type": "code",
   "execution_count": 3,
   "metadata": {},
   "outputs": [],
   "source": [
    "#from IPython.display import display\n",
    "#pd.set_option('display.max_columns', None)\n",
    "#pd.set_option('display.max_rows', None)"
   ]
  },
  {
   "cell_type": "markdown",
   "metadata": {},
   "source": [
    "## Exploratory Data Analysis (EDA)"
   ]
  },
  {
   "cell_type": "code",
   "execution_count": 4,
   "metadata": {},
   "outputs": [],
   "source": [
    "df=pd.read_csv('Supermart.csv')"
   ]
  },
  {
   "cell_type": "code",
   "execution_count": 5,
   "metadata": {},
   "outputs": [
    {
     "data": {
      "text/plain": [
       "(269720, 74)"
      ]
     },
     "execution_count": 5,
     "metadata": {},
     "output_type": "execute_result"
    }
   ],
   "source": [
    "df.shape"
   ]
  },
  {
   "cell_type": "code",
   "execution_count": 6,
   "metadata": {
    "scrolled": false
   },
   "outputs": [
    {
     "data": {
      "text/html": [
       "<div>\n",
       "<style scoped>\n",
       "    .dataframe tbody tr th:only-of-type {\n",
       "        vertical-align: middle;\n",
       "    }\n",
       "\n",
       "    .dataframe tbody tr th {\n",
       "        vertical-align: top;\n",
       "    }\n",
       "\n",
       "    .dataframe thead th {\n",
       "        text-align: right;\n",
       "    }\n",
       "</style>\n",
       "<table border=\"1\" class=\"dataframe\">\n",
       "  <thead>\n",
       "    <tr style=\"text-align: right;\">\n",
       "      <th></th>\n",
       "      <th>product_id</th>\n",
       "      <th>time_id</th>\n",
       "      <th>customer_id</th>\n",
       "      <th>store_id</th>\n",
       "      <th>store_sales</th>\n",
       "      <th>store_cost</th>\n",
       "      <th>unit_sales</th>\n",
       "      <th>city</th>\n",
       "      <th>state_province</th>\n",
       "      <th>country</th>\n",
       "      <th>...</th>\n",
       "      <th>sales_district</th>\n",
       "      <th>sales_region</th>\n",
       "      <th>sales_country</th>\n",
       "      <th>sales_district_id</th>\n",
       "      <th>the_date</th>\n",
       "      <th>the_day</th>\n",
       "      <th>the_year</th>\n",
       "      <th>the_month</th>\n",
       "      <th>day_of_month</th>\n",
       "      <th>day_since_epoch</th>\n",
       "    </tr>\n",
       "  </thead>\n",
       "  <tbody>\n",
       "    <tr>\n",
       "      <th>0</th>\n",
       "      <td>337</td>\n",
       "      <td>371</td>\n",
       "      <td>6280</td>\n",
       "      <td>2</td>\n",
       "      <td>1.50</td>\n",
       "      <td>0.5100</td>\n",
       "      <td>2</td>\n",
       "      <td>Anacortes</td>\n",
       "      <td>WA</td>\n",
       "      <td>USA</td>\n",
       "      <td>...</td>\n",
       "      <td>Bellingham</td>\n",
       "      <td>North West</td>\n",
       "      <td>USA</td>\n",
       "      <td>111</td>\n",
       "      <td>05-01-1997</td>\n",
       "      <td>Sunday</td>\n",
       "      <td>1997</td>\n",
       "      <td>1</td>\n",
       "      <td>5</td>\n",
       "      <td>33973</td>\n",
       "    </tr>\n",
       "    <tr>\n",
       "      <th>1</th>\n",
       "      <td>963</td>\n",
       "      <td>371</td>\n",
       "      <td>4018</td>\n",
       "      <td>2</td>\n",
       "      <td>2.40</td>\n",
       "      <td>0.7200</td>\n",
       "      <td>1</td>\n",
       "      <td>Sedro Woolley</td>\n",
       "      <td>WA</td>\n",
       "      <td>USA</td>\n",
       "      <td>...</td>\n",
       "      <td>Bellingham</td>\n",
       "      <td>North West</td>\n",
       "      <td>USA</td>\n",
       "      <td>111</td>\n",
       "      <td>05-01-1997</td>\n",
       "      <td>Sunday</td>\n",
       "      <td>1997</td>\n",
       "      <td>1</td>\n",
       "      <td>5</td>\n",
       "      <td>33973</td>\n",
       "    </tr>\n",
       "    <tr>\n",
       "      <th>2</th>\n",
       "      <td>1512</td>\n",
       "      <td>371</td>\n",
       "      <td>6280</td>\n",
       "      <td>2</td>\n",
       "      <td>1.62</td>\n",
       "      <td>0.6318</td>\n",
       "      <td>3</td>\n",
       "      <td>Anacortes</td>\n",
       "      <td>WA</td>\n",
       "      <td>USA</td>\n",
       "      <td>...</td>\n",
       "      <td>Bellingham</td>\n",
       "      <td>North West</td>\n",
       "      <td>USA</td>\n",
       "      <td>111</td>\n",
       "      <td>05-01-1997</td>\n",
       "      <td>Sunday</td>\n",
       "      <td>1997</td>\n",
       "      <td>1</td>\n",
       "      <td>5</td>\n",
       "      <td>33973</td>\n",
       "    </tr>\n",
       "    <tr>\n",
       "      <th>3</th>\n",
       "      <td>181</td>\n",
       "      <td>371</td>\n",
       "      <td>4018</td>\n",
       "      <td>2</td>\n",
       "      <td>2.79</td>\n",
       "      <td>1.0323</td>\n",
       "      <td>3</td>\n",
       "      <td>Sedro Woolley</td>\n",
       "      <td>WA</td>\n",
       "      <td>USA</td>\n",
       "      <td>...</td>\n",
       "      <td>Bellingham</td>\n",
       "      <td>North West</td>\n",
       "      <td>USA</td>\n",
       "      <td>111</td>\n",
       "      <td>05-01-1997</td>\n",
       "      <td>Sunday</td>\n",
       "      <td>1997</td>\n",
       "      <td>1</td>\n",
       "      <td>5</td>\n",
       "      <td>33973</td>\n",
       "    </tr>\n",
       "    <tr>\n",
       "      <th>4</th>\n",
       "      <td>483</td>\n",
       "      <td>371</td>\n",
       "      <td>4382</td>\n",
       "      <td>2</td>\n",
       "      <td>3.88</td>\n",
       "      <td>1.7072</td>\n",
       "      <td>2</td>\n",
       "      <td>Anacortes</td>\n",
       "      <td>WA</td>\n",
       "      <td>USA</td>\n",
       "      <td>...</td>\n",
       "      <td>Bellingham</td>\n",
       "      <td>North West</td>\n",
       "      <td>USA</td>\n",
       "      <td>111</td>\n",
       "      <td>05-01-1997</td>\n",
       "      <td>Sunday</td>\n",
       "      <td>1997</td>\n",
       "      <td>1</td>\n",
       "      <td>5</td>\n",
       "      <td>33973</td>\n",
       "    </tr>\n",
       "  </tbody>\n",
       "</table>\n",
       "<p>5 rows × 74 columns</p>\n",
       "</div>"
      ],
      "text/plain": [
       "   product_id  time_id  customer_id  store_id  store_sales  store_cost  \\\n",
       "0         337      371         6280         2         1.50      0.5100   \n",
       "1         963      371         4018         2         2.40      0.7200   \n",
       "2        1512      371         6280         2         1.62      0.6318   \n",
       "3         181      371         4018         2         2.79      1.0323   \n",
       "4         483      371         4382         2         3.88      1.7072   \n",
       "\n",
       "   unit_sales           city state_province country  ...  sales_district  \\\n",
       "0           2      Anacortes             WA     USA  ...      Bellingham   \n",
       "1           1  Sedro Woolley             WA     USA  ...      Bellingham   \n",
       "2           3      Anacortes             WA     USA  ...      Bellingham   \n",
       "3           3  Sedro Woolley             WA     USA  ...      Bellingham   \n",
       "4           2      Anacortes             WA     USA  ...      Bellingham   \n",
       "\n",
       "  sales_region sales_country  sales_district_id    the_date the_day the_year  \\\n",
       "0   North West           USA                111  05-01-1997  Sunday     1997   \n",
       "1   North West           USA                111  05-01-1997  Sunday     1997   \n",
       "2   North West           USA                111  05-01-1997  Sunday     1997   \n",
       "3   North West           USA                111  05-01-1997  Sunday     1997   \n",
       "4   North West           USA                111  05-01-1997  Sunday     1997   \n",
       "\n",
       "  the_month day_of_month day_since_epoch  \n",
       "0         1            5           33973  \n",
       "1         1            5           33973  \n",
       "2         1            5           33973  \n",
       "3         1            5           33973  \n",
       "4         1            5           33973  \n",
       "\n",
       "[5 rows x 74 columns]"
      ]
     },
     "execution_count": 6,
     "metadata": {},
     "output_type": "execute_result"
    }
   ],
   "source": [
    "df.head()"
   ]
  },
  {
   "cell_type": "markdown",
   "metadata": {},
   "source": [
    "## Data Exploration"
   ]
  },
  {
   "cell_type": "code",
   "execution_count": 7,
   "metadata": {},
   "outputs": [
    {
     "data": {
      "text/html": [
       "<div>\n",
       "<style scoped>\n",
       "    .dataframe tbody tr th:only-of-type {\n",
       "        vertical-align: middle;\n",
       "    }\n",
       "\n",
       "    .dataframe tbody tr th {\n",
       "        vertical-align: top;\n",
       "    }\n",
       "\n",
       "    .dataframe thead th {\n",
       "        text-align: right;\n",
       "    }\n",
       "</style>\n",
       "<table border=\"1\" class=\"dataframe\">\n",
       "  <thead>\n",
       "    <tr style=\"text-align: right;\">\n",
       "      <th></th>\n",
       "      <th>product_id</th>\n",
       "      <th>time_id</th>\n",
       "      <th>customer_id</th>\n",
       "      <th>store_id</th>\n",
       "      <th>store_sales</th>\n",
       "      <th>store_cost</th>\n",
       "      <th>unit_sales</th>\n",
       "      <th>customer_region_id</th>\n",
       "      <th>total_children</th>\n",
       "      <th>num_children_at_home</th>\n",
       "      <th>...</th>\n",
       "      <th>coffee_bar</th>\n",
       "      <th>video_store</th>\n",
       "      <th>salad_bar</th>\n",
       "      <th>prepared_food</th>\n",
       "      <th>florist</th>\n",
       "      <th>sales_district_id</th>\n",
       "      <th>the_year</th>\n",
       "      <th>the_month</th>\n",
       "      <th>day_of_month</th>\n",
       "      <th>day_since_epoch</th>\n",
       "    </tr>\n",
       "  </thead>\n",
       "  <tbody>\n",
       "    <tr>\n",
       "      <th>count</th>\n",
       "      <td>269720.000000</td>\n",
       "      <td>269720.000000</td>\n",
       "      <td>269720.000000</td>\n",
       "      <td>269720.000000</td>\n",
       "      <td>269720.000000</td>\n",
       "      <td>269720.000000</td>\n",
       "      <td>269720.000000</td>\n",
       "      <td>269720.000000</td>\n",
       "      <td>269720.000000</td>\n",
       "      <td>269720.000000</td>\n",
       "      <td>...</td>\n",
       "      <td>269720.000000</td>\n",
       "      <td>269720.000000</td>\n",
       "      <td>269720.000000</td>\n",
       "      <td>269720.000000</td>\n",
       "      <td>269720.000000</td>\n",
       "      <td>269720.000000</td>\n",
       "      <td>269720.000000</td>\n",
       "      <td>269720.000000</td>\n",
       "      <td>269720.000000</td>\n",
       "      <td>269720.000000</td>\n",
       "    </tr>\n",
       "    <tr>\n",
       "      <th>mean</th>\n",
       "      <td>783.862873</td>\n",
       "      <td>800.004990</td>\n",
       "      <td>5119.390405</td>\n",
       "      <td>12.753730</td>\n",
       "      <td>6.542142</td>\n",
       "      <td>2.618622</td>\n",
       "      <td>3.090201</td>\n",
       "      <td>57.723454</td>\n",
       "      <td>2.535351</td>\n",
       "      <td>0.816091</td>\n",
       "      <td>...</td>\n",
       "      <td>0.623484</td>\n",
       "      <td>0.295265</td>\n",
       "      <td>0.614471</td>\n",
       "      <td>0.553111</td>\n",
       "      <td>0.594839</td>\n",
       "      <td>120.811319</td>\n",
       "      <td>1997.678048</td>\n",
       "      <td>6.661100</td>\n",
       "      <td>15.109970</td>\n",
       "      <td>34402.004990</td>\n",
       "    </tr>\n",
       "    <tr>\n",
       "      <th>std</th>\n",
       "      <td>447.926131</td>\n",
       "      <td>201.955563</td>\n",
       "      <td>2901.883077</td>\n",
       "      <td>6.349746</td>\n",
       "      <td>3.461318</td>\n",
       "      <td>1.452805</td>\n",
       "      <td>0.835554</td>\n",
       "      <td>29.973844</td>\n",
       "      <td>1.490679</td>\n",
       "      <td>1.292423</td>\n",
       "      <td>...</td>\n",
       "      <td>0.484513</td>\n",
       "      <td>0.456163</td>\n",
       "      <td>0.486721</td>\n",
       "      <td>0.497172</td>\n",
       "      <td>0.490924</td>\n",
       "      <td>6.222520</td>\n",
       "      <td>0.467226</td>\n",
       "      <td>3.514326</td>\n",
       "      <td>8.319021</td>\n",
       "      <td>201.955563</td>\n",
       "    </tr>\n",
       "    <tr>\n",
       "      <th>min</th>\n",
       "      <td>1.000000</td>\n",
       "      <td>367.000000</td>\n",
       "      <td>3.000000</td>\n",
       "      <td>1.000000</td>\n",
       "      <td>0.500000</td>\n",
       "      <td>0.153000</td>\n",
       "      <td>1.000000</td>\n",
       "      <td>1.000000</td>\n",
       "      <td>0.000000</td>\n",
       "      <td>0.000000</td>\n",
       "      <td>...</td>\n",
       "      <td>0.000000</td>\n",
       "      <td>0.000000</td>\n",
       "      <td>0.000000</td>\n",
       "      <td>0.000000</td>\n",
       "      <td>0.000000</td>\n",
       "      <td>110.000000</td>\n",
       "      <td>1997.000000</td>\n",
       "      <td>1.000000</td>\n",
       "      <td>1.000000</td>\n",
       "      <td>33969.000000</td>\n",
       "    </tr>\n",
       "    <tr>\n",
       "      <th>25%</th>\n",
       "      <td>396.000000</td>\n",
       "      <td>657.000000</td>\n",
       "      <td>2570.000000</td>\n",
       "      <td>7.000000</td>\n",
       "      <td>3.810000</td>\n",
       "      <td>1.498000</td>\n",
       "      <td>3.000000</td>\n",
       "      <td>26.000000</td>\n",
       "      <td>1.000000</td>\n",
       "      <td>0.000000</td>\n",
       "      <td>...</td>\n",
       "      <td>0.000000</td>\n",
       "      <td>0.000000</td>\n",
       "      <td>0.000000</td>\n",
       "      <td>0.000000</td>\n",
       "      <td>0.000000</td>\n",
       "      <td>116.000000</td>\n",
       "      <td>1997.000000</td>\n",
       "      <td>4.000000</td>\n",
       "      <td>8.000000</td>\n",
       "      <td>34259.000000</td>\n",
       "    </tr>\n",
       "    <tr>\n",
       "      <th>50%</th>\n",
       "      <td>787.000000</td>\n",
       "      <td>830.000000</td>\n",
       "      <td>5090.000000</td>\n",
       "      <td>13.000000</td>\n",
       "      <td>5.940000</td>\n",
       "      <td>2.386500</td>\n",
       "      <td>3.000000</td>\n",
       "      <td>66.000000</td>\n",
       "      <td>3.000000</td>\n",
       "      <td>0.000000</td>\n",
       "      <td>...</td>\n",
       "      <td>1.000000</td>\n",
       "      <td>0.000000</td>\n",
       "      <td>1.000000</td>\n",
       "      <td>1.000000</td>\n",
       "      <td>1.000000</td>\n",
       "      <td>120.000000</td>\n",
       "      <td>1998.000000</td>\n",
       "      <td>7.000000</td>\n",
       "      <td>15.000000</td>\n",
       "      <td>34432.000000</td>\n",
       "    </tr>\n",
       "    <tr>\n",
       "      <th>75%</th>\n",
       "      <td>1174.000000</td>\n",
       "      <td>968.000000</td>\n",
       "      <td>7614.000000</td>\n",
       "      <td>17.000000</td>\n",
       "      <td>8.670000</td>\n",
       "      <td>3.486000</td>\n",
       "      <td>4.000000</td>\n",
       "      <td>85.000000</td>\n",
       "      <td>4.000000</td>\n",
       "      <td>1.000000</td>\n",
       "      <td>...</td>\n",
       "      <td>1.000000</td>\n",
       "      <td>1.000000</td>\n",
       "      <td>1.000000</td>\n",
       "      <td>1.000000</td>\n",
       "      <td>1.000000</td>\n",
       "      <td>125.000000</td>\n",
       "      <td>1998.000000</td>\n",
       "      <td>10.000000</td>\n",
       "      <td>22.000000</td>\n",
       "      <td>34570.000000</td>\n",
       "    </tr>\n",
       "    <tr>\n",
       "      <th>max</th>\n",
       "      <td>1559.000000</td>\n",
       "      <td>1095.000000</td>\n",
       "      <td>10281.000000</td>\n",
       "      <td>24.000000</td>\n",
       "      <td>23.640000</td>\n",
       "      <td>10.290000</td>\n",
       "      <td>6.000000</td>\n",
       "      <td>109.000000</td>\n",
       "      <td>5.000000</td>\n",
       "      <td>5.000000</td>\n",
       "      <td>...</td>\n",
       "      <td>1.000000</td>\n",
       "      <td>1.000000</td>\n",
       "      <td>1.000000</td>\n",
       "      <td>1.000000</td>\n",
       "      <td>1.000000</td>\n",
       "      <td>133.000000</td>\n",
       "      <td>1998.000000</td>\n",
       "      <td>12.000000</td>\n",
       "      <td>30.000000</td>\n",
       "      <td>34697.000000</td>\n",
       "    </tr>\n",
       "  </tbody>\n",
       "</table>\n",
       "<p>8 rows × 40 columns</p>\n",
       "</div>"
      ],
      "text/plain": [
       "          product_id        time_id    customer_id       store_id  \\\n",
       "count  269720.000000  269720.000000  269720.000000  269720.000000   \n",
       "mean      783.862873     800.004990    5119.390405      12.753730   \n",
       "std       447.926131     201.955563    2901.883077       6.349746   \n",
       "min         1.000000     367.000000       3.000000       1.000000   \n",
       "25%       396.000000     657.000000    2570.000000       7.000000   \n",
       "50%       787.000000     830.000000    5090.000000      13.000000   \n",
       "75%      1174.000000     968.000000    7614.000000      17.000000   \n",
       "max      1559.000000    1095.000000   10281.000000      24.000000   \n",
       "\n",
       "         store_sales     store_cost     unit_sales  customer_region_id  \\\n",
       "count  269720.000000  269720.000000  269720.000000       269720.000000   \n",
       "mean        6.542142       2.618622       3.090201           57.723454   \n",
       "std         3.461318       1.452805       0.835554           29.973844   \n",
       "min         0.500000       0.153000       1.000000            1.000000   \n",
       "25%         3.810000       1.498000       3.000000           26.000000   \n",
       "50%         5.940000       2.386500       3.000000           66.000000   \n",
       "75%         8.670000       3.486000       4.000000           85.000000   \n",
       "max        23.640000      10.290000       6.000000          109.000000   \n",
       "\n",
       "       total_children  num_children_at_home  ...     coffee_bar  \\\n",
       "count   269720.000000         269720.000000  ...  269720.000000   \n",
       "mean         2.535351              0.816091  ...       0.623484   \n",
       "std          1.490679              1.292423  ...       0.484513   \n",
       "min          0.000000              0.000000  ...       0.000000   \n",
       "25%          1.000000              0.000000  ...       0.000000   \n",
       "50%          3.000000              0.000000  ...       1.000000   \n",
       "75%          4.000000              1.000000  ...       1.000000   \n",
       "max          5.000000              5.000000  ...       1.000000   \n",
       "\n",
       "         video_store      salad_bar  prepared_food        florist  \\\n",
       "count  269720.000000  269720.000000  269720.000000  269720.000000   \n",
       "mean        0.295265       0.614471       0.553111       0.594839   \n",
       "std         0.456163       0.486721       0.497172       0.490924   \n",
       "min         0.000000       0.000000       0.000000       0.000000   \n",
       "25%         0.000000       0.000000       0.000000       0.000000   \n",
       "50%         0.000000       1.000000       1.000000       1.000000   \n",
       "75%         1.000000       1.000000       1.000000       1.000000   \n",
       "max         1.000000       1.000000       1.000000       1.000000   \n",
       "\n",
       "       sales_district_id       the_year      the_month   day_of_month  \\\n",
       "count      269720.000000  269720.000000  269720.000000  269720.000000   \n",
       "mean          120.811319    1997.678048       6.661100      15.109970   \n",
       "std             6.222520       0.467226       3.514326       8.319021   \n",
       "min           110.000000    1997.000000       1.000000       1.000000   \n",
       "25%           116.000000    1997.000000       4.000000       8.000000   \n",
       "50%           120.000000    1998.000000       7.000000      15.000000   \n",
       "75%           125.000000    1998.000000      10.000000      22.000000   \n",
       "max           133.000000    1998.000000      12.000000      30.000000   \n",
       "\n",
       "       day_since_epoch  \n",
       "count    269720.000000  \n",
       "mean      34402.004990  \n",
       "std         201.955563  \n",
       "min       33969.000000  \n",
       "25%       34259.000000  \n",
       "50%       34432.000000  \n",
       "75%       34570.000000  \n",
       "max       34697.000000  \n",
       "\n",
       "[8 rows x 40 columns]"
      ]
     },
     "execution_count": 7,
     "metadata": {},
     "output_type": "execute_result"
    }
   ],
   "source": [
    "df.describe()"
   ]
  },
  {
   "cell_type": "markdown",
   "metadata": {},
   "source": [
    "Let's include categorical features also in description"
   ]
  },
  {
   "cell_type": "code",
   "execution_count": 8,
   "metadata": {},
   "outputs": [
    {
     "data": {
      "text/html": [
       "<div>\n",
       "<style scoped>\n",
       "    .dataframe tbody tr th:only-of-type {\n",
       "        vertical-align: middle;\n",
       "    }\n",
       "\n",
       "    .dataframe tbody tr th {\n",
       "        vertical-align: top;\n",
       "    }\n",
       "\n",
       "    .dataframe thead th {\n",
       "        text-align: right;\n",
       "    }\n",
       "</style>\n",
       "<table border=\"1\" class=\"dataframe\">\n",
       "  <thead>\n",
       "    <tr style=\"text-align: right;\">\n",
       "      <th></th>\n",
       "      <th>product_id</th>\n",
       "      <th>time_id</th>\n",
       "      <th>customer_id</th>\n",
       "      <th>store_id</th>\n",
       "      <th>store_sales</th>\n",
       "      <th>store_cost</th>\n",
       "      <th>unit_sales</th>\n",
       "      <th>city</th>\n",
       "      <th>state_province</th>\n",
       "      <th>country</th>\n",
       "      <th>...</th>\n",
       "      <th>sales_district</th>\n",
       "      <th>sales_region</th>\n",
       "      <th>sales_country</th>\n",
       "      <th>sales_district_id</th>\n",
       "      <th>the_date</th>\n",
       "      <th>the_day</th>\n",
       "      <th>the_year</th>\n",
       "      <th>the_month</th>\n",
       "      <th>day_of_month</th>\n",
       "      <th>day_since_epoch</th>\n",
       "    </tr>\n",
       "  </thead>\n",
       "  <tbody>\n",
       "    <tr>\n",
       "      <th>count</th>\n",
       "      <td>269720.000000</td>\n",
       "      <td>269720.000000</td>\n",
       "      <td>269720.000000</td>\n",
       "      <td>269720.000000</td>\n",
       "      <td>269720.000000</td>\n",
       "      <td>269720.000000</td>\n",
       "      <td>269720.000000</td>\n",
       "      <td>269720</td>\n",
       "      <td>269720</td>\n",
       "      <td>269720</td>\n",
       "      <td>...</td>\n",
       "      <td>269720</td>\n",
       "      <td>269720</td>\n",
       "      <td>269720</td>\n",
       "      <td>269720.000000</td>\n",
       "      <td>269720</td>\n",
       "      <td>269720</td>\n",
       "      <td>269720.000000</td>\n",
       "      <td>269720.000000</td>\n",
       "      <td>269720.000000</td>\n",
       "      <td>269720.000000</td>\n",
       "    </tr>\n",
       "    <tr>\n",
       "      <th>unique</th>\n",
       "      <td>NaN</td>\n",
       "      <td>NaN</td>\n",
       "      <td>NaN</td>\n",
       "      <td>NaN</td>\n",
       "      <td>NaN</td>\n",
       "      <td>NaN</td>\n",
       "      <td>NaN</td>\n",
       "      <td>107</td>\n",
       "      <td>12</td>\n",
       "      <td>3</td>\n",
       "      <td>...</td>\n",
       "      <td>21</td>\n",
       "      <td>7</td>\n",
       "      <td>3</td>\n",
       "      <td>NaN</td>\n",
       "      <td>673</td>\n",
       "      <td>7</td>\n",
       "      <td>NaN</td>\n",
       "      <td>NaN</td>\n",
       "      <td>NaN</td>\n",
       "      <td>NaN</td>\n",
       "    </tr>\n",
       "    <tr>\n",
       "      <th>top</th>\n",
       "      <td>NaN</td>\n",
       "      <td>NaN</td>\n",
       "      <td>NaN</td>\n",
       "      <td>NaN</td>\n",
       "      <td>NaN</td>\n",
       "      <td>NaN</td>\n",
       "      <td>NaN</td>\n",
       "      <td>Hidalgo</td>\n",
       "      <td>WA</td>\n",
       "      <td>USA</td>\n",
       "      <td>...</td>\n",
       "      <td>Los Angeles</td>\n",
       "      <td>North West</td>\n",
       "      <td>USA</td>\n",
       "      <td>NaN</td>\n",
       "      <td>07-12-1998</td>\n",
       "      <td>Thursday</td>\n",
       "      <td>NaN</td>\n",
       "      <td>NaN</td>\n",
       "      <td>NaN</td>\n",
       "      <td>NaN</td>\n",
       "    </tr>\n",
       "    <tr>\n",
       "      <th>freq</th>\n",
       "      <td>NaN</td>\n",
       "      <td>NaN</td>\n",
       "      <td>NaN</td>\n",
       "      <td>NaN</td>\n",
       "      <td>NaN</td>\n",
       "      <td>NaN</td>\n",
       "      <td>NaN</td>\n",
       "      <td>16684</td>\n",
       "      <td>86855</td>\n",
       "      <td>180823</td>\n",
       "      <td>...</td>\n",
       "      <td>31501</td>\n",
       "      <td>130006</td>\n",
       "      <td>180823</td>\n",
       "      <td>NaN</td>\n",
       "      <td>1377</td>\n",
       "      <td>40685</td>\n",
       "      <td>NaN</td>\n",
       "      <td>NaN</td>\n",
       "      <td>NaN</td>\n",
       "      <td>NaN</td>\n",
       "    </tr>\n",
       "    <tr>\n",
       "      <th>mean</th>\n",
       "      <td>783.862873</td>\n",
       "      <td>800.004990</td>\n",
       "      <td>5119.390405</td>\n",
       "      <td>12.753730</td>\n",
       "      <td>6.542142</td>\n",
       "      <td>2.618622</td>\n",
       "      <td>3.090201</td>\n",
       "      <td>NaN</td>\n",
       "      <td>NaN</td>\n",
       "      <td>NaN</td>\n",
       "      <td>...</td>\n",
       "      <td>NaN</td>\n",
       "      <td>NaN</td>\n",
       "      <td>NaN</td>\n",
       "      <td>120.811319</td>\n",
       "      <td>NaN</td>\n",
       "      <td>NaN</td>\n",
       "      <td>1997.678048</td>\n",
       "      <td>6.661100</td>\n",
       "      <td>15.109970</td>\n",
       "      <td>34402.004990</td>\n",
       "    </tr>\n",
       "    <tr>\n",
       "      <th>std</th>\n",
       "      <td>447.926131</td>\n",
       "      <td>201.955563</td>\n",
       "      <td>2901.883077</td>\n",
       "      <td>6.349746</td>\n",
       "      <td>3.461318</td>\n",
       "      <td>1.452805</td>\n",
       "      <td>0.835554</td>\n",
       "      <td>NaN</td>\n",
       "      <td>NaN</td>\n",
       "      <td>NaN</td>\n",
       "      <td>...</td>\n",
       "      <td>NaN</td>\n",
       "      <td>NaN</td>\n",
       "      <td>NaN</td>\n",
       "      <td>6.222520</td>\n",
       "      <td>NaN</td>\n",
       "      <td>NaN</td>\n",
       "      <td>0.467226</td>\n",
       "      <td>3.514326</td>\n",
       "      <td>8.319021</td>\n",
       "      <td>201.955563</td>\n",
       "    </tr>\n",
       "    <tr>\n",
       "      <th>min</th>\n",
       "      <td>1.000000</td>\n",
       "      <td>367.000000</td>\n",
       "      <td>3.000000</td>\n",
       "      <td>1.000000</td>\n",
       "      <td>0.500000</td>\n",
       "      <td>0.153000</td>\n",
       "      <td>1.000000</td>\n",
       "      <td>NaN</td>\n",
       "      <td>NaN</td>\n",
       "      <td>NaN</td>\n",
       "      <td>...</td>\n",
       "      <td>NaN</td>\n",
       "      <td>NaN</td>\n",
       "      <td>NaN</td>\n",
       "      <td>110.000000</td>\n",
       "      <td>NaN</td>\n",
       "      <td>NaN</td>\n",
       "      <td>1997.000000</td>\n",
       "      <td>1.000000</td>\n",
       "      <td>1.000000</td>\n",
       "      <td>33969.000000</td>\n",
       "    </tr>\n",
       "    <tr>\n",
       "      <th>25%</th>\n",
       "      <td>396.000000</td>\n",
       "      <td>657.000000</td>\n",
       "      <td>2570.000000</td>\n",
       "      <td>7.000000</td>\n",
       "      <td>3.810000</td>\n",
       "      <td>1.498000</td>\n",
       "      <td>3.000000</td>\n",
       "      <td>NaN</td>\n",
       "      <td>NaN</td>\n",
       "      <td>NaN</td>\n",
       "      <td>...</td>\n",
       "      <td>NaN</td>\n",
       "      <td>NaN</td>\n",
       "      <td>NaN</td>\n",
       "      <td>116.000000</td>\n",
       "      <td>NaN</td>\n",
       "      <td>NaN</td>\n",
       "      <td>1997.000000</td>\n",
       "      <td>4.000000</td>\n",
       "      <td>8.000000</td>\n",
       "      <td>34259.000000</td>\n",
       "    </tr>\n",
       "    <tr>\n",
       "      <th>50%</th>\n",
       "      <td>787.000000</td>\n",
       "      <td>830.000000</td>\n",
       "      <td>5090.000000</td>\n",
       "      <td>13.000000</td>\n",
       "      <td>5.940000</td>\n",
       "      <td>2.386500</td>\n",
       "      <td>3.000000</td>\n",
       "      <td>NaN</td>\n",
       "      <td>NaN</td>\n",
       "      <td>NaN</td>\n",
       "      <td>...</td>\n",
       "      <td>NaN</td>\n",
       "      <td>NaN</td>\n",
       "      <td>NaN</td>\n",
       "      <td>120.000000</td>\n",
       "      <td>NaN</td>\n",
       "      <td>NaN</td>\n",
       "      <td>1998.000000</td>\n",
       "      <td>7.000000</td>\n",
       "      <td>15.000000</td>\n",
       "      <td>34432.000000</td>\n",
       "    </tr>\n",
       "    <tr>\n",
       "      <th>75%</th>\n",
       "      <td>1174.000000</td>\n",
       "      <td>968.000000</td>\n",
       "      <td>7614.000000</td>\n",
       "      <td>17.000000</td>\n",
       "      <td>8.670000</td>\n",
       "      <td>3.486000</td>\n",
       "      <td>4.000000</td>\n",
       "      <td>NaN</td>\n",
       "      <td>NaN</td>\n",
       "      <td>NaN</td>\n",
       "      <td>...</td>\n",
       "      <td>NaN</td>\n",
       "      <td>NaN</td>\n",
       "      <td>NaN</td>\n",
       "      <td>125.000000</td>\n",
       "      <td>NaN</td>\n",
       "      <td>NaN</td>\n",
       "      <td>1998.000000</td>\n",
       "      <td>10.000000</td>\n",
       "      <td>22.000000</td>\n",
       "      <td>34570.000000</td>\n",
       "    </tr>\n",
       "    <tr>\n",
       "      <th>max</th>\n",
       "      <td>1559.000000</td>\n",
       "      <td>1095.000000</td>\n",
       "      <td>10281.000000</td>\n",
       "      <td>24.000000</td>\n",
       "      <td>23.640000</td>\n",
       "      <td>10.290000</td>\n",
       "      <td>6.000000</td>\n",
       "      <td>NaN</td>\n",
       "      <td>NaN</td>\n",
       "      <td>NaN</td>\n",
       "      <td>...</td>\n",
       "      <td>NaN</td>\n",
       "      <td>NaN</td>\n",
       "      <td>NaN</td>\n",
       "      <td>133.000000</td>\n",
       "      <td>NaN</td>\n",
       "      <td>NaN</td>\n",
       "      <td>1998.000000</td>\n",
       "      <td>12.000000</td>\n",
       "      <td>30.000000</td>\n",
       "      <td>34697.000000</td>\n",
       "    </tr>\n",
       "  </tbody>\n",
       "</table>\n",
       "<p>11 rows × 74 columns</p>\n",
       "</div>"
      ],
      "text/plain": [
       "           product_id        time_id    customer_id       store_id  \\\n",
       "count   269720.000000  269720.000000  269720.000000  269720.000000   \n",
       "unique            NaN            NaN            NaN            NaN   \n",
       "top               NaN            NaN            NaN            NaN   \n",
       "freq              NaN            NaN            NaN            NaN   \n",
       "mean       783.862873     800.004990    5119.390405      12.753730   \n",
       "std        447.926131     201.955563    2901.883077       6.349746   \n",
       "min          1.000000     367.000000       3.000000       1.000000   \n",
       "25%        396.000000     657.000000    2570.000000       7.000000   \n",
       "50%        787.000000     830.000000    5090.000000      13.000000   \n",
       "75%       1174.000000     968.000000    7614.000000      17.000000   \n",
       "max       1559.000000    1095.000000   10281.000000      24.000000   \n",
       "\n",
       "          store_sales     store_cost     unit_sales     city state_province  \\\n",
       "count   269720.000000  269720.000000  269720.000000   269720         269720   \n",
       "unique            NaN            NaN            NaN      107             12   \n",
       "top               NaN            NaN            NaN  Hidalgo             WA   \n",
       "freq              NaN            NaN            NaN    16684          86855   \n",
       "mean         6.542142       2.618622       3.090201      NaN            NaN   \n",
       "std          3.461318       1.452805       0.835554      NaN            NaN   \n",
       "min          0.500000       0.153000       1.000000      NaN            NaN   \n",
       "25%          3.810000       1.498000       3.000000      NaN            NaN   \n",
       "50%          5.940000       2.386500       3.000000      NaN            NaN   \n",
       "75%          8.670000       3.486000       4.000000      NaN            NaN   \n",
       "max         23.640000      10.290000       6.000000      NaN            NaN   \n",
       "\n",
       "       country  ...  sales_district sales_region sales_country  \\\n",
       "count   269720  ...          269720       269720        269720   \n",
       "unique       3  ...              21            7             3   \n",
       "top        USA  ...     Los Angeles   North West           USA   \n",
       "freq    180823  ...           31501       130006        180823   \n",
       "mean       NaN  ...             NaN          NaN           NaN   \n",
       "std        NaN  ...             NaN          NaN           NaN   \n",
       "min        NaN  ...             NaN          NaN           NaN   \n",
       "25%        NaN  ...             NaN          NaN           NaN   \n",
       "50%        NaN  ...             NaN          NaN           NaN   \n",
       "75%        NaN  ...             NaN          NaN           NaN   \n",
       "max        NaN  ...             NaN          NaN           NaN   \n",
       "\n",
       "        sales_district_id    the_date   the_day       the_year      the_month  \\\n",
       "count       269720.000000      269720    269720  269720.000000  269720.000000   \n",
       "unique                NaN         673         7            NaN            NaN   \n",
       "top                   NaN  07-12-1998  Thursday            NaN            NaN   \n",
       "freq                  NaN        1377     40685            NaN            NaN   \n",
       "mean           120.811319         NaN       NaN    1997.678048       6.661100   \n",
       "std              6.222520         NaN       NaN       0.467226       3.514326   \n",
       "min            110.000000         NaN       NaN    1997.000000       1.000000   \n",
       "25%            116.000000         NaN       NaN    1997.000000       4.000000   \n",
       "50%            120.000000         NaN       NaN    1998.000000       7.000000   \n",
       "75%            125.000000         NaN       NaN    1998.000000      10.000000   \n",
       "max            133.000000         NaN       NaN    1998.000000      12.000000   \n",
       "\n",
       "         day_of_month day_since_epoch  \n",
       "count   269720.000000   269720.000000  \n",
       "unique            NaN             NaN  \n",
       "top               NaN             NaN  \n",
       "freq              NaN             NaN  \n",
       "mean        15.109970    34402.004990  \n",
       "std          8.319021      201.955563  \n",
       "min          1.000000    33969.000000  \n",
       "25%          8.000000    34259.000000  \n",
       "50%         15.000000    34432.000000  \n",
       "75%         22.000000    34570.000000  \n",
       "max         30.000000    34697.000000  \n",
       "\n",
       "[11 rows x 74 columns]"
      ]
     },
     "execution_count": 8,
     "metadata": {},
     "output_type": "execute_result"
    }
   ],
   "source": [
    "df.describe(include='all')"
   ]
  },
  {
   "cell_type": "code",
   "execution_count": 9,
   "metadata": {
    "scrolled": true
   },
   "outputs": [
    {
     "data": {
      "text/plain": [
       "product_id         0\n",
       "time_id            0\n",
       "customer_id        0\n",
       "store_id           0\n",
       "store_sales        0\n",
       "                  ..\n",
       "the_day            0\n",
       "the_year           0\n",
       "the_month          0\n",
       "day_of_month       0\n",
       "day_since_epoch    0\n",
       "Length: 74, dtype: int64"
      ]
     },
     "execution_count": 9,
     "metadata": {},
     "output_type": "execute_result"
    }
   ],
   "source": [
    "df.isnull().sum()"
   ]
  },
  {
   "cell_type": "code",
   "execution_count": 10,
   "metadata": {
    "scrolled": true
   },
   "outputs": [
    {
     "data": {
      "text/plain": [
       "product_id           int64\n",
       "time_id              int64\n",
       "customer_id          int64\n",
       "store_id             int64\n",
       "store_sales        float64\n",
       "                    ...   \n",
       "the_day             object\n",
       "the_year             int64\n",
       "the_month            int64\n",
       "day_of_month         int64\n",
       "day_since_epoch      int64\n",
       "Length: 74, dtype: object"
      ]
     },
     "execution_count": 10,
     "metadata": {},
     "output_type": "execute_result"
    }
   ],
   "source": [
    "df.dtypes"
   ]
  },
  {
   "cell_type": "markdown",
   "metadata": {},
   "source": [
    "There is no missing value, also the data type seems to be fine"
   ]
  },
  {
   "cell_type": "markdown",
   "metadata": {},
   "source": [
    "#### For further analysis lets identify the unique values for different varibales"
   ]
  },
  {
   "cell_type": "code",
   "execution_count": 11,
   "metadata": {},
   "outputs": [
    {
     "data": {
      "text/html": [
       "<div>\n",
       "<style scoped>\n",
       "    .dataframe tbody tr th:only-of-type {\n",
       "        vertical-align: middle;\n",
       "    }\n",
       "\n",
       "    .dataframe tbody tr th {\n",
       "        vertical-align: top;\n",
       "    }\n",
       "\n",
       "    .dataframe thead th {\n",
       "        text-align: right;\n",
       "    }\n",
       "</style>\n",
       "<table border=\"1\" class=\"dataframe\">\n",
       "  <thead>\n",
       "    <tr style=\"text-align: right;\">\n",
       "      <th></th>\n",
       "      <th>data_type</th>\n",
       "      <th>unique_count</th>\n",
       "    </tr>\n",
       "  </thead>\n",
       "  <tbody>\n",
       "    <tr>\n",
       "      <th>product_id</th>\n",
       "      <td>int64</td>\n",
       "      <td>1559</td>\n",
       "    </tr>\n",
       "    <tr>\n",
       "      <th>time_id</th>\n",
       "      <td>int64</td>\n",
       "      <td>673</td>\n",
       "    </tr>\n",
       "    <tr>\n",
       "      <th>customer_id</th>\n",
       "      <td>int64</td>\n",
       "      <td>8842</td>\n",
       "    </tr>\n",
       "    <tr>\n",
       "      <th>store_id</th>\n",
       "      <td>int64</td>\n",
       "      <td>24</td>\n",
       "    </tr>\n",
       "    <tr>\n",
       "      <th>store_sales</th>\n",
       "      <td>float64</td>\n",
       "      <td>1069</td>\n",
       "    </tr>\n",
       "    <tr>\n",
       "      <th>...</th>\n",
       "      <td>...</td>\n",
       "      <td>...</td>\n",
       "    </tr>\n",
       "    <tr>\n",
       "      <th>the_day</th>\n",
       "      <td>object</td>\n",
       "      <td>7</td>\n",
       "    </tr>\n",
       "    <tr>\n",
       "      <th>the_year</th>\n",
       "      <td>int64</td>\n",
       "      <td>2</td>\n",
       "    </tr>\n",
       "    <tr>\n",
       "      <th>the_month</th>\n",
       "      <td>int64</td>\n",
       "      <td>12</td>\n",
       "    </tr>\n",
       "    <tr>\n",
       "      <th>day_of_month</th>\n",
       "      <td>int64</td>\n",
       "      <td>30</td>\n",
       "    </tr>\n",
       "    <tr>\n",
       "      <th>day_since_epoch</th>\n",
       "      <td>int64</td>\n",
       "      <td>673</td>\n",
       "    </tr>\n",
       "  </tbody>\n",
       "</table>\n",
       "<p>74 rows × 2 columns</p>\n",
       "</div>"
      ],
      "text/plain": [
       "                data_type  unique_count\n",
       "product_id          int64          1559\n",
       "time_id             int64           673\n",
       "customer_id         int64          8842\n",
       "store_id            int64            24\n",
       "store_sales       float64          1069\n",
       "...                   ...           ...\n",
       "the_day            object             7\n",
       "the_year            int64             2\n",
       "the_month           int64            12\n",
       "day_of_month        int64            30\n",
       "day_since_epoch     int64           673\n",
       "\n",
       "[74 rows x 2 columns]"
      ]
     },
     "execution_count": 11,
     "metadata": {},
     "output_type": "execute_result"
    }
   ],
   "source": [
    "temp_table = pd.DataFrame(index=df.columns)\n",
    "temp_table['data_type']=df.dtypes\n",
    "temp_table['unique_count']=df.nunique()\n",
    "temp_table"
   ]
  },
  {
   "cell_type": "markdown",
   "metadata": {},
   "source": [
    "### Univariate Analysis"
   ]
  },
  {
   "cell_type": "markdown",
   "metadata": {},
   "source": [
    "Histograms\n",
    "\n"
   ]
  },
  {
   "cell_type": "markdown",
   "metadata": {},
   "source": [
    "Frequency plot of store"
   ]
  },
  {
   "cell_type": "code",
   "execution_count": 12,
   "metadata": {},
   "outputs": [
    {
     "data": {
      "text/plain": [
       "Text(0.5, 0, 'store_id')"
      ]
     },
     "execution_count": 12,
     "metadata": {},
     "output_type": "execute_result"
    },
    {
     "data": {
      "image/png": "[encoded data removed]",
      "text/plain": [
       "<Figure size 1080x720 with 1 Axes>"
      ]
     },
     "metadata": {
      "needs_background": "light"
     },
     "output_type": "display_data"
    }
   ],
   "source": [
    "fig=plt.figure(figsize=(15,10))\n",
    "df['store_id'].plot.hist(bins = 24)\n",
    "plt.xlabel('store_id')"
   ]
  },
  {
   "cell_type": "markdown",
   "metadata": {},
   "source": [
    "Here we can see, few stores registers more sales, while some registers low sales also, which may be due to different store size"
   ]
  },
  {
   "cell_type": "markdown",
   "metadata": {},
   "source": [
    "Frequency plot of product_class_id"
   ]
  },
  {
   "cell_type": "code",
   "execution_count": 13,
   "metadata": {},
   "outputs": [
    {
     "data": {
      "text/plain": [
       "Text(0.5, 0, 'product_class_id')"
      ]
     },
     "execution_count": 13,
     "metadata": {},
     "output_type": "execute_result"
    },
    {
     "data": {
      "image/png": "[encoded data removed]",
      "text/plain": [
       "<Figure size 1080x720 with 1 Axes>"
      ]
     },
     "metadata": {
      "needs_background": "light"
     },
     "output_type": "display_data"
    }
   ],
   "source": [
    "fig=plt.figure(figsize=(15,10))\n",
    "df['product_class_id'].plot.hist(bins = 102)\n",
    "plt.xlabel('product_class_id')"
   ]
  },
  {
   "cell_type": "markdown",
   "metadata": {},
   "source": [
    "One product class id registers highest sell, while other registers average sales, while few records for very low sales, which further needed to be explored"
   ]
  },
  {
   "cell_type": "markdown",
   "metadata": {},
   "source": [
    "Frequency Plot Of Product Id"
   ]
  },
  {
   "cell_type": "code",
   "execution_count": 14,
   "metadata": {},
   "outputs": [
    {
     "data": {
      "text/plain": [
       "Text(0.5, 0, 'product id')"
      ]
     },
     "execution_count": 14,
     "metadata": {},
     "output_type": "execute_result"
    },
    {
     "data": {
      "image/png": "[encoded data removed]",
      "text/plain": [
       "<Figure size 1080x720 with 1 Axes>"
      ]
     },
     "metadata": {
      "needs_background": "light"
     },
     "output_type": "display_data"
    }
   ],
   "source": [
    "fig=plt.figure(figsize=(15,10))\n",
    "df['product_id'].plot.hist(bins = 100)\n",
    "plt.xlabel('product id')"
   ]
  },
  {
   "cell_type": "markdown",
   "metadata": {},
   "source": [
    "Looking at individual sales of products, sales distribution seems to be uniform"
   ]
  },
  {
   "cell_type": "markdown",
   "metadata": {},
   "source": [
    "Frequency Plot Of Unit Sales"
   ]
  },
  {
   "cell_type": "code",
   "execution_count": 15,
   "metadata": {},
   "outputs": [
    {
     "data": {
      "text/plain": [
       "Text(0.5, 0, 'Unit Sales')"
      ]
     },
     "execution_count": 15,
     "metadata": {},
     "output_type": "execute_result"
    },
    {
     "data": {
      "image/png": "[encoded data removed]",
      "text/plain": [
       "<Figure size 1080x720 with 1 Axes>"
      ]
     },
     "metadata": {
      "needs_background": "light"
     },
     "output_type": "display_data"
    }
   ],
   "source": [
    "fig=plt.figure(figsize=(15,10))\n",
    "df['unit_sales'].plot.hist(bins = 12)\n",
    "plt.xlabel('Unit Sales')"
   ]
  },
  {
   "cell_type": "markdown",
   "metadata": {},
   "source": [
    "This represents the no of units thats have been sold for the product, here we can see mostly people buys 3 of a kind, followed by 4 and 2, while chances of buying a single product and 6 products are rare "
   ]
  },
  {
   "cell_type": "markdown",
   "metadata": {},
   "source": [
    "### Lets Explore the seasonal buying behaviour"
   ]
  },
  {
   "cell_type": "markdown",
   "metadata": {},
   "source": [
    "Month"
   ]
  },
  {
   "cell_type": "code",
   "execution_count": 16,
   "metadata": {},
   "outputs": [
    {
     "data": {
      "text/plain": [
       "Text(0.5, 0, 'Month')"
      ]
     },
     "execution_count": 16,
     "metadata": {},
     "output_type": "execute_result"
    },
    {
     "data": {
      "image/png": "[encoded data removed]",
      "text/plain": [
       "<Figure size 1080x720 with 1 Axes>"
      ]
     },
     "metadata": {
      "needs_background": "light"
     },
     "output_type": "display_data"
    }
   ],
   "source": [
    "fig=plt.figure(figsize=(15,10))\n",
    "df['the_month'].plot.hist(bins=24)\n",
    "plt.xlabel('Month')"
   ]
  },
  {
   "cell_type": "markdown",
   "metadata": {},
   "source": [
    "During the months of November and December, the sales seems to be marginally high, may be due to holidays"
   ]
  },
  {
   "cell_type": "markdown",
   "metadata": {},
   "source": [
    "Day Of Month"
   ]
  },
  {
   "cell_type": "code",
   "execution_count": 17,
   "metadata": {
    "scrolled": false
   },
   "outputs": [
    {
     "data": {
      "text/plain": [
       "Text(0.5, 0, 'Day of month')"
      ]
     },
     "execution_count": 17,
     "metadata": {},
     "output_type": "execute_result"
    },
    {
     "data": {
      "image/png": "[encoded data removed]",
      "text/plain": [
       "<Figure size 1080x720 with 1 Axes>"
      ]
     },
     "metadata": {
      "needs_background": "light"
     },
     "output_type": "display_data"
    }
   ],
   "source": [
    "fig=plt.figure(figsize=(15,10))\n",
    "df['day_of_month'].plot.hist(bins=75)\n",
    "plt.xlabel('Day of month')"
   ]
  },
  {
   "cell_type": "markdown",
   "metadata": {},
   "source": [
    "First and last day of the month registers lower sales, while few days of the month registers more sales compared to other"
   ]
  },
  {
   "cell_type": "markdown",
   "metadata": {},
   "source": [
    "Day Of Week"
   ]
  },
  {
   "cell_type": "code",
   "execution_count": 18,
   "metadata": {},
   "outputs": [
    {
     "data": {
      "text/plain": [
       "<matplotlib.axes._subplots.AxesSubplot at 0x1ae84b77f10>"
      ]
     },
     "execution_count": 18,
     "metadata": {},
     "output_type": "execute_result"
    },
    {
     "data": {
      "image/png": "[encoded data removed]",
      "text/plain": [
       "<Figure size 1080x720 with 1 Axes>"
      ]
     },
     "metadata": {
      "needs_background": "light"
     },
     "output_type": "display_data"
    }
   ],
   "source": [
    "df_day_freq=df['the_day'].value_counts()\n",
    "fig=plt.figure(figsize=(15, 10))\n",
    "df_day_freq.plot.bar() "
   ]
  },
  {
   "cell_type": "markdown",
   "metadata": {},
   "source": [
    "### Highest Ordered"
   ]
  },
  {
   "cell_type": "markdown",
   "metadata": {},
   "source": [
    "Most Ordered Products"
   ]
  },
  {
   "cell_type": "code",
   "execution_count": 19,
   "metadata": {},
   "outputs": [
    {
     "data": {
      "text/plain": [
       "Moms Roasted Chicken                           225\n",
       "Tell Tale Fresh Lima Beans                     219\n",
       "Steady Whitening Toothpast                     218\n",
       "Hilltop Silky Smooth Hair Conditioner          216\n",
       "Steady Childrens Cold Remedy                   214\n",
       "                                              ... \n",
       "Faux Products Silky Smooth Hair Conditioner    132\n",
       "Choice Bubble Gum                              129\n",
       "CDR Oregano                                    124\n",
       "Washington Berry Juice                          85\n",
       "CDR Apple Preserves                             80\n",
       "Name: product_name, Length: 1559, dtype: int64"
      ]
     },
     "execution_count": 19,
     "metadata": {},
     "output_type": "execute_result"
    }
   ],
   "source": [
    "df['product_name'].value_counts()"
   ]
  },
  {
   "cell_type": "markdown",
   "metadata": {},
   "source": [
    "Most Ordered Products in Percentage"
   ]
  },
  {
   "cell_type": "code",
   "execution_count": 20,
   "metadata": {},
   "outputs": [
    {
     "data": {
      "text/plain": [
       "Moms Roasted Chicken                           0.083420\n",
       "Tell Tale Fresh Lima Beans                     0.081195\n",
       "Steady Whitening Toothpast                     0.080825\n",
       "Hilltop Silky Smooth Hair Conditioner          0.080083\n",
       "Steady Childrens Cold Remedy                   0.079342\n",
       "                                                 ...   \n",
       "Faux Products Silky Smooth Hair Conditioner    0.048940\n",
       "Choice Bubble Gum                              0.047827\n",
       "CDR Oregano                                    0.045974\n",
       "Washington Berry Juice                         0.031514\n",
       "CDR Apple Preserves                            0.029660\n",
       "Name: product_name, Length: 1559, dtype: float64"
      ]
     },
     "execution_count": 20,
     "metadata": {},
     "output_type": "execute_result"
    }
   ],
   "source": [
    "df['product_name'].value_counts()/len(df)*100"
   ]
  },
  {
   "cell_type": "markdown",
   "metadata": {},
   "source": [
    "Most Visited Departments"
   ]
  },
  {
   "cell_type": "code",
   "execution_count": 21,
   "metadata": {},
   "outputs": [
    {
     "data": {
      "text/plain": [
       "Produce                38041\n",
       "Snack Foods            30983\n",
       "Household              27590\n",
       "Frozen Foods           27042\n",
       "Baking Goods           20573\n",
       "Canned Foods           19090\n",
       "Dairy                  17195\n",
       "Health and Hygiene     16643\n",
       "Beverages              13624\n",
       "Deli                   12130\n",
       "Baked Goods             7951\n",
       "Snacks                  6970\n",
       "Alcoholic Beverages     6931\n",
       "Starchy Foods           5198\n",
       "Periodicals             4318\n",
       "Eggs                    4099\n",
       "Breakfast Foods         3462\n",
       "Canned Products         1779\n",
       "Meat                    1777\n",
       "Checkout                1776\n",
       "Seafood                 1688\n",
       "Carousel                 860\n",
       "Name: department, dtype: int64"
      ]
     },
     "execution_count": 21,
     "metadata": {},
     "output_type": "execute_result"
    }
   ],
   "source": [
    "df['department'].value_counts()"
   ]
  },
  {
   "cell_type": "markdown",
   "metadata": {},
   "source": [
    "### Most Visited Departments in Percentage"
   ]
  },
  {
   "cell_type": "code",
   "execution_count": 22,
   "metadata": {},
   "outputs": [
    {
     "data": {
      "text/plain": [
       "Produce                14.103886\n",
       "Snack Foods            11.487098\n",
       "Household              10.229127\n",
       "Frozen Foods           10.025953\n",
       "Baking Goods            7.627540\n",
       "Canned Foods            7.077710\n",
       "Dairy                   6.375130\n",
       "Health and Hygiene      6.170473\n",
       "Beverages               5.051164\n",
       "Deli                    4.497256\n",
       "Baked Goods             2.947872\n",
       "Snacks                  2.584161\n",
       "Alcoholic Beverages     2.569702\n",
       "Starchy Foods           1.927184\n",
       "Periodicals             1.600919\n",
       "Eggs                    1.519724\n",
       "Breakfast Foods         1.283553\n",
       "Canned Products         0.659573\n",
       "Meat                    0.658831\n",
       "Checkout                0.658461\n",
       "Seafood                 0.625834\n",
       "Carousel                0.318849\n",
       "Name: department, dtype: float64"
      ]
     },
     "execution_count": 22,
     "metadata": {},
     "output_type": "execute_result"
    }
   ],
   "source": [
    "df['department'].value_counts()/len(df)*100"
   ]
  },
  {
   "cell_type": "markdown",
   "metadata": {},
   "source": [
    "Most Visited Subcategory"
   ]
  },
  {
   "cell_type": "code",
   "execution_count": 23,
   "metadata": {
    "scrolled": true
   },
   "outputs": [
    {
     "data": {
      "text/plain": [
       "Fresh Vegetables     20859\n",
       "Fresh Fruit          11972\n",
       "Soup                  7919\n",
       "Cheese                7815\n",
       "Dried Fruit           7758\n",
       "                     ...  \n",
       "Pot Scrubbers          836\n",
       "Pancakes               828\n",
       "Fresh Fish             827\n",
       "Fashion Magazines      824\n",
       "Sauces                 824\n",
       "Name: subcategory, Length: 102, dtype: int64"
      ]
     },
     "execution_count": 23,
     "metadata": {},
     "output_type": "execute_result"
    }
   ],
   "source": [
    "df['subcategory'].value_counts()"
   ]
  },
  {
   "cell_type": "markdown",
   "metadata": {},
   "source": [
    "Most Visited Subcategory in Percentage"
   ]
  },
  {
   "cell_type": "code",
   "execution_count": 24,
   "metadata": {},
   "outputs": [
    {
     "data": {
      "text/plain": [
       "Fresh Vegetables     7.733576\n",
       "Fresh Fruit          4.438677\n",
       "Soup                 2.936008\n",
       "Cheese               2.897449\n",
       "Dried Fruit          2.876316\n",
       "                       ...   \n",
       "Pot Scrubbers        0.309951\n",
       "Pancakes             0.306985\n",
       "Fresh Fish           0.306614\n",
       "Fashion Magazines    0.305502\n",
       "Sauces               0.305502\n",
       "Name: subcategory, Length: 102, dtype: float64"
      ]
     },
     "execution_count": 24,
     "metadata": {},
     "output_type": "execute_result"
    }
   ],
   "source": [
    "df['subcategory'].value_counts()/len(df)*100"
   ]
  },
  {
   "cell_type": "markdown",
   "metadata": {},
   "source": [
    "### Graphical Representation of Most Visited Sections"
   ]
  },
  {
   "cell_type": "markdown",
   "metadata": {},
   "source": [
    "#### Most Visited Department"
   ]
  },
  {
   "cell_type": "code",
   "execution_count": 25,
   "metadata": {},
   "outputs": [
    {
     "data": {
      "text/plain": [
       "<matplotlib.axes._subplots.AxesSubplot at 0x1ae856c05e0>"
      ]
     },
     "execution_count": 25,
     "metadata": {},
     "output_type": "execute_result"
    },
    {
     "data": {
      "image/png": "[encoded data removed]",
      "text/plain": [
       "<Figure size 1080x720 with 1 Axes>"
      ]
     },
     "metadata": {
      "needs_background": "light"
     },
     "output_type": "display_data"
    }
   ],
   "source": [
    "fig=plt.figure(figsize=(15,10))\n",
    "df['department'].value_counts().plot(kind='bar')"
   ]
  },
  {
   "cell_type": "markdown",
   "metadata": {},
   "source": [
    "#### 50 Most Visied Subcategories"
   ]
  },
  {
   "cell_type": "code",
   "execution_count": 26,
   "metadata": {},
   "outputs": [
    {
     "data": {
      "text/plain": [
       "<matplotlib.axes._subplots.AxesSubplot at 0x1ae866b6820>"
      ]
     },
     "execution_count": 26,
     "metadata": {},
     "output_type": "execute_result"
    },
    {
     "data": {
      "image/png": "[encoded data removed]",
      "text/plain": [
       "<Figure size 1080x720 with 1 Axes>"
      ]
     },
     "metadata": {
      "needs_background": "light"
     },
     "output_type": "display_data"
    }
   ],
   "source": [
    "df_subcategory_freq=df['subcategory'].value_counts().iloc[:50]\n",
    "fig=plt.figure(figsize=(15,10))\n",
    "df_subcategory_freq.plot.bar()"
   ]
  },
  {
   "cell_type": "markdown",
   "metadata": {},
   "source": [
    "#### 50 Most Bought Product"
   ]
  },
  {
   "cell_type": "code",
   "execution_count": 27,
   "metadata": {
    "scrolled": true
   },
   "outputs": [
    {
     "data": {
      "text/plain": [
       "<matplotlib.axes._subplots.AxesSubplot at 0x1ae905fa670>"
      ]
     },
     "execution_count": 27,
     "metadata": {},
     "output_type": "execute_result"
    },
    {
     "data": {
      "image/png": "[encoded data removed]",
      "text/plain": [
       "<Figure size 1080x720 with 1 Axes>"
      ]
     },
     "metadata": {
      "needs_background": "light"
     },
     "output_type": "display_data"
    }
   ],
   "source": [
    "df_freq_products=df['product_name'].value_counts().iloc[:50]\n",
    "fig=plt.figure(figsize=(15, 10))\n",
    "df_freq_products.plot.bar()"
   ]
  },
  {
   "cell_type": "markdown",
   "metadata": {},
   "source": [
    "## Bivariate Analysis"
   ]
  },
  {
   "cell_type": "markdown",
   "metadata": {},
   "source": [
    "#### Bar Plot between customers and their products per order"
   ]
  },
  {
   "cell_type": "code",
   "execution_count": 28,
   "metadata": {},
   "outputs": [
    {
     "data": {
      "text/plain": [
       "customer_id\n",
       "3    30\n",
       "5     1\n",
       "6    16\n",
       "8    42\n",
       "9    13\n",
       "Name: unit_sales, dtype: int64"
      ]
     },
     "execution_count": 28,
     "metadata": {},
     "output_type": "execute_result"
    }
   ],
   "source": [
    "unit_per_customer=df.groupby('customer_id')['unit_sales'].count()\n",
    "unit_per_customer.head()"
   ]
  },
  {
   "cell_type": "markdown",
   "metadata": {},
   "source": [
    "segregating the units sold range to check the count of customers in different range of units"
   ]
  },
  {
   "cell_type": "code",
   "execution_count": 29,
   "metadata": {
    "scrolled": true
   },
   "outputs": [
    {
     "data": {
      "text/plain": [
       "{'0~10': 2145,\n",
       " '10~20': 2509,\n",
       " '20~30': 1510,\n",
       " '30~40': 760,\n",
       " '40~50': 454,\n",
       " '50~60': 276,\n",
       " '60~70': 244,\n",
       " '70~80': 175,\n",
       " '80~90': 160,\n",
       " '90~100': 110}"
      ]
     },
     "execution_count": 29,
     "metadata": {},
     "output_type": "execute_result"
    }
   ],
   "source": [
    "unit_sold_count = {}\n",
    "for i in range(10):\n",
    "    unit_sold_count[str(10*i)+'~'+str(10*(i+1))]=len([x for x in list(unit_per_customer) if x>=i*10 and x<(i+1)*10])\n",
    "    \n",
    "unit_sold_count"
   ]
  },
  {
   "cell_type": "code",
   "execution_count": 30,
   "metadata": {},
   "outputs": [
    {
     "data": {
      "image/png": "[encoded data removed]",
      "text/plain": [
       "<Figure size 720x360 with 1 Axes>"
      ]
     },
     "metadata": {
      "needs_background": "light"
     },
     "output_type": "display_data"
    }
   ],
   "source": [
    "fig = plt.figure(figsize = (10, 5)) \n",
    "x_axis = tuple(unit_sold_count.keys())\n",
    "y_axis = tuple(unit_sold_count.values())\n",
    "plt.bar(x_axis, y_axis, color='rgb',width=1)  \n",
    "plt.xlabel('Unit sales')  \n",
    "plt.ylabel(\"No. of customers\") \n",
    "plt.show()"
   ]
  },
  {
   "cell_type": "markdown",
   "metadata": {},
   "source": [
    "Maximum of customers seems to purchase 10-20 no of products"
   ]
  },
  {
   "cell_type": "markdown",
   "metadata": {},
   "source": [
    "#### Transaction ID -  transaction id which denotes items in a basket"
   ]
  },
  {
   "cell_type": "markdown",
   "metadata": {},
   "source": [
    "Since in original dataset there is not transaction id is availabe, which will help to check the products purchased in a single transaction, lets create a transaction id using customer_id and time_id"
   ]
  },
  {
   "cell_type": "code",
   "execution_count": 31,
   "metadata": {},
   "outputs": [],
   "source": [
    "df['transaction_id'] = df['customer_id'].astype(str) + df['time_id'].astype(str)"
   ]
  },
  {
   "cell_type": "code",
   "execution_count": 32,
   "metadata": {},
   "outputs": [
    {
     "data": {
      "text/html": [
       "<div>\n",
       "<style scoped>\n",
       "    .dataframe tbody tr th:only-of-type {\n",
       "        vertical-align: middle;\n",
       "    }\n",
       "\n",
       "    .dataframe tbody tr th {\n",
       "        vertical-align: top;\n",
       "    }\n",
       "\n",
       "    .dataframe thead th {\n",
       "        text-align: right;\n",
       "    }\n",
       "</style>\n",
       "<table border=\"1\" class=\"dataframe\">\n",
       "  <thead>\n",
       "    <tr style=\"text-align: right;\">\n",
       "      <th></th>\n",
       "      <th>product_id</th>\n",
       "      <th>time_id</th>\n",
       "      <th>customer_id</th>\n",
       "      <th>store_id</th>\n",
       "      <th>store_sales</th>\n",
       "      <th>store_cost</th>\n",
       "      <th>unit_sales</th>\n",
       "      <th>city</th>\n",
       "      <th>state_province</th>\n",
       "      <th>country</th>\n",
       "      <th>...</th>\n",
       "      <th>sales_region</th>\n",
       "      <th>sales_country</th>\n",
       "      <th>sales_district_id</th>\n",
       "      <th>the_date</th>\n",
       "      <th>the_day</th>\n",
       "      <th>the_year</th>\n",
       "      <th>the_month</th>\n",
       "      <th>day_of_month</th>\n",
       "      <th>day_since_epoch</th>\n",
       "      <th>transaction_id</th>\n",
       "    </tr>\n",
       "  </thead>\n",
       "  <tbody>\n",
       "    <tr>\n",
       "      <th>0</th>\n",
       "      <td>337</td>\n",
       "      <td>371</td>\n",
       "      <td>6280</td>\n",
       "      <td>2</td>\n",
       "      <td>1.50</td>\n",
       "      <td>0.5100</td>\n",
       "      <td>2</td>\n",
       "      <td>Anacortes</td>\n",
       "      <td>WA</td>\n",
       "      <td>USA</td>\n",
       "      <td>...</td>\n",
       "      <td>North West</td>\n",
       "      <td>USA</td>\n",
       "      <td>111</td>\n",
       "      <td>05-01-1997</td>\n",
       "      <td>Sunday</td>\n",
       "      <td>1997</td>\n",
       "      <td>1</td>\n",
       "      <td>5</td>\n",
       "      <td>33973</td>\n",
       "      <td>6280371</td>\n",
       "    </tr>\n",
       "    <tr>\n",
       "      <th>1</th>\n",
       "      <td>963</td>\n",
       "      <td>371</td>\n",
       "      <td>4018</td>\n",
       "      <td>2</td>\n",
       "      <td>2.40</td>\n",
       "      <td>0.7200</td>\n",
       "      <td>1</td>\n",
       "      <td>Sedro Woolley</td>\n",
       "      <td>WA</td>\n",
       "      <td>USA</td>\n",
       "      <td>...</td>\n",
       "      <td>North West</td>\n",
       "      <td>USA</td>\n",
       "      <td>111</td>\n",
       "      <td>05-01-1997</td>\n",
       "      <td>Sunday</td>\n",
       "      <td>1997</td>\n",
       "      <td>1</td>\n",
       "      <td>5</td>\n",
       "      <td>33973</td>\n",
       "      <td>4018371</td>\n",
       "    </tr>\n",
       "    <tr>\n",
       "      <th>2</th>\n",
       "      <td>1512</td>\n",
       "      <td>371</td>\n",
       "      <td>6280</td>\n",
       "      <td>2</td>\n",
       "      <td>1.62</td>\n",
       "      <td>0.6318</td>\n",
       "      <td>3</td>\n",
       "      <td>Anacortes</td>\n",
       "      <td>WA</td>\n",
       "      <td>USA</td>\n",
       "      <td>...</td>\n",
       "      <td>North West</td>\n",
       "      <td>USA</td>\n",
       "      <td>111</td>\n",
       "      <td>05-01-1997</td>\n",
       "      <td>Sunday</td>\n",
       "      <td>1997</td>\n",
       "      <td>1</td>\n",
       "      <td>5</td>\n",
       "      <td>33973</td>\n",
       "      <td>6280371</td>\n",
       "    </tr>\n",
       "    <tr>\n",
       "      <th>3</th>\n",
       "      <td>181</td>\n",
       "      <td>371</td>\n",
       "      <td>4018</td>\n",
       "      <td>2</td>\n",
       "      <td>2.79</td>\n",
       "      <td>1.0323</td>\n",
       "      <td>3</td>\n",
       "      <td>Sedro Woolley</td>\n",
       "      <td>WA</td>\n",
       "      <td>USA</td>\n",
       "      <td>...</td>\n",
       "      <td>North West</td>\n",
       "      <td>USA</td>\n",
       "      <td>111</td>\n",
       "      <td>05-01-1997</td>\n",
       "      <td>Sunday</td>\n",
       "      <td>1997</td>\n",
       "      <td>1</td>\n",
       "      <td>5</td>\n",
       "      <td>33973</td>\n",
       "      <td>4018371</td>\n",
       "    </tr>\n",
       "    <tr>\n",
       "      <th>4</th>\n",
       "      <td>483</td>\n",
       "      <td>371</td>\n",
       "      <td>4382</td>\n",
       "      <td>2</td>\n",
       "      <td>3.88</td>\n",
       "      <td>1.7072</td>\n",
       "      <td>2</td>\n",
       "      <td>Anacortes</td>\n",
       "      <td>WA</td>\n",
       "      <td>USA</td>\n",
       "      <td>...</td>\n",
       "      <td>North West</td>\n",
       "      <td>USA</td>\n",
       "      <td>111</td>\n",
       "      <td>05-01-1997</td>\n",
       "      <td>Sunday</td>\n",
       "      <td>1997</td>\n",
       "      <td>1</td>\n",
       "      <td>5</td>\n",
       "      <td>33973</td>\n",
       "      <td>4382371</td>\n",
       "    </tr>\n",
       "  </tbody>\n",
       "</table>\n",
       "<p>5 rows × 75 columns</p>\n",
       "</div>"
      ],
      "text/plain": [
       "   product_id  time_id  customer_id  store_id  store_sales  store_cost  \\\n",
       "0         337      371         6280         2         1.50      0.5100   \n",
       "1         963      371         4018         2         2.40      0.7200   \n",
       "2        1512      371         6280         2         1.62      0.6318   \n",
       "3         181      371         4018         2         2.79      1.0323   \n",
       "4         483      371         4382         2         3.88      1.7072   \n",
       "\n",
       "   unit_sales           city state_province country  ...  sales_region  \\\n",
       "0           2      Anacortes             WA     USA  ...    North West   \n",
       "1           1  Sedro Woolley             WA     USA  ...    North West   \n",
       "2           3      Anacortes             WA     USA  ...    North West   \n",
       "3           3  Sedro Woolley             WA     USA  ...    North West   \n",
       "4           2      Anacortes             WA     USA  ...    North West   \n",
       "\n",
       "  sales_country sales_district_id    the_date  the_day the_year the_month  \\\n",
       "0           USA               111  05-01-1997   Sunday     1997         1   \n",
       "1           USA               111  05-01-1997   Sunday     1997         1   \n",
       "2           USA               111  05-01-1997   Sunday     1997         1   \n",
       "3           USA               111  05-01-1997   Sunday     1997         1   \n",
       "4           USA               111  05-01-1997   Sunday     1997         1   \n",
       "\n",
       "  day_of_month day_since_epoch transaction_id  \n",
       "0            5           33973        6280371  \n",
       "1            5           33973        4018371  \n",
       "2            5           33973        6280371  \n",
       "3            5           33973        4018371  \n",
       "4            5           33973        4382371  \n",
       "\n",
       "[5 rows x 75 columns]"
      ]
     },
     "execution_count": 32,
     "metadata": {},
     "output_type": "execute_result"
    }
   ],
   "source": [
    "df.head()"
   ]
  },
  {
   "cell_type": "code",
   "execution_count": 33,
   "metadata": {},
   "outputs": [
    {
     "data": {
      "text/plain": [
       "8842"
      ]
     },
     "execution_count": 33,
     "metadata": {},
     "output_type": "execute_result"
    }
   ],
   "source": [
    "df['customer_id'].nunique()"
   ]
  },
  {
   "cell_type": "code",
   "execution_count": 34,
   "metadata": {},
   "outputs": [
    {
     "data": {
      "text/plain": [
       "673"
      ]
     },
     "execution_count": 34,
     "metadata": {},
     "output_type": "execute_result"
    }
   ],
   "source": [
    "df['time_id'].nunique()"
   ]
  },
  {
   "cell_type": "code",
   "execution_count": 35,
   "metadata": {
    "scrolled": false
   },
   "outputs": [
    {
     "data": {
      "text/plain": [
       "58308"
      ]
     },
     "execution_count": 35,
     "metadata": {},
     "output_type": "execute_result"
    }
   ],
   "source": [
    "df['transaction_id'].nunique()"
   ]
  },
  {
   "cell_type": "markdown",
   "metadata": {},
   "source": [
    "Since our dataset is large, and considering the market basket analysis lets create a separate dataframe of relevent columns only"
   ]
  },
  {
   "cell_type": "markdown",
   "metadata": {},
   "source": [
    "Lets get the column transaction_id, customer_id, product_id, product_name to a new dataframe"
   ]
  },
  {
   "cell_type": "code",
   "execution_count": 36,
   "metadata": {},
   "outputs": [],
   "source": [
    "order_data=df[['transaction_id', 'customer_id', 'product_id', 'product_name']]"
   ]
  },
  {
   "cell_type": "code",
   "execution_count": 37,
   "metadata": {
    "scrolled": false
   },
   "outputs": [
    {
     "data": {
      "text/html": [
       "<div>\n",
       "<style scoped>\n",
       "    .dataframe tbody tr th:only-of-type {\n",
       "        vertical-align: middle;\n",
       "    }\n",
       "\n",
       "    .dataframe tbody tr th {\n",
       "        vertical-align: top;\n",
       "    }\n",
       "\n",
       "    .dataframe thead th {\n",
       "        text-align: right;\n",
       "    }\n",
       "</style>\n",
       "<table border=\"1\" class=\"dataframe\">\n",
       "  <thead>\n",
       "    <tr style=\"text-align: right;\">\n",
       "      <th></th>\n",
       "      <th>transaction_id</th>\n",
       "      <th>customer_id</th>\n",
       "      <th>product_id</th>\n",
       "      <th>product_name</th>\n",
       "    </tr>\n",
       "  </thead>\n",
       "  <tbody>\n",
       "    <tr>\n",
       "      <th>0</th>\n",
       "      <td>6280371</td>\n",
       "      <td>6280</td>\n",
       "      <td>337</td>\n",
       "      <td>Better Turkey Noodle Soup</td>\n",
       "    </tr>\n",
       "    <tr>\n",
       "      <th>1</th>\n",
       "      <td>4018371</td>\n",
       "      <td>4018</td>\n",
       "      <td>963</td>\n",
       "      <td>Just Right Chicken Noodle Soup</td>\n",
       "    </tr>\n",
       "    <tr>\n",
       "      <th>2</th>\n",
       "      <td>6280371</td>\n",
       "      <td>6280</td>\n",
       "      <td>1512</td>\n",
       "      <td>Jardon Spaghetti</td>\n",
       "    </tr>\n",
       "    <tr>\n",
       "      <th>3</th>\n",
       "      <td>4018371</td>\n",
       "      <td>4018</td>\n",
       "      <td>181</td>\n",
       "      <td>High Top Lettuce</td>\n",
       "    </tr>\n",
       "    <tr>\n",
       "      <th>4</th>\n",
       "      <td>4382371</td>\n",
       "      <td>4382</td>\n",
       "      <td>483</td>\n",
       "      <td>Tell Tale Corn on the Cob</td>\n",
       "    </tr>\n",
       "  </tbody>\n",
       "</table>\n",
       "</div>"
      ],
      "text/plain": [
       "  transaction_id  customer_id  product_id                    product_name\n",
       "0        6280371         6280         337       Better Turkey Noodle Soup\n",
       "1        4018371         4018         963  Just Right Chicken Noodle Soup\n",
       "2        6280371         6280        1512                Jardon Spaghetti\n",
       "3        4018371         4018         181                High Top Lettuce\n",
       "4        4382371         4382         483       Tell Tale Corn on the Cob"
      ]
     },
     "execution_count": 37,
     "metadata": {},
     "output_type": "execute_result"
    }
   ],
   "source": [
    "order_data.head()"
   ]
  },
  {
   "cell_type": "code",
   "execution_count": 38,
   "metadata": {
    "scrolled": false
   },
   "outputs": [
    {
     "data": {
      "text/plain": [
       "transaction_id    58308\n",
       "customer_id        8842\n",
       "product_id         1559\n",
       "product_name       1559\n",
       "dtype: int64"
      ]
     },
     "execution_count": 38,
     "metadata": {},
     "output_type": "execute_result"
    }
   ],
   "source": [
    "order_data.nunique()"
   ]
  },
  {
   "cell_type": "markdown",
   "metadata": {},
   "source": [
    "#### let's calculate average products bought by customer per order"
   ]
  },
  {
   "cell_type": "code",
   "execution_count": 39,
   "metadata": {},
   "outputs": [],
   "source": [
    "temp_1=order_data.groupby('transaction_id')['product_id'].count()"
   ]
  },
  {
   "cell_type": "code",
   "execution_count": 40,
   "metadata": {},
   "outputs": [],
   "source": [
    "temp_1=pd.DataFrame(temp_1)"
   ]
  },
  {
   "cell_type": "code",
   "execution_count": 41,
   "metadata": {},
   "outputs": [
    {
     "data": {
      "text/plain": [
       "(58308, 1)"
      ]
     },
     "execution_count": 41,
     "metadata": {},
     "output_type": "execute_result"
    }
   ],
   "source": [
    "temp_1.shape"
   ]
  },
  {
   "cell_type": "code",
   "execution_count": 42,
   "metadata": {},
   "outputs": [],
   "source": [
    "temp_1['transaction_id']=list(temp_1.index)"
   ]
  },
  {
   "cell_type": "code",
   "execution_count": 43,
   "metadata": {},
   "outputs": [],
   "source": [
    "temp_1.columns=['product_num','orderid']"
   ]
  },
  {
   "cell_type": "code",
   "execution_count": 44,
   "metadata": {},
   "outputs": [],
   "source": [
    "temp_2=pd.merge(temp_1,df[['transaction_id','customer_id']],on='transaction_id',how='left')"
   ]
  },
  {
   "cell_type": "code",
   "execution_count": 45,
   "metadata": {},
   "outputs": [],
   "source": [
    "order_per_customer=temp_2.groupby('customer_id')['product_num'].agg(['sum','count'])"
   ]
  },
  {
   "cell_type": "code",
   "execution_count": 46,
   "metadata": {},
   "outputs": [],
   "source": [
    "order_per_customer['avg']=order_per_customer['sum']/order_per_customer['count']"
   ]
  },
  {
   "cell_type": "code",
   "execution_count": 47,
   "metadata": {},
   "outputs": [
    {
     "data": {
      "text/html": [
       "<div>\n",
       "<style scoped>\n",
       "    .dataframe tbody tr th:only-of-type {\n",
       "        vertical-align: middle;\n",
       "    }\n",
       "\n",
       "    .dataframe tbody tr th {\n",
       "        vertical-align: top;\n",
       "    }\n",
       "\n",
       "    .dataframe thead th {\n",
       "        text-align: right;\n",
       "    }\n",
       "</style>\n",
       "<table border=\"1\" class=\"dataframe\">\n",
       "  <thead>\n",
       "    <tr style=\"text-align: right;\">\n",
       "      <th></th>\n",
       "      <th>sum</th>\n",
       "      <th>count</th>\n",
       "      <th>avg</th>\n",
       "    </tr>\n",
       "    <tr>\n",
       "      <th>customer_id</th>\n",
       "      <th></th>\n",
       "      <th></th>\n",
       "      <th></th>\n",
       "    </tr>\n",
       "  </thead>\n",
       "  <tbody>\n",
       "    <tr>\n",
       "      <th>3</th>\n",
       "      <td>186</td>\n",
       "      <td>30</td>\n",
       "      <td>6.200000</td>\n",
       "    </tr>\n",
       "    <tr>\n",
       "      <th>5</th>\n",
       "      <td>1</td>\n",
       "      <td>1</td>\n",
       "      <td>1.000000</td>\n",
       "    </tr>\n",
       "    <tr>\n",
       "      <th>6</th>\n",
       "      <td>72</td>\n",
       "      <td>16</td>\n",
       "      <td>4.500000</td>\n",
       "    </tr>\n",
       "    <tr>\n",
       "      <th>8</th>\n",
       "      <td>208</td>\n",
       "      <td>42</td>\n",
       "      <td>4.952381</td>\n",
       "    </tr>\n",
       "    <tr>\n",
       "      <th>9</th>\n",
       "      <td>85</td>\n",
       "      <td>13</td>\n",
       "      <td>6.538462</td>\n",
       "    </tr>\n",
       "  </tbody>\n",
       "</table>\n",
       "</div>"
      ],
      "text/plain": [
       "             sum  count       avg\n",
       "customer_id                      \n",
       "3            186     30  6.200000\n",
       "5              1      1  1.000000\n",
       "6             72     16  4.500000\n",
       "8            208     42  4.952381\n",
       "9             85     13  6.538462"
      ]
     },
     "execution_count": 47,
     "metadata": {},
     "output_type": "execute_result"
    }
   ],
   "source": [
    "order_per_customer.head()"
   ]
  },
  {
   "cell_type": "markdown",
   "metadata": {},
   "source": [
    "Here we can see customer_id, then total no of items purchased in sum column, then count gives the number of visit of that customer and average is calculated, which gives the approximate quantity purchased by customer every visit"
   ]
  },
  {
   "cell_type": "markdown",
   "metadata": {},
   "source": [
    "#### Let's check department wise featured products"
   ]
  },
  {
   "cell_type": "code",
   "execution_count": 48,
   "metadata": {},
   "outputs": [],
   "source": [
    "department_data=df[['product_id','subcategory','department','product_name']]"
   ]
  },
  {
   "cell_type": "code",
   "execution_count": 49,
   "metadata": {
    "scrolled": true
   },
   "outputs": [
    {
     "data": {
      "text/html": [
       "<div>\n",
       "<style scoped>\n",
       "    .dataframe tbody tr th:only-of-type {\n",
       "        vertical-align: middle;\n",
       "    }\n",
       "\n",
       "    .dataframe tbody tr th {\n",
       "        vertical-align: top;\n",
       "    }\n",
       "\n",
       "    .dataframe thead th {\n",
       "        text-align: right;\n",
       "    }\n",
       "</style>\n",
       "<table border=\"1\" class=\"dataframe\">\n",
       "  <thead>\n",
       "    <tr style=\"text-align: right;\">\n",
       "      <th></th>\n",
       "      <th>product_id</th>\n",
       "      <th>subcategory</th>\n",
       "      <th>department</th>\n",
       "      <th>product_name</th>\n",
       "    </tr>\n",
       "  </thead>\n",
       "  <tbody>\n",
       "    <tr>\n",
       "      <th>0</th>\n",
       "      <td>337</td>\n",
       "      <td>Soup</td>\n",
       "      <td>Canned Foods</td>\n",
       "      <td>Better Turkey Noodle Soup</td>\n",
       "    </tr>\n",
       "    <tr>\n",
       "      <th>1</th>\n",
       "      <td>963</td>\n",
       "      <td>Soup</td>\n",
       "      <td>Canned Foods</td>\n",
       "      <td>Just Right Chicken Noodle Soup</td>\n",
       "    </tr>\n",
       "    <tr>\n",
       "      <th>2</th>\n",
       "      <td>1512</td>\n",
       "      <td>Pasta</td>\n",
       "      <td>Starchy Foods</td>\n",
       "      <td>Jardon Spaghetti</td>\n",
       "    </tr>\n",
       "    <tr>\n",
       "      <th>3</th>\n",
       "      <td>181</td>\n",
       "      <td>Fresh Vegetables</td>\n",
       "      <td>Produce</td>\n",
       "      <td>High Top Lettuce</td>\n",
       "    </tr>\n",
       "    <tr>\n",
       "      <th>4</th>\n",
       "      <td>483</td>\n",
       "      <td>Fresh Vegetables</td>\n",
       "      <td>Produce</td>\n",
       "      <td>Tell Tale Corn on the Cob</td>\n",
       "    </tr>\n",
       "  </tbody>\n",
       "</table>\n",
       "</div>"
      ],
      "text/plain": [
       "   product_id       subcategory     department                    product_name\n",
       "0         337              Soup   Canned Foods       Better Turkey Noodle Soup\n",
       "1         963              Soup   Canned Foods  Just Right Chicken Noodle Soup\n",
       "2        1512             Pasta  Starchy Foods                Jardon Spaghetti\n",
       "3         181  Fresh Vegetables        Produce                High Top Lettuce\n",
       "4         483  Fresh Vegetables        Produce       Tell Tale Corn on the Cob"
      ]
     },
     "execution_count": 49,
     "metadata": {},
     "output_type": "execute_result"
    }
   ],
   "source": [
    "department_data.head()"
   ]
  },
  {
   "cell_type": "markdown",
   "metadata": {},
   "source": [
    "List of Departments and count of sales"
   ]
  },
  {
   "cell_type": "code",
   "execution_count": 50,
   "metadata": {},
   "outputs": [],
   "source": [
    "department_sales=department_data.groupby('department')['department'].count()"
   ]
  },
  {
   "cell_type": "code",
   "execution_count": 51,
   "metadata": {},
   "outputs": [
    {
     "data": {
      "text/plain": [
       "department\n",
       "Alcoholic Beverages     6931\n",
       "Baked Goods             7951\n",
       "Baking Goods           20573\n",
       "Beverages              13624\n",
       "Breakfast Foods         3462\n",
       "Canned Foods           19090\n",
       "Canned Products         1779\n",
       "Carousel                 860\n",
       "Checkout                1776\n",
       "Dairy                  17195\n",
       "Deli                   12130\n",
       "Eggs                    4099\n",
       "Frozen Foods           27042\n",
       "Health and Hygiene     16643\n",
       "Household              27590\n",
       "Meat                    1777\n",
       "Periodicals             4318\n",
       "Produce                38041\n",
       "Seafood                 1688\n",
       "Snack Foods            30983\n",
       "Snacks                  6970\n",
       "Starchy Foods           5198\n",
       "Name: department, dtype: int64"
      ]
     },
     "execution_count": 51,
     "metadata": {},
     "output_type": "execute_result"
    }
   ],
   "source": [
    "department_sales"
   ]
  },
  {
   "cell_type": "markdown",
   "metadata": {},
   "source": [
    "#### Lets explore top 5 department and their top 5 products which contributes to maximum sales"
   ]
  },
  {
   "cell_type": "markdown",
   "metadata": {},
   "source": [
    "#### #1 Produce Department"
   ]
  },
  {
   "cell_type": "code",
   "execution_count": 52,
   "metadata": {},
   "outputs": [
    {
     "data": {
      "text/html": [
       "<div>\n",
       "<style scoped>\n",
       "    .dataframe tbody tr th:only-of-type {\n",
       "        vertical-align: middle;\n",
       "    }\n",
       "\n",
       "    .dataframe tbody tr th {\n",
       "        vertical-align: top;\n",
       "    }\n",
       "\n",
       "    .dataframe thead th {\n",
       "        text-align: right;\n",
       "    }\n",
       "</style>\n",
       "<table border=\"1\" class=\"dataframe\">\n",
       "  <thead>\n",
       "    <tr style=\"text-align: right;\">\n",
       "      <th></th>\n",
       "      <th>product_id</th>\n",
       "      <th>subcategory</th>\n",
       "      <th>department</th>\n",
       "      <th>product_name</th>\n",
       "    </tr>\n",
       "  </thead>\n",
       "  <tbody>\n",
       "    <tr>\n",
       "      <th>3</th>\n",
       "      <td>181</td>\n",
       "      <td>Fresh Vegetables</td>\n",
       "      <td>Produce</td>\n",
       "      <td>High Top Lettuce</td>\n",
       "    </tr>\n",
       "    <tr>\n",
       "      <th>4</th>\n",
       "      <td>483</td>\n",
       "      <td>Fresh Vegetables</td>\n",
       "      <td>Produce</td>\n",
       "      <td>Tell Tale Corn on the Cob</td>\n",
       "    </tr>\n",
       "    <tr>\n",
       "      <th>18</th>\n",
       "      <td>1123</td>\n",
       "      <td>Fresh Vegetables</td>\n",
       "      <td>Produce</td>\n",
       "      <td>Tri-State Potatos</td>\n",
       "    </tr>\n",
       "    <tr>\n",
       "      <th>19</th>\n",
       "      <td>804</td>\n",
       "      <td>Fresh Vegetables</td>\n",
       "      <td>Produce</td>\n",
       "      <td>Ebony Elephant Garlic</td>\n",
       "    </tr>\n",
       "    <tr>\n",
       "      <th>20</th>\n",
       "      <td>1426</td>\n",
       "      <td>Fresh Vegetables</td>\n",
       "      <td>Produce</td>\n",
       "      <td>Hermanos Prepared Salad</td>\n",
       "    </tr>\n",
       "  </tbody>\n",
       "</table>\n",
       "</div>"
      ],
      "text/plain": [
       "    product_id       subcategory department               product_name\n",
       "3          181  Fresh Vegetables    Produce           High Top Lettuce\n",
       "4          483  Fresh Vegetables    Produce  Tell Tale Corn on the Cob\n",
       "18        1123  Fresh Vegetables    Produce          Tri-State Potatos\n",
       "19         804  Fresh Vegetables    Produce      Ebony Elephant Garlic\n",
       "20        1426  Fresh Vegetables    Produce    Hermanos Prepared Salad"
      ]
     },
     "execution_count": 52,
     "metadata": {},
     "output_type": "execute_result"
    }
   ],
   "source": [
    "produce=department_data.loc[department_data['department'] == 'Produce']\n",
    "produce.head()"
   ]
  },
  {
   "cell_type": "markdown",
   "metadata": {},
   "source": [
    "#### #1 Produce : Top 5 products solds"
   ]
  },
  {
   "cell_type": "code",
   "execution_count": 53,
   "metadata": {
    "scrolled": true
   },
   "outputs": [
    {
     "data": {
      "text/plain": [
       "Tell Tale Fresh Lima Beans    219\n",
       "Ebony Mixed Nuts              213\n",
       "Ebony Fresh Lima Beans        211\n",
       "Hermanos Potatos              208\n",
       "Hermanos Green Pepper         207\n",
       "Name: product_name, dtype: int64"
      ]
     },
     "execution_count": 53,
     "metadata": {},
     "output_type": "execute_result"
    }
   ],
   "source": [
    "produce['product_name'].value_counts().iloc[:5]"
   ]
  },
  {
   "cell_type": "markdown",
   "metadata": {},
   "source": [
    "#### #2 Snack Foods : Top 5 products solds"
   ]
  },
  {
   "cell_type": "code",
   "execution_count": 54,
   "metadata": {},
   "outputs": [
    {
     "data": {
      "text/plain": [
       "Nationeel Dried Apples         214\n",
       "Best Choice Low Fat Popcorn    204\n",
       "Nationeel Golden Raisins       203\n",
       "Nationeel Graham Crackers      202\n",
       "Fast Beef Jerky                198\n",
       "Name: product_name, dtype: int64"
      ]
     },
     "execution_count": 54,
     "metadata": {},
     "output_type": "execute_result"
    }
   ],
   "source": [
    "snack=department_data.loc[department_data['department'] == 'Snack Foods']\n",
    "snack['product_name'].value_counts().iloc[:5]"
   ]
  },
  {
   "cell_type": "markdown",
   "metadata": {},
   "source": [
    "#### #3 Household : Top 5 products solds"
   ]
  },
  {
   "cell_type": "code",
   "execution_count": 55,
   "metadata": {},
   "outputs": [
    {
     "data": {
      "text/plain": [
       "Sunset Economy Toilet Brush    213\n",
       "Red Wing Glass Cleaner         208\n",
       "Red Wing 60 Watt Lightbulb     204\n",
       "Red Wing 25 Watt Lightbulb     204\n",
       "Sunset Soft Napkins            203\n",
       "Name: product_name, dtype: int64"
      ]
     },
     "execution_count": 55,
     "metadata": {},
     "output_type": "execute_result"
    }
   ],
   "source": [
    "household=department_data.loc[department_data['department'] == 'Household']\n",
    "household['product_name'].value_counts().iloc[:5]"
   ]
  },
  {
   "cell_type": "markdown",
   "metadata": {},
   "source": [
    "#### #4 Frozen Foods : Top 5 products solds"
   ]
  },
  {
   "cell_type": "code",
   "execution_count": 56,
   "metadata": {},
   "outputs": [
    {
     "data": {
      "text/plain": [
       "Big Time Orange Popsicles            207\n",
       "Carrington Ice Cream                 205\n",
       "Carrington Apple Cinnamon Waffles    201\n",
       "Big Time Chicken TV Dinner           201\n",
       "Carrington Beef TV Dinner            200\n",
       "Name: product_name, dtype: int64"
      ]
     },
     "execution_count": 56,
     "metadata": {},
     "output_type": "execute_result"
    }
   ],
   "source": [
    "frozen=department_data.loc[department_data['department'] == 'Frozen Foods']\n",
    "frozen['product_name'].value_counts().iloc[:5]"
   ]
  },
  {
   "cell_type": "markdown",
   "metadata": {},
   "source": [
    "#### #5 Baking Goods : Top 5 products solds"
   ]
  },
  {
   "cell_type": "code",
   "execution_count": 57,
   "metadata": {},
   "outputs": [
    {
     "data": {
      "text/plain": [
       "BBB Best Apple Butter        207\n",
       "Super Grape Jam              204\n",
       "Landslide Strawberry Jam     198\n",
       "BBB Best Strawberry Jelly    198\n",
       "Super Strawberry Jelly       197\n",
       "Name: product_name, dtype: int64"
      ]
     },
     "execution_count": 57,
     "metadata": {},
     "output_type": "execute_result"
    }
   ],
   "source": [
    "baking=department_data.loc[department_data['department'] == 'Baking Goods']\n",
    "baking['product_name'].value_counts().iloc[:5]"
   ]
  },
  {
   "cell_type": "markdown",
   "metadata": {},
   "source": [
    "## Market Basket Analysis"
   ]
  },
  {
   "cell_type": "code",
   "execution_count": 58,
   "metadata": {},
   "outputs": [],
   "source": [
    "import pandas as pd \n",
    "import numpy as np \n",
    "from mlxtend.frequent_patterns import apriori\n",
    "from mlxtend.frequent_patterns import association_rules\n",
    "from sklearn.preprocessing import LabelEncoder\n",
    "import seaborn as sns\n",
    "import matplotlib.pyplot as plt"
   ]
  },
  {
   "cell_type": "markdown",
   "metadata": {},
   "source": [
    "#### Since dataset having numerous features, we will consider only relevant features here"
   ]
  },
  {
   "cell_type": "code",
   "execution_count": 59,
   "metadata": {},
   "outputs": [
    {
     "data": {
      "text/html": [
       "<div>\n",
       "<style scoped>\n",
       "    .dataframe tbody tr th:only-of-type {\n",
       "        vertical-align: middle;\n",
       "    }\n",
       "\n",
       "    .dataframe tbody tr th {\n",
       "        vertical-align: top;\n",
       "    }\n",
       "\n",
       "    .dataframe thead th {\n",
       "        text-align: right;\n",
       "    }\n",
       "</style>\n",
       "<table border=\"1\" class=\"dataframe\">\n",
       "  <thead>\n",
       "    <tr style=\"text-align: right;\">\n",
       "      <th></th>\n",
       "      <th>product_id</th>\n",
       "      <th>time_id</th>\n",
       "      <th>customer_id</th>\n",
       "      <th>store_id</th>\n",
       "      <th>store_sales</th>\n",
       "      <th>store_cost</th>\n",
       "      <th>unit_sales</th>\n",
       "      <th>city</th>\n",
       "      <th>state_province</th>\n",
       "      <th>country</th>\n",
       "      <th>...</th>\n",
       "      <th>sales_region</th>\n",
       "      <th>sales_country</th>\n",
       "      <th>sales_district_id</th>\n",
       "      <th>the_date</th>\n",
       "      <th>the_day</th>\n",
       "      <th>the_year</th>\n",
       "      <th>the_month</th>\n",
       "      <th>day_of_month</th>\n",
       "      <th>day_since_epoch</th>\n",
       "      <th>transaction_id</th>\n",
       "    </tr>\n",
       "  </thead>\n",
       "  <tbody>\n",
       "    <tr>\n",
       "      <th>0</th>\n",
       "      <td>337</td>\n",
       "      <td>371</td>\n",
       "      <td>6280</td>\n",
       "      <td>2</td>\n",
       "      <td>1.50</td>\n",
       "      <td>0.5100</td>\n",
       "      <td>2</td>\n",
       "      <td>Anacortes</td>\n",
       "      <td>WA</td>\n",
       "      <td>USA</td>\n",
       "      <td>...</td>\n",
       "      <td>North West</td>\n",
       "      <td>USA</td>\n",
       "      <td>111</td>\n",
       "      <td>05-01-1997</td>\n",
       "      <td>Sunday</td>\n",
       "      <td>1997</td>\n",
       "      <td>1</td>\n",
       "      <td>5</td>\n",
       "      <td>33973</td>\n",
       "      <td>6280371</td>\n",
       "    </tr>\n",
       "    <tr>\n",
       "      <th>1</th>\n",
       "      <td>963</td>\n",
       "      <td>371</td>\n",
       "      <td>4018</td>\n",
       "      <td>2</td>\n",
       "      <td>2.40</td>\n",
       "      <td>0.7200</td>\n",
       "      <td>1</td>\n",
       "      <td>Sedro Woolley</td>\n",
       "      <td>WA</td>\n",
       "      <td>USA</td>\n",
       "      <td>...</td>\n",
       "      <td>North West</td>\n",
       "      <td>USA</td>\n",
       "      <td>111</td>\n",
       "      <td>05-01-1997</td>\n",
       "      <td>Sunday</td>\n",
       "      <td>1997</td>\n",
       "      <td>1</td>\n",
       "      <td>5</td>\n",
       "      <td>33973</td>\n",
       "      <td>4018371</td>\n",
       "    </tr>\n",
       "    <tr>\n",
       "      <th>2</th>\n",
       "      <td>1512</td>\n",
       "      <td>371</td>\n",
       "      <td>6280</td>\n",
       "      <td>2</td>\n",
       "      <td>1.62</td>\n",
       "      <td>0.6318</td>\n",
       "      <td>3</td>\n",
       "      <td>Anacortes</td>\n",
       "      <td>WA</td>\n",
       "      <td>USA</td>\n",
       "      <td>...</td>\n",
       "      <td>North West</td>\n",
       "      <td>USA</td>\n",
       "      <td>111</td>\n",
       "      <td>05-01-1997</td>\n",
       "      <td>Sunday</td>\n",
       "      <td>1997</td>\n",
       "      <td>1</td>\n",
       "      <td>5</td>\n",
       "      <td>33973</td>\n",
       "      <td>6280371</td>\n",
       "    </tr>\n",
       "    <tr>\n",
       "      <th>3</th>\n",
       "      <td>181</td>\n",
       "      <td>371</td>\n",
       "      <td>4018</td>\n",
       "      <td>2</td>\n",
       "      <td>2.79</td>\n",
       "      <td>1.0323</td>\n",
       "      <td>3</td>\n",
       "      <td>Sedro Woolley</td>\n",
       "      <td>WA</td>\n",
       "      <td>USA</td>\n",
       "      <td>...</td>\n",
       "      <td>North West</td>\n",
       "      <td>USA</td>\n",
       "      <td>111</td>\n",
       "      <td>05-01-1997</td>\n",
       "      <td>Sunday</td>\n",
       "      <td>1997</td>\n",
       "      <td>1</td>\n",
       "      <td>5</td>\n",
       "      <td>33973</td>\n",
       "      <td>4018371</td>\n",
       "    </tr>\n",
       "    <tr>\n",
       "      <th>4</th>\n",
       "      <td>483</td>\n",
       "      <td>371</td>\n",
       "      <td>4382</td>\n",
       "      <td>2</td>\n",
       "      <td>3.88</td>\n",
       "      <td>1.7072</td>\n",
       "      <td>2</td>\n",
       "      <td>Anacortes</td>\n",
       "      <td>WA</td>\n",
       "      <td>USA</td>\n",
       "      <td>...</td>\n",
       "      <td>North West</td>\n",
       "      <td>USA</td>\n",
       "      <td>111</td>\n",
       "      <td>05-01-1997</td>\n",
       "      <td>Sunday</td>\n",
       "      <td>1997</td>\n",
       "      <td>1</td>\n",
       "      <td>5</td>\n",
       "      <td>33973</td>\n",
       "      <td>4382371</td>\n",
       "    </tr>\n",
       "  </tbody>\n",
       "</table>\n",
       "<p>5 rows × 75 columns</p>\n",
       "</div>"
      ],
      "text/plain": [
       "   product_id  time_id  customer_id  store_id  store_sales  store_cost  \\\n",
       "0         337      371         6280         2         1.50      0.5100   \n",
       "1         963      371         4018         2         2.40      0.7200   \n",
       "2        1512      371         6280         2         1.62      0.6318   \n",
       "3         181      371         4018         2         2.79      1.0323   \n",
       "4         483      371         4382         2         3.88      1.7072   \n",
       "\n",
       "   unit_sales           city state_province country  ...  sales_region  \\\n",
       "0           2      Anacortes             WA     USA  ...    North West   \n",
       "1           1  Sedro Woolley             WA     USA  ...    North West   \n",
       "2           3      Anacortes             WA     USA  ...    North West   \n",
       "3           3  Sedro Woolley             WA     USA  ...    North West   \n",
       "4           2      Anacortes             WA     USA  ...    North West   \n",
       "\n",
       "  sales_country sales_district_id    the_date  the_day the_year the_month  \\\n",
       "0           USA               111  05-01-1997   Sunday     1997         1   \n",
       "1           USA               111  05-01-1997   Sunday     1997         1   \n",
       "2           USA               111  05-01-1997   Sunday     1997         1   \n",
       "3           USA               111  05-01-1997   Sunday     1997         1   \n",
       "4           USA               111  05-01-1997   Sunday     1997         1   \n",
       "\n",
       "  day_of_month day_since_epoch transaction_id  \n",
       "0            5           33973        6280371  \n",
       "1            5           33973        4018371  \n",
       "2            5           33973        6280371  \n",
       "3            5           33973        4018371  \n",
       "4            5           33973        4382371  \n",
       "\n",
       "[5 rows x 75 columns]"
      ]
     },
     "execution_count": 59,
     "metadata": {},
     "output_type": "execute_result"
    }
   ],
   "source": [
    "df.head()"
   ]
  },
  {
   "cell_type": "code",
   "execution_count": 60,
   "metadata": {
    "scrolled": false
   },
   "outputs": [],
   "source": [
    "data=df[['transaction_id','customer_id','product_id','product_name','unit_sales','time_id']]"
   ]
  },
  {
   "cell_type": "code",
   "execution_count": 61,
   "metadata": {},
   "outputs": [
    {
     "data": {
      "text/html": [
       "<div>\n",
       "<style scoped>\n",
       "    .dataframe tbody tr th:only-of-type {\n",
       "        vertical-align: middle;\n",
       "    }\n",
       "\n",
       "    .dataframe tbody tr th {\n",
       "        vertical-align: top;\n",
       "    }\n",
       "\n",
       "    .dataframe thead th {\n",
       "        text-align: right;\n",
       "    }\n",
       "</style>\n",
       "<table border=\"1\" class=\"dataframe\">\n",
       "  <thead>\n",
       "    <tr style=\"text-align: right;\">\n",
       "      <th></th>\n",
       "      <th>transaction_id</th>\n",
       "      <th>customer_id</th>\n",
       "      <th>product_id</th>\n",
       "      <th>product_name</th>\n",
       "      <th>unit_sales</th>\n",
       "      <th>time_id</th>\n",
       "    </tr>\n",
       "  </thead>\n",
       "  <tbody>\n",
       "    <tr>\n",
       "      <th>0</th>\n",
       "      <td>6280371</td>\n",
       "      <td>6280</td>\n",
       "      <td>337</td>\n",
       "      <td>Better Turkey Noodle Soup</td>\n",
       "      <td>2</td>\n",
       "      <td>371</td>\n",
       "    </tr>\n",
       "    <tr>\n",
       "      <th>1</th>\n",
       "      <td>4018371</td>\n",
       "      <td>4018</td>\n",
       "      <td>963</td>\n",
       "      <td>Just Right Chicken Noodle Soup</td>\n",
       "      <td>1</td>\n",
       "      <td>371</td>\n",
       "    </tr>\n",
       "    <tr>\n",
       "      <th>2</th>\n",
       "      <td>6280371</td>\n",
       "      <td>6280</td>\n",
       "      <td>1512</td>\n",
       "      <td>Jardon Spaghetti</td>\n",
       "      <td>3</td>\n",
       "      <td>371</td>\n",
       "    </tr>\n",
       "    <tr>\n",
       "      <th>3</th>\n",
       "      <td>4018371</td>\n",
       "      <td>4018</td>\n",
       "      <td>181</td>\n",
       "      <td>High Top Lettuce</td>\n",
       "      <td>3</td>\n",
       "      <td>371</td>\n",
       "    </tr>\n",
       "    <tr>\n",
       "      <th>4</th>\n",
       "      <td>4382371</td>\n",
       "      <td>4382</td>\n",
       "      <td>483</td>\n",
       "      <td>Tell Tale Corn on the Cob</td>\n",
       "      <td>2</td>\n",
       "      <td>371</td>\n",
       "    </tr>\n",
       "  </tbody>\n",
       "</table>\n",
       "</div>"
      ],
      "text/plain": [
       "  transaction_id  customer_id  product_id                    product_name  \\\n",
       "0        6280371         6280         337       Better Turkey Noodle Soup   \n",
       "1        4018371         4018         963  Just Right Chicken Noodle Soup   \n",
       "2        6280371         6280        1512                Jardon Spaghetti   \n",
       "3        4018371         4018         181                High Top Lettuce   \n",
       "4        4382371         4382         483       Tell Tale Corn on the Cob   \n",
       "\n",
       "   unit_sales  time_id  \n",
       "0           2      371  \n",
       "1           1      371  \n",
       "2           3      371  \n",
       "3           3      371  \n",
       "4           2      371  "
      ]
     },
     "execution_count": 61,
     "metadata": {},
     "output_type": "execute_result"
    }
   ],
   "source": [
    "data.head()"
   ]
  },
  {
   "cell_type": "markdown",
   "metadata": {},
   "source": [
    "##### Counting number of transactions completed for each products"
   ]
  },
  {
   "cell_type": "code",
   "execution_count": 62,
   "metadata": {
    "scrolled": true
   },
   "outputs": [
    {
     "data": {
      "text/plain": [
       "transaction_id    58308\n",
       "customer_id        8842\n",
       "product_id         1559\n",
       "product_name       1559\n",
       "unit_sales            6\n",
       "time_id             673\n",
       "dtype: int64"
      ]
     },
     "execution_count": 62,
     "metadata": {},
     "output_type": "execute_result"
    }
   ],
   "source": [
    "data.nunique()"
   ]
  },
  {
   "cell_type": "code",
   "execution_count": 63,
   "metadata": {
    "scrolled": true
   },
   "outputs": [
    {
     "data": {
      "text/html": [
       "<div>\n",
       "<style scoped>\n",
       "    .dataframe tbody tr th:only-of-type {\n",
       "        vertical-align: middle;\n",
       "    }\n",
       "\n",
       "    .dataframe tbody tr th {\n",
       "        vertical-align: top;\n",
       "    }\n",
       "\n",
       "    .dataframe thead th {\n",
       "        text-align: right;\n",
       "    }\n",
       "</style>\n",
       "<table border=\"1\" class=\"dataframe\">\n",
       "  <thead>\n",
       "    <tr style=\"text-align: right;\">\n",
       "      <th></th>\n",
       "      <th>customer_id</th>\n",
       "      <th>product_id</th>\n",
       "      <th>unit_sales</th>\n",
       "      <th>time_id</th>\n",
       "    </tr>\n",
       "  </thead>\n",
       "  <tbody>\n",
       "    <tr>\n",
       "      <th>count</th>\n",
       "      <td>269720.000000</td>\n",
       "      <td>269720.000000</td>\n",
       "      <td>269720.000000</td>\n",
       "      <td>269720.000000</td>\n",
       "    </tr>\n",
       "    <tr>\n",
       "      <th>mean</th>\n",
       "      <td>5119.390405</td>\n",
       "      <td>783.862873</td>\n",
       "      <td>3.090201</td>\n",
       "      <td>800.004990</td>\n",
       "    </tr>\n",
       "    <tr>\n",
       "      <th>std</th>\n",
       "      <td>2901.883077</td>\n",
       "      <td>447.926131</td>\n",
       "      <td>0.835554</td>\n",
       "      <td>201.955563</td>\n",
       "    </tr>\n",
       "    <tr>\n",
       "      <th>min</th>\n",
       "      <td>3.000000</td>\n",
       "      <td>1.000000</td>\n",
       "      <td>1.000000</td>\n",
       "      <td>367.000000</td>\n",
       "    </tr>\n",
       "    <tr>\n",
       "      <th>25%</th>\n",
       "      <td>2570.000000</td>\n",
       "      <td>396.000000</td>\n",
       "      <td>3.000000</td>\n",
       "      <td>657.000000</td>\n",
       "    </tr>\n",
       "    <tr>\n",
       "      <th>50%</th>\n",
       "      <td>5090.000000</td>\n",
       "      <td>787.000000</td>\n",
       "      <td>3.000000</td>\n",
       "      <td>830.000000</td>\n",
       "    </tr>\n",
       "    <tr>\n",
       "      <th>75%</th>\n",
       "      <td>7614.000000</td>\n",
       "      <td>1174.000000</td>\n",
       "      <td>4.000000</td>\n",
       "      <td>968.000000</td>\n",
       "    </tr>\n",
       "    <tr>\n",
       "      <th>max</th>\n",
       "      <td>10281.000000</td>\n",
       "      <td>1559.000000</td>\n",
       "      <td>6.000000</td>\n",
       "      <td>1095.000000</td>\n",
       "    </tr>\n",
       "  </tbody>\n",
       "</table>\n",
       "</div>"
      ],
      "text/plain": [
       "         customer_id     product_id     unit_sales        time_id\n",
       "count  269720.000000  269720.000000  269720.000000  269720.000000\n",
       "mean     5119.390405     783.862873       3.090201     800.004990\n",
       "std      2901.883077     447.926131       0.835554     201.955563\n",
       "min         3.000000       1.000000       1.000000     367.000000\n",
       "25%      2570.000000     396.000000       3.000000     657.000000\n",
       "50%      5090.000000     787.000000       3.000000     830.000000\n",
       "75%      7614.000000    1174.000000       4.000000     968.000000\n",
       "max     10281.000000    1559.000000       6.000000    1095.000000"
      ]
     },
     "execution_count": 63,
     "metadata": {},
     "output_type": "execute_result"
    }
   ],
   "source": [
    "data.describe()"
   ]
  },
  {
   "cell_type": "code",
   "execution_count": 64,
   "metadata": {},
   "outputs": [],
   "source": [
    "trans_per_product = data.groupby(\"product_id\",as_index=False)['transaction_id'].count()"
   ]
  },
  {
   "cell_type": "code",
   "execution_count": 65,
   "metadata": {
    "scrolled": true
   },
   "outputs": [
    {
     "data": {
      "text/html": [
       "<div>\n",
       "<style scoped>\n",
       "    .dataframe tbody tr th:only-of-type {\n",
       "        vertical-align: middle;\n",
       "    }\n",
       "\n",
       "    .dataframe tbody tr th {\n",
       "        vertical-align: top;\n",
       "    }\n",
       "\n",
       "    .dataframe thead th {\n",
       "        text-align: right;\n",
       "    }\n",
       "</style>\n",
       "<table border=\"1\" class=\"dataframe\">\n",
       "  <thead>\n",
       "    <tr style=\"text-align: right;\">\n",
       "      <th></th>\n",
       "      <th>product_id</th>\n",
       "      <th>transaction_id</th>\n",
       "    </tr>\n",
       "  </thead>\n",
       "  <tbody>\n",
       "    <tr>\n",
       "      <th>0</th>\n",
       "      <td>1</td>\n",
       "      <td>85</td>\n",
       "    </tr>\n",
       "    <tr>\n",
       "      <th>1</th>\n",
       "      <td>2</td>\n",
       "      <td>155</td>\n",
       "    </tr>\n",
       "    <tr>\n",
       "      <th>2</th>\n",
       "      <td>3</td>\n",
       "      <td>148</td>\n",
       "    </tr>\n",
       "    <tr>\n",
       "      <th>3</th>\n",
       "      <td>4</td>\n",
       "      <td>154</td>\n",
       "    </tr>\n",
       "    <tr>\n",
       "      <th>4</th>\n",
       "      <td>5</td>\n",
       "      <td>144</td>\n",
       "    </tr>\n",
       "  </tbody>\n",
       "</table>\n",
       "</div>"
      ],
      "text/plain": [
       "   product_id  transaction_id\n",
       "0           1              85\n",
       "1           2             155\n",
       "2           3             148\n",
       "3           4             154\n",
       "4           5             144"
      ]
     },
     "execution_count": 65,
     "metadata": {},
     "output_type": "execute_result"
    }
   ],
   "source": [
    "trans_per_product.head()"
   ]
  },
  {
   "cell_type": "code",
   "execution_count": 66,
   "metadata": {},
   "outputs": [],
   "source": [
    "trans_per_product = trans_per_product.sort_values(\"transaction_id\",ascending = False)"
   ]
  },
  {
   "cell_type": "code",
   "execution_count": 67,
   "metadata": {},
   "outputs": [
    {
     "data": {
      "text/html": [
       "<div>\n",
       "<style scoped>\n",
       "    .dataframe tbody tr th:only-of-type {\n",
       "        vertical-align: middle;\n",
       "    }\n",
       "\n",
       "    .dataframe tbody tr th {\n",
       "        vertical-align: top;\n",
       "    }\n",
       "\n",
       "    .dataframe thead th {\n",
       "        text-align: right;\n",
       "    }\n",
       "</style>\n",
       "<table border=\"1\" class=\"dataframe\">\n",
       "  <thead>\n",
       "    <tr style=\"text-align: right;\">\n",
       "      <th></th>\n",
       "      <th>product_id</th>\n",
       "      <th>transaction_id</th>\n",
       "    </tr>\n",
       "  </thead>\n",
       "  <tbody>\n",
       "    <tr>\n",
       "      <th>381</th>\n",
       "      <td>382</td>\n",
       "      <td>225</td>\n",
       "    </tr>\n",
       "    <tr>\n",
       "      <th>501</th>\n",
       "      <td>502</td>\n",
       "      <td>219</td>\n",
       "    </tr>\n",
       "    <tr>\n",
       "      <th>425</th>\n",
       "      <td>426</td>\n",
       "      <td>218</td>\n",
       "    </tr>\n",
       "    <tr>\n",
       "      <th>1361</th>\n",
       "      <td>1362</td>\n",
       "      <td>216</td>\n",
       "    </tr>\n",
       "    <tr>\n",
       "      <th>864</th>\n",
       "      <td>865</td>\n",
       "      <td>214</td>\n",
       "    </tr>\n",
       "  </tbody>\n",
       "</table>\n",
       "</div>"
      ],
      "text/plain": [
       "      product_id  transaction_id\n",
       "381          382             225\n",
       "501          502             219\n",
       "425          426             218\n",
       "1361        1362             216\n",
       "864          865             214"
      ]
     },
     "execution_count": 67,
     "metadata": {},
     "output_type": "execute_result"
    }
   ],
   "source": [
    "trans_per_product.head()"
   ]
  },
  {
   "cell_type": "markdown",
   "metadata": {},
   "source": [
    "Lets store top 100 most bought products to a new dataframe"
   ]
  },
  {
   "cell_type": "code",
   "execution_count": 68,
   "metadata": {},
   "outputs": [],
   "source": [
    "top_100_products=trans_per_product.head(100)"
   ]
  },
  {
   "cell_type": "code",
   "execution_count": 69,
   "metadata": {},
   "outputs": [],
   "source": [
    "prod_id = pd.DataFrame(columns=['product_id'], data=top_100_products[['product_id']].values)"
   ]
  },
  {
   "cell_type": "markdown",
   "metadata": {},
   "source": [
    "##### Orders containting the the most frequently purchased products"
   ]
  },
  {
   "cell_type": "code",
   "execution_count": 70,
   "metadata": {},
   "outputs": [],
   "source": [
    "MarketBasket = data[0:0]\n",
    "for i in range(0,99):\n",
    "    pId = prod_id.iloc[i]['product_id'] \n",
    "    val = data[data.product_id == pId ]\n",
    "    MarketBasket = MarketBasket.append(val,ignore_index = False)"
   ]
  },
  {
   "cell_type": "code",
   "execution_count": 71,
   "metadata": {
    "scrolled": false
   },
   "outputs": [
    {
     "data": {
      "text/html": [
       "<div>\n",
       "<style scoped>\n",
       "    .dataframe tbody tr th:only-of-type {\n",
       "        vertical-align: middle;\n",
       "    }\n",
       "\n",
       "    .dataframe tbody tr th {\n",
       "        vertical-align: top;\n",
       "    }\n",
       "\n",
       "    .dataframe thead th {\n",
       "        text-align: right;\n",
       "    }\n",
       "</style>\n",
       "<table border=\"1\" class=\"dataframe\">\n",
       "  <thead>\n",
       "    <tr style=\"text-align: right;\">\n",
       "      <th></th>\n",
       "      <th>transaction_id</th>\n",
       "      <th>customer_id</th>\n",
       "      <th>product_id</th>\n",
       "      <th>product_name</th>\n",
       "      <th>unit_sales</th>\n",
       "      <th>time_id</th>\n",
       "    </tr>\n",
       "  </thead>\n",
       "  <tbody>\n",
       "    <tr>\n",
       "      <th>609</th>\n",
       "      <td>2808742</td>\n",
       "      <td>2808</td>\n",
       "      <td>382</td>\n",
       "      <td>Moms Roasted Chicken</td>\n",
       "      <td>3</td>\n",
       "      <td>742</td>\n",
       "    </tr>\n",
       "    <tr>\n",
       "      <th>1981</th>\n",
       "      <td>76462</td>\n",
       "      <td>76</td>\n",
       "      <td>382</td>\n",
       "      <td>Moms Roasted Chicken</td>\n",
       "      <td>3</td>\n",
       "      <td>462</td>\n",
       "    </tr>\n",
       "    <tr>\n",
       "      <th>3528</th>\n",
       "      <td>3261062</td>\n",
       "      <td>326</td>\n",
       "      <td>382</td>\n",
       "      <td>Moms Roasted Chicken</td>\n",
       "      <td>1</td>\n",
       "      <td>1062</td>\n",
       "    </tr>\n",
       "    <tr>\n",
       "      <th>3680</th>\n",
       "      <td>21731062</td>\n",
       "      <td>2173</td>\n",
       "      <td>382</td>\n",
       "      <td>Moms Roasted Chicken</td>\n",
       "      <td>4</td>\n",
       "      <td>1062</td>\n",
       "    </tr>\n",
       "    <tr>\n",
       "      <th>4290</th>\n",
       "      <td>630679</td>\n",
       "      <td>630</td>\n",
       "      <td>382</td>\n",
       "      <td>Moms Roasted Chicken</td>\n",
       "      <td>2</td>\n",
       "      <td>679</td>\n",
       "    </tr>\n",
       "  </tbody>\n",
       "</table>\n",
       "</div>"
      ],
      "text/plain": [
       "     transaction_id  customer_id  product_id          product_name  \\\n",
       "609         2808742         2808         382  Moms Roasted Chicken   \n",
       "1981          76462           76         382  Moms Roasted Chicken   \n",
       "3528        3261062          326         382  Moms Roasted Chicken   \n",
       "3680       21731062         2173         382  Moms Roasted Chicken   \n",
       "4290         630679          630         382  Moms Roasted Chicken   \n",
       "\n",
       "      unit_sales  time_id  \n",
       "609            3      742  \n",
       "1981           3      462  \n",
       "3528           1     1062  \n",
       "3680           4     1062  \n",
       "4290           2      679  "
      ]
     },
     "execution_count": 71,
     "metadata": {},
     "output_type": "execute_result"
    }
   ],
   "source": [
    "MarketBasket.head()"
   ]
  },
  {
   "cell_type": "code",
   "execution_count": 72,
   "metadata": {},
   "outputs": [
    {
     "data": {
      "text/plain": [
       "(20049, 6)"
      ]
     },
     "execution_count": 72,
     "metadata": {},
     "output_type": "execute_result"
    }
   ],
   "source": [
    "MarketBasket.shape"
   ]
  },
  {
   "cell_type": "code",
   "execution_count": 73,
   "metadata": {},
   "outputs": [
    {
     "data": {
      "text/plain": [
       "transaction_id    16929\n",
       "customer_id        6270\n",
       "product_id           99\n",
       "product_name         99\n",
       "unit_sales            6\n",
       "time_id             667\n",
       "dtype: int64"
      ]
     },
     "execution_count": 73,
     "metadata": {},
     "output_type": "execute_result"
    }
   ],
   "source": [
    "MarketBasket.nunique()"
   ]
  },
  {
   "cell_type": "markdown",
   "metadata": {},
   "source": [
    "#### Creating a table for adding all items in a single transaction"
   ]
  },
  {
   "cell_type": "markdown",
   "metadata": {},
   "source": [
    "The transaction where a product is not purchased will be denoted with zero, while the purchased item will be represented by count of that item"
   ]
  },
  {
   "cell_type": "code",
   "execution_count": 74,
   "metadata": {},
   "outputs": [],
   "source": [
    "basket = MarketBasket.groupby(['transaction_id','product_name'])['unit_sales'].sum().unstack().reset_index().fillna(0).set_index('transaction_id')"
   ]
  },
  {
   "cell_type": "code",
   "execution_count": 75,
   "metadata": {
    "scrolled": false
   },
   "outputs": [
    {
     "data": {
      "text/html": [
       "<div>\n",
       "<style scoped>\n",
       "    .dataframe tbody tr th:only-of-type {\n",
       "        vertical-align: middle;\n",
       "    }\n",
       "\n",
       "    .dataframe tbody tr th {\n",
       "        vertical-align: top;\n",
       "    }\n",
       "\n",
       "    .dataframe thead th {\n",
       "        text-align: right;\n",
       "    }\n",
       "</style>\n",
       "<table border=\"1\" class=\"dataframe\">\n",
       "  <thead>\n",
       "    <tr style=\"text-align: right;\">\n",
       "      <th>product_name</th>\n",
       "      <th>ADJ Rosy Sunglasses</th>\n",
       "      <th>BBB Best Apple Butter</th>\n",
       "      <th>BBB Best French Roast Coffee</th>\n",
       "      <th>BBB Best Strawberry Jelly</th>\n",
       "      <th>Best Choice Low Fat Popcorn</th>\n",
       "      <th>Better Canned Tuna in Oil</th>\n",
       "      <th>Better Chicken Noodle Soup</th>\n",
       "      <th>Better Chicken Ramen Soup</th>\n",
       "      <th>Better Fancy Canned Anchovies</th>\n",
       "      <th>Better Fancy Canned Clams</th>\n",
       "      <th>...</th>\n",
       "      <th>Sunset Paper Cups</th>\n",
       "      <th>Sunset Paper Plates</th>\n",
       "      <th>Sunset Soft Napkins</th>\n",
       "      <th>Super Grape Jam</th>\n",
       "      <th>Super Strawberry Jelly</th>\n",
       "      <th>Tell Tale Fresh Lima Beans</th>\n",
       "      <th>Tell Tale Lettuce</th>\n",
       "      <th>Tell Tale Sweet Onion</th>\n",
       "      <th>Thresher Malted Milk Balls</th>\n",
       "      <th>Thresher White Chocolate Bar</th>\n",
       "    </tr>\n",
       "    <tr>\n",
       "      <th>transaction_id</th>\n",
       "      <th></th>\n",
       "      <th></th>\n",
       "      <th></th>\n",
       "      <th></th>\n",
       "      <th></th>\n",
       "      <th></th>\n",
       "      <th></th>\n",
       "      <th></th>\n",
       "      <th></th>\n",
       "      <th></th>\n",
       "      <th></th>\n",
       "      <th></th>\n",
       "      <th></th>\n",
       "      <th></th>\n",
       "      <th></th>\n",
       "      <th></th>\n",
       "      <th></th>\n",
       "      <th></th>\n",
       "      <th></th>\n",
       "      <th></th>\n",
       "      <th></th>\n",
       "    </tr>\n",
       "  </thead>\n",
       "  <tbody>\n",
       "    <tr>\n",
       "      <th>10000850</th>\n",
       "      <td>0.0</td>\n",
       "      <td>0.0</td>\n",
       "      <td>0.0</td>\n",
       "      <td>0.0</td>\n",
       "      <td>0.0</td>\n",
       "      <td>0.0</td>\n",
       "      <td>0.0</td>\n",
       "      <td>0.0</td>\n",
       "      <td>0.0</td>\n",
       "      <td>0.0</td>\n",
       "      <td>...</td>\n",
       "      <td>0.0</td>\n",
       "      <td>0.0</td>\n",
       "      <td>0.0</td>\n",
       "      <td>0.0</td>\n",
       "      <td>0.0</td>\n",
       "      <td>0.0</td>\n",
       "      <td>0.0</td>\n",
       "      <td>0.0</td>\n",
       "      <td>0.0</td>\n",
       "      <td>0.0</td>\n",
       "    </tr>\n",
       "    <tr>\n",
       "      <th>10000872</th>\n",
       "      <td>0.0</td>\n",
       "      <td>0.0</td>\n",
       "      <td>0.0</td>\n",
       "      <td>0.0</td>\n",
       "      <td>0.0</td>\n",
       "      <td>0.0</td>\n",
       "      <td>0.0</td>\n",
       "      <td>0.0</td>\n",
       "      <td>0.0</td>\n",
       "      <td>0.0</td>\n",
       "      <td>...</td>\n",
       "      <td>0.0</td>\n",
       "      <td>0.0</td>\n",
       "      <td>0.0</td>\n",
       "      <td>0.0</td>\n",
       "      <td>0.0</td>\n",
       "      <td>0.0</td>\n",
       "      <td>0.0</td>\n",
       "      <td>0.0</td>\n",
       "      <td>0.0</td>\n",
       "      <td>0.0</td>\n",
       "    </tr>\n",
       "    <tr>\n",
       "      <th>10000903</th>\n",
       "      <td>0.0</td>\n",
       "      <td>0.0</td>\n",
       "      <td>0.0</td>\n",
       "      <td>0.0</td>\n",
       "      <td>0.0</td>\n",
       "      <td>0.0</td>\n",
       "      <td>0.0</td>\n",
       "      <td>0.0</td>\n",
       "      <td>0.0</td>\n",
       "      <td>0.0</td>\n",
       "      <td>...</td>\n",
       "      <td>0.0</td>\n",
       "      <td>0.0</td>\n",
       "      <td>0.0</td>\n",
       "      <td>0.0</td>\n",
       "      <td>0.0</td>\n",
       "      <td>0.0</td>\n",
       "      <td>0.0</td>\n",
       "      <td>0.0</td>\n",
       "      <td>0.0</td>\n",
       "      <td>0.0</td>\n",
       "    </tr>\n",
       "    <tr>\n",
       "      <th>100011011</th>\n",
       "      <td>0.0</td>\n",
       "      <td>0.0</td>\n",
       "      <td>4.0</td>\n",
       "      <td>0.0</td>\n",
       "      <td>0.0</td>\n",
       "      <td>0.0</td>\n",
       "      <td>0.0</td>\n",
       "      <td>0.0</td>\n",
       "      <td>0.0</td>\n",
       "      <td>0.0</td>\n",
       "      <td>...</td>\n",
       "      <td>0.0</td>\n",
       "      <td>0.0</td>\n",
       "      <td>0.0</td>\n",
       "      <td>0.0</td>\n",
       "      <td>0.0</td>\n",
       "      <td>0.0</td>\n",
       "      <td>0.0</td>\n",
       "      <td>0.0</td>\n",
       "      <td>0.0</td>\n",
       "      <td>0.0</td>\n",
       "    </tr>\n",
       "    <tr>\n",
       "      <th>10001793</th>\n",
       "      <td>2.0</td>\n",
       "      <td>0.0</td>\n",
       "      <td>0.0</td>\n",
       "      <td>0.0</td>\n",
       "      <td>0.0</td>\n",
       "      <td>0.0</td>\n",
       "      <td>3.0</td>\n",
       "      <td>0.0</td>\n",
       "      <td>0.0</td>\n",
       "      <td>0.0</td>\n",
       "      <td>...</td>\n",
       "      <td>0.0</td>\n",
       "      <td>0.0</td>\n",
       "      <td>0.0</td>\n",
       "      <td>0.0</td>\n",
       "      <td>0.0</td>\n",
       "      <td>0.0</td>\n",
       "      <td>0.0</td>\n",
       "      <td>0.0</td>\n",
       "      <td>0.0</td>\n",
       "      <td>0.0</td>\n",
       "    </tr>\n",
       "  </tbody>\n",
       "</table>\n",
       "<p>5 rows × 99 columns</p>\n",
       "</div>"
      ],
      "text/plain": [
       "product_name    ADJ Rosy Sunglasses  BBB Best Apple Butter  \\\n",
       "transaction_id                                               \n",
       "10000850                        0.0                    0.0   \n",
       "10000872                        0.0                    0.0   \n",
       "10000903                        0.0                    0.0   \n",
       "100011011                       0.0                    0.0   \n",
       "10001793                        2.0                    0.0   \n",
       "\n",
       "product_name    BBB Best French Roast Coffee  BBB Best Strawberry Jelly  \\\n",
       "transaction_id                                                            \n",
       "10000850                                 0.0                        0.0   \n",
       "10000872                                 0.0                        0.0   \n",
       "10000903                                 0.0                        0.0   \n",
       "100011011                                4.0                        0.0   \n",
       "10001793                                 0.0                        0.0   \n",
       "\n",
       "product_name    Best Choice Low Fat Popcorn  Better Canned Tuna in Oil  \\\n",
       "transaction_id                                                           \n",
       "10000850                                0.0                        0.0   \n",
       "10000872                                0.0                        0.0   \n",
       "10000903                                0.0                        0.0   \n",
       "100011011                               0.0                        0.0   \n",
       "10001793                                0.0                        0.0   \n",
       "\n",
       "product_name    Better Chicken Noodle Soup  Better Chicken Ramen Soup  \\\n",
       "transaction_id                                                          \n",
       "10000850                               0.0                        0.0   \n",
       "10000872                               0.0                        0.0   \n",
       "10000903                               0.0                        0.0   \n",
       "100011011                              0.0                        0.0   \n",
       "10001793                               3.0                        0.0   \n",
       "\n",
       "product_name    Better Fancy Canned Anchovies  Better Fancy Canned Clams  ...  \\\n",
       "transaction_id                                                            ...   \n",
       "10000850                                  0.0                        0.0  ...   \n",
       "10000872                                  0.0                        0.0  ...   \n",
       "10000903                                  0.0                        0.0  ...   \n",
       "100011011                                 0.0                        0.0  ...   \n",
       "10001793                                  0.0                        0.0  ...   \n",
       "\n",
       "product_name    Sunset Paper Cups  Sunset Paper Plates  Sunset Soft Napkins  \\\n",
       "transaction_id                                                                \n",
       "10000850                      0.0                  0.0                  0.0   \n",
       "10000872                      0.0                  0.0                  0.0   \n",
       "10000903                      0.0                  0.0                  0.0   \n",
       "100011011                     0.0                  0.0                  0.0   \n",
       "10001793                      0.0                  0.0                  0.0   \n",
       "\n",
       "product_name    Super Grape Jam  Super Strawberry Jelly  \\\n",
       "transaction_id                                            \n",
       "10000850                    0.0                     0.0   \n",
       "10000872                    0.0                     0.0   \n",
       "10000903                    0.0                     0.0   \n",
       "100011011                   0.0                     0.0   \n",
       "10001793                    0.0                     0.0   \n",
       "\n",
       "product_name    Tell Tale Fresh Lima Beans  Tell Tale Lettuce  \\\n",
       "transaction_id                                                  \n",
       "10000850                               0.0                0.0   \n",
       "10000872                               0.0                0.0   \n",
       "10000903                               0.0                0.0   \n",
       "100011011                              0.0                0.0   \n",
       "10001793                               0.0                0.0   \n",
       "\n",
       "product_name    Tell Tale Sweet Onion  Thresher Malted Milk Balls  \\\n",
       "transaction_id                                                      \n",
       "10000850                          0.0                         0.0   \n",
       "10000872                          0.0                         0.0   \n",
       "10000903                          0.0                         0.0   \n",
       "100011011                         0.0                         0.0   \n",
       "10001793                          0.0                         0.0   \n",
       "\n",
       "product_name    Thresher White Chocolate Bar  \n",
       "transaction_id                                \n",
       "10000850                                 0.0  \n",
       "10000872                                 0.0  \n",
       "10000903                                 0.0  \n",
       "100011011                                0.0  \n",
       "10001793                                 0.0  \n",
       "\n",
       "[5 rows x 99 columns]"
      ]
     },
     "execution_count": 75,
     "metadata": {},
     "output_type": "execute_result"
    }
   ],
   "source": [
    "basket.head()"
   ]
  },
  {
   "cell_type": "code",
   "execution_count": 76,
   "metadata": {},
   "outputs": [
    {
     "data": {
      "text/plain": [
       "(16929, 99)"
      ]
     },
     "execution_count": 76,
     "metadata": {},
     "output_type": "execute_result"
    }
   ],
   "source": [
    "basket.shape"
   ]
  },
  {
   "cell_type": "markdown",
   "metadata": {},
   "source": [
    "#### One Hot Encoding"
   ]
  },
  {
   "cell_type": "markdown",
   "metadata": {},
   "source": [
    "Converted the transaction item count to 1 encoded value (where count of item in a transaction is greater than or equal to 1, and 0 for no purchased item"
   ]
  },
  {
   "cell_type": "code",
   "execution_count": 77,
   "metadata": {},
   "outputs": [],
   "source": [
    "def oh_encode(x):\n",
    "    if x <= 0:\n",
    "        return 0\n",
    "    if x >= 1:\n",
    "        return 1"
   ]
  },
  {
   "cell_type": "code",
   "execution_count": 78,
   "metadata": {},
   "outputs": [],
   "source": [
    "basket_encoded = basket.applymap(oh_encode)"
   ]
  },
  {
   "cell_type": "code",
   "execution_count": 79,
   "metadata": {},
   "outputs": [
    {
     "data": {
      "text/html": [
       "<div>\n",
       "<style scoped>\n",
       "    .dataframe tbody tr th:only-of-type {\n",
       "        vertical-align: middle;\n",
       "    }\n",
       "\n",
       "    .dataframe tbody tr th {\n",
       "        vertical-align: top;\n",
       "    }\n",
       "\n",
       "    .dataframe thead th {\n",
       "        text-align: right;\n",
       "    }\n",
       "</style>\n",
       "<table border=\"1\" class=\"dataframe\">\n",
       "  <thead>\n",
       "    <tr style=\"text-align: right;\">\n",
       "      <th>product_name</th>\n",
       "      <th>ADJ Rosy Sunglasses</th>\n",
       "      <th>BBB Best Apple Butter</th>\n",
       "      <th>BBB Best French Roast Coffee</th>\n",
       "      <th>BBB Best Strawberry Jelly</th>\n",
       "      <th>Best Choice Low Fat Popcorn</th>\n",
       "      <th>Better Canned Tuna in Oil</th>\n",
       "      <th>Better Chicken Noodle Soup</th>\n",
       "      <th>Better Chicken Ramen Soup</th>\n",
       "      <th>Better Fancy Canned Anchovies</th>\n",
       "      <th>Better Fancy Canned Clams</th>\n",
       "      <th>...</th>\n",
       "      <th>Sunset Paper Cups</th>\n",
       "      <th>Sunset Paper Plates</th>\n",
       "      <th>Sunset Soft Napkins</th>\n",
       "      <th>Super Grape Jam</th>\n",
       "      <th>Super Strawberry Jelly</th>\n",
       "      <th>Tell Tale Fresh Lima Beans</th>\n",
       "      <th>Tell Tale Lettuce</th>\n",
       "      <th>Tell Tale Sweet Onion</th>\n",
       "      <th>Thresher Malted Milk Balls</th>\n",
       "      <th>Thresher White Chocolate Bar</th>\n",
       "    </tr>\n",
       "    <tr>\n",
       "      <th>transaction_id</th>\n",
       "      <th></th>\n",
       "      <th></th>\n",
       "      <th></th>\n",
       "      <th></th>\n",
       "      <th></th>\n",
       "      <th></th>\n",
       "      <th></th>\n",
       "      <th></th>\n",
       "      <th></th>\n",
       "      <th></th>\n",
       "      <th></th>\n",
       "      <th></th>\n",
       "      <th></th>\n",
       "      <th></th>\n",
       "      <th></th>\n",
       "      <th></th>\n",
       "      <th></th>\n",
       "      <th></th>\n",
       "      <th></th>\n",
       "      <th></th>\n",
       "      <th></th>\n",
       "    </tr>\n",
       "  </thead>\n",
       "  <tbody>\n",
       "    <tr>\n",
       "      <th>10000850</th>\n",
       "      <td>0</td>\n",
       "      <td>0</td>\n",
       "      <td>0</td>\n",
       "      <td>0</td>\n",
       "      <td>0</td>\n",
       "      <td>0</td>\n",
       "      <td>0</td>\n",
       "      <td>0</td>\n",
       "      <td>0</td>\n",
       "      <td>0</td>\n",
       "      <td>...</td>\n",
       "      <td>0</td>\n",
       "      <td>0</td>\n",
       "      <td>0</td>\n",
       "      <td>0</td>\n",
       "      <td>0</td>\n",
       "      <td>0</td>\n",
       "      <td>0</td>\n",
       "      <td>0</td>\n",
       "      <td>0</td>\n",
       "      <td>0</td>\n",
       "    </tr>\n",
       "    <tr>\n",
       "      <th>10000872</th>\n",
       "      <td>0</td>\n",
       "      <td>0</td>\n",
       "      <td>0</td>\n",
       "      <td>0</td>\n",
       "      <td>0</td>\n",
       "      <td>0</td>\n",
       "      <td>0</td>\n",
       "      <td>0</td>\n",
       "      <td>0</td>\n",
       "      <td>0</td>\n",
       "      <td>...</td>\n",
       "      <td>0</td>\n",
       "      <td>0</td>\n",
       "      <td>0</td>\n",
       "      <td>0</td>\n",
       "      <td>0</td>\n",
       "      <td>0</td>\n",
       "      <td>0</td>\n",
       "      <td>0</td>\n",
       "      <td>0</td>\n",
       "      <td>0</td>\n",
       "    </tr>\n",
       "    <tr>\n",
       "      <th>10000903</th>\n",
       "      <td>0</td>\n",
       "      <td>0</td>\n",
       "      <td>0</td>\n",
       "      <td>0</td>\n",
       "      <td>0</td>\n",
       "      <td>0</td>\n",
       "      <td>0</td>\n",
       "      <td>0</td>\n",
       "      <td>0</td>\n",
       "      <td>0</td>\n",
       "      <td>...</td>\n",
       "      <td>0</td>\n",
       "      <td>0</td>\n",
       "      <td>0</td>\n",
       "      <td>0</td>\n",
       "      <td>0</td>\n",
       "      <td>0</td>\n",
       "      <td>0</td>\n",
       "      <td>0</td>\n",
       "      <td>0</td>\n",
       "      <td>0</td>\n",
       "    </tr>\n",
       "    <tr>\n",
       "      <th>100011011</th>\n",
       "      <td>0</td>\n",
       "      <td>0</td>\n",
       "      <td>1</td>\n",
       "      <td>0</td>\n",
       "      <td>0</td>\n",
       "      <td>0</td>\n",
       "      <td>0</td>\n",
       "      <td>0</td>\n",
       "      <td>0</td>\n",
       "      <td>0</td>\n",
       "      <td>...</td>\n",
       "      <td>0</td>\n",
       "      <td>0</td>\n",
       "      <td>0</td>\n",
       "      <td>0</td>\n",
       "      <td>0</td>\n",
       "      <td>0</td>\n",
       "      <td>0</td>\n",
       "      <td>0</td>\n",
       "      <td>0</td>\n",
       "      <td>0</td>\n",
       "    </tr>\n",
       "    <tr>\n",
       "      <th>10001793</th>\n",
       "      <td>1</td>\n",
       "      <td>0</td>\n",
       "      <td>0</td>\n",
       "      <td>0</td>\n",
       "      <td>0</td>\n",
       "      <td>0</td>\n",
       "      <td>1</td>\n",
       "      <td>0</td>\n",
       "      <td>0</td>\n",
       "      <td>0</td>\n",
       "      <td>...</td>\n",
       "      <td>0</td>\n",
       "      <td>0</td>\n",
       "      <td>0</td>\n",
       "      <td>0</td>\n",
       "      <td>0</td>\n",
       "      <td>0</td>\n",
       "      <td>0</td>\n",
       "      <td>0</td>\n",
       "      <td>0</td>\n",
       "      <td>0</td>\n",
       "    </tr>\n",
       "  </tbody>\n",
       "</table>\n",
       "<p>5 rows × 99 columns</p>\n",
       "</div>"
      ],
      "text/plain": [
       "product_name    ADJ Rosy Sunglasses  BBB Best Apple Butter  \\\n",
       "transaction_id                                               \n",
       "10000850                          0                      0   \n",
       "10000872                          0                      0   \n",
       "10000903                          0                      0   \n",
       "100011011                         0                      0   \n",
       "10001793                          1                      0   \n",
       "\n",
       "product_name    BBB Best French Roast Coffee  BBB Best Strawberry Jelly  \\\n",
       "transaction_id                                                            \n",
       "10000850                                   0                          0   \n",
       "10000872                                   0                          0   \n",
       "10000903                                   0                          0   \n",
       "100011011                                  1                          0   \n",
       "10001793                                   0                          0   \n",
       "\n",
       "product_name    Best Choice Low Fat Popcorn  Better Canned Tuna in Oil  \\\n",
       "transaction_id                                                           \n",
       "10000850                                  0                          0   \n",
       "10000872                                  0                          0   \n",
       "10000903                                  0                          0   \n",
       "100011011                                 0                          0   \n",
       "10001793                                  0                          0   \n",
       "\n",
       "product_name    Better Chicken Noodle Soup  Better Chicken Ramen Soup  \\\n",
       "transaction_id                                                          \n",
       "10000850                                 0                          0   \n",
       "10000872                                 0                          0   \n",
       "10000903                                 0                          0   \n",
       "100011011                                0                          0   \n",
       "10001793                                 1                          0   \n",
       "\n",
       "product_name    Better Fancy Canned Anchovies  Better Fancy Canned Clams  ...  \\\n",
       "transaction_id                                                            ...   \n",
       "10000850                                    0                          0  ...   \n",
       "10000872                                    0                          0  ...   \n",
       "10000903                                    0                          0  ...   \n",
       "100011011                                   0                          0  ...   \n",
       "10001793                                    0                          0  ...   \n",
       "\n",
       "product_name    Sunset Paper Cups  Sunset Paper Plates  Sunset Soft Napkins  \\\n",
       "transaction_id                                                                \n",
       "10000850                        0                    0                    0   \n",
       "10000872                        0                    0                    0   \n",
       "10000903                        0                    0                    0   \n",
       "100011011                       0                    0                    0   \n",
       "10001793                        0                    0                    0   \n",
       "\n",
       "product_name    Super Grape Jam  Super Strawberry Jelly  \\\n",
       "transaction_id                                            \n",
       "10000850                      0                       0   \n",
       "10000872                      0                       0   \n",
       "10000903                      0                       0   \n",
       "100011011                     0                       0   \n",
       "10001793                      0                       0   \n",
       "\n",
       "product_name    Tell Tale Fresh Lima Beans  Tell Tale Lettuce  \\\n",
       "transaction_id                                                  \n",
       "10000850                                 0                  0   \n",
       "10000872                                 0                  0   \n",
       "10000903                                 0                  0   \n",
       "100011011                                0                  0   \n",
       "10001793                                 0                  0   \n",
       "\n",
       "product_name    Tell Tale Sweet Onion  Thresher Malted Milk Balls  \\\n",
       "transaction_id                                                      \n",
       "10000850                            0                           0   \n",
       "10000872                            0                           0   \n",
       "10000903                            0                           0   \n",
       "100011011                           0                           0   \n",
       "10001793                            0                           0   \n",
       "\n",
       "product_name    Thresher White Chocolate Bar  \n",
       "transaction_id                                \n",
       "10000850                                   0  \n",
       "10000872                                   0  \n",
       "10000903                                   0  \n",
       "100011011                                  0  \n",
       "10001793                                   0  \n",
       "\n",
       "[5 rows x 99 columns]"
      ]
     },
     "execution_count": 79,
     "metadata": {},
     "output_type": "execute_result"
    }
   ],
   "source": [
    "basket_encoded.head()"
   ]
  },
  {
   "cell_type": "code",
   "execution_count": 80,
   "metadata": {},
   "outputs": [
    {
     "data": {
      "text/plain": [
       "(16929, 99)"
      ]
     },
     "execution_count": 80,
     "metadata": {},
     "output_type": "execute_result"
    }
   ],
   "source": [
    "basket_encoded.shape"
   ]
  },
  {
   "cell_type": "markdown",
   "metadata": {},
   "source": [
    "For smooth running of program lets take 10000 datapoints from 16929 data"
   ]
  },
  {
   "cell_type": "code",
   "execution_count": 81,
   "metadata": {},
   "outputs": [],
   "source": [
    "#temp=basket_encoded.head(10000)"
   ]
  },
  {
   "cell_type": "markdown",
   "metadata": {},
   "source": [
    "## Apriori Algorithm"
   ]
  },
  {
   "cell_type": "markdown",
   "metadata": {},
   "source": [
    "#### Importing Apriori and Association rules Libraries"
   ]
  },
  {
   "cell_type": "code",
   "execution_count": 82,
   "metadata": {},
   "outputs": [],
   "source": [
    "from mlxtend.frequent_patterns import apriori\n",
    "from mlxtend.frequent_patterns import association_rules"
   ]
  },
  {
   "cell_type": "markdown",
   "metadata": {},
   "source": [
    "#### Frequent items with support 0.01% using Apriori Algorithm"
   ]
  },
  {
   "cell_type": "markdown",
   "metadata": {},
   "source": [
    "we are using support as 0.01% since our dataset contains product at macro level, if the category of product is large then we can keep higher value of support"
   ]
  },
  {
   "cell_type": "code",
   "execution_count": 83,
   "metadata": {},
   "outputs": [],
   "source": [
    "frequent_itemsets = apriori(basket_encoded, min_support=0.0001, use_colnames=True)"
   ]
  },
  {
   "cell_type": "code",
   "execution_count": 84,
   "metadata": {},
   "outputs": [
    {
     "data": {
      "text/html": [
       "<div>\n",
       "<style scoped>\n",
       "    .dataframe tbody tr th:only-of-type {\n",
       "        vertical-align: middle;\n",
       "    }\n",
       "\n",
       "    .dataframe tbody tr th {\n",
       "        vertical-align: top;\n",
       "    }\n",
       "\n",
       "    .dataframe thead th {\n",
       "        text-align: right;\n",
       "    }\n",
       "</style>\n",
       "<table border=\"1\" class=\"dataframe\">\n",
       "  <thead>\n",
       "    <tr style=\"text-align: right;\">\n",
       "      <th></th>\n",
       "      <th>support</th>\n",
       "      <th>itemsets</th>\n",
       "    </tr>\n",
       "  </thead>\n",
       "  <tbody>\n",
       "    <tr>\n",
       "      <th>0</th>\n",
       "      <td>0.011696</td>\n",
       "      <td>(ADJ Rosy Sunglasses)</td>\n",
       "    </tr>\n",
       "    <tr>\n",
       "      <th>1</th>\n",
       "      <td>0.012228</td>\n",
       "      <td>(BBB Best Apple Butter)</td>\n",
       "    </tr>\n",
       "    <tr>\n",
       "      <th>2</th>\n",
       "      <td>0.012287</td>\n",
       "      <td>(BBB Best French Roast Coffee)</td>\n",
       "    </tr>\n",
       "    <tr>\n",
       "      <th>3</th>\n",
       "      <td>0.011696</td>\n",
       "      <td>(BBB Best Strawberry Jelly)</td>\n",
       "    </tr>\n",
       "    <tr>\n",
       "      <th>4</th>\n",
       "      <td>0.012050</td>\n",
       "      <td>(Best Choice Low Fat Popcorn)</td>\n",
       "    </tr>\n",
       "    <tr>\n",
       "      <th>...</th>\n",
       "      <td>...</td>\n",
       "      <td>...</td>\n",
       "    </tr>\n",
       "    <tr>\n",
       "      <th>994</th>\n",
       "      <td>0.000118</td>\n",
       "      <td>(Red Wing 60 Watt Lightbulb, Hilltop Extra Moi...</td>\n",
       "    </tr>\n",
       "    <tr>\n",
       "      <th>995</th>\n",
       "      <td>0.000118</td>\n",
       "      <td>(Skinner Strawberry Drink, Hilltop Extra Moist...</td>\n",
       "    </tr>\n",
       "    <tr>\n",
       "      <th>996</th>\n",
       "      <td>0.000118</td>\n",
       "      <td>(Monarch Rice Medly, Mighty Good Monthly Sport...</td>\n",
       "    </tr>\n",
       "    <tr>\n",
       "      <th>997</th>\n",
       "      <td>0.000118</td>\n",
       "      <td>(Thresher White Chocolate Bar, Sunset Soft Nap...</td>\n",
       "    </tr>\n",
       "    <tr>\n",
       "      <th>998</th>\n",
       "      <td>0.000177</td>\n",
       "      <td>(Great Pumpernickel Bread, Carlson Jack Cheese...</td>\n",
       "    </tr>\n",
       "  </tbody>\n",
       "</table>\n",
       "<p>999 rows × 2 columns</p>\n",
       "</div>"
      ],
      "text/plain": [
       "      support                                           itemsets\n",
       "0    0.011696                              (ADJ Rosy Sunglasses)\n",
       "1    0.012228                            (BBB Best Apple Butter)\n",
       "2    0.012287                     (BBB Best French Roast Coffee)\n",
       "3    0.011696                        (BBB Best Strawberry Jelly)\n",
       "4    0.012050                      (Best Choice Low Fat Popcorn)\n",
       "..        ...                                                ...\n",
       "994  0.000118  (Red Wing 60 Watt Lightbulb, Hilltop Extra Moi...\n",
       "995  0.000118  (Skinner Strawberry Drink, Hilltop Extra Moist...\n",
       "996  0.000118  (Monarch Rice Medly, Mighty Good Monthly Sport...\n",
       "997  0.000118  (Thresher White Chocolate Bar, Sunset Soft Nap...\n",
       "998  0.000177  (Great Pumpernickel Bread, Carlson Jack Cheese...\n",
       "\n",
       "[999 rows x 2 columns]"
      ]
     },
     "execution_count": 84,
     "metadata": {},
     "output_type": "execute_result"
    }
   ],
   "source": [
    "frequent_itemsets"
   ]
  },
  {
   "cell_type": "markdown",
   "metadata": {},
   "source": [
    "Here we can see, that intially itemset contains only single item, then further it will keep combining different items one by one"
   ]
  },
  {
   "cell_type": "markdown",
   "metadata": {},
   "source": [
    "#### Association rules using Apriori Algorithm"
   ]
  },
  {
   "cell_type": "code",
   "execution_count": 85,
   "metadata": {},
   "outputs": [],
   "source": [
    "apriori_rules = association_rules(frequent_itemsets, metric=\"lift\", min_threshold= 1)"
   ]
  },
  {
   "cell_type": "code",
   "execution_count": 86,
   "metadata": {},
   "outputs": [
    {
     "data": {
      "text/html": [
       "<div>\n",
       "<style scoped>\n",
       "    .dataframe tbody tr th:only-of-type {\n",
       "        vertical-align: middle;\n",
       "    }\n",
       "\n",
       "    .dataframe tbody tr th {\n",
       "        vertical-align: top;\n",
       "    }\n",
       "\n",
       "    .dataframe thead th {\n",
       "        text-align: right;\n",
       "    }\n",
       "</style>\n",
       "<table border=\"1\" class=\"dataframe\">\n",
       "  <thead>\n",
       "    <tr style=\"text-align: right;\">\n",
       "      <th></th>\n",
       "      <th>antecedents</th>\n",
       "      <th>consequents</th>\n",
       "      <th>antecedent support</th>\n",
       "      <th>consequent support</th>\n",
       "      <th>support</th>\n",
       "      <th>confidence</th>\n",
       "      <th>lift</th>\n",
       "      <th>leverage</th>\n",
       "      <th>conviction</th>\n",
       "    </tr>\n",
       "  </thead>\n",
       "  <tbody>\n",
       "    <tr>\n",
       "      <th>0</th>\n",
       "      <td>(Better Fancy Canned Clams)</td>\n",
       "      <td>(ADJ Rosy Sunglasses)</td>\n",
       "      <td>0.011755</td>\n",
       "      <td>0.011696</td>\n",
       "      <td>0.000177</td>\n",
       "      <td>0.015075</td>\n",
       "      <td>1.288945</td>\n",
       "      <td>0.000040</td>\n",
       "      <td>1.003431</td>\n",
       "    </tr>\n",
       "    <tr>\n",
       "      <th>1</th>\n",
       "      <td>(ADJ Rosy Sunglasses)</td>\n",
       "      <td>(Better Fancy Canned Clams)</td>\n",
       "      <td>0.011696</td>\n",
       "      <td>0.011755</td>\n",
       "      <td>0.000177</td>\n",
       "      <td>0.015152</td>\n",
       "      <td>1.288945</td>\n",
       "      <td>0.000040</td>\n",
       "      <td>1.003449</td>\n",
       "    </tr>\n",
       "    <tr>\n",
       "      <th>2</th>\n",
       "      <td>(Big Time Frozen Broccoli)</td>\n",
       "      <td>(ADJ Rosy Sunglasses)</td>\n",
       "      <td>0.011814</td>\n",
       "      <td>0.011696</td>\n",
       "      <td>0.000177</td>\n",
       "      <td>0.015000</td>\n",
       "      <td>1.282500</td>\n",
       "      <td>0.000039</td>\n",
       "      <td>1.003354</td>\n",
       "    </tr>\n",
       "    <tr>\n",
       "      <th>3</th>\n",
       "      <td>(ADJ Rosy Sunglasses)</td>\n",
       "      <td>(Big Time Frozen Broccoli)</td>\n",
       "      <td>0.011696</td>\n",
       "      <td>0.011814</td>\n",
       "      <td>0.000177</td>\n",
       "      <td>0.015152</td>\n",
       "      <td>1.282500</td>\n",
       "      <td>0.000039</td>\n",
       "      <td>1.003389</td>\n",
       "    </tr>\n",
       "    <tr>\n",
       "      <th>4</th>\n",
       "      <td>(Carlson Buttermilk)</td>\n",
       "      <td>(ADJ Rosy Sunglasses)</td>\n",
       "      <td>0.011755</td>\n",
       "      <td>0.011696</td>\n",
       "      <td>0.000177</td>\n",
       "      <td>0.015075</td>\n",
       "      <td>1.288945</td>\n",
       "      <td>0.000040</td>\n",
       "      <td>1.003431</td>\n",
       "    </tr>\n",
       "    <tr>\n",
       "      <th>...</th>\n",
       "      <td>...</td>\n",
       "      <td>...</td>\n",
       "      <td>...</td>\n",
       "      <td>...</td>\n",
       "      <td>...</td>\n",
       "      <td>...</td>\n",
       "      <td>...</td>\n",
       "      <td>...</td>\n",
       "      <td>...</td>\n",
       "    </tr>\n",
       "    <tr>\n",
       "      <th>1159</th>\n",
       "      <td>(Just Right Chicken Ramen Soup, Thresher Malte...</td>\n",
       "      <td>(Great Pumpernickel Bread, Carlson Jack Cheese)</td>\n",
       "      <td>0.000295</td>\n",
       "      <td>0.000354</td>\n",
       "      <td>0.000177</td>\n",
       "      <td>0.600000</td>\n",
       "      <td>1692.900000</td>\n",
       "      <td>0.000177</td>\n",
       "      <td>2.499114</td>\n",
       "    </tr>\n",
       "    <tr>\n",
       "      <th>1160</th>\n",
       "      <td>(Great Pumpernickel Bread)</td>\n",
       "      <td>(Carlson Jack Cheese, Just Right Chicken Ramen...</td>\n",
       "      <td>0.012228</td>\n",
       "      <td>0.000177</td>\n",
       "      <td>0.000177</td>\n",
       "      <td>0.014493</td>\n",
       "      <td>81.782609</td>\n",
       "      <td>0.000175</td>\n",
       "      <td>1.014526</td>\n",
       "    </tr>\n",
       "    <tr>\n",
       "      <th>1161</th>\n",
       "      <td>(Carlson Jack Cheese)</td>\n",
       "      <td>(Great Pumpernickel Bread, Just Right Chicken ...</td>\n",
       "      <td>0.011696</td>\n",
       "      <td>0.000177</td>\n",
       "      <td>0.000177</td>\n",
       "      <td>0.015152</td>\n",
       "      <td>85.500000</td>\n",
       "      <td>0.000175</td>\n",
       "      <td>1.015205</td>\n",
       "    </tr>\n",
       "    <tr>\n",
       "      <th>1162</th>\n",
       "      <td>(Just Right Chicken Ramen Soup)</td>\n",
       "      <td>(Great Pumpernickel Bread, Carlson Jack Cheese...</td>\n",
       "      <td>0.011637</td>\n",
       "      <td>0.000177</td>\n",
       "      <td>0.000177</td>\n",
       "      <td>0.015228</td>\n",
       "      <td>85.934010</td>\n",
       "      <td>0.000175</td>\n",
       "      <td>1.015284</td>\n",
       "    </tr>\n",
       "    <tr>\n",
       "      <th>1163</th>\n",
       "      <td>(Thresher Malted Milk Balls)</td>\n",
       "      <td>(Great Pumpernickel Bread, Carlson Jack Cheese...</td>\n",
       "      <td>0.011696</td>\n",
       "      <td>0.000177</td>\n",
       "      <td>0.000177</td>\n",
       "      <td>0.015152</td>\n",
       "      <td>85.500000</td>\n",
       "      <td>0.000175</td>\n",
       "      <td>1.015205</td>\n",
       "    </tr>\n",
       "  </tbody>\n",
       "</table>\n",
       "<p>1164 rows × 9 columns</p>\n",
       "</div>"
      ],
      "text/plain": [
       "                                            antecedents  \\\n",
       "0                           (Better Fancy Canned Clams)   \n",
       "1                                 (ADJ Rosy Sunglasses)   \n",
       "2                            (Big Time Frozen Broccoli)   \n",
       "3                                 (ADJ Rosy Sunglasses)   \n",
       "4                                  (Carlson Buttermilk)   \n",
       "...                                                 ...   \n",
       "1159  (Just Right Chicken Ramen Soup, Thresher Malte...   \n",
       "1160                         (Great Pumpernickel Bread)   \n",
       "1161                              (Carlson Jack Cheese)   \n",
       "1162                    (Just Right Chicken Ramen Soup)   \n",
       "1163                       (Thresher Malted Milk Balls)   \n",
       "\n",
       "                                            consequents  antecedent support  \\\n",
       "0                                 (ADJ Rosy Sunglasses)            0.011755   \n",
       "1                           (Better Fancy Canned Clams)            0.011696   \n",
       "2                                 (ADJ Rosy Sunglasses)            0.011814   \n",
       "3                            (Big Time Frozen Broccoli)            0.011696   \n",
       "4                                 (ADJ Rosy Sunglasses)            0.011755   \n",
       "...                                                 ...                 ...   \n",
       "1159    (Great Pumpernickel Bread, Carlson Jack Cheese)            0.000295   \n",
       "1160  (Carlson Jack Cheese, Just Right Chicken Ramen...            0.012228   \n",
       "1161  (Great Pumpernickel Bread, Just Right Chicken ...            0.011696   \n",
       "1162  (Great Pumpernickel Bread, Carlson Jack Cheese...            0.011637   \n",
       "1163  (Great Pumpernickel Bread, Carlson Jack Cheese...            0.011696   \n",
       "\n",
       "      consequent support   support  confidence         lift  leverage  \\\n",
       "0               0.011696  0.000177    0.015075     1.288945  0.000040   \n",
       "1               0.011755  0.000177    0.015152     1.288945  0.000040   \n",
       "2               0.011696  0.000177    0.015000     1.282500  0.000039   \n",
       "3               0.011814  0.000177    0.015152     1.282500  0.000039   \n",
       "4               0.011696  0.000177    0.015075     1.288945  0.000040   \n",
       "...                  ...       ...         ...          ...       ...   \n",
       "1159            0.000354  0.000177    0.600000  1692.900000  0.000177   \n",
       "1160            0.000177  0.000177    0.014493    81.782609  0.000175   \n",
       "1161            0.000177  0.000177    0.015152    85.500000  0.000175   \n",
       "1162            0.000177  0.000177    0.015228    85.934010  0.000175   \n",
       "1163            0.000177  0.000177    0.015152    85.500000  0.000175   \n",
       "\n",
       "      conviction  \n",
       "0       1.003431  \n",
       "1       1.003449  \n",
       "2       1.003354  \n",
       "3       1.003389  \n",
       "4       1.003431  \n",
       "...          ...  \n",
       "1159    2.499114  \n",
       "1160    1.014526  \n",
       "1161    1.015205  \n",
       "1162    1.015284  \n",
       "1163    1.015205  \n",
       "\n",
       "[1164 rows x 9 columns]"
      ]
     },
     "execution_count": 86,
     "metadata": {},
     "output_type": "execute_result"
    }
   ],
   "source": [
    "apriori_rules"
   ]
  },
  {
   "cell_type": "markdown",
   "metadata": {},
   "source": [
    "#### Filtering out co-realted products with higher Probability"
   ]
  },
  {
   "cell_type": "code",
   "execution_count": 87,
   "metadata": {
    "scrolled": true
   },
   "outputs": [
    {
     "data": {
      "text/html": [
       "<div>\n",
       "<style scoped>\n",
       "    .dataframe tbody tr th:only-of-type {\n",
       "        vertical-align: middle;\n",
       "    }\n",
       "\n",
       "    .dataframe tbody tr th {\n",
       "        vertical-align: top;\n",
       "    }\n",
       "\n",
       "    .dataframe thead th {\n",
       "        text-align: right;\n",
       "    }\n",
       "</style>\n",
       "<table border=\"1\" class=\"dataframe\">\n",
       "  <thead>\n",
       "    <tr style=\"text-align: right;\">\n",
       "      <th></th>\n",
       "      <th>antecedents</th>\n",
       "      <th>consequents</th>\n",
       "      <th>antecedent support</th>\n",
       "      <th>consequent support</th>\n",
       "      <th>support</th>\n",
       "      <th>confidence</th>\n",
       "      <th>lift</th>\n",
       "      <th>leverage</th>\n",
       "      <th>conviction</th>\n",
       "    </tr>\n",
       "  </thead>\n",
       "  <tbody>\n",
       "    <tr>\n",
       "      <th>899</th>\n",
       "      <td>(Carlson Head Cheese, Monarch Manicotti)</td>\n",
       "      <td>(BBB Best Apple Butter)</td>\n",
       "      <td>0.000177</td>\n",
       "      <td>0.012228</td>\n",
       "      <td>0.000118</td>\n",
       "      <td>0.666667</td>\n",
       "      <td>54.521739</td>\n",
       "      <td>0.000116</td>\n",
       "      <td>2.963317</td>\n",
       "    </tr>\n",
       "    <tr>\n",
       "      <th>904</th>\n",
       "      <td>(BBB Best Apple Butter, Thresher White Chocola...</td>\n",
       "      <td>(Hermanos Elephant Garlic)</td>\n",
       "      <td>0.000177</td>\n",
       "      <td>0.011873</td>\n",
       "      <td>0.000118</td>\n",
       "      <td>0.666667</td>\n",
       "      <td>56.149254</td>\n",
       "      <td>0.000116</td>\n",
       "      <td>2.964381</td>\n",
       "    </tr>\n",
       "    <tr>\n",
       "      <th>906</th>\n",
       "      <td>(Thresher White Chocolate Bar, Hermanos Elepha...</td>\n",
       "      <td>(BBB Best Apple Butter)</td>\n",
       "      <td>0.000177</td>\n",
       "      <td>0.012228</td>\n",
       "      <td>0.000118</td>\n",
       "      <td>0.666667</td>\n",
       "      <td>54.521739</td>\n",
       "      <td>0.000116</td>\n",
       "      <td>2.963317</td>\n",
       "    </tr>\n",
       "    <tr>\n",
       "      <th>910</th>\n",
       "      <td>(Fast Beef Jerky, Carrington Ice Cream)</td>\n",
       "      <td>(BBB Best French Roast Coffee)</td>\n",
       "      <td>0.000236</td>\n",
       "      <td>0.012287</td>\n",
       "      <td>0.000177</td>\n",
       "      <td>0.750000</td>\n",
       "      <td>61.042067</td>\n",
       "      <td>0.000174</td>\n",
       "      <td>3.950854</td>\n",
       "    </tr>\n",
       "    <tr>\n",
       "      <th>912</th>\n",
       "      <td>(Carrington Ice Cream, BBB Best French Roast C...</td>\n",
       "      <td>(Fast Beef Jerky)</td>\n",
       "      <td>0.000236</td>\n",
       "      <td>0.011696</td>\n",
       "      <td>0.000177</td>\n",
       "      <td>0.750000</td>\n",
       "      <td>64.125000</td>\n",
       "      <td>0.000174</td>\n",
       "      <td>3.953216</td>\n",
       "    </tr>\n",
       "    <tr>\n",
       "      <th>...</th>\n",
       "      <td>...</td>\n",
       "      <td>...</td>\n",
       "      <td>...</td>\n",
       "      <td>...</td>\n",
       "      <td>...</td>\n",
       "      <td>...</td>\n",
       "      <td>...</td>\n",
       "      <td>...</td>\n",
       "      <td>...</td>\n",
       "    </tr>\n",
       "    <tr>\n",
       "      <th>1159</th>\n",
       "      <td>(Just Right Chicken Ramen Soup, Thresher Malte...</td>\n",
       "      <td>(Great Pumpernickel Bread, Carlson Jack Cheese)</td>\n",
       "      <td>0.000295</td>\n",
       "      <td>0.000354</td>\n",
       "      <td>0.000177</td>\n",
       "      <td>0.600000</td>\n",
       "      <td>1692.900000</td>\n",
       "      <td>0.000177</td>\n",
       "      <td>2.499114</td>\n",
       "    </tr>\n",
       "    <tr>\n",
       "      <th>1160</th>\n",
       "      <td>(Great Pumpernickel Bread)</td>\n",
       "      <td>(Carlson Jack Cheese, Just Right Chicken Ramen...</td>\n",
       "      <td>0.012228</td>\n",
       "      <td>0.000177</td>\n",
       "      <td>0.000177</td>\n",
       "      <td>0.014493</td>\n",
       "      <td>81.782609</td>\n",
       "      <td>0.000175</td>\n",
       "      <td>1.014526</td>\n",
       "    </tr>\n",
       "    <tr>\n",
       "      <th>1161</th>\n",
       "      <td>(Carlson Jack Cheese)</td>\n",
       "      <td>(Great Pumpernickel Bread, Just Right Chicken ...</td>\n",
       "      <td>0.011696</td>\n",
       "      <td>0.000177</td>\n",
       "      <td>0.000177</td>\n",
       "      <td>0.015152</td>\n",
       "      <td>85.500000</td>\n",
       "      <td>0.000175</td>\n",
       "      <td>1.015205</td>\n",
       "    </tr>\n",
       "    <tr>\n",
       "      <th>1162</th>\n",
       "      <td>(Just Right Chicken Ramen Soup)</td>\n",
       "      <td>(Great Pumpernickel Bread, Carlson Jack Cheese...</td>\n",
       "      <td>0.011637</td>\n",
       "      <td>0.000177</td>\n",
       "      <td>0.000177</td>\n",
       "      <td>0.015228</td>\n",
       "      <td>85.934010</td>\n",
       "      <td>0.000175</td>\n",
       "      <td>1.015284</td>\n",
       "    </tr>\n",
       "    <tr>\n",
       "      <th>1163</th>\n",
       "      <td>(Thresher Malted Milk Balls)</td>\n",
       "      <td>(Great Pumpernickel Bread, Carlson Jack Cheese...</td>\n",
       "      <td>0.011696</td>\n",
       "      <td>0.000177</td>\n",
       "      <td>0.000177</td>\n",
       "      <td>0.015152</td>\n",
       "      <td>85.500000</td>\n",
       "      <td>0.000175</td>\n",
       "      <td>1.015205</td>\n",
       "    </tr>\n",
       "  </tbody>\n",
       "</table>\n",
       "<p>111 rows × 9 columns</p>\n",
       "</div>"
      ],
      "text/plain": [
       "                                            antecedents  \\\n",
       "899            (Carlson Head Cheese, Monarch Manicotti)   \n",
       "904   (BBB Best Apple Butter, Thresher White Chocola...   \n",
       "906   (Thresher White Chocolate Bar, Hermanos Elepha...   \n",
       "910             (Fast Beef Jerky, Carrington Ice Cream)   \n",
       "912   (Carrington Ice Cream, BBB Best French Roast C...   \n",
       "...                                                 ...   \n",
       "1159  (Just Right Chicken Ramen Soup, Thresher Malte...   \n",
       "1160                         (Great Pumpernickel Bread)   \n",
       "1161                              (Carlson Jack Cheese)   \n",
       "1162                    (Just Right Chicken Ramen Soup)   \n",
       "1163                       (Thresher Malted Milk Balls)   \n",
       "\n",
       "                                            consequents  antecedent support  \\\n",
       "899                             (BBB Best Apple Butter)            0.000177   \n",
       "904                          (Hermanos Elephant Garlic)            0.000177   \n",
       "906                             (BBB Best Apple Butter)            0.000177   \n",
       "910                      (BBB Best French Roast Coffee)            0.000236   \n",
       "912                                   (Fast Beef Jerky)            0.000236   \n",
       "...                                                 ...                 ...   \n",
       "1159    (Great Pumpernickel Bread, Carlson Jack Cheese)            0.000295   \n",
       "1160  (Carlson Jack Cheese, Just Right Chicken Ramen...            0.012228   \n",
       "1161  (Great Pumpernickel Bread, Just Right Chicken ...            0.011696   \n",
       "1162  (Great Pumpernickel Bread, Carlson Jack Cheese...            0.011637   \n",
       "1163  (Great Pumpernickel Bread, Carlson Jack Cheese...            0.011696   \n",
       "\n",
       "      consequent support   support  confidence         lift  leverage  \\\n",
       "899             0.012228  0.000118    0.666667    54.521739  0.000116   \n",
       "904             0.011873  0.000118    0.666667    56.149254  0.000116   \n",
       "906             0.012228  0.000118    0.666667    54.521739  0.000116   \n",
       "910             0.012287  0.000177    0.750000    61.042067  0.000174   \n",
       "912             0.011696  0.000177    0.750000    64.125000  0.000174   \n",
       "...                  ...       ...         ...          ...       ...   \n",
       "1159            0.000354  0.000177    0.600000  1692.900000  0.000177   \n",
       "1160            0.000177  0.000177    0.014493    81.782609  0.000175   \n",
       "1161            0.000177  0.000177    0.015152    85.500000  0.000175   \n",
       "1162            0.000177  0.000177    0.015228    85.934010  0.000175   \n",
       "1163            0.000177  0.000177    0.015152    85.500000  0.000175   \n",
       "\n",
       "      conviction  \n",
       "899     2.963317  \n",
       "904     2.964381  \n",
       "906     2.963317  \n",
       "910     3.950854  \n",
       "912     3.953216  \n",
       "...          ...  \n",
       "1159    2.499114  \n",
       "1160    1.014526  \n",
       "1161    1.015205  \n",
       "1162    1.015284  \n",
       "1163    1.015205  \n",
       "\n",
       "[111 rows x 9 columns]"
      ]
     },
     "execution_count": 87,
     "metadata": {},
     "output_type": "execute_result"
    }
   ],
   "source": [
    "apriori_rules[ (apriori_rules['lift'] >= 50) & (apriori_rules['confidence'] >= 0.01) ]"
   ]
  },
  {
   "cell_type": "code",
   "execution_count": 88,
   "metadata": {},
   "outputs": [
    {
     "data": {
      "text/plain": [
       "(1164, 9)"
      ]
     },
     "execution_count": 88,
     "metadata": {},
     "output_type": "execute_result"
    }
   ],
   "source": [
    "apriori_rules.shape"
   ]
  },
  {
   "cell_type": "markdown",
   "metadata": {},
   "source": [
    "## Now using the rule generated above lets create a recommendations system"
   ]
  },
  {
   "cell_type": "code",
   "execution_count": 89,
   "metadata": {},
   "outputs": [],
   "source": [
    "def recommendations_using_Apriori(item):\n",
    "    recommend = []\n",
    "    for i in range(0,1164):\n",
    "        if item == apriori_rules.iloc[i,0]:\n",
    "            recommend.append(apriori_rules.iloc[i,1])\n",
    "    return recommend"
   ]
  },
  {
   "cell_type": "markdown",
   "metadata": {},
   "source": [
    "Now, lets check recommendations with top selling products of different categories indentified earlier"
   ]
  },
  {
   "cell_type": "markdown",
   "metadata": {},
   "source": [
    "#### 5 Recommendations with BBB Best Apple Butter"
   ]
  },
  {
   "cell_type": "code",
   "execution_count": 90,
   "metadata": {},
   "outputs": [
    {
     "name": "stdout",
     "output_type": "stream",
     "text": [
      "frozenset({'BBB Best Strawberry Jelly'})\n",
      "frozenset({'Big Time Chicken TV Dinner'})\n",
      "frozenset({'Carlson Head Cheese'})\n",
      "frozenset({'Hermanos Elephant Garlic'})\n",
      "frozenset({'Monarch Manicotti'})\n"
     ]
    }
   ],
   "source": [
    "product_name = {'BBB Best Apple Butter'}\n",
    "recommentations=recommendations_using_Apriori(product_name)\n",
    "print(*recommentations[0:5], sep = \"\\n\")"
   ]
  },
  {
   "cell_type": "markdown",
   "metadata": {},
   "source": [
    "#### 10 Recommendations with Big Time Orange Popsicles"
   ]
  },
  {
   "cell_type": "code",
   "execution_count": 91,
   "metadata": {},
   "outputs": [
    {
     "name": "stdout",
     "output_type": "stream",
     "text": [
      "frozenset({'Better Fancy Canned Anchovies'})\n",
      "frozenset({'Better Noodle Soup'})\n",
      "frozenset({'Big Time Pancake Mix'})\n",
      "frozenset({'Carlson Whole Milk'})\n",
      "frozenset({'Ebony Mixed Nuts'})\n",
      "frozenset({'Ebony Squash'})\n",
      "frozenset({'Fabulous Cranberry Juice'})\n",
      "frozenset({'Hermanos Mandarin Oranges'})\n",
      "frozenset({'Hermanos Tomatos'})\n",
      "frozenset({'Sunset Economy Toilet Brush'})\n"
     ]
    }
   ],
   "source": [
    "product_name = {'Big Time Orange Popsicles'}\n",
    "recommentations=recommendations_using_Apriori(product_name)\n",
    "print(*recommentations[0:10], sep = \"\\n\")"
   ]
  },
  {
   "cell_type": "markdown",
   "metadata": {},
   "source": [
    "#### 5 Recommendations with Sunset Economy Toilet Brush"
   ]
  },
  {
   "cell_type": "code",
   "execution_count": 92,
   "metadata": {},
   "outputs": [
    {
     "name": "stdout",
     "output_type": "stream",
     "text": [
      "frozenset({'Big Time Frozen Broccoli'})\n",
      "frozenset({'Big Time Orange Popsicles'})\n",
      "frozenset({'Fantastic Rye Bread'})\n",
      "frozenset({'Great English Muffins'})\n",
      "frozenset({'Hermanos Tomatos'})\n"
     ]
    }
   ],
   "source": [
    "product_name = {'Sunset Economy Toilet Brush'}\n",
    "recommentations=recommendations_using_Apriori(product_name)\n",
    "print(*recommentations[0:5], sep = \"\\n\")"
   ]
  },
  {
   "cell_type": "markdown",
   "metadata": {},
   "source": [
    "#### 15 Recommendations with Nationeel Dried Apples"
   ]
  },
  {
   "cell_type": "code",
   "execution_count": 93,
   "metadata": {},
   "outputs": [
    {
     "name": "stdout",
     "output_type": "stream",
     "text": [
      "frozenset({'BBB Best French Roast Coffee'})\n",
      "frozenset({'Booker 1% Milk'})\n",
      "frozenset({'Fast Beef Jerky'})\n",
      "frozenset({'Hermanos Elephant Garlic'})\n",
      "frozenset({'Hermanos Squash'})\n",
      "frozenset({'Hilltop Extra Moisture Shampoo'})\n",
      "frozenset({'Moms Beef Bologna'})\n",
      "frozenset({'Moms Roasted Chicken'})\n",
      "frozenset({'Nationeel Avocado Dip'})\n",
      "frozenset({'Nationeel Graham Crackers'})\n",
      "frozenset({'Nationeel Grape Fruit Roll'})\n",
      "frozenset({'Sunset Counter Cleaner'})\n",
      "frozenset({'Hermanos Squash', 'Hilltop Extra Moisture Shampoo'})\n"
     ]
    }
   ],
   "source": [
    "product_name = {'Nationeel Dried Apples'}\n",
    "recommentations=recommendations_using_Apriori(product_name)\n",
    "print(*recommentations[0:15], sep = \"\\n\")"
   ]
  },
  {
   "cell_type": "markdown",
   "metadata": {},
   "source": [
    "#### 5 Recommendations with Tell Tale Fresh Lima Beans"
   ]
  },
  {
   "cell_type": "code",
   "execution_count": 94,
   "metadata": {},
   "outputs": [
    {
     "name": "stdout",
     "output_type": "stream",
     "text": [
      "frozenset({'BBB Best Apple Butter'})\n",
      "frozenset({'BBB Best Strawberry Jelly'})\n",
      "frozenset({'Framton City Map'})\n",
      "frozenset({'Hilltop 200 MG Ibuprofen'})\n",
      "frozenset({'Steady 200 MG Ibuprofen'})\n"
     ]
    }
   ],
   "source": [
    "product_name = {'Tell Tale Fresh Lima Beans'}\n",
    "recommentations=recommendations_using_Apriori(product_name)\n",
    "print(*recommentations[0:5], sep = \"\\n\")"
   ]
  },
  {
   "cell_type": "markdown",
   "metadata": {},
   "source": [
    "## Fpgrowth Algorithm"
   ]
  },
  {
   "cell_type": "code",
   "execution_count": 95,
   "metadata": {},
   "outputs": [],
   "source": [
    "from mlxtend.frequent_patterns import fpgrowth"
   ]
  },
  {
   "cell_type": "markdown",
   "metadata": {},
   "source": [
    "#### Frequent Items with support 0.001% using Fpgrowth Algorithm"
   ]
  },
  {
   "cell_type": "code",
   "execution_count": 96,
   "metadata": {},
   "outputs": [],
   "source": [
    "freq_items=fpgrowth(basket_encoded,min_support=.0001,use_colnames=True)"
   ]
  },
  {
   "cell_type": "code",
   "execution_count": 97,
   "metadata": {},
   "outputs": [
    {
     "data": {
      "text/html": [
       "<div>\n",
       "<style scoped>\n",
       "    .dataframe tbody tr th:only-of-type {\n",
       "        vertical-align: middle;\n",
       "    }\n",
       "\n",
       "    .dataframe tbody tr th {\n",
       "        vertical-align: top;\n",
       "    }\n",
       "\n",
       "    .dataframe thead th {\n",
       "        text-align: right;\n",
       "    }\n",
       "</style>\n",
       "<table border=\"1\" class=\"dataframe\">\n",
       "  <thead>\n",
       "    <tr style=\"text-align: right;\">\n",
       "      <th></th>\n",
       "      <th>support</th>\n",
       "      <th>itemsets</th>\n",
       "    </tr>\n",
       "  </thead>\n",
       "  <tbody>\n",
       "    <tr>\n",
       "      <th>0</th>\n",
       "      <td>0.011991</td>\n",
       "      <td>(Moms Potato Salad)</td>\n",
       "    </tr>\n",
       "    <tr>\n",
       "      <th>1</th>\n",
       "      <td>0.012228</td>\n",
       "      <td>(Great English Muffins)</td>\n",
       "    </tr>\n",
       "    <tr>\n",
       "      <th>2</th>\n",
       "      <td>0.011755</td>\n",
       "      <td>(Sunset Large Sponge)</td>\n",
       "    </tr>\n",
       "    <tr>\n",
       "      <th>3</th>\n",
       "      <td>0.011755</td>\n",
       "      <td>(Carlson Low Fat String Cheese)</td>\n",
       "    </tr>\n",
       "    <tr>\n",
       "      <th>4</th>\n",
       "      <td>0.011873</td>\n",
       "      <td>(Fabulous Apple Juice)</td>\n",
       "    </tr>\n",
       "    <tr>\n",
       "      <th>...</th>\n",
       "      <td>...</td>\n",
       "      <td>...</td>\n",
       "    </tr>\n",
       "    <tr>\n",
       "      <th>994</th>\n",
       "      <td>0.000118</td>\n",
       "      <td>(Carrington Ice Cream Sandwich, Carrington App...</td>\n",
       "    </tr>\n",
       "    <tr>\n",
       "      <th>995</th>\n",
       "      <td>0.000118</td>\n",
       "      <td>(Carrington Ice Cream Sandwich, Sunset Soft Na...</td>\n",
       "    </tr>\n",
       "    <tr>\n",
       "      <th>996</th>\n",
       "      <td>0.000177</td>\n",
       "      <td>(Monarch Rice Medly, Carrington Ice Cream Sand...</td>\n",
       "    </tr>\n",
       "    <tr>\n",
       "      <th>997</th>\n",
       "      <td>0.000118</td>\n",
       "      <td>(Moms Sliced Turkey, Carrington Ice Cream Sand...</td>\n",
       "    </tr>\n",
       "    <tr>\n",
       "      <th>998</th>\n",
       "      <td>0.000118</td>\n",
       "      <td>(Carrington Ice Cream Sandwich, Big Time Orang...</td>\n",
       "    </tr>\n",
       "  </tbody>\n",
       "</table>\n",
       "<p>999 rows × 2 columns</p>\n",
       "</div>"
      ],
      "text/plain": [
       "      support                                           itemsets\n",
       "0    0.011991                                (Moms Potato Salad)\n",
       "1    0.012228                            (Great English Muffins)\n",
       "2    0.011755                              (Sunset Large Sponge)\n",
       "3    0.011755                    (Carlson Low Fat String Cheese)\n",
       "4    0.011873                             (Fabulous Apple Juice)\n",
       "..        ...                                                ...\n",
       "994  0.000118  (Carrington Ice Cream Sandwich, Carrington App...\n",
       "995  0.000118  (Carrington Ice Cream Sandwich, Sunset Soft Na...\n",
       "996  0.000177  (Monarch Rice Medly, Carrington Ice Cream Sand...\n",
       "997  0.000118  (Moms Sliced Turkey, Carrington Ice Cream Sand...\n",
       "998  0.000118  (Carrington Ice Cream Sandwich, Big Time Orang...\n",
       "\n",
       "[999 rows x 2 columns]"
      ]
     },
     "execution_count": 97,
     "metadata": {},
     "output_type": "execute_result"
    }
   ],
   "source": [
    "freq_items"
   ]
  },
  {
   "cell_type": "markdown",
   "metadata": {},
   "source": [
    "## Association Rules using Fpgrowth Algorithm"
   ]
  },
  {
   "cell_type": "code",
   "execution_count": 98,
   "metadata": {},
   "outputs": [],
   "source": [
    "fpgrowth_rules=association_rules(freq_items,metric=\"lift\",min_threshold=1)"
   ]
  },
  {
   "cell_type": "code",
   "execution_count": 99,
   "metadata": {
    "scrolled": true
   },
   "outputs": [
    {
     "data": {
      "text/html": [
       "<div>\n",
       "<style scoped>\n",
       "    .dataframe tbody tr th:only-of-type {\n",
       "        vertical-align: middle;\n",
       "    }\n",
       "\n",
       "    .dataframe tbody tr th {\n",
       "        vertical-align: top;\n",
       "    }\n",
       "\n",
       "    .dataframe thead th {\n",
       "        text-align: right;\n",
       "    }\n",
       "</style>\n",
       "<table border=\"1\" class=\"dataframe\">\n",
       "  <thead>\n",
       "    <tr style=\"text-align: right;\">\n",
       "      <th></th>\n",
       "      <th>antecedents</th>\n",
       "      <th>consequents</th>\n",
       "      <th>antecedent support</th>\n",
       "      <th>consequent support</th>\n",
       "      <th>support</th>\n",
       "      <th>confidence</th>\n",
       "      <th>lift</th>\n",
       "      <th>leverage</th>\n",
       "      <th>conviction</th>\n",
       "    </tr>\n",
       "  </thead>\n",
       "  <tbody>\n",
       "    <tr>\n",
       "      <th>0</th>\n",
       "      <td>(Better Chicken Noodle Soup)</td>\n",
       "      <td>(Moms Potato Salad)</td>\n",
       "      <td>0.012228</td>\n",
       "      <td>0.011991</td>\n",
       "      <td>0.000354</td>\n",
       "      <td>0.028986</td>\n",
       "      <td>2.417220</td>\n",
       "      <td>0.000208</td>\n",
       "      <td>1.017502</td>\n",
       "    </tr>\n",
       "    <tr>\n",
       "      <th>1</th>\n",
       "      <td>(Moms Potato Salad)</td>\n",
       "      <td>(Better Chicken Noodle Soup)</td>\n",
       "      <td>0.011991</td>\n",
       "      <td>0.012228</td>\n",
       "      <td>0.000354</td>\n",
       "      <td>0.029557</td>\n",
       "      <td>2.417220</td>\n",
       "      <td>0.000208</td>\n",
       "      <td>1.017857</td>\n",
       "    </tr>\n",
       "    <tr>\n",
       "      <th>2</th>\n",
       "      <td>(Special Wheat Puffs)</td>\n",
       "      <td>(Moms Potato Salad)</td>\n",
       "      <td>0.012523</td>\n",
       "      <td>0.011991</td>\n",
       "      <td>0.000236</td>\n",
       "      <td>0.018868</td>\n",
       "      <td>1.573473</td>\n",
       "      <td>0.000086</td>\n",
       "      <td>1.007009</td>\n",
       "    </tr>\n",
       "    <tr>\n",
       "      <th>3</th>\n",
       "      <td>(Moms Potato Salad)</td>\n",
       "      <td>(Special Wheat Puffs)</td>\n",
       "      <td>0.011991</td>\n",
       "      <td>0.012523</td>\n",
       "      <td>0.000236</td>\n",
       "      <td>0.019704</td>\n",
       "      <td>1.573473</td>\n",
       "      <td>0.000086</td>\n",
       "      <td>1.007326</td>\n",
       "    </tr>\n",
       "    <tr>\n",
       "      <th>4</th>\n",
       "      <td>(Moms Roasted Chicken)</td>\n",
       "      <td>(Moms Potato Salad)</td>\n",
       "      <td>0.013291</td>\n",
       "      <td>0.011991</td>\n",
       "      <td>0.000177</td>\n",
       "      <td>0.013333</td>\n",
       "      <td>1.111921</td>\n",
       "      <td>0.000018</td>\n",
       "      <td>1.001360</td>\n",
       "    </tr>\n",
       "    <tr>\n",
       "      <th>...</th>\n",
       "      <td>...</td>\n",
       "      <td>...</td>\n",
       "      <td>...</td>\n",
       "      <td>...</td>\n",
       "      <td>...</td>\n",
       "      <td>...</td>\n",
       "      <td>...</td>\n",
       "      <td>...</td>\n",
       "      <td>...</td>\n",
       "    </tr>\n",
       "    <tr>\n",
       "      <th>1159</th>\n",
       "      <td>(Carrington Ice Cream Sandwich)</td>\n",
       "      <td>(Carlson Whole Milk)</td>\n",
       "      <td>0.011696</td>\n",
       "      <td>0.011932</td>\n",
       "      <td>0.000177</td>\n",
       "      <td>0.015152</td>\n",
       "      <td>1.269802</td>\n",
       "      <td>0.000038</td>\n",
       "      <td>1.003269</td>\n",
       "    </tr>\n",
       "    <tr>\n",
       "      <th>1160</th>\n",
       "      <td>(Hilltop Mint Mouthwash)</td>\n",
       "      <td>(Carrington Ice Cream Sandwich)</td>\n",
       "      <td>0.012582</td>\n",
       "      <td>0.011696</td>\n",
       "      <td>0.000177</td>\n",
       "      <td>0.014085</td>\n",
       "      <td>1.204225</td>\n",
       "      <td>0.000030</td>\n",
       "      <td>1.002423</td>\n",
       "    </tr>\n",
       "    <tr>\n",
       "      <th>1161</th>\n",
       "      <td>(Carrington Ice Cream Sandwich)</td>\n",
       "      <td>(Hilltop Mint Mouthwash)</td>\n",
       "      <td>0.011696</td>\n",
       "      <td>0.012582</td>\n",
       "      <td>0.000177</td>\n",
       "      <td>0.015152</td>\n",
       "      <td>1.204225</td>\n",
       "      <td>0.000030</td>\n",
       "      <td>1.002609</td>\n",
       "    </tr>\n",
       "    <tr>\n",
       "      <th>1162</th>\n",
       "      <td>(Monarch Rice Medly)</td>\n",
       "      <td>(Carrington Ice Cream Sandwich)</td>\n",
       "      <td>0.011755</td>\n",
       "      <td>0.011696</td>\n",
       "      <td>0.000177</td>\n",
       "      <td>0.015075</td>\n",
       "      <td>1.288945</td>\n",
       "      <td>0.000040</td>\n",
       "      <td>1.003431</td>\n",
       "    </tr>\n",
       "    <tr>\n",
       "      <th>1163</th>\n",
       "      <td>(Carrington Ice Cream Sandwich)</td>\n",
       "      <td>(Monarch Rice Medly)</td>\n",
       "      <td>0.011696</td>\n",
       "      <td>0.011755</td>\n",
       "      <td>0.000177</td>\n",
       "      <td>0.015152</td>\n",
       "      <td>1.288945</td>\n",
       "      <td>0.000040</td>\n",
       "      <td>1.003449</td>\n",
       "    </tr>\n",
       "  </tbody>\n",
       "</table>\n",
       "<p>1164 rows × 9 columns</p>\n",
       "</div>"
      ],
      "text/plain": [
       "                          antecedents                      consequents  \\\n",
       "0        (Better Chicken Noodle Soup)              (Moms Potato Salad)   \n",
       "1                 (Moms Potato Salad)     (Better Chicken Noodle Soup)   \n",
       "2               (Special Wheat Puffs)              (Moms Potato Salad)   \n",
       "3                 (Moms Potato Salad)            (Special Wheat Puffs)   \n",
       "4              (Moms Roasted Chicken)              (Moms Potato Salad)   \n",
       "...                               ...                              ...   \n",
       "1159  (Carrington Ice Cream Sandwich)             (Carlson Whole Milk)   \n",
       "1160         (Hilltop Mint Mouthwash)  (Carrington Ice Cream Sandwich)   \n",
       "1161  (Carrington Ice Cream Sandwich)         (Hilltop Mint Mouthwash)   \n",
       "1162             (Monarch Rice Medly)  (Carrington Ice Cream Sandwich)   \n",
       "1163  (Carrington Ice Cream Sandwich)             (Monarch Rice Medly)   \n",
       "\n",
       "      antecedent support  consequent support   support  confidence      lift  \\\n",
       "0               0.012228            0.011991  0.000354    0.028986  2.417220   \n",
       "1               0.011991            0.012228  0.000354    0.029557  2.417220   \n",
       "2               0.012523            0.011991  0.000236    0.018868  1.573473   \n",
       "3               0.011991            0.012523  0.000236    0.019704  1.573473   \n",
       "4               0.013291            0.011991  0.000177    0.013333  1.111921   \n",
       "...                  ...                 ...       ...         ...       ...   \n",
       "1159            0.011696            0.011932  0.000177    0.015152  1.269802   \n",
       "1160            0.012582            0.011696  0.000177    0.014085  1.204225   \n",
       "1161            0.011696            0.012582  0.000177    0.015152  1.204225   \n",
       "1162            0.011755            0.011696  0.000177    0.015075  1.288945   \n",
       "1163            0.011696            0.011755  0.000177    0.015152  1.288945   \n",
       "\n",
       "      leverage  conviction  \n",
       "0     0.000208    1.017502  \n",
       "1     0.000208    1.017857  \n",
       "2     0.000086    1.007009  \n",
       "3     0.000086    1.007326  \n",
       "4     0.000018    1.001360  \n",
       "...        ...         ...  \n",
       "1159  0.000038    1.003269  \n",
       "1160  0.000030    1.002423  \n",
       "1161  0.000030    1.002609  \n",
       "1162  0.000040    1.003431  \n",
       "1163  0.000040    1.003449  \n",
       "\n",
       "[1164 rows x 9 columns]"
      ]
     },
     "execution_count": 99,
     "metadata": {},
     "output_type": "execute_result"
    }
   ],
   "source": [
    "fpgrowth_rules"
   ]
  },
  {
   "cell_type": "markdown",
   "metadata": {},
   "source": [
    "#### Recommendations using FPGrowth Algorithm"
   ]
  },
  {
   "cell_type": "code",
   "execution_count": 100,
   "metadata": {},
   "outputs": [],
   "source": [
    "def recommendations_using_Fpgrowth(item):\n",
    "    recommend = []\n",
    "    for i in range(0,1164):\n",
    "        if item == fpgrowth_rules.iloc[i,0]:\n",
    "            recommend.append(fpgrowth_rules.iloc[i,1])\n",
    "    \n",
    "    return recommend"
   ]
  },
  {
   "cell_type": "markdown",
   "metadata": {},
   "source": [
    "Again checking the recommendation for the same items, which we used in Apriori algorithm"
   ]
  },
  {
   "cell_type": "markdown",
   "metadata": {},
   "source": [
    "#### 5 Recommendations with BBB Best Apple Butter"
   ]
  },
  {
   "cell_type": "code",
   "execution_count": 101,
   "metadata": {},
   "outputs": [
    {
     "name": "stdout",
     "output_type": "stream",
     "text": [
      "frozenset({'BBB Best Strawberry Jelly'})\n",
      "frozenset({'Tell Tale Fresh Lima Beans'})\n",
      "frozenset({'Monarch Manicotti'})\n",
      "frozenset({'Red Wing Plastic Knives'})\n",
      "frozenset({'Thresher White Chocolate Bar'})\n"
     ]
    }
   ],
   "source": [
    "product_name = {'BBB Best Apple Butter'}\n",
    "recommentations=recommendations_using_Fpgrowth(product_name)\n",
    "print(*recommentations[0:5], sep = \"\\n\")"
   ]
  },
  {
   "cell_type": "markdown",
   "metadata": {},
   "source": [
    "#### 10 Recommendations with Big Time Orange Popsicles"
   ]
  },
  {
   "cell_type": "code",
   "execution_count": 102,
   "metadata": {},
   "outputs": [
    {
     "name": "stdout",
     "output_type": "stream",
     "text": [
      "frozenset({'Big Time Pancake Mix', 'Carlson Low Fat String Cheese'})\n",
      "frozenset({'Sunset Economy Toilet Brush'})\n",
      "frozenset({'Ebony Mixed Nuts'})\n",
      "frozenset({'Carlson Whole Milk'})\n",
      "frozenset({'Fabulous Cranberry Juice'})\n",
      "frozenset({'Big Time Pancake Mix'})\n",
      "frozenset({'Hermanos Tomatos'})\n",
      "frozenset({'Hermanos Mandarin Oranges'})\n",
      "frozenset({'Better Noodle Soup'})\n",
      "frozenset({'Ebony Squash'})\n"
     ]
    }
   ],
   "source": [
    "product_name = {'Big Time Orange Popsicles'}\n",
    "recommentations=recommendations_using_Fpgrowth(product_name)\n",
    "print(*recommentations[0:10], sep = \"\\n\")"
   ]
  },
  {
   "cell_type": "markdown",
   "metadata": {},
   "source": [
    "#### 5 Recommendations with Sunset Economy Toilet Brush"
   ]
  },
  {
   "cell_type": "code",
   "execution_count": 103,
   "metadata": {
    "scrolled": true
   },
   "outputs": [
    {
     "name": "stdout",
     "output_type": "stream",
     "text": [
      "frozenset({'Great English Muffins'})\n",
      "frozenset({'Big Time Orange Popsicles'})\n",
      "frozenset({'Hermanos Tomatos'})\n",
      "frozenset({'Fantastic Rye Bread'})\n",
      "frozenset({'Monarch Rice Medly'})\n"
     ]
    }
   ],
   "source": [
    "product_name = {'Sunset Economy Toilet Brush'}\n",
    "recommentations=recommendations_using_Fpgrowth(product_name)\n",
    "print(*recommentations[0:5], sep = \"\\n\")"
   ]
  },
  {
   "cell_type": "markdown",
   "metadata": {},
   "source": [
    "#### 15 Recommendations with Nationeel Dried Apples"
   ]
  },
  {
   "cell_type": "code",
   "execution_count": 104,
   "metadata": {},
   "outputs": [
    {
     "name": "stdout",
     "output_type": "stream",
     "text": [
      "frozenset({'BBB Best French Roast Coffee'})\n",
      "frozenset({'Nationeel Grape Fruit Roll'})\n",
      "frozenset({'Hilltop Extra Moisture Shampoo'})\n",
      "frozenset({'Hermanos Squash', 'Hilltop Extra Moisture Shampoo'})\n",
      "frozenset({'Nationeel Graham Crackers'})\n",
      "frozenset({'Sunset Counter Cleaner'})\n",
      "frozenset({'Fast Beef Jerky'})\n",
      "frozenset({'Moms Roasted Chicken'})\n",
      "frozenset({'Hermanos Squash'})\n",
      "frozenset({'Moms Beef Bologna'})\n",
      "frozenset({'Nationeel Avocado Dip'})\n",
      "frozenset({'Booker 1% Milk'})\n",
      "frozenset({'Hermanos Elephant Garlic'})\n"
     ]
    }
   ],
   "source": [
    "product_name = {'Nationeel Dried Apples'}\n",
    "recommentations=recommendations_using_Fpgrowth(product_name)\n",
    "print(*recommentations[0:15], sep = \"\\n\")"
   ]
  },
  {
   "cell_type": "markdown",
   "metadata": {},
   "source": [
    "#### 5 Recommendations with Tell Tale Fresh Lima Beans"
   ]
  },
  {
   "cell_type": "code",
   "execution_count": 105,
   "metadata": {},
   "outputs": [
    {
     "name": "stdout",
     "output_type": "stream",
     "text": [
      "frozenset({'Framton City Map'})\n",
      "frozenset({'BBB Best Strawberry Jelly'})\n",
      "frozenset({'BBB Best Apple Butter'})\n",
      "frozenset({'Steady 200 MG Ibuprofen'})\n",
      "frozenset({'Hilltop 200 MG Ibuprofen'})\n"
     ]
    }
   ],
   "source": [
    "product_name = {'Tell Tale Fresh Lima Beans'}\n",
    "recommentations=recommendations_using_Fpgrowth(product_name)\n",
    "print(*recommentations[0:5], sep = \"\\n\")"
   ]
  },
  {
   "cell_type": "markdown",
   "metadata": {},
   "source": [
    "### Apriori Vs  FPGrowth Algorithm"
   ]
  },
  {
   "cell_type": "markdown",
   "metadata": {},
   "source": [
    "#### Calculating Run Time of Apriori Algorithm"
   ]
  },
  {
   "cell_type": "code",
   "execution_count": 106,
   "metadata": {},
   "outputs": [],
   "source": [
    "import time\n",
    "l=[0.01,0.02,0.03,0.04,0.05]\n",
    "t=[]\n",
    "for i in l:\n",
    "    t1=time.time()\n",
    "    apriori(basket_encoded,min_support=i,use_colnames=True)\n",
    "    t2=time.time()\n",
    "    t.append((t2-t1)*1000)"
   ]
  },
  {
   "cell_type": "markdown",
   "metadata": {},
   "source": [
    "#### Calculating Run Time of Fpgrowth Algorithm"
   ]
  },
  {
   "cell_type": "code",
   "execution_count": 107,
   "metadata": {},
   "outputs": [],
   "source": [
    "l=[0.01,0.02,0.03,0.04,0.05]\n",
    "f=[]\n",
    "for i in l:\n",
    "    t1=time.time()\n",
    "    fpgrowth(basket_encoded,min_support=i,use_colnames=True)\n",
    "    t2=time.time()\n",
    "    f.append((t2-t1)*1000)"
   ]
  },
  {
   "cell_type": "markdown",
   "metadata": {},
   "source": [
    "### Graph of Run Time between Apriori and FP Growth Algorithm"
   ]
  },
  {
   "cell_type": "code",
   "execution_count": 108,
   "metadata": {},
   "outputs": [
    {
     "data": {
      "text/plain": [
       "Text(0, 0.5, 'Run Time in ms')"
      ]
     },
     "execution_count": 108,
     "metadata": {},
     "output_type": "execute_result"
    },
    {
     "data": {
      "image/png": "[encoded data removed]",
      "text/plain": [
       "<Figure size 432x288 with 1 Axes>"
      ]
     },
     "metadata": {
      "needs_background": "light"
     },
     "output_type": "display_data"
    }
   ],
   "source": [
    "sns.lineplot(x=l,y=f,label=\"FPGrowth\")\n",
    "sns.lineplot(x=l,y=t,label=\"Apriori\")\n",
    "plt.xlabel(\"Min support Threshold\")\n",
    "plt.ylabel(\"Run Time in ms\")"
   ]
  },
  {
   "cell_type": "markdown",
   "metadata": {},
   "source": [
    "#### Clearly we can see that for low support threshold Apriori takes much more time compared to Fpgrowth"
   ]
  }
 ],
 "metadata": {
  "kernelspec": {
   "display_name": "Python 3",
   "language": "python",
   "name": "python3"
  },
  "language_info": {
   "codemirror_mode": {
    "name": "ipython",
    "version": 3
   },
   "file_extension": ".py",
   "mimetype": "text/x-python",
   "name": "python",
   "nbconvert_exporter": "python",
   "pygments_lexer": "ipython3",
   "version": "3.8.3"
  }
 },
 "nbformat": 4,
 "nbformat_minor": 4
}
